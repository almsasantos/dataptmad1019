{
 "cells": [
  {
   "cell_type": "markdown",
   "metadata": {},
   "source": [
    "# Web Scraping Lab\n",
    "\n",
    "You will find in this notebook some scrapy exercises to practise your scraping skills.\n",
    "\n",
    "**Tips:**\n",
    "\n",
    "- Check the response status code for each request to ensure you have obtained the intended contennt.\n",
    "- Print the response text in each request to understand the kind of info you are getting and its format.\n",
    "- Check for patterns in the response text to extract the data/info requested in each question.\n",
    "- Visit each url and take a look at its source through Chrome DevTools. You'll need to identify the html tags, special class names etc. used for the html content you are expected to extract."
   ]
  },
  {
   "cell_type": "markdown",
   "metadata": {},
   "source": [
    "- [Requests library](http://docs.python-requests.org/en/master/#the-user-guide) documentation \n",
    "- [Beautiful Soup Doc](https://www.crummy.com/software/BeautifulSoup/bs4/doc/)\n",
    "- [Urllib](https://docs.python.org/3/library/urllib.html#module-urllib)\n",
    "- [re lib](https://docs.python.org/3/library/re.html)\n",
    "- [lxml lib](https://lxml.de/)\n",
    "- [Scrapy](https://scrapy.org/)\n",
    "- [List of HTTP status codes](https://en.wikipedia.org/wiki/List_of_HTTP_status_codes)\n",
    "- [HTML basics](http://www.simplehtmlguide.com/cheatsheet.php)\n",
    "- [CSS basics](https://www.cssbasics.com/#page_start)"
   ]
  },
  {
   "cell_type": "markdown",
   "metadata": {},
   "source": [
    "#### Below are the libraries and modules you may need. `requests`,  `BeautifulSoup` and `pandas` are imported for you. If you prefer to use additional libraries feel free to uncomment them."
   ]
  },
  {
   "cell_type": "code",
   "execution_count": 1,
   "metadata": {},
   "outputs": [],
   "source": [
    "#!pip install scrapy"
   ]
  },
  {
   "cell_type": "code",
   "execution_count": 2,
   "metadata": {},
   "outputs": [],
   "source": [
    "import requests\n",
    "from bs4 import BeautifulSoup\n",
    "import pandas as pd\n",
    "from pprint import pprint\n",
    "from lxml import html\n",
    "from lxml.html import fromstring\n",
    "import urllib.request\n",
    "from urllib.request import urlopen\n",
    "import random\n",
    "import re\n",
    "import scrapy"
   ]
  },
  {
   "cell_type": "markdown",
   "metadata": {},
   "source": [
    "#### Download, parse (using BeautifulSoup), and print the content from the Trending Developers page from GitHub:"
   ]
  },
  {
   "cell_type": "code",
   "execution_count": 3,
   "metadata": {},
   "outputs": [],
   "source": [
    "# This is the url you will scrape in this exercise\n",
    "url = 'https://github.com/trending/developers'"
   ]
  },
  {
   "cell_type": "code",
   "execution_count": 4,
   "metadata": {},
   "outputs": [],
   "source": [
    "#your code\n",
    "html = requests.get(url).content\n",
    "soup = BeautifulSoup(html, 'lxml')"
   ]
  },
  {
   "cell_type": "markdown",
   "metadata": {},
   "source": [
    "#### Display the names of the trending developers retrieved in the previous step.\n",
    "\n",
    "Your output should be a Python list of developer names. Each name should not contain any html tag.\n",
    "\n",
    "**Instructions:**\n",
    "\n",
    "1. Find out the html tag and class names used for the developer names. You can achieve this using Chrome DevTools.\n",
    "\n",
    "1. Use BeautifulSoup to extract all the html elements that contain the developer names.\n",
    "\n",
    "1. Use string manipulation techniques to replace whitespaces and linebreaks (i.e. `\\n`) in the *text* of each html element. Use a list to store the clean names.\n",
    "\n",
    "1. Print the list of names.\n",
    "\n",
    "Your output should look like below:\n",
    "\n",
    "```\n",
    "['trimstray (@trimstray)',\n",
    " 'joewalnes (JoeWalnes)',\n",
    " 'charlax (Charles-AxelDein)',\n",
    " 'ForrestKnight (ForrestKnight)',\n",
    " 'revery-ui (revery-ui)',\n",
    " 'alibaba (Alibaba)',\n",
    " 'Microsoft (Microsoft)',\n",
    " 'github (GitHub)',\n",
    " 'facebook (Facebook)',\n",
    " 'boazsegev (Bo)',\n",
    " 'google (Google)',\n",
    " 'cloudfetch',\n",
    " 'sindresorhus (SindreSorhus)',\n",
    " 'tensorflow',\n",
    " 'apache (TheApacheSoftwareFoundation)',\n",
    " 'DevonCrawford (DevonCrawford)',\n",
    " 'ARMmbed (ArmMbed)',\n",
    " 'vuejs (vuejs)',\n",
    " 'fastai (fast.ai)',\n",
    " 'QiShaoXuan (Qi)',\n",
    " 'joelparkerhenderson (JoelParkerHenderson)',\n",
    " 'torvalds (LinusTorvalds)',\n",
    " 'CyC2018',\n",
    " 'komeiji-satori (神楽坂覚々)',\n",
    " 'script-8']\n",
    " ```"
   ]
  },
  {
   "cell_type": "code",
   "execution_count": 5,
   "metadata": {},
   "outputs": [
    {
     "data": {
      "text/plain": [
       "['matchai',\n",
       " 'aduth',\n",
       " 'borkdude',\n",
       " 'ericmj',\n",
       " 'tiangolo',\n",
       " 'adamdriscoll',\n",
       " 'fzaninotto',\n",
       " 'driesvints',\n",
       " 'warner',\n",
       " 'dsherret',\n",
       " 'ziadoz',\n",
       " 'nschloe',\n",
       " 'bpasero',\n",
       " 'twpayne',\n",
       " 'nornagon',\n",
       " 'vektah',\n",
       " 'lukehoban',\n",
       " 'balloob',\n",
       " 'appleboy',\n",
       " 'jamadden',\n",
       " 'gcanti',\n",
       " 'rogpeppe',\n",
       " 'juliangruber',\n",
       " 'julien-c']"
      ]
     },
     "execution_count": 5,
     "metadata": {},
     "output_type": "execute_result"
    }
   ],
   "source": [
    "# your code\n",
    "# Get all the abreviations of developers name\n",
    "anchors = soup.find_all('a', {'class': 'link-gray', 'href': True})\n",
    "lista_gral = [anchor['href'] for anchor in anchors]\n",
    "lista_clean = lista_gral[18:42]\n",
    "lista_clean\n",
    "\n",
    "developers = []\n",
    "for k in range(0, len(lista_clean)):\n",
    "    developers.append(re.sub('/', '', str(lista_clean[k])))\n",
    "\n",
    "developers"
   ]
  },
  {
   "cell_type": "code",
   "execution_count": 6,
   "metadata": {},
   "outputs": [
    {
     "data": {
      "text/plain": [
       "['Matan Kushner',\n",
       " 'Andrew Duthie',\n",
       " 'Michiel Borkent',\n",
       " 'Eric Meadows-Jönsson',\n",
       " 'Sebastián Ramírez',\n",
       " 'Adam Driscoll',\n",
       " 'Francois Zaninotto',\n",
       " 'Dries Vints',\n",
       " 'Brian Warner',\n",
       " 'David Sherret',\n",
       " 'Jamie York',\n",
       " 'Nico Schlömer',\n",
       " 'Benjamin Pasero',\n",
       " 'Tom Payne',\n",
       " 'Jeremy Apthorp',\n",
       " 'Adam Scarr',\n",
       " 'Luke Hoban',\n",
       " 'Paulus Schoutsen',\n",
       " 'Bo-Yi Wu',\n",
       " 'Jason Madden',\n",
       " 'Giulio Canti',\n",
       " 'Roger Peppe',\n",
       " 'Julian Gruber',\n",
       " 'Julien Chaumond',\n",
       " 'Jan-Erik Rediger']"
      ]
     },
     "execution_count": 6,
     "metadata": {},
     "output_type": "execute_result"
    }
   ],
   "source": [
    "# Get all the developers names\n",
    "name_dev = soup.find_all(class_='h3 lh-condensed')\n",
    "final_names = []\n",
    "for i in name_dev:\n",
    "    final_names.append(i.getText().strip())\n",
    "final_names"
   ]
  },
  {
   "cell_type": "code",
   "execution_count": 7,
   "metadata": {},
   "outputs": [
    {
     "data": {
      "text/plain": [
       "['matchai (Matan Kushner)',\n",
       " 'aduth (Andrew Duthie)',\n",
       " 'borkdude (Michiel Borkent)',\n",
       " 'ericmj (Eric Meadows-Jönsson)',\n",
       " 'tiangolo (Sebastián Ramírez)',\n",
       " 'adamdriscoll (Adam Driscoll)',\n",
       " 'fzaninotto (Francois Zaninotto)',\n",
       " 'driesvints (Dries Vints)',\n",
       " 'warner (Brian Warner)',\n",
       " 'dsherret (David Sherret)',\n",
       " 'ziadoz (Jamie York)',\n",
       " 'nschloe (Nico Schlömer)',\n",
       " 'bpasero (Benjamin Pasero)',\n",
       " 'twpayne (Tom Payne)',\n",
       " 'nornagon (Jeremy Apthorp)',\n",
       " 'vektah (Adam Scarr)',\n",
       " 'lukehoban (Luke Hoban)',\n",
       " 'balloob (Paulus Schoutsen)',\n",
       " 'appleboy (Bo-Yi Wu)',\n",
       " 'jamadden (Jason Madden)',\n",
       " 'gcanti (Giulio Canti)',\n",
       " 'rogpeppe (Roger Peppe)',\n",
       " 'juliangruber (Julian Gruber)',\n",
       " 'julien-c (Julien Chaumond)']"
      ]
     },
     "execution_count": 7,
     "metadata": {},
     "output_type": "execute_result"
    }
   ],
   "source": [
    "final_list = [developers[i] + ' (' + final_names[i] + ')' for i in range(0, len(developers))]\n",
    "final_list"
   ]
  },
  {
   "cell_type": "markdown",
   "metadata": {},
   "source": [
    "#### Display the trending Python repositories in GitHub\n",
    "\n",
    "The steps to solve this problem is similar to the previous one except that you need to find out the repository names instead of developer names."
   ]
  },
  {
   "cell_type": "code",
   "execution_count": 12,
   "metadata": {},
   "outputs": [],
   "source": [
    "# This is the url you will scrape in this exercise\n",
    "url = 'https://github.com/trending/python?since=daily'\n",
    "html = requests.get(url).content\n",
    "soup = BeautifulSoup(html, 'lxml')"
   ]
  },
  {
   "cell_type": "code",
   "execution_count": 10,
   "metadata": {},
   "outputs": [
    {
     "data": {
      "text/plain": [
       "['TheAlgorithms /\\n\\n\\n\\n      Python',\n",
       " 'deezer /\\n\\n\\n\\n      spleeter',\n",
       " 'OWASP /\\n\\n\\n\\n      CheatSheetSeries',\n",
       " 'tychxn /\\n\\n\\n\\n      jd-assistant',\n",
       " 'swisskyrepo /\\n\\n\\n\\n      PayloadsAllTheThings',\n",
       " 'baowenbo /\\n\\n\\n\\n      DAIN',\n",
       " 'django /\\n\\n\\n\\n      django',\n",
       " 'programthink /\\n\\n\\n\\n      zhao',\n",
       " 'python /\\n\\n\\n\\n      cpython',\n",
       " 'cycz /\\n\\n\\n\\n      jdBuyMask',\n",
       " 'firmai /\\n\\n\\n\\n      atspy',\n",
       " 'zhanyong-wan /\\n\\n\\n\\n      dongbei',\n",
       " 'tamim /\\n\\n\\n\\n      codinginterviewbook',\n",
       " 'Echowxsy /\\n\\n\\n\\n      CMPEDUDownload',\n",
       " 'dingjiansw101 /\\n\\n\\n\\n      AerialDetection',\n",
       " 'horovod /\\n\\n\\n\\n      horovod',\n",
       " 'frappe /\\n\\n\\n\\n      erpnext',\n",
       " 'mlflow /\\n\\n\\n\\n      mlflow',\n",
       " 'HelloZeroNet /\\n\\n\\n\\n      ZeroNet',\n",
       " 'atlassian-labs /\\n\\n\\n\\n      peerd',\n",
       " 'jpetazzo /\\n\\n\\n\\n      container.training',\n",
       " 'StevenBlack /\\n\\n\\n\\n      hosts',\n",
       " 'paramiko /\\n\\n\\n\\n      paramiko',\n",
       " 'pierre-andre-long /\\n\\n\\n\\n      tinder-swipe-ai',\n",
       " 'localstack /\\n\\n\\n\\n      localstack']"
      ]
     },
     "execution_count": 10,
     "metadata": {},
     "output_type": "execute_result"
    }
   ],
   "source": [
    "#your code\n",
    "name_repo = soup.find_all(class_='h3 lh-condensed')\n",
    "repositories = []\n",
    "for i in name_repo:\n",
    "    repositories.append(i.getText().strip())\n",
    "repositories"
   ]
  },
  {
   "cell_type": "code",
   "execution_count": 30,
   "metadata": {},
   "outputs": [
    {
     "data": {
      "text/plain": [
       "'TheAlgorithms      Python'"
      ]
     },
     "execution_count": 30,
     "metadata": {},
     "output_type": "execute_result"
    }
   ],
   "source": [
    "a = re.sub('\\n', '', repositories[0])\n",
    "re.sub(' /','', a)"
   ]
  },
  {
   "cell_type": "markdown",
   "metadata": {},
   "source": [
    "#### Display all the image links from Walt Disney wikipedia page"
   ]
  },
  {
   "cell_type": "code",
   "execution_count": 31,
   "metadata": {},
   "outputs": [],
   "source": [
    "# This is the url you will scrape in this exercise\n",
    "url = 'https://en.wikipedia.org/wiki/Walt_Disney'\n",
    "html = requests.get(url).content\n",
    "soup = BeautifulSoup(html, 'lxml')"
   ]
  },
  {
   "cell_type": "code",
   "execution_count": 32,
   "metadata": {},
   "outputs": [
    {
     "data": {
      "text/plain": [
       "[<a class=\"image\" href=\"/wiki/File:Walt_Disney_1946.JPG\"><img alt=\"Walt Disney 1946.JPG\" data-file-height=\"675\" data-file-width=\"450\" decoding=\"async\" height=\"330\" src=\"//upload.wikimedia.org/wikipedia/commons/thumb/d/df/Walt_Disney_1946.JPG/220px-Walt_Disney_1946.JPG\" srcset=\"//upload.wikimedia.org/wikipedia/commons/thumb/d/df/Walt_Disney_1946.JPG/330px-Walt_Disney_1946.JPG 1.5x, //upload.wikimedia.org/wikipedia/commons/thumb/d/df/Walt_Disney_1946.JPG/440px-Walt_Disney_1946.JPG 2x\" width=\"220\"/></a>,\n",
       " <a class=\"image\" href=\"/wiki/File:Walt_Disney_1942_signature.svg\"><img alt=\"Walt Disney 1942 signature.svg\" data-file-height=\"218\" data-file-width=\"585\" decoding=\"async\" height=\"56\" src=\"//upload.wikimedia.org/wikipedia/commons/thumb/8/87/Walt_Disney_1942_signature.svg/150px-Walt_Disney_1942_signature.svg.png\" srcset=\"//upload.wikimedia.org/wikipedia/commons/thumb/8/87/Walt_Disney_1942_signature.svg/225px-Walt_Disney_1942_signature.svg.png 1.5x, //upload.wikimedia.org/wikipedia/commons/thumb/8/87/Walt_Disney_1942_signature.svg/300px-Walt_Disney_1942_signature.svg.png 2x\" width=\"150\"/></a>,\n",
       " <a class=\"image\" href=\"/wiki/File:Walt_Disney_envelope_ca._1921.jpg\"><img alt=\"\" class=\"thumbimage\" data-file-height=\"1086\" data-file-width=\"1576\" decoding=\"async\" height=\"152\" src=\"//upload.wikimedia.org/wikipedia/commons/thumb/c/c4/Walt_Disney_envelope_ca._1921.jpg/220px-Walt_Disney_envelope_ca._1921.jpg\" srcset=\"//upload.wikimedia.org/wikipedia/commons/thumb/c/c4/Walt_Disney_envelope_ca._1921.jpg/330px-Walt_Disney_envelope_ca._1921.jpg 1.5x, //upload.wikimedia.org/wikipedia/commons/thumb/c/c4/Walt_Disney_envelope_ca._1921.jpg/440px-Walt_Disney_envelope_ca._1921.jpg 2x\" width=\"220\"/></a>,\n",
       " <a class=\"image\" href=\"/wiki/File:Trolley_Troubles_poster.jpg\"><img alt=\"A cartoon rabbit is driving a tramcar; other cartoon rabbits are in, under, on and around the car.\" class=\"thumbimage\" data-file-height=\"1600\" data-file-width=\"1202\" decoding=\"async\" height=\"226\" src=\"//upload.wikimedia.org/wikipedia/commons/thumb/0/0d/Trolley_Troubles_poster.jpg/170px-Trolley_Troubles_poster.jpg\" srcset=\"//upload.wikimedia.org/wikipedia/commons/thumb/0/0d/Trolley_Troubles_poster.jpg/255px-Trolley_Troubles_poster.jpg 1.5x, //upload.wikimedia.org/wikipedia/commons/thumb/0/0d/Trolley_Troubles_poster.jpg/340px-Trolley_Troubles_poster.jpg 2x\" width=\"170\"/></a>,\n",
       " <a class=\"image\" href=\"/wiki/File:Walt_Disney_and_his_cartoon_creation_%22Mickey_Mouse%22_-_National_Board_of_Review_Magazine.jpg\"><img alt=\"Walt Disney with Mickey Mouse\" class=\"thumbimage\" data-file-height=\"1028\" data-file-width=\"915\" decoding=\"async\" height=\"191\" src=\"//upload.wikimedia.org/wikipedia/commons/thumb/7/71/Walt_Disney_and_his_cartoon_creation_%22Mickey_Mouse%22_-_National_Board_of_Review_Magazine.jpg/170px-Walt_Disney_and_his_cartoon_creation_%22Mickey_Mouse%22_-_National_Board_of_Review_Magazine.jpg\" srcset=\"//upload.wikimedia.org/wikipedia/commons/thumb/7/71/Walt_Disney_and_his_cartoon_creation_%22Mickey_Mouse%22_-_National_Board_of_Review_Magazine.jpg/255px-Walt_Disney_and_his_cartoon_creation_%22Mickey_Mouse%22_-_National_Board_of_Review_Magazine.jpg 1.5x, //upload.wikimedia.org/wikipedia/commons/thumb/7/71/Walt_Disney_and_his_cartoon_creation_%22Mickey_Mouse%22_-_National_Board_of_Review_Magazine.jpg/340px-Walt_Disney_and_his_cartoon_creation_%22Mickey_Mouse%22_-_National_Board_of_Review_Magazine.jpg 2x\" width=\"170\"/></a>,\n",
       " <a class=\"image\" href=\"/wiki/File:Steamboat-willie.jpg\"><img alt=\"A cartoon mouse is operating a ship's steering wheel\" class=\"thumbimage\" data-file-height=\"267\" data-file-width=\"373\" decoding=\"async\" height=\"122\" src=\"//upload.wikimedia.org/wikipedia/en/thumb/4/4e/Steamboat-willie.jpg/170px-Steamboat-willie.jpg\" srcset=\"//upload.wikimedia.org/wikipedia/en/thumb/4/4e/Steamboat-willie.jpg/255px-Steamboat-willie.jpg 1.5x, //upload.wikimedia.org/wikipedia/en/thumb/4/4e/Steamboat-willie.jpg/340px-Steamboat-willie.jpg 2x\" width=\"170\"/></a>,\n",
       " <a class=\"image\" href=\"/wiki/File:Walt_Disney_1935.jpg\"><img alt=\"\" class=\"thumbimage\" data-file-height=\"451\" data-file-width=\"358\" decoding=\"async\" height=\"214\" src=\"//upload.wikimedia.org/wikipedia/commons/thumb/5/57/Walt_Disney_1935.jpg/170px-Walt_Disney_1935.jpg\" srcset=\"//upload.wikimedia.org/wikipedia/commons/thumb/5/57/Walt_Disney_1935.jpg/255px-Walt_Disney_1935.jpg 1.5x, //upload.wikimedia.org/wikipedia/commons/thumb/5/57/Walt_Disney_1935.jpg/340px-Walt_Disney_1935.jpg 2x\" width=\"170\"/></a>,\n",
       " <a class=\"image\" href=\"/wiki/File:Walt_Disney_Snow_white_1937_trailer_screenshot_(13).jpg\"><img alt=\"Walt Disney sits in front of a set of models of the seven dwarfs\" class=\"thumbimage\" data-file-height=\"388\" data-file-width=\"500\" decoding=\"async\" height=\"171\" src=\"//upload.wikimedia.org/wikipedia/commons/thumb/c/cd/Walt_Disney_Snow_white_1937_trailer_screenshot_%2813%29.jpg/220px-Walt_Disney_Snow_white_1937_trailer_screenshot_%2813%29.jpg\" srcset=\"//upload.wikimedia.org/wikipedia/commons/thumb/c/cd/Walt_Disney_Snow_white_1937_trailer_screenshot_%2813%29.jpg/330px-Walt_Disney_Snow_white_1937_trailer_screenshot_%2813%29.jpg 1.5x, //upload.wikimedia.org/wikipedia/commons/thumb/c/cd/Walt_Disney_Snow_white_1937_trailer_screenshot_%2813%29.jpg/440px-Walt_Disney_Snow_white_1937_trailer_screenshot_%2813%29.jpg 2x\" width=\"220\"/></a>,\n",
       " <a class=\"image\" href=\"/wiki/File:Disney_drawing_goofy.jpg\"><img alt=\"\" class=\"thumbimage\" data-file-height=\"770\" data-file-width=\"600\" decoding=\"async\" height=\"218\" src=\"//upload.wikimedia.org/wikipedia/commons/thumb/1/15/Disney_drawing_goofy.jpg/170px-Disney_drawing_goofy.jpg\" srcset=\"//upload.wikimedia.org/wikipedia/commons/thumb/1/15/Disney_drawing_goofy.jpg/255px-Disney_drawing_goofy.jpg 1.5x, //upload.wikimedia.org/wikipedia/commons/thumb/1/15/Disney_drawing_goofy.jpg/340px-Disney_drawing_goofy.jpg 2x\" width=\"170\"/></a>,\n",
       " <a class=\"image\" href=\"/wiki/File:DisneySchiphol1951.jpg\"><img alt=\"\" class=\"thumbimage\" data-file-height=\"2493\" data-file-width=\"3247\" decoding=\"async\" height=\"169\" src=\"//upload.wikimedia.org/wikipedia/commons/thumb/1/13/DisneySchiphol1951.jpg/220px-DisneySchiphol1951.jpg\" srcset=\"//upload.wikimedia.org/wikipedia/commons/thumb/1/13/DisneySchiphol1951.jpg/330px-DisneySchiphol1951.jpg 1.5x, //upload.wikimedia.org/wikipedia/commons/thumb/1/13/DisneySchiphol1951.jpg/440px-DisneySchiphol1951.jpg 2x\" width=\"220\"/></a>,\n",
       " <a class=\"image\" href=\"/wiki/File:WaltDisneyplansDisneylandDec1954.jpg\"><img alt=\"\" class=\"thumbimage\" data-file-height=\"2417\" data-file-width=\"2723\" decoding=\"async\" height=\"195\" src=\"//upload.wikimedia.org/wikipedia/commons/thumb/8/8c/WaltDisneyplansDisneylandDec1954.jpg/220px-WaltDisneyplansDisneylandDec1954.jpg\" srcset=\"//upload.wikimedia.org/wikipedia/commons/thumb/8/8c/WaltDisneyplansDisneylandDec1954.jpg/330px-WaltDisneyplansDisneylandDec1954.jpg 1.5x, //upload.wikimedia.org/wikipedia/commons/thumb/8/8c/WaltDisneyplansDisneylandDec1954.jpg/440px-WaltDisneyplansDisneylandDec1954.jpg 2x\" width=\"220\"/></a>,\n",
       " <a class=\"image\" href=\"/wiki/File:Walt_disney_portrait_right.jpg\"><img alt=\"\" class=\"thumbimage\" data-file-height=\"902\" data-file-width=\"667\" decoding=\"async\" height=\"230\" src=\"//upload.wikimedia.org/wikipedia/commons/thumb/f/ff/Walt_disney_portrait_right.jpg/170px-Walt_disney_portrait_right.jpg\" srcset=\"//upload.wikimedia.org/wikipedia/commons/thumb/f/ff/Walt_disney_portrait_right.jpg/255px-Walt_disney_portrait_right.jpg 1.5x, //upload.wikimedia.org/wikipedia/commons/thumb/f/ff/Walt_disney_portrait_right.jpg/340px-Walt_disney_portrait_right.jpg 2x\" width=\"170\"/></a>,\n",
       " <a class=\"image\" href=\"/wiki/File:Walt_Disney_Grave.JPG\"><img alt=\"A gravestone inscribed 'Walter Elias Disney', 'Lillian Bounds Disney', 'Robert B. Brown', Sharon Disney Brown Lund ashes scattered in paradise'\" class=\"thumbimage\" data-file-height=\"1700\" data-file-width=\"1400\" decoding=\"async\" height=\"206\" src=\"//upload.wikimedia.org/wikipedia/commons/thumb/1/1a/Walt_Disney_Grave.JPG/170px-Walt_Disney_Grave.JPG\" srcset=\"//upload.wikimedia.org/wikipedia/commons/thumb/1/1a/Walt_Disney_Grave.JPG/255px-Walt_Disney_Grave.JPG 1.5x, //upload.wikimedia.org/wikipedia/commons/thumb/1/1a/Walt_Disney_Grave.JPG/340px-Walt_Disney_Grave.JPG 2x\" width=\"170\"/></a>,\n",
       " <a class=\"image\" href=\"/wiki/File:Roy_O._Disney_with_Company_at_Press_Conference.jpg\"><img alt=\"\" class=\"thumbimage\" data-file-height=\"275\" data-file-width=\"220\" decoding=\"async\" height=\"213\" src=\"//upload.wikimedia.org/wikipedia/commons/thumb/2/2d/Roy_O._Disney_with_Company_at_Press_Conference.jpg/170px-Roy_O._Disney_with_Company_at_Press_Conference.jpg\" srcset=\"//upload.wikimedia.org/wikipedia/commons/2/2d/Roy_O._Disney_with_Company_at_Press_Conference.jpg 1.5x\" width=\"170\"/></a>,\n",
       " <a class=\"image\" href=\"/wiki/File:Disney_Display_Case.JPG\"><img alt=\"\" class=\"thumbimage\" data-file-height=\"3025\" data-file-width=\"1927\" decoding=\"async\" height=\"267\" src=\"//upload.wikimedia.org/wikipedia/commons/thumb/a/a9/Disney_Display_Case.JPG/170px-Disney_Display_Case.JPG\" srcset=\"//upload.wikimedia.org/wikipedia/commons/thumb/a/a9/Disney_Display_Case.JPG/255px-Disney_Display_Case.JPG 1.5x, //upload.wikimedia.org/wikipedia/commons/thumb/a/a9/Disney_Display_Case.JPG/340px-Disney_Display_Case.JPG 2x\" width=\"170\"/></a>,\n",
       " <a class=\"image\" href=\"/wiki/File:Disney1968.jpg\"><img alt=\"A portrait of Disney with cartoon representations of different nationalities on a 6 cent US stamp\" class=\"thumbimage\" data-file-height=\"286\" data-file-width=\"190\" decoding=\"async\" height=\"256\" src=\"//upload.wikimedia.org/wikipedia/commons/thumb/6/6c/Disney1968.jpg/170px-Disney1968.jpg\" srcset=\"//upload.wikimedia.org/wikipedia/commons/6/6c/Disney1968.jpg 1.5x\" width=\"170\"/></a>,\n",
       " <a class=\"image\" href=\"/wiki/File:The_Walt_Disney_Company_Logo.svg\"><img alt=\"The Walt Disney Company Logo.svg\" data-file-height=\"135\" data-file-width=\"890\" decoding=\"async\" height=\"18\" src=\"//upload.wikimedia.org/wikipedia/commons/thumb/4/44/The_Walt_Disney_Company_Logo.svg/120px-The_Walt_Disney_Company_Logo.svg.png\" srcset=\"//upload.wikimedia.org/wikipedia/commons/thumb/4/44/The_Walt_Disney_Company_Logo.svg/180px-The_Walt_Disney_Company_Logo.svg.png 1.5x, //upload.wikimedia.org/wikipedia/commons/thumb/4/44/The_Walt_Disney_Company_Logo.svg/240px-The_Walt_Disney_Company_Logo.svg.png 2x\" width=\"120\"/></a>,\n",
       " <a class=\"image\" href=\"/wiki/File:Animation_disc.svg\"><img alt=\"Animation disc.svg\" data-file-height=\"28\" data-file-width=\"30\" decoding=\"async\" height=\"28\" src=\"//upload.wikimedia.org/wikipedia/commons/thumb/d/da/Animation_disc.svg/30px-Animation_disc.svg.png\" srcset=\"//upload.wikimedia.org/wikipedia/commons/thumb/d/da/Animation_disc.svg/45px-Animation_disc.svg.png 1.5x, //upload.wikimedia.org/wikipedia/commons/thumb/d/da/Animation_disc.svg/60px-Animation_disc.svg.png 2x\" width=\"30\"/></a>,\n",
       " <a class=\"image\" href=\"/wiki/File:P_vip.svg\"><img alt=\"P vip.svg\" data-file-height=\"1944\" data-file-width=\"1911\" decoding=\"async\" height=\"30\" src=\"//upload.wikimedia.org/wikipedia/en/thumb/6/69/P_vip.svg/29px-P_vip.svg.png\" srcset=\"//upload.wikimedia.org/wikipedia/en/thumb/6/69/P_vip.svg/44px-P_vip.svg.png 1.5x, //upload.wikimedia.org/wikipedia/en/thumb/6/69/P_vip.svg/59px-P_vip.svg.png 2x\" width=\"29\"/></a>,\n",
       " <a class=\"image\" href=\"/wiki/File:Magic_Kingdom_castle.jpg\"><img alt=\"Magic Kingdom castle.jpg\" data-file-height=\"1545\" data-file-width=\"1262\" decoding=\"async\" height=\"30\" src=\"//upload.wikimedia.org/wikipedia/commons/thumb/1/1a/Magic_Kingdom_castle.jpg/24px-Magic_Kingdom_castle.jpg\" srcset=\"//upload.wikimedia.org/wikipedia/commons/thumb/1/1a/Magic_Kingdom_castle.jpg/37px-Magic_Kingdom_castle.jpg 1.5x, //upload.wikimedia.org/wikipedia/commons/thumb/1/1a/Magic_Kingdom_castle.jpg/49px-Magic_Kingdom_castle.jpg 2x\" width=\"24\"/></a>,\n",
       " <a class=\"image\" href=\"/wiki/File:Video-x-generic.svg\"><img alt=\"Video-x-generic.svg\" data-file-height=\"48\" data-file-width=\"48\" decoding=\"async\" height=\"30\" src=\"//upload.wikimedia.org/wikipedia/en/thumb/e/e7/Video-x-generic.svg/30px-Video-x-generic.svg.png\" srcset=\"//upload.wikimedia.org/wikipedia/en/thumb/e/e7/Video-x-generic.svg/45px-Video-x-generic.svg.png 1.5x, //upload.wikimedia.org/wikipedia/en/thumb/e/e7/Video-x-generic.svg/60px-Video-x-generic.svg.png 2x\" width=\"30\"/></a>,\n",
       " <a class=\"image\" href=\"/wiki/File:Flag_of_Los_Angeles_County,_California.svg\"><img alt=\"Flag of Los Angeles County, California.svg\" data-file-height=\"913\" data-file-width=\"1522\" decoding=\"async\" height=\"18\" src=\"//upload.wikimedia.org/wikipedia/commons/thumb/a/a3/Flag_of_Los_Angeles_County%2C_California.svg/30px-Flag_of_Los_Angeles_County%2C_California.svg.png\" srcset=\"//upload.wikimedia.org/wikipedia/commons/thumb/a/a3/Flag_of_Los_Angeles_County%2C_California.svg/45px-Flag_of_Los_Angeles_County%2C_California.svg.png 1.5x, //upload.wikimedia.org/wikipedia/commons/thumb/a/a3/Flag_of_Los_Angeles_County%2C_California.svg/60px-Flag_of_Los_Angeles_County%2C_California.svg.png 2x\" width=\"30\"/></a>,\n",
       " <a class=\"image\" href=\"/wiki/File:Blank_television_set.svg\"><img alt=\"Blank television set.svg\" data-file-height=\"92\" data-file-width=\"138\" decoding=\"async\" height=\"20\" src=\"//upload.wikimedia.org/wikipedia/commons/thumb/8/8c/Blank_television_set.svg/30px-Blank_television_set.svg.png\" srcset=\"//upload.wikimedia.org/wikipedia/commons/thumb/8/8c/Blank_television_set.svg/45px-Blank_television_set.svg.png 1.5x, //upload.wikimedia.org/wikipedia/commons/thumb/8/8c/Blank_television_set.svg/60px-Blank_television_set.svg.png 2x\" width=\"30\"/></a>,\n",
       " <a class=\"image\" href=\"/wiki/File:Flag_of_the_United_States.svg\"><img alt=\"Flag of the United States.svg\" data-file-height=\"650\" data-file-width=\"1235\" decoding=\"async\" height=\"16\" src=\"//upload.wikimedia.org/wikipedia/en/thumb/a/a4/Flag_of_the_United_States.svg/30px-Flag_of_the_United_States.svg.png\" srcset=\"//upload.wikimedia.org/wikipedia/en/thumb/a/a4/Flag_of_the_United_States.svg/45px-Flag_of_the_United_States.svg.png 1.5x, //upload.wikimedia.org/wikipedia/en/thumb/a/a4/Flag_of_the_United_States.svg/60px-Flag_of_the_United_States.svg.png 2x\" width=\"30\"/></a>]"
      ]
     },
     "execution_count": 32,
     "metadata": {},
     "output_type": "execute_result"
    }
   ],
   "source": [
    "image_list = soup.find_all(class_=\"image\")\n",
    "image_list"
   ]
  },
  {
   "cell_type": "code",
   "execution_count": 40,
   "metadata": {},
   "outputs": [
    {
     "data": {
      "text/plain": [
       "'/wiki/File:Walt_Disney_1946.JPG'"
      ]
     },
     "metadata": {},
     "output_type": "display_data"
    },
    {
     "data": {
      "text/plain": [
       "'/wiki/File:Walt_Disney_1942_signature.svg'"
      ]
     },
     "metadata": {},
     "output_type": "display_data"
    },
    {
     "data": {
      "text/plain": [
       "'/wiki/File:Walt_Disney_envelope_ca._1921.jpg'"
      ]
     },
     "metadata": {},
     "output_type": "display_data"
    },
    {
     "data": {
      "text/plain": [
       "'/wiki/File:Trolley_Troubles_poster.jpg'"
      ]
     },
     "metadata": {},
     "output_type": "display_data"
    },
    {
     "data": {
      "text/plain": [
       "'/wiki/File:Walt_Disney_and_his_cartoon_creation_%22Mickey_Mouse%22_-_National_Board_of_Review_Magazine.jpg'"
      ]
     },
     "metadata": {},
     "output_type": "display_data"
    },
    {
     "data": {
      "text/plain": [
       "'/wiki/File:Steamboat-willie.jpg'"
      ]
     },
     "metadata": {},
     "output_type": "display_data"
    },
    {
     "data": {
      "text/plain": [
       "'/wiki/File:Walt_Disney_1935.jpg'"
      ]
     },
     "metadata": {},
     "output_type": "display_data"
    },
    {
     "data": {
      "text/plain": [
       "'/wiki/File:Walt_Disney_Snow_white_1937_trailer_screenshot_(13).jpg'"
      ]
     },
     "metadata": {},
     "output_type": "display_data"
    },
    {
     "data": {
      "text/plain": [
       "'/wiki/File:Disney_drawing_goofy.jpg'"
      ]
     },
     "metadata": {},
     "output_type": "display_data"
    },
    {
     "data": {
      "text/plain": [
       "'/wiki/File:DisneySchiphol1951.jpg'"
      ]
     },
     "metadata": {},
     "output_type": "display_data"
    },
    {
     "data": {
      "text/plain": [
       "'/wiki/File:WaltDisneyplansDisneylandDec1954.jpg'"
      ]
     },
     "metadata": {},
     "output_type": "display_data"
    },
    {
     "data": {
      "text/plain": [
       "'/wiki/File:Walt_disney_portrait_right.jpg'"
      ]
     },
     "metadata": {},
     "output_type": "display_data"
    },
    {
     "data": {
      "text/plain": [
       "'/wiki/File:Walt_Disney_Grave.JPG'"
      ]
     },
     "metadata": {},
     "output_type": "display_data"
    },
    {
     "data": {
      "text/plain": [
       "'/wiki/File:Roy_O._Disney_with_Company_at_Press_Conference.jpg'"
      ]
     },
     "metadata": {},
     "output_type": "display_data"
    },
    {
     "data": {
      "text/plain": [
       "'/wiki/File:Disney_Display_Case.JPG'"
      ]
     },
     "metadata": {},
     "output_type": "display_data"
    },
    {
     "data": {
      "text/plain": [
       "'/wiki/File:Disney1968.jpg'"
      ]
     },
     "metadata": {},
     "output_type": "display_data"
    },
    {
     "data": {
      "text/plain": [
       "'/wiki/File:The_Walt_Disney_Company_Logo.svg'"
      ]
     },
     "metadata": {},
     "output_type": "display_data"
    },
    {
     "data": {
      "text/plain": [
       "'/wiki/File:Animation_disc.svg'"
      ]
     },
     "metadata": {},
     "output_type": "display_data"
    },
    {
     "data": {
      "text/plain": [
       "'/wiki/File:P_vip.svg'"
      ]
     },
     "metadata": {},
     "output_type": "display_data"
    },
    {
     "data": {
      "text/plain": [
       "'/wiki/File:Magic_Kingdom_castle.jpg'"
      ]
     },
     "metadata": {},
     "output_type": "display_data"
    },
    {
     "data": {
      "text/plain": [
       "'/wiki/File:Video-x-generic.svg'"
      ]
     },
     "metadata": {},
     "output_type": "display_data"
    },
    {
     "data": {
      "text/plain": [
       "'/wiki/File:Flag_of_Los_Angeles_County,_California.svg'"
      ]
     },
     "metadata": {},
     "output_type": "display_data"
    },
    {
     "data": {
      "text/plain": [
       "'/wiki/File:Blank_television_set.svg'"
      ]
     },
     "metadata": {},
     "output_type": "display_data"
    },
    {
     "data": {
      "text/plain": [
       "'/wiki/File:Flag_of_the_United_States.svg'"
      ]
     },
     "metadata": {},
     "output_type": "display_data"
    }
   ],
   "source": [
    "# Getting all the links images in the web page:\n",
    "for link in image_list:\n",
    "    display(link['href'])"
   ]
  },
  {
   "cell_type": "markdown",
   "metadata": {},
   "source": [
    "#### Retrieve an arbitary Wikipedia page of \"Python\" and create a list of links on that page"
   ]
  },
  {
   "cell_type": "code",
   "execution_count": 37,
   "metadata": {},
   "outputs": [],
   "source": [
    "# This is the url you will scrape in this exercise\n",
    "url ='https://en.wikipedia.org/wiki/Python' \n",
    "html = requests.get(url).content\n",
    "soup = BeautifulSoup(html, 'lxml')"
   ]
  },
  {
   "cell_type": "code",
   "execution_count": 39,
   "metadata": {},
   "outputs": [
    {
     "data": {
      "text/plain": [
       "['#mw-head',\n",
       " '#p-search',\n",
       " 'https://en.wiktionary.org/wiki/Python',\n",
       " 'https://en.wiktionary.org/wiki/python',\n",
       " '#Snakes',\n",
       " '#Ancient_Greece',\n",
       " '#Media_and_entertainment',\n",
       " '#Computing',\n",
       " '#Engineering',\n",
       " '#Roller_coasters',\n",
       " '#Vehicles',\n",
       " '#Weaponry',\n",
       " '#People',\n",
       " '#Other_uses',\n",
       " '#See_also',\n",
       " '/w/index.php?title=Python&action=edit&section=1',\n",
       " '/wiki/Pythonidae',\n",
       " '/wiki/Python_(genus)',\n",
       " '/w/index.php?title=Python&action=edit&section=2',\n",
       " '/wiki/Python_(mythology)',\n",
       " '/wiki/Python_of_Aenus',\n",
       " '/wiki/Python_(painter)',\n",
       " '/wiki/Python_of_Byzantium',\n",
       " '/wiki/Python_of_Catana',\n",
       " '/w/index.php?title=Python&action=edit&section=3',\n",
       " '/wiki/Python_(film)',\n",
       " '/wiki/Pythons_2',\n",
       " '/wiki/Monty_Python',\n",
       " '/wiki/Python_(Monty)_Pictures',\n",
       " '/w/index.php?title=Python&action=edit&section=4',\n",
       " '/wiki/Python_(programming_language)',\n",
       " '/wiki/CPython',\n",
       " '/wiki/CMU_Common_Lisp',\n",
       " '/wiki/PERQ#PERQ_3',\n",
       " '/w/index.php?title=Python&action=edit&section=5',\n",
       " '/w/index.php?title=Python&action=edit&section=6',\n",
       " '/wiki/Python_(Busch_Gardens_Tampa_Bay)',\n",
       " '/wiki/Python_(Coney_Island,_Cincinnati,_Ohio)',\n",
       " '/wiki/Python_(Efteling)',\n",
       " '/w/index.php?title=Python&action=edit&section=7',\n",
       " '/wiki/Python_(automobile_maker)',\n",
       " '/wiki/Python_(Ford_prototype)',\n",
       " '/w/index.php?title=Python&action=edit&section=8',\n",
       " '/wiki/Colt_Python',\n",
       " '/wiki/Python_(missile)',\n",
       " '/wiki/Python_(nuclear_primary)',\n",
       " '/w/index.php?title=Python&action=edit&section=9',\n",
       " '/wiki/Python_Anghelo',\n",
       " '/w/index.php?title=Python&action=edit&section=10',\n",
       " '/wiki/PYTHON',\n",
       " '/w/index.php?title=Python&action=edit&section=11',\n",
       " '/wiki/Cython',\n",
       " '/wiki/Pyton',\n",
       " '/wiki/File:Disambig_gray.svg',\n",
       " '/wiki/Help:Disambiguation',\n",
       " 'https://en.wikipedia.org/w/index.php?title=Special:WhatLinksHere/Python&namespace=0',\n",
       " 'https://en.wikipedia.org/w/index.php?title=Python&oldid=937840393',\n",
       " '/wiki/Help:Category',\n",
       " '/wiki/Category:Disambiguation_pages',\n",
       " '/wiki/Category:Disambiguation_pages_with_short_description',\n",
       " '/wiki/Category:All_article_disambiguation_pages',\n",
       " '/wiki/Category:All_disambiguation_pages',\n",
       " '/wiki/Category:Animal_common_name_disambiguation_pages',\n",
       " '/wiki/Special:MyTalk',\n",
       " '/wiki/Special:MyContributions',\n",
       " '/w/index.php?title=Special:CreateAccount&returnto=Python',\n",
       " '/w/index.php?title=Special:UserLogin&returnto=Python',\n",
       " '/wiki/Python',\n",
       " '/wiki/Talk:Python',\n",
       " '/wiki/Python',\n",
       " '/w/index.php?title=Python&action=edit',\n",
       " '/w/index.php?title=Python&action=history',\n",
       " '/wiki/Main_Page',\n",
       " '/wiki/Main_Page',\n",
       " '/wiki/Wikipedia:Contents',\n",
       " '/wiki/Wikipedia:Featured_content',\n",
       " '/wiki/Portal:Current_events',\n",
       " '/wiki/Special:Random',\n",
       " 'https://donate.wikimedia.org/wiki/Special:FundraiserRedirector?utm_source=donate&utm_medium=sidebar&utm_campaign=C13_en.wikipedia.org&uselang=en',\n",
       " '//shop.wikimedia.org',\n",
       " '/wiki/Help:Contents',\n",
       " '/wiki/Wikipedia:About',\n",
       " '/wiki/Wikipedia:Community_portal',\n",
       " '/wiki/Special:RecentChanges',\n",
       " '//en.wikipedia.org/wiki/Wikipedia:Contact_us',\n",
       " '/wiki/Special:WhatLinksHere/Python',\n",
       " '/wiki/Special:RecentChangesLinked/Python',\n",
       " '/wiki/Wikipedia:File_Upload_Wizard',\n",
       " '/wiki/Special:SpecialPages',\n",
       " '/w/index.php?title=Python&oldid=937840393',\n",
       " '/w/index.php?title=Python&action=info',\n",
       " 'https://www.wikidata.org/wiki/Special:EntityPage/Q747452',\n",
       " '/w/index.php?title=Special:CiteThisPage&page=Python&id=937840393',\n",
       " 'https://commons.wikimedia.org/wiki/Category:Python',\n",
       " '/w/index.php?title=Special:Book&bookcmd=book_creator&referer=Python',\n",
       " '/w/index.php?title=Special:ElectronPdf&page=Python&action=show-download-screen',\n",
       " '/w/index.php?title=Python&printable=yes',\n",
       " 'https://af.wikipedia.org/wiki/Python',\n",
       " 'https://als.wikipedia.org/wiki/Python',\n",
       " 'https://az.wikipedia.org/wiki/Python',\n",
       " 'https://bn.wikipedia.org/wiki/%E0%A6%AA%E0%A6%BE%E0%A6%87%E0%A6%A5%E0%A6%A8_(%E0%A6%A6%E0%A7%8D%E0%A6%AC%E0%A7%8D%E0%A6%AF%E0%A6%B0%E0%A7%8D%E0%A6%A5%E0%A6%A4%E0%A6%BE_%E0%A6%A8%E0%A6%BF%E0%A6%B0%E0%A6%B8%E0%A6%A8)',\n",
       " 'https://be.wikipedia.org/wiki/Python',\n",
       " 'https://bg.wikipedia.org/wiki/%D0%9F%D0%B8%D1%82%D0%BE%D0%BD_(%D0%BF%D0%BE%D1%8F%D1%81%D0%BD%D0%B5%D0%BD%D0%B8%D0%B5)',\n",
       " 'https://cs.wikipedia.org/wiki/Python_(rozcestn%C3%ADk)',\n",
       " 'https://da.wikipedia.org/wiki/Python',\n",
       " 'https://de.wikipedia.org/wiki/Python',\n",
       " 'https://eo.wikipedia.org/wiki/Pitono_(apartigilo)',\n",
       " 'https://eu.wikipedia.org/wiki/Python_(argipena)',\n",
       " 'https://fa.wikipedia.org/wiki/%D9%BE%D8%A7%DB%8C%D8%AA%D9%88%D9%86',\n",
       " 'https://fr.wikipedia.org/wiki/Python',\n",
       " 'https://ko.wikipedia.org/wiki/%ED%8C%8C%EC%9D%B4%EC%84%A0',\n",
       " 'https://hr.wikipedia.org/wiki/Python_(razdvojba)',\n",
       " 'https://io.wikipedia.org/wiki/Pitono',\n",
       " 'https://id.wikipedia.org/wiki/Python',\n",
       " 'https://ia.wikipedia.org/wiki/Python_(disambiguation)',\n",
       " 'https://is.wikipedia.org/wiki/Python_(a%C3%B0greining)',\n",
       " 'https://it.wikipedia.org/wiki/Python_(disambigua)',\n",
       " 'https://he.wikipedia.org/wiki/%D7%A4%D7%99%D7%AA%D7%95%D7%9F',\n",
       " 'https://ka.wikipedia.org/wiki/%E1%83%9E%E1%83%98%E1%83%97%E1%83%9D%E1%83%9C%E1%83%98_(%E1%83%9B%E1%83%A0%E1%83%90%E1%83%95%E1%83%90%E1%83%9A%E1%83%9B%E1%83%9C%E1%83%98%E1%83%A8%E1%83%95%E1%83%9C%E1%83%94%E1%83%9A%E1%83%9D%E1%83%95%E1%83%90%E1%83%9C%E1%83%98)',\n",
       " 'https://kg.wikipedia.org/wiki/Mboma_(nyoka)',\n",
       " 'https://la.wikipedia.org/wiki/Python_(discretiva)',\n",
       " 'https://lb.wikipedia.org/wiki/Python',\n",
       " 'https://hu.wikipedia.org/wiki/Python_(egy%C3%A9rtelm%C5%B1s%C3%ADt%C5%91_lap)',\n",
       " 'https://mr.wikipedia.org/wiki/%E0%A4%AA%E0%A4%BE%E0%A4%AF%E0%A4%A5%E0%A5%89%E0%A4%A8_(%E0%A4%86%E0%A4%9C%E0%A5%8D%E0%A4%9E%E0%A4%BE%E0%A4%B5%E0%A4%B2%E0%A5%80_%E0%A4%AD%E0%A4%BE%E0%A4%B7%E0%A4%BE)',\n",
       " 'https://nl.wikipedia.org/wiki/Python',\n",
       " 'https://ja.wikipedia.org/wiki/%E3%83%91%E3%82%A4%E3%82%BD%E3%83%B3',\n",
       " 'https://no.wikipedia.org/wiki/Pyton',\n",
       " 'https://pl.wikipedia.org/wiki/Pyton',\n",
       " 'https://pt.wikipedia.org/wiki/Python_(desambigua%C3%A7%C3%A3o)',\n",
       " 'https://ru.wikipedia.org/wiki/Python_(%D0%B7%D0%BD%D0%B0%D1%87%D0%B5%D0%BD%D0%B8%D1%8F)',\n",
       " 'https://sk.wikipedia.org/wiki/Python',\n",
       " 'https://sr.wikipedia.org/wiki/%D0%9F%D0%B8%D1%82%D0%BE%D0%BD_(%D0%B2%D0%B8%D1%88%D0%B5%D0%B7%D0%BD%D0%B0%D1%87%D0%BD%D0%B0_%D0%BE%D0%B4%D1%80%D0%B5%D0%B4%D0%BD%D0%B8%D1%86%D0%B0)',\n",
       " 'https://sh.wikipedia.org/wiki/Python',\n",
       " 'https://fi.wikipedia.org/wiki/Python',\n",
       " 'https://sv.wikipedia.org/wiki/Pyton',\n",
       " 'https://th.wikipedia.org/wiki/%E0%B9%84%E0%B8%9E%E0%B8%97%E0%B8%AD%E0%B8%99',\n",
       " 'https://tr.wikipedia.org/wiki/Python',\n",
       " 'https://uk.wikipedia.org/wiki/%D0%9F%D1%96%D1%84%D0%BE%D0%BD',\n",
       " 'https://ur.wikipedia.org/wiki/%D9%BE%D8%A7%D8%A6%DB%8C%D8%AA%DA%BE%D9%88%D9%86',\n",
       " 'https://vi.wikipedia.org/wiki/Python',\n",
       " 'https://zh.wikipedia.org/wiki/Python_(%E6%B6%88%E6%AD%A7%E4%B9%89)',\n",
       " 'https://www.wikidata.org/wiki/Special:EntityPage/Q747452#sitelinks-wikipedia',\n",
       " '//en.wikipedia.org/wiki/Wikipedia:Text_of_Creative_Commons_Attribution-ShareAlike_3.0_Unported_License',\n",
       " '//creativecommons.org/licenses/by-sa/3.0/',\n",
       " '//foundation.wikimedia.org/wiki/Terms_of_Use',\n",
       " '//foundation.wikimedia.org/wiki/Privacy_policy',\n",
       " '//www.wikimediafoundation.org/',\n",
       " 'https://foundation.wikimedia.org/wiki/Privacy_policy',\n",
       " '/wiki/Wikipedia:About',\n",
       " '/wiki/Wikipedia:General_disclaimer',\n",
       " '//en.wikipedia.org/wiki/Wikipedia:Contact_us',\n",
       " 'https://www.mediawiki.org/wiki/Special:MyLanguage/How_to_contribute',\n",
       " 'https://stats.wikimedia.org/v2/#/en.wikipedia.org',\n",
       " 'https://foundation.wikimedia.org/wiki/Cookie_statement',\n",
       " '//en.m.wikipedia.org/w/index.php?title=Python&mobileaction=toggle_view_mobile',\n",
       " 'https://wikimediafoundation.org/',\n",
       " 'https://www.mediawiki.org/']"
      ]
     },
     "execution_count": 39,
     "metadata": {},
     "output_type": "execute_result"
    }
   ],
   "source": [
    "#your code\n",
    "total_python_links = [link['href'] for link in soup.find_all('a', href=True)]\n",
    "total_python_links"
   ]
  },
  {
   "cell_type": "markdown",
   "metadata": {},
   "source": [
    "#### Number of Titles that have changed in the United States Code since its last release point "
   ]
  },
  {
   "cell_type": "code",
   "execution_count": 41,
   "metadata": {},
   "outputs": [],
   "source": [
    "# This is the url you will scrape in this exercise\n",
    "url = 'http://uscode.house.gov/download/download.shtml'\n",
    "html = requests.get(url).content\n",
    "soup = BeautifulSoup(html, 'lxml')"
   ]
  },
  {
   "cell_type": "code",
   "execution_count": 59,
   "metadata": {},
   "outputs": [
    {
     "data": {
      "text/plain": [
       "[<div class=\"usctitle\" id=\"alltitles\">\n",
       " \n",
       "           All titles in the format selected compressed into a zip archive.\n",
       " \n",
       "         </div>, <div class=\"usctitle\" id=\"heading\">\n",
       " \n",
       "               \n",
       " \n",
       " \t        </div>, <div class=\"usctitle\" id=\"us/usc/t1\">\n",
       " \n",
       "           Title 1 - General Provisions <span class=\"footnote\"><a class=\"fn\" href=\"#fn\">٭</a></span>\n",
       " </div>, <div class=\"usctitle\" id=\"us/usc/t2\">\n",
       " \n",
       "           Title 2 - The Congress\n",
       " \n",
       "         </div>, <div class=\"usctitle\" id=\"us/usc/t3\">\n",
       " \n",
       "           Title 3 - The President <span class=\"footnote\"><a class=\"fn\" href=\"#fn\">٭</a></span>\n",
       " </div>, <div class=\"usctitle\" id=\"us/usc/t4\">\n",
       " \n",
       "           Title 4 - Flag and Seal, Seat of Government, and the States <span class=\"footnote\"><a class=\"fn\" href=\"#fn\">٭</a></span>\n",
       " </div>, <div class=\"usctitle\" id=\"us/usc/t5\">\n",
       " \n",
       "           Title 5 - Government Organization and Employees <span class=\"footnote\"><a class=\"fn\" href=\"#fn\">٭</a></span>\n",
       " </div>, <div class=\"usctitle\" id=\"us/usc/t6\">\n",
       " \n",
       "           Title 6 - Domestic Security\n",
       " \n",
       "         </div>, <div class=\"usctitle\" id=\"us/usc/t7\">\n",
       " \n",
       "           Title 7 - Agriculture\n",
       " \n",
       "         </div>, <div class=\"usctitle\" id=\"us/usc/t8\">\n",
       " \n",
       "           Title 8 - Aliens and Nationality\n",
       " \n",
       "         </div>, <div class=\"usctitle\" id=\"us/usc/t9\">\n",
       " \n",
       "           Title 9 - Arbitration <span class=\"footnote\"><a class=\"fn\" href=\"#fn\">٭</a></span>\n",
       " </div>, <div class=\"usctitle\" id=\"us/usc/t10\">\n",
       " \n",
       "           Title 10 - Armed Forces <span class=\"footnote\"><a class=\"fn\" href=\"#fn\">٭</a></span>\n",
       " </div>, <div class=\"usctitle\" id=\"us/usc/t11\">\n",
       " \n",
       "           Title 11 - Bankruptcy <span class=\"footnote\"><a class=\"fn\" href=\"#fn\">٭</a></span>\n",
       " </div>, <div class=\"usctitle\" id=\"us/usc/t12\">\n",
       " \n",
       "           Title 12 - Banks and Banking\n",
       " \n",
       "         </div>, <div class=\"usctitle\" id=\"us/usc/t13\">\n",
       " \n",
       "           Title 13 - Census <span class=\"footnote\"><a class=\"fn\" href=\"#fn\">٭</a></span>\n",
       " </div>, <div class=\"usctitle\" id=\"us/usc/t14\">\n",
       " \n",
       "           Title 14 - Coast Guard <span class=\"footnote\"><a class=\"fn\" href=\"#fn\">٭</a></span>\n",
       " </div>, <div class=\"usctitle\" id=\"us/usc/t15\">\n",
       " \n",
       "           Title 15 - Commerce and Trade\n",
       " \n",
       "         </div>, <div class=\"usctitle\" id=\"us/usc/t16\">\n",
       " \n",
       "           Title 16 - Conservation\n",
       " \n",
       "         </div>, <div class=\"usctitle\" id=\"us/usc/t17\">\n",
       " \n",
       "           Title 17 - Copyrights <span class=\"footnote\"><a class=\"fn\" href=\"#fn\">٭</a></span>\n",
       " </div>, <div class=\"usctitle\" id=\"us/usc/t19\">\n",
       " \n",
       "           Title 19 - Customs Duties\n",
       " \n",
       "         </div>, <div class=\"usctitle\" id=\"us/usc/t21\">\n",
       " \n",
       "           Title 21 - Food and Drugs\n",
       " \n",
       "         </div>, <div class=\"usctitle\" id=\"us/usc/t22\">\n",
       " \n",
       "           Title 22 - Foreign Relations and Intercourse\n",
       " \n",
       "         </div>, <div class=\"usctitle\" id=\"us/usc/t23\">\n",
       " \n",
       "           Title 23 - Highways <span class=\"footnote\"><a class=\"fn\" href=\"#fn\">٭</a></span>\n",
       " </div>, <div class=\"usctitle\" id=\"us/usc/t24\">\n",
       " \n",
       "           Title 24 - Hospitals and Asylums\n",
       " \n",
       "         </div>, <div class=\"usctitle\" id=\"us/usc/t25\">\n",
       " \n",
       "           Title 25 - Indians\n",
       " \n",
       "         </div>, <div class=\"usctitle\" id=\"us/usc/t27\">\n",
       " \n",
       "           Title 27 - Intoxicating Liquors\n",
       " \n",
       "         </div>, <div class=\"usctitle\" id=\"us/usc/t28\">\n",
       " \n",
       "           Title 28 - Judiciary and Judicial Procedure <span class=\"footnote\"><a class=\"fn\" href=\"#fn\">٭</a></span>\n",
       " </div>, <div class=\"usctitle\" id=\"us/usc/t29\">\n",
       " \n",
       "           Title 29 - Labor\n",
       " \n",
       "         </div>, <div class=\"usctitle\" id=\"us/usc/t30\">\n",
       " \n",
       "           Title 30 - Mineral Lands and Mining\n",
       " \n",
       "         </div>, <div class=\"usctitle\" id=\"us/usc/t31\">\n",
       " \n",
       "           Title 31 - Money and Finance <span class=\"footnote\"><a class=\"fn\" href=\"#fn\">٭</a></span>\n",
       " </div>, <div class=\"usctitle\" id=\"us/usc/t32\">\n",
       " \n",
       "           Title 32 - National Guard <span class=\"footnote\"><a class=\"fn\" href=\"#fn\">٭</a></span>\n",
       " </div>, <div class=\"usctitle\" id=\"us/usc/t33\">\n",
       " \n",
       "           Title 33 - Navigation and Navigable Waters\n",
       " \n",
       "         </div>, <div class=\"usctitle\" id=\"us/usc/t34\">\n",
       " \n",
       "           Title 34 - Crime Control and Law Enforcement\n",
       " \n",
       "         </div>, <div class=\"usctitle\" id=\"us/usc/t35\">\n",
       " \n",
       "           Title 35 - Patents <span class=\"footnote\"><a class=\"fn\" href=\"#fn\">٭</a></span>\n",
       " </div>, <div class=\"usctitle\" id=\"us/usc/t36\">\n",
       " \n",
       "           Title 36 - Patriotic and National Observances, Ceremonies, and Organizations <span class=\"footnote\"><a class=\"fn\" href=\"#fn\">٭</a></span>\n",
       " </div>, <div class=\"usctitle\" id=\"us/usc/t37\">\n",
       " \n",
       "           Title 37 - Pay and Allowances of the Uniformed Services <span class=\"footnote\"><a class=\"fn\" href=\"#fn\">٭</a></span>\n",
       " </div>, <div class=\"usctitle\" id=\"us/usc/t38\">\n",
       " \n",
       "           Title 38 - Veterans' Benefits <span class=\"footnote\"><a class=\"fn\" href=\"#fn\">٭</a></span>\n",
       " </div>, <div class=\"usctitle\" id=\"us/usc/t39\">\n",
       " \n",
       "           Title 39 - Postal Service <span class=\"footnote\"><a class=\"fn\" href=\"#fn\">٭</a></span>\n",
       " </div>, <div class=\"usctitle\" id=\"us/usc/t40\">\n",
       " \n",
       "           Title 40 - Public Buildings, Property, and Works <span class=\"footnote\"><a class=\"fn\" href=\"#fn\">٭</a></span>\n",
       " </div>, <div class=\"usctitle\" id=\"us/usc/t41\">\n",
       " \n",
       "           Title 41 - Public Contracts <span class=\"footnote\"><a class=\"fn\" href=\"#fn\">٭</a></span>\n",
       " </div>, <div class=\"usctitle\" id=\"us/usc/t42\">\n",
       " \n",
       "           Title 42 - The Public Health and Welfare\n",
       " \n",
       "         </div>, <div class=\"usctitle\" id=\"us/usc/t43\">\n",
       " \n",
       "           Title 43 - Public Lands\n",
       " \n",
       "         </div>, <div class=\"usctitle\" id=\"us/usc/t44\">\n",
       " \n",
       "           Title 44 - Public Printing and Documents <span class=\"footnote\"><a class=\"fn\" href=\"#fn\">٭</a></span>\n",
       " </div>, <div class=\"usctitle\" id=\"us/usc/t45\">\n",
       " \n",
       "           Title 45 - Railroads\n",
       " \n",
       "         </div>, <div class=\"usctitle\" id=\"us/usc/t46\">\n",
       " \n",
       "           Title 46 - Shipping <span class=\"footnote\"><a class=\"fn\" href=\"#fn\">٭</a></span>\n",
       " </div>, <div class=\"usctitle\" id=\"us/usc/t47\">\n",
       " \n",
       "           Title 47 - Telecommunications\n",
       " \n",
       "         </div>, <div class=\"usctitle\" id=\"us/usc/t48\">\n",
       " \n",
       "           Title 48 - Territories and Insular Possessions\n",
       " \n",
       "         </div>, <div class=\"usctitle\" id=\"us/usc/t49\">\n",
       " \n",
       "           Title 49 - Transportation <span class=\"footnote\"><a class=\"fn\" href=\"#fn\">٭</a></span>\n",
       " </div>, <div class=\"usctitle\" id=\"us/usc/t50\">\n",
       " \n",
       "           Title 50 - War and National Defense\n",
       " \n",
       "         </div>, <div class=\"usctitle\" id=\"us/usc/t51\">\n",
       " \n",
       "           Title 51 - National and Commercial Space Programs <span class=\"footnote\"><a class=\"fn\" href=\"#fn\">٭</a></span>\n",
       " </div>, <div class=\"usctitle\" id=\"us/usc/t52\">\n",
       " \n",
       "           Title 52 - Voting and Elections\n",
       " \n",
       "         </div>, <div class=\"usctitle\" id=\"us/usc/t53\">\n",
       " \n",
       "           Title 53 [Reserved]\n",
       " \n",
       "         </div>, <div class=\"usctitle\" id=\"us/usc/t54\" style=\"padding-bottom: 10px;\">\n",
       " \n",
       "           Title 54 - National Park Service and Related Programs <span class=\"footnote\"><a class=\"fn\" href=\"#fn\">٭</a></span>\n",
       " </div>]"
      ]
     },
     "execution_count": 59,
     "metadata": {},
     "output_type": "execute_result"
    }
   ],
   "source": [
    "#your code\n",
    "titles = soup.find_all(class_='usctitle')\n",
    "titles"
   ]
  },
  {
   "cell_type": "code",
   "execution_count": 61,
   "metadata": {},
   "outputs": [
    {
     "data": {
      "text/plain": [
       "['Title 1 - General Provisions ٭',\n",
       " 'Title 2 - The Congress',\n",
       " 'Title 3 - The President ٭',\n",
       " 'Title 4 - Flag and Seal, Seat of Government, and the States ٭',\n",
       " 'Title 5 - Government Organization and Employees ٭',\n",
       " 'Title 6 - Domestic Security',\n",
       " 'Title 7 - Agriculture',\n",
       " 'Title 8 - Aliens and Nationality',\n",
       " 'Title 9 - Arbitration ٭',\n",
       " 'Title 10 - Armed Forces ٭',\n",
       " 'Title 11 - Bankruptcy ٭',\n",
       " 'Title 12 - Banks and Banking',\n",
       " 'Title 13 - Census ٭',\n",
       " 'Title 14 - Coast Guard ٭',\n",
       " 'Title 15 - Commerce and Trade',\n",
       " 'Title 16 - Conservation',\n",
       " 'Title 17 - Copyrights ٭',\n",
       " 'Title 19 - Customs Duties',\n",
       " 'Title 21 - Food and Drugs',\n",
       " 'Title 22 - Foreign Relations and Intercourse',\n",
       " 'Title 23 - Highways ٭',\n",
       " 'Title 24 - Hospitals and Asylums',\n",
       " 'Title 25 - Indians',\n",
       " 'Title 27 - Intoxicating Liquors',\n",
       " 'Title 28 - Judiciary and Judicial Procedure ٭',\n",
       " 'Title 29 - Labor',\n",
       " 'Title 30 - Mineral Lands and Mining',\n",
       " 'Title 31 - Money and Finance ٭',\n",
       " 'Title 32 - National Guard ٭',\n",
       " 'Title 33 - Navigation and Navigable Waters',\n",
       " 'Title 34 - Crime Control and Law Enforcement',\n",
       " 'Title 35 - Patents ٭',\n",
       " 'Title 36 - Patriotic and National Observances, Ceremonies, and Organizations ٭',\n",
       " 'Title 37 - Pay and Allowances of the Uniformed Services ٭',\n",
       " \"Title 38 - Veterans' Benefits ٭\",\n",
       " 'Title 39 - Postal Service ٭',\n",
       " 'Title 40 - Public Buildings, Property, and Works ٭',\n",
       " 'Title 41 - Public Contracts ٭',\n",
       " 'Title 42 - The Public Health and Welfare',\n",
       " 'Title 43 - Public Lands',\n",
       " 'Title 44 - Public Printing and Documents ٭',\n",
       " 'Title 45 - Railroads',\n",
       " 'Title 46 - Shipping ٭',\n",
       " 'Title 47 - Telecommunications',\n",
       " 'Title 48 - Territories and Insular Possessions',\n",
       " 'Title 49 - Transportation ٭',\n",
       " 'Title 50 - War and National Defense',\n",
       " 'Title 51 - National and Commercial Space Programs ٭',\n",
       " 'Title 52 - Voting and Elections',\n",
       " 'Title 53 [Reserved]',\n",
       " 'Title 54 - National Park Service and Related Programs ٭']"
      ]
     },
     "execution_count": 61,
     "metadata": {},
     "output_type": "execute_result"
    }
   ],
   "source": [
    "ti = []\n",
    "for i in titles:\n",
    "    ti.append(i.getText().strip())\n",
    "ti[2:]"
   ]
  },
  {
   "cell_type": "markdown",
   "metadata": {},
   "source": [
    "#### A Python list with the top ten FBI's Most Wanted names "
   ]
  },
  {
   "cell_type": "code",
   "execution_count": 62,
   "metadata": {},
   "outputs": [],
   "source": [
    "# This is the url you will scrape in this exercise\n",
    "url = 'https://www.fbi.gov/wanted/topten'\n",
    "html = requests.get(url).content\n",
    "soup = BeautifulSoup(html, 'lxml')"
   ]
  },
  {
   "cell_type": "code",
   "execution_count": 84,
   "metadata": {},
   "outputs": [],
   "source": [
    "#your code \n",
    "most_wanted_info = soup.find_all('a', href=True)"
   ]
  },
  {
   "cell_type": "code",
   "execution_count": 87,
   "metadata": {},
   "outputs": [
    {
     "data": {
      "text/plain": [
       "['JASON DEREK BROWN',\n",
       " 'ALEXIS FLORES',\n",
       " 'EUGENE PALMER',\n",
       " 'SANTIAGO VILLALBA MEDEROS',\n",
       " 'RAFAEL CARO-QUINTERO',\n",
       " 'ROBERT WILLIAM FISHER',\n",
       " 'BHADRESHKUMAR CHETANBHAI PATEL',\n",
       " 'ARNOLDO JIMENEZ',\n",
       " 'ALEJANDRO ROSALES CASTILLO',\n",
       " 'YASER ABDEL SAID']"
      ]
     },
     "execution_count": 87,
     "metadata": {},
     "output_type": "execute_result"
    }
   ],
   "source": [
    "most_wanted = [i.getText().strip() for i in most_wanted_info]\n",
    "\n",
    "most_wanted_final = most_wanted[33:52]\n",
    "\n",
    "for j in most_wanted_final:\n",
    "    if j == '':\n",
    "        most_wanted_final.remove(j)\n",
    "        \n",
    "most_wanted_final"
   ]
  },
  {
   "cell_type": "markdown",
   "metadata": {},
   "source": [
    "####  20 latest earthquakes info (date, time, latitude, longitude and region name) by the EMSC as a pandas dataframe"
   ]
  },
  {
   "cell_type": "code",
   "execution_count": 88,
   "metadata": {},
   "outputs": [],
   "source": [
    "# This is the url you will scrape in this exercise\n",
    "url = 'https://www.emsc-csem.org/Earthquake/'\n",
    "html = requests.get(url).content\n",
    "soup = BeautifulSoup(html, 'lxml')"
   ]
  },
  {
   "cell_type": "code",
   "execution_count": 109,
   "metadata": {},
   "outputs": [
    {
     "data": {
      "text/plain": [
       "[<tbody id=\"tbody\"><tr class=\"ligne1 normal\" id=\"827372\" onclick=\"go_details(event,827372);\"><td class=\"tabev0\"></td><td class=\"tabev0\"></td><td class=\"tabev0\"></td><td class=\"tabev6\"><b><i style=\"display:none;\">earthquake</i><a href=\"/Earthquake/earthquake.php?id=827372\">2020-02-06   10:17:09.3</a></b><i class=\"ago\" id=\"ago0\">07min ago</i></td><td class=\"tabev1\">19.21 </td><td class=\"tabev2\">N  </td><td class=\"tabev1\">155.41 </td><td class=\"tabev2\">W  </td><td class=\"tabev3\">32</td><td class=\"tabev5\" id=\"magtyp0\">Md</td><td class=\"tabev2\">2.1</td><td class=\"tb_region\" id=\"reg0\"> ISLAND OF HAWAII, HAWAII</td><td class=\"comment updatetimeno\" id=\"upd0\" style=\"text-align:right;\">2020-02-06 10:20</td></tr>\n",
       " <tr class=\"ligne2 normal\" id=\"827370\" onclick=\"go_details(event,827370);\"><td class=\"tabev0\"></td><td class=\"tabev0\"></td><td class=\"tabev0\"></td><td class=\"tabev6\"><b><i style=\"display:none;\">earthquake</i><a href=\"/Earthquake/earthquake.php?id=827370\">2020-02-06   10:00:08.3</a></b><i class=\"ago\" id=\"ago1\">24min ago</i></td><td class=\"tabev1\">40.30 </td><td class=\"tabev2\">N  </td><td class=\"tabev1\">124.39 </td><td class=\"tabev2\">W  </td><td class=\"tabev3\">8</td><td class=\"tabev5\" id=\"magtyp1\">Md</td><td class=\"tabev2\">2.5</td><td class=\"tb_region\" id=\"reg1\"> OFFSHORE NORTHERN CALIFORNIA</td><td class=\"comment updatetimeno\" id=\"upd1\" style=\"text-align:right;\">2020-02-06 10:01</td></tr>\n",
       " <tr class=\"ligne1 normal\" id=\"827369\" onclick=\"go_details(event,827369);\"><td class=\"tabev0\"></td><td class=\"tabev0\"></td><td class=\"tabev0\"></td><td class=\"tabev6\"><b><i style=\"display:none;\">earthquake</i><a href=\"/Earthquake/earthquake.php?id=827369\">2020-02-06   09:38:24.0</a></b><i class=\"ago\" id=\"ago2\">45min ago</i></td><td class=\"tabev1\">16.54 </td><td class=\"tabev2\">N  </td><td class=\"tabev1\">91.37 </td><td class=\"tabev2\">W  </td><td class=\"tabev3\">15</td><td class=\"tabev5\" id=\"magtyp2\"> M</td><td class=\"tabev2\">4.2</td><td class=\"tb_region\" id=\"reg2\"> CHIAPAS, MEXICO</td><td class=\"comment updatetimeno\" id=\"upd2\" style=\"text-align:right;\">2020-02-06 09:58</td></tr>\n",
       " <tr class=\"ligne2 normal\" id=\"827365\" onclick=\"go_details(event,827365);\"><td class=\"tabev0\"></td><td class=\"tabev0\"></td><td class=\"tabev0\"></td><td class=\"tabev6\"><b><i style=\"display:none;\">earthquake</i><a href=\"/Earthquake/earthquake.php?id=827365\">2020-02-06   09:38:16.1</a></b><i class=\"ago\" id=\"ago3\">45min ago</i></td><td class=\"tabev1\">19.22 </td><td class=\"tabev2\">N  </td><td class=\"tabev1\">155.40 </td><td class=\"tabev2\">W  </td><td class=\"tabev3\">32</td><td class=\"tabev5\" id=\"magtyp3\">Ml</td><td class=\"tabev2\">2.1</td><td class=\"tb_region\" id=\"reg3\"> ISLAND OF HAWAII, HAWAII</td><td class=\"comment updatetimeno\" id=\"upd3\" style=\"text-align:right;\">2020-02-06 09:44</td></tr>\n",
       " <tr class=\"ligne1 normal\" id=\"827367\" onclick=\"go_details(event,827367);\"><td class=\"tabev0\"></td><td class=\"tabev0\"></td><td class=\"tabev0\"></td><td class=\"tabev6\"><b><i style=\"display:none;\">earthquake</i><a href=\"/Earthquake/earthquake.php?id=827367\">2020-02-06   09:33:52.8</a></b><i class=\"ago\" id=\"ago4\">50min ago</i></td><td class=\"tabev1\">38.93 </td><td class=\"tabev2\">N  </td><td class=\"tabev1\">27.99 </td><td class=\"tabev2\">E  </td><td class=\"tabev3\">7</td><td class=\"tabev5\" id=\"magtyp4\">ML</td><td class=\"tabev2\">2.0</td><td class=\"tb_region\" id=\"reg4\"> WESTERN TURKEY</td><td class=\"comment updatetimeno\" id=\"upd4\" style=\"text-align:right;\">2020-02-06 09:51</td></tr>\n",
       " <tr class=\"ligne2 normal\" id=\"827368\" onclick=\"go_details(event,827368);\"><td class=\"tabev0\"></td><td class=\"tabev0\"></td><td class=\"tabev0\"><span class=\"intensity\" onclick=\"go_details(event,null,'https://www.emsc-csem.org/Earthquake/popup_intensmap.php?id=827368&amp;f=/FELTREPORTS/82/827368/IntensityMap.png');\" onmouseout=\"info_b2('notshow','');\" onmouseover=\"info_b2('show','See the &lt;b&gt; Intensity map&lt;/b&gt;');\" style=\"background-color:#FFFFFF;\">F</span></td><td class=\"tabev6\"><b><i style=\"display:none;\">earthquake</i><a href=\"/Earthquake/earthquake.php?id=827368\">2020-02-06   09:25:59.3</a></b><i class=\"ago\" id=\"ago5\">58min ago</i></td><td class=\"tabev1\">17.88 </td><td class=\"tabev2\">N  </td><td class=\"tabev1\">66.78 </td><td class=\"tabev2\">W  </td><td class=\"tabev3\">4</td><td class=\"tabev5\" id=\"magtyp5\">Md</td><td class=\"tabev2\">2.4</td><td class=\"tb_region\" id=\"reg5\"> PUERTO RICO REGION</td><td class=\"comment updatetimeno\" id=\"upd5\" style=\"text-align:right;\">2020-02-06 09:58</td></tr>\n",
       " <tr class=\"ligne1 info\" id=\"827364\" onclick=\"go_details(event,827364);\"><td class=\"tabev0\" style=\"text-align:center;\"><a href=\"https://www.emsc-csem.org/Earthquake/Testimonies/comments.php?id=827364\" onmouseout=\"info_b2('notshow','');\" onmouseover=\"info_b2('show','See the &lt;b&gt;70 testimonies&lt;/b&gt; for this earthquake');\"><span class=\"\" style=\"vertical-align:middle;\">70</span></a></td><td class=\"tabev0\"></td><td class=\"tabev0\"><span class=\"intensity\" onclick=\"go_details(event,null,'https://www.emsc-csem.org/Earthquake/popup_intensmap.php?id=827364&amp;f=/FELTREPORTS/82/827364/IntensityMap.png');\" onmouseout=\"info_b2('notshow','');\" onmouseover=\"info_b2('show','See the &lt;b&gt; Intensity map&lt;/b&gt;');\" style=\"background-color:#00FFFF;\">IV</span></td><td class=\"tabev6\"><b><i style=\"display:none;\">earthquake</i><a href=\"/Earthquake/earthquake.php?id=827364\">2020-02-06   09:24:14.8</a></b><i class=\"ago\" id=\"ago6\">59min ago</i></td><td class=\"tabev1\">39.18 </td><td class=\"tabev2\">N  </td><td class=\"tabev1\">21.44 </td><td class=\"tabev2\">E  </td><td class=\"tabev3\">9</td><td class=\"tabev5\" id=\"magtyp6\">mb</td><td class=\"tabev2\">5.1</td><td class=\"tb_region\" id=\"reg6\"> GREECE</td><td class=\"comment updatetimeno\" id=\"upd6\" style=\"text-align:right;\">2020-02-06 09:45</td></tr>\n",
       " <tr class=\"ligne2 normal\" id=\"827361\" onclick=\"go_details(event,827361);\"><td class=\"tabev0\"></td><td class=\"tabev0\"></td><td class=\"tabev0\"></td><td class=\"tabev6\"><b><i style=\"display:none;\">earthquake</i><a href=\"/Earthquake/earthquake.php?id=827361\">2020-02-06   09:06:05.1</a></b><i class=\"ago\" id=\"ago7\">1hr 18min ago</i></td><td class=\"tabev1\">38.33 </td><td class=\"tabev2\">N  </td><td class=\"tabev1\">39.07 </td><td class=\"tabev2\">E  </td><td class=\"tabev3\">1</td><td class=\"tabev5\" id=\"magtyp7\">ML</td><td class=\"tabev2\">2.7</td><td class=\"tb_region\" id=\"reg7\"> EASTERN TURKEY</td><td class=\"comment updatetimeno\" id=\"upd7\" style=\"text-align:right;\">2020-02-06 09:17</td></tr>\n",
       " <tr class=\"ligne1 normal\" id=\"827362\" onclick=\"go_details(event,827362);\"><td class=\"tabev0\"></td><td class=\"tabev0\"></td><td class=\"tabev0\"></td><td class=\"tabev6\"><b><i style=\"display:none;\">earthquake</i><a href=\"/Earthquake/earthquake.php?id=827362\">2020-02-06   08:58:03.6</a></b><i class=\"ago\" id=\"ago8\">1hr 26min ago</i></td><td class=\"tabev1\">17.82 </td><td class=\"tabev2\">N  </td><td class=\"tabev1\">66.87 </td><td class=\"tabev2\">W  </td><td class=\"tabev3\">8</td><td class=\"tabev5\" id=\"magtyp8\">Md</td><td class=\"tabev2\">3.2</td><td class=\"tb_region\" id=\"reg8\"> PUERTO RICO REGION</td><td class=\"comment updatetimeno\" id=\"upd8\" style=\"text-align:right;\">2020-02-06 09:20</td></tr>\n",
       " <tr class=\"ligne2 normal\" id=\"827360\" onclick=\"go_details(event,827360);\"><td class=\"tabev0\"></td><td class=\"tabev0\"></td><td class=\"tabev0\"></td><td class=\"tabev6\"><b><i style=\"display:none;\">earthquake</i><a href=\"/Earthquake/earthquake.php?id=827360\">2020-02-06   08:55:06.1</a></b><i class=\"ago\" id=\"ago9\">1hr 29min ago</i></td><td class=\"tabev1\">19.51 </td><td class=\"tabev2\">N  </td><td class=\"tabev1\">155.48 </td><td class=\"tabev2\">W  </td><td class=\"tabev3\">1</td><td class=\"tabev5\" id=\"magtyp9\">Ml</td><td class=\"tabev2\">2.3</td><td class=\"tb_region\" id=\"reg9\"> ISLAND OF HAWAII, HAWAII</td><td class=\"comment updatetimeno\" id=\"upd9\" style=\"text-align:right;\">2020-02-06 09:00</td></tr>\n",
       " <tr class=\"ligne1 normal\" id=\"827359\" onclick=\"go_details(event,827359);\"><td class=\"tabev0\"></td><td class=\"tabev0\"></td><td class=\"tabev0\"></td><td class=\"tabev6\"><b><i style=\"display:none;\">earthquake</i><a href=\"/Earthquake/earthquake.php?id=827359\">2020-02-06   08:40:34.9</a></b><i class=\"ago\" id=\"ago10\">1hr 43min ago</i></td><td class=\"tabev1\">38.29 </td><td class=\"tabev2\">N  </td><td class=\"tabev1\">38.80 </td><td class=\"tabev2\">E  </td><td class=\"tabev3\">2</td><td class=\"tabev5\" id=\"magtyp10\">ML</td><td class=\"tabev2\">2.6</td><td class=\"tb_region\" id=\"reg10\"> EASTERN TURKEY</td><td class=\"comment updatetimeno\" id=\"upd10\" style=\"text-align:right;\">2020-02-06 08:54</td></tr>\n",
       " <tr class=\"ligne2 normal\" id=\"827357\" onclick=\"go_details(event,827357);\"><td class=\"tabev0\"></td><td class=\"tabev0\"></td><td class=\"tabev0\"></td><td class=\"tabev6\"><b><i style=\"display:none;\">earthquake</i><a href=\"/Earthquake/earthquake.php?id=827357\">2020-02-06   08:24:28.9</a></b><i class=\"ago\" id=\"ago11\">1hr 59min ago</i></td><td class=\"tabev1\">54.47 </td><td class=\"tabev2\">N  </td><td class=\"tabev1\">161.38 </td><td class=\"tabev2\">W  </td><td class=\"tabev3\">35</td><td class=\"tabev5\" id=\"magtyp11\">mb</td><td class=\"tabev2\">4.8</td><td class=\"tb_region\" id=\"reg11\"> ALASKA PENINSULA</td><td class=\"comment updatetimeno\" id=\"upd11\" style=\"text-align:right;\">2020-02-06 09:25</td></tr>\n",
       " <tr class=\"ligne1 normal\" id=\"827356\" onclick=\"go_details(event,827356);\"><td class=\"tabev0\"></td><td class=\"tabev0\"></td><td class=\"tabev0\"></td><td class=\"tabev6\"><b><i style=\"display:none;\">earthquake</i><a href=\"/Earthquake/earthquake.php?id=827356\">2020-02-06   08:20:19.6</a></b><i class=\"ago\" id=\"ago12\">2hr 03min ago</i></td><td class=\"tabev1\">40.24 </td><td class=\"tabev2\">N  </td><td class=\"tabev1\">124.79 </td><td class=\"tabev2\">W  </td><td class=\"tabev3\">10</td><td class=\"tabev5\" id=\"magtyp12\">ML</td><td class=\"tabev2\">3.4</td><td class=\"tb_region\" id=\"reg12\"> OFFSHORE NORTHERN CALIFORNIA</td><td class=\"comment updatetimeno\" id=\"upd12\" style=\"text-align:right;\">2020-02-06 08:29</td></tr>\n",
       " <tr class=\"ligne2 normal\" id=\"827347\" onclick=\"go_details(event,827347);\"><td class=\"tabev0\"></td><td class=\"tabev0\"></td><td class=\"tabev0\"></td><td class=\"tabev6\"><b><i style=\"display:none;\">earthquake</i><a href=\"/Earthquake/earthquake.php?id=827347\">2020-02-06   07:56:16.8</a></b><i class=\"ago\" id=\"ago13\">2hr 27min ago</i></td><td class=\"tabev1\">36.03 </td><td class=\"tabev2\">N  </td><td class=\"tabev1\">120.60 </td><td class=\"tabev2\">W  </td><td class=\"tabev3\">7</td><td class=\"tabev5\" id=\"magtyp13\">Md</td><td class=\"tabev2\">2.4</td><td class=\"tb_region\" id=\"reg13\"> CENTRAL CALIFORNIA</td><td class=\"comment updatetimeno\" id=\"upd13\" style=\"text-align:right;\">2020-02-06 07:57</td></tr>\n",
       " <tr class=\"ligne1 normal\" id=\"827349\" onclick=\"go_details(event,827349);\"><td class=\"tabev0\"></td><td class=\"tabev0\"></td><td class=\"tabev0\"></td><td class=\"tabev6\"><b><i style=\"display:none;\">earthquake</i><a href=\"/Earthquake/earthquake.php?id=827349\">2020-02-06   07:51:34.0</a></b><i class=\"ago\" id=\"ago14\">2hr 32min ago</i></td><td class=\"tabev1\">27.23 </td><td class=\"tabev2\">N  </td><td class=\"tabev1\">111.51 </td><td class=\"tabev2\">W  </td><td class=\"tabev3\">11</td><td class=\"tabev5\" id=\"magtyp14\"> M</td><td class=\"tabev2\">4.2</td><td class=\"tb_region\" id=\"reg14\"> GULF OF CALIFORNIA</td><td class=\"comment updatetimeno\" id=\"upd14\" style=\"text-align:right;\">2020-02-06 08:06</td></tr>\n",
       " <tr class=\"ligne2 normal\" id=\"827345\" onclick=\"go_details(event,827345);\"><td class=\"tabev0\"></td><td class=\"tabev0\"></td><td class=\"tabev0\"></td><td class=\"tabev6\"><b><i style=\"display:none;\">earthquake</i><a href=\"/Earthquake/earthquake.php?id=827345\">2020-02-06   07:32:07.7</a></b><i class=\"ago\" id=\"ago15\">2hr 52min ago</i></td><td class=\"tabev1\">31.67 </td><td class=\"tabev2\">N  </td><td class=\"tabev1\">104.38 </td><td class=\"tabev2\">W  </td><td class=\"tabev3\">5</td><td class=\"tabev5\" id=\"magtyp15\">mb</td><td class=\"tabev2\">2.7</td><td class=\"tb_region\" id=\"reg15\"> WESTERN TEXAS</td><td class=\"comment updatetimeno\" id=\"upd15\" style=\"text-align:right;\">2020-02-06 07:46</td></tr>\n",
       " <tr class=\"ligne1 normal\" id=\"827366\" onclick=\"go_details(event,827366);\"><td class=\"tabev0\"></td><td class=\"tabev0\"></td><td class=\"tabev0\"></td><td class=\"tabev6\"><b><i style=\"display:none;\">earthquake</i><a href=\"/Earthquake/earthquake.php?id=827366\">2020-02-06   07:27:14.1</a></b><i class=\"ago\" id=\"ago16\">2hr 56min ago</i></td><td class=\"tabev1\">17.84 </td><td class=\"tabev2\">N  </td><td class=\"tabev1\">66.88 </td><td class=\"tabev2\">W  </td><td class=\"tabev3\">11</td><td class=\"tabev5\" id=\"magtyp16\">Md</td><td class=\"tabev2\">2.2</td><td class=\"tb_region\" id=\"reg16\"> PUERTO RICO REGION</td><td class=\"comment updatetimeno\" id=\"upd16\" style=\"text-align:right;\">2020-02-06 09:43</td></tr>\n",
       " <tr class=\"ligne2 normal\" id=\"827348\" onclick=\"go_details(event,827348);\"><td class=\"tabev0\"></td><td class=\"tabev0\"></td><td class=\"tabev0\"><span class=\"intensity\" onclick=\"go_details(event,null,'https://www.emsc-csem.org/Earthquake/popup_intensmap.php?id=827348&amp;f=/FELTREPORTS/82/827348/IntensityMap.png');\" onmouseout=\"info_b2('notshow','');\" onmouseover=\"info_b2('show','See the &lt;b&gt; Intensity map&lt;/b&gt;');\" style=\"background-color:#FFFFFF;\">F</span></td><td class=\"tabev6\"><b><i style=\"display:none;\">earthquake</i><a href=\"/Earthquake/earthquake.php?id=827348\">2020-02-06   07:25:31.2</a></b><i class=\"ago\" id=\"ago17\">2hr 58min ago</i></td><td class=\"tabev1\">39.08 </td><td class=\"tabev2\">N  </td><td class=\"tabev1\">27.95 </td><td class=\"tabev2\">E  </td><td class=\"tabev3\">7</td><td class=\"tabev5\" id=\"magtyp17\">ML</td><td class=\"tabev2\">2.2</td><td class=\"tb_region\" id=\"reg17\"> WESTERN TURKEY</td><td class=\"comment updatetimeno\" id=\"upd17\" style=\"text-align:right;\">2020-02-06 08:09</td></tr>\n",
       " <tr class=\"ligne1 normal\" id=\"827343\" onclick=\"go_details(event,827343);\"><td class=\"tabev0\"></td><td class=\"tabev0\"></td><td class=\"tabev0\"></td><td class=\"tabev6\"><b><i style=\"display:none;\">earthquake</i><a href=\"/Earthquake/earthquake.php?id=827343\">2020-02-06   07:22:26.0</a></b><i class=\"ago\" id=\"ago18\">3hr 01min ago</i></td><td class=\"tabev1\">7.34 </td><td class=\"tabev2\">S  </td><td class=\"tabev1\">122.48 </td><td class=\"tabev2\">E  </td><td class=\"tabev3\">520</td><td class=\"tabev5\" id=\"magtyp18\"> M</td><td class=\"tabev2\">4.4</td><td class=\"tb_region\" id=\"reg18\"> FLORES SEA</td><td class=\"comment updatetimeno\" id=\"upd18\" style=\"text-align:right;\">2020-02-06 07:32</td></tr>\n",
       " <tr class=\"ligne2 normal\" id=\"827353\" onclick=\"go_details(event,827353);\"><td class=\"tabev0\"></td><td class=\"tabev0\"></td><td class=\"tabev0\"><span class=\"intensity\" onclick=\"go_details(event,null,'https://www.emsc-csem.org/Earthquake/popup_intensmap.php?id=827353&amp;f=/FELTREPORTS/82/827353/IntensityMap.png');\" onmouseout=\"info_b2('notshow','');\" onmouseover=\"info_b2('show','See the &lt;b&gt; Intensity map&lt;/b&gt;');\" style=\"background-color:#FFFFFF;\">F</span></td><td class=\"tabev6\"><b><i style=\"display:none;\">earthquake</i><a href=\"/Earthquake/earthquake.php?id=827353\">2020-02-06   07:16:02.2</a></b><i class=\"ago\" id=\"ago19\">3hr 08min ago</i></td><td class=\"tabev1\">44.21 </td><td class=\"tabev2\">N  </td><td class=\"tabev1\">15.97 </td><td class=\"tabev2\">E  </td><td class=\"tabev3\">10</td><td class=\"tabev5\" id=\"magtyp19\">ML</td><td class=\"tabev2\">2.9</td><td class=\"tb_region\" id=\"reg19\"> CROATIA</td><td class=\"comment updatetimeno\" id=\"upd19\" style=\"text-align:right;\">2020-02-06 08:46</td></tr>\n",
       " <tr class=\"ligne1 normal\" id=\"827340\" onclick=\"go_details(event,827340);\"><td class=\"tabev0\"></td><td class=\"tabev0\"></td><td class=\"tabev0\"></td><td class=\"tabev6\"><b><i style=\"display:none;\">earthquake</i><a href=\"/Earthquake/earthquake.php?id=827340\">2020-02-06   07:10:53.7</a></b><i class=\"ago\" id=\"ago20\">3hr 13min ago</i></td><td class=\"tabev1\">2.80 </td><td class=\"tabev2\">S  </td><td class=\"tabev1\">139.13 </td><td class=\"tabev2\">E  </td><td class=\"tabev3\">30</td><td class=\"tabev5\" id=\"magtyp20\">mb</td><td class=\"tabev2\">4.9</td><td class=\"tb_region\" id=\"reg20\"> NEAR N COAST OF PAPUA, INDONESIA</td><td class=\"comment updatetimeno\" id=\"upd20\" style=\"text-align:right;\">2020-02-06 07:58</td></tr>\n",
       " <tr class=\"ligne2 normal\" id=\"827355\" onclick=\"go_details(event,827355);\"><td class=\"tabev0\"></td><td class=\"tabev0\"></td><td class=\"tabev0\"></td><td class=\"tabev6\"><b><i style=\"display:none;\">earthquake</i><a href=\"/Earthquake/earthquake.php?id=827355\">2020-02-06   07:06:41.2</a></b><i class=\"ago\" id=\"ago21\">3hr 17min ago</i></td><td class=\"tabev1\">62.15 </td><td class=\"tabev2\">N  </td><td class=\"tabev1\">149.70 </td><td class=\"tabev2\">W  </td><td class=\"tabev3\">38</td><td class=\"tabev5\" id=\"magtyp21\">ML</td><td class=\"tabev2\">2.9</td><td class=\"tb_region\" id=\"reg21\"> CENTRAL ALASKA</td><td class=\"comment updatetimeno\" id=\"upd21\" style=\"text-align:right;\">2020-02-06 08:18</td></tr>\n",
       " <tr class=\"ligne1 normal\" id=\"827346\" onclick=\"go_details(event,827346);\"><td class=\"tabev0\"></td><td class=\"tabev0\"></td><td class=\"tabev0\"></td><td class=\"tabev6\"><b><i style=\"display:none;\">earthquake</i><a href=\"/Earthquake/earthquake.php?id=827346\">2020-02-06   07:06:27.2</a></b><i class=\"ago\" id=\"ago22\">3hr 17min ago</i></td><td class=\"tabev1\">38.27 </td><td class=\"tabev2\">N  </td><td class=\"tabev1\">38.76 </td><td class=\"tabev2\">E  </td><td class=\"tabev3\">7</td><td class=\"tabev5\" id=\"magtyp22\">ML</td><td class=\"tabev2\">2.2</td><td class=\"tb_region\" id=\"reg22\"> EASTERN TURKEY</td><td class=\"comment updatetimeno\" id=\"upd22\" style=\"text-align:right;\">2020-02-06 07:49</td></tr>\n",
       " <tr class=\"ligne2 normal\" id=\"827339\" onclick=\"go_details(event,827339);\"><td class=\"tabev0\"></td><td class=\"tabev0\"></td><td class=\"tabev0\"></td><td class=\"tabev6\"><b><i style=\"display:none;\">earthquake</i><a href=\"/Earthquake/earthquake.php?id=827339\">2020-02-06   07:03:03.2</a></b><i class=\"ago\" id=\"ago23\">3hr 21min ago</i></td><td class=\"tabev1\">19.50 </td><td class=\"tabev2\">N  </td><td class=\"tabev1\">155.46 </td><td class=\"tabev2\">W  </td><td class=\"tabev3\">1</td><td class=\"tabev5\" id=\"magtyp23\">Ml</td><td class=\"tabev2\">2.3</td><td class=\"tb_region\" id=\"reg23\"> ISLAND OF HAWAII, HAWAII</td><td class=\"comment updatetimeno\" id=\"upd23\" style=\"text-align:right;\">2020-02-06 07:08</td></tr>\n",
       " <tr class=\"ligne1 normal\" id=\"827338\" onclick=\"go_details(event,827338);\"><td class=\"tabev0\"></td><td class=\"tabev0\"></td><td class=\"tabev0\"></td><td class=\"tabev6\"><b><i style=\"display:none;\">earthquake</i><a href=\"/Earthquake/earthquake.php?id=827338\">2020-02-06   06:51:16.0</a></b><i class=\"ago\" id=\"ago24\">3hr 32min ago</i></td><td class=\"tabev1\">29.31 </td><td class=\"tabev2\">S  </td><td class=\"tabev1\">70.59 </td><td class=\"tabev2\">W  </td><td class=\"tabev3\">72</td><td class=\"tabev5\" id=\"magtyp24\">ML</td><td class=\"tabev2\">4.0</td><td class=\"tb_region\" id=\"reg24\"> COQUIMBO, CHILE</td><td class=\"comment updatetimeno\" id=\"upd24\" style=\"text-align:right;\">2020-02-06 07:05</td></tr>\n",
       " <tr class=\"ligne2 normal\" id=\"827352\" onclick=\"go_details(event,827352);\"><td class=\"tabev0\"></td><td class=\"tabev0\"></td><td class=\"tabev0\"></td><td class=\"tabev6\"><b><i style=\"display:none;\">earthquake</i><a href=\"/Earthquake/earthquake.php?id=827352\">2020-02-06   06:48:44.9</a></b><i class=\"ago\" id=\"ago25\">3hr 35min ago</i></td><td class=\"tabev1\">44.21 </td><td class=\"tabev2\">N  </td><td class=\"tabev1\">16.01 </td><td class=\"tabev2\">E  </td><td class=\"tabev3\">2</td><td class=\"tabev5\" id=\"magtyp25\">ML</td><td class=\"tabev2\">2.9</td><td class=\"tb_region\" id=\"reg25\"> CROATIA</td><td class=\"comment updatetimeno\" id=\"upd25\" style=\"text-align:right;\">2020-02-06 08:40</td></tr>\n",
       " <tr class=\"ligne1 normal\" id=\"827337\" onclick=\"go_details(event,827337);\"><td class=\"tabev0\"></td><td class=\"tabev0\"></td><td class=\"tabev0\"></td><td class=\"tabev6\"><b><i style=\"display:none;\">earthquake</i><a href=\"/Earthquake/earthquake.php?id=827337\">2020-02-06   06:43:29.0</a></b><i class=\"ago\" id=\"ago26\">3hr 40min ago</i></td><td class=\"tabev1\">0.12 </td><td class=\"tabev2\">S  </td><td class=\"tabev1\">122.48 </td><td class=\"tabev2\">E  </td><td class=\"tabev3\">17</td><td class=\"tabev5\" id=\"magtyp26\"> M</td><td class=\"tabev2\">3.7</td><td class=\"tb_region\" id=\"reg26\"> SULAWESI, INDONESIA</td><td class=\"comment updatetimeno\" id=\"upd26\" style=\"text-align:right;\">2020-02-06 06:57</td></tr>\n",
       " <tr class=\"ligne2 normal\" id=\"827334\" onclick=\"go_details(event,827334);\"><td class=\"tabev0\" style=\"text-align:center;\"><a href=\"https://www.emsc-csem.org/Earthquake/Testimonies/comments.php?id=827334\" onmouseout=\"info_b2('notshow','');\" onmouseover=\"info_b2('show','See the &lt;b&gt;testimony&lt;/b&gt; for this earthquake');\"><span class=\"\" style=\"vertical-align:middle;\">1</span></a></td><td class=\"tabev0\"></td><td class=\"tabev0\"><span class=\"intensity\" onclick=\"go_details(event,null,'https://www.emsc-csem.org/Earthquake/popup_intensmap.php?id=827334&amp;f=/FELTREPORTS/82/827334/IntensityMap.png');\" onmouseout=\"info_b2('notshow','');\" onmouseover=\"info_b2('show','See the &lt;b&gt; Intensity map&lt;/b&gt;');\" style=\"background-color:#FFFFFF;\">F</span></td><td class=\"tabev6\"><b><i style=\"display:none;\">earthquake</i><a href=\"/Earthquake/earthquake.php?id=827334\">2020-02-06   06:32:03.0</a></b><i class=\"ago\" id=\"ago27\">3hr 52min ago</i></td><td class=\"tabev1\">19.50 </td><td class=\"tabev2\">N  </td><td class=\"tabev1\">155.04 </td><td class=\"tabev2\">W  </td><td class=\"tabev3\">39</td><td class=\"tabev5\" id=\"magtyp27\">Ml</td><td class=\"tabev2\">3.3</td><td class=\"tb_region\" id=\"reg27\"> ISLAND OF HAWAII, HAWAII</td><td class=\"comment updatetimeno\" id=\"upd27\" style=\"text-align:right;\">2020-02-06 07:06</td></tr>\n",
       " <tr class=\"ligne1 normal\" id=\"827363\" onclick=\"go_details(event,827363);\"><td class=\"tabev0\"></td><td class=\"tabev0\"></td><td class=\"tabev0\"></td><td class=\"tabev6\"><b><i style=\"display:none;\">earthquake</i><a href=\"/Earthquake/earthquake.php?id=827363\">2020-02-06   06:31:53.9</a></b><i class=\"ago\" id=\"ago28\">3hr 52min ago</i></td><td class=\"tabev1\">70.69 </td><td class=\"tabev2\">N  </td><td class=\"tabev1\">6.62 </td><td class=\"tabev2\">W  </td><td class=\"tabev3\">0</td><td class=\"tabev5\" id=\"magtyp28\">ML</td><td class=\"tabev2\">2.9</td><td class=\"tb_region\" id=\"reg28\"> JAN MAYEN ISLAND REGION</td><td class=\"comment updatetimeno\" id=\"upd28\" style=\"text-align:right;\">2020-02-06 09:20</td></tr>\n",
       " <tr class=\"ligne2 normal\" id=\"827351\" onclick=\"go_details(event,827351);\"><td class=\"tabev0\"></td><td class=\"tabev0\"></td><td class=\"tabev0\"></td><td class=\"tabev6\"><b><i style=\"display:none;\">earthquake</i><a href=\"/Earthquake/earthquake.php?id=827351\">2020-02-06   06:26:05.1</a></b><i class=\"ago\" id=\"ago29\">3hr 58min ago</i></td><td class=\"tabev1\">44.22 </td><td class=\"tabev2\">N  </td><td class=\"tabev1\">16.02 </td><td class=\"tabev2\">E  </td><td class=\"tabev3\">20</td><td class=\"tabev5\" id=\"magtyp29\">ML</td><td class=\"tabev2\">2.8</td><td class=\"tb_region\" id=\"reg29\"> CROATIA</td><td class=\"comment updatetimeno\" id=\"upd29\" style=\"text-align:right;\">2020-02-06 08:08</td></tr>\n",
       " <tr class=\"ligne1 normal\" id=\"827350\" onclick=\"go_details(event,827350);\"><td class=\"tabev0\"></td><td class=\"tabev0\"></td><td class=\"tabev0\"><span class=\"intensity\" onclick=\"go_details(event,null,'https://www.emsc-csem.org/Earthquake/popup_intensmap.php?id=827350&amp;f=/FELTREPORTS/82/827350/IntensityMap.png');\" onmouseout=\"info_b2('notshow','');\" onmouseover=\"info_b2('show','See the &lt;b&gt; Intensity map&lt;/b&gt;');\" style=\"background-color:#FFFFFF;\">F</span></td><td class=\"tabev6\"><b><i style=\"display:none;\">earthquake</i><a href=\"/Earthquake/earthquake.php?id=827350\">2020-02-06   06:16:38.3</a></b><i class=\"ago\" id=\"ago30\">4hr 07min ago</i></td><td class=\"tabev1\">44.21 </td><td class=\"tabev2\">N  </td><td class=\"tabev1\">16.05 </td><td class=\"tabev2\">E  </td><td class=\"tabev3\">15</td><td class=\"tabev5\" id=\"magtyp30\">ML</td><td class=\"tabev2\">2.8</td><td class=\"tb_region\" id=\"reg30\"> CROATIA</td><td class=\"comment updatetimeno\" id=\"upd30\" style=\"text-align:right;\">2020-02-06 08:07</td></tr>\n",
       " <tr class=\"ligne2 normal\" id=\"827333\" onclick=\"go_details(event,827333);\"><td class=\"tabev0\"></td><td class=\"tabev0\"></td><td class=\"tabev0\"></td><td class=\"tabev6\"><b><i style=\"display:none;\">earthquake</i><a href=\"/Earthquake/earthquake.php?id=827333\">2020-02-06   06:11:06.6</a></b><i class=\"ago\" id=\"ago31\">4hr 13min ago</i></td><td class=\"tabev1\">17.87 </td><td class=\"tabev2\">N  </td><td class=\"tabev1\">66.87 </td><td class=\"tabev2\">W  </td><td class=\"tabev3\">10</td><td class=\"tabev5\" id=\"magtyp31\">ML</td><td class=\"tabev2\">2.5</td><td class=\"tb_region\" id=\"reg31\"> PUERTO RICO REGION</td><td class=\"comment updatetimeno\" id=\"upd31\" style=\"text-align:right;\">2020-02-06 06:43</td></tr>\n",
       " <tr class=\"ligne1 normal\" id=\"827331\" onclick=\"go_details(event,827331);\"><td class=\"tabev0\"></td><td class=\"tabev0\"></td><td class=\"tabev0\"></td><td class=\"tabev6\"><b><i style=\"display:none;\">earthquake</i><a href=\"/Earthquake/earthquake.php?id=827331\">2020-02-06   05:48:11.0</a></b><i class=\"ago\" id=\"ago32\">4hr 36min ago</i></td><td class=\"tabev1\">0.77 </td><td class=\"tabev2\">N  </td><td class=\"tabev1\">129.47 </td><td class=\"tabev2\">E  </td><td class=\"tabev3\">10</td><td class=\"tabev5\" id=\"magtyp32\"> M</td><td class=\"tabev2\">4.3</td><td class=\"tb_region\" id=\"reg32\"> HALMAHERA, INDONESIA</td><td class=\"comment updatetimeno\" id=\"upd32\" style=\"text-align:right;\">2020-02-06 06:00</td></tr>\n",
       " <tr class=\"ligne2 normal\" id=\"827329\" onclick=\"go_details(event,827329);\"><td class=\"tabev0\" style=\"text-align:center;\"><a href=\"https://www.emsc-csem.org/Earthquake/Testimonies/comments.php?id=827329\" onmouseout=\"info_b2('notshow','');\" onmouseover=\"info_b2('show','See the &lt;b&gt;testimony&lt;/b&gt; for this earthquake');\"><span class=\"\" style=\"vertical-align:middle;\">1</span></a></td><td class=\"tabev0\"></td><td class=\"tabev0\"><span class=\"intensity\" onclick=\"go_details(event,null,'https://www.emsc-csem.org/Earthquake/popup_intensmap.php?id=827329&amp;f=/FELTREPORTS/82/827329/IntensityMap.png');\" onmouseout=\"info_b2('notshow','');\" onmouseover=\"info_b2('show','See the &lt;b&gt; Intensity map&lt;/b&gt;');\" style=\"background-color:#FFFFFF;\">F</span></td><td class=\"tabev6\"><b><i style=\"display:none;\">earthquake</i><a href=\"/Earthquake/earthquake.php?id=827329\">2020-02-06   05:43:24.1</a></b><i class=\"ago\" id=\"ago33\">4hr 40min ago</i></td><td class=\"tabev1\">39.03 </td><td class=\"tabev2\">N  </td><td class=\"tabev1\">30.04 </td><td class=\"tabev2\">E  </td><td class=\"tabev3\">1</td><td class=\"tabev5\" id=\"magtyp33\">ML</td><td class=\"tabev2\">2.5</td><td class=\"tb_region\" id=\"reg33\"> WESTERN TURKEY</td><td class=\"comment updatetimeno\" id=\"upd33\" style=\"text-align:right;\">2020-02-06 07:55</td></tr>\n",
       " <tr class=\"ligne1 normal\" id=\"827330\" onclick=\"go_details(event,827330);\"><td class=\"tabev0\"></td><td class=\"tabev0\"></td><td class=\"tabev0\"><span class=\"intensity\" onclick=\"go_details(event,null,'https://www.emsc-csem.org/Earthquake/popup_intensmap.php?id=827330&amp;f=/FELTREPORTS/82/827330/IntensityMap.png');\" onmouseout=\"info_b2('notshow','');\" onmouseover=\"info_b2('show','See the &lt;b&gt; Intensity map&lt;/b&gt;');\" style=\"background-color:#FFFFFF;\">F</span></td><td class=\"tabev6\"><b><i style=\"display:none;\">earthquake</i><a href=\"/Earthquake/earthquake.php?id=827330\">2020-02-06   05:33:09.8</a></b><i class=\"ago\" id=\"ago34\">4hr 51min ago</i></td><td class=\"tabev1\">17.80 </td><td class=\"tabev2\">N  </td><td class=\"tabev1\">67.20 </td><td class=\"tabev2\">W  </td><td class=\"tabev3\">10</td><td class=\"tabev5\" id=\"magtyp34\">ML</td><td class=\"tabev2\">2.7</td><td class=\"tb_region\" id=\"reg34\"> PUERTO RICO REGION</td><td class=\"comment updatetimeno\" id=\"upd34\" style=\"text-align:right;\">2020-02-06 06:03</td></tr>\n",
       " <tr class=\"ligne2 normal\" id=\"827328\" onclick=\"go_details(event,827328);\"><td class=\"tabev0\"></td><td class=\"tabev0\"></td><td class=\"tabev0\"></td><td class=\"tabev6\"><b><i style=\"display:none;\">earthquake</i><a href=\"/Earthquake/earthquake.php?id=827328\">2020-02-06   05:30:30.0</a></b><i class=\"ago\" id=\"ago35\">4hr 53min ago</i></td><td class=\"tabev1\">38.30 </td><td class=\"tabev2\">N  </td><td class=\"tabev1\">141.90 </td><td class=\"tabev2\">E  </td><td class=\"tabev3\">50</td><td class=\"tabev5\" id=\"magtyp35\"> M</td><td class=\"tabev2\">3.6</td><td class=\"tb_region\" id=\"reg35\"> NEAR EAST COAST OF HONSHU, JAPAN</td><td class=\"comment updatetimeno\" id=\"upd35\" style=\"text-align:right;\">2020-02-06 05:35</td></tr>\n",
       " <tr class=\"ligne1 normal\" id=\"827326\" onclick=\"go_details(event,827326);\"><td class=\"tabev0\"></td><td class=\"tabev0\"></td><td class=\"tabev0\"></td><td class=\"tabev6\"><b><i style=\"display:none;\">earthquake</i><a href=\"/Earthquake/earthquake.php?id=827326\">2020-02-06   05:12:35.0</a></b><i class=\"ago\" id=\"ago36\">5hr 11min ago</i></td><td class=\"tabev1\">17.89 </td><td class=\"tabev2\">N  </td><td class=\"tabev1\">66.94 </td><td class=\"tabev2\">W  </td><td class=\"tabev3\">6</td><td class=\"tabev5\" id=\"magtyp36\">Ml</td><td class=\"tabev2\">2.5</td><td class=\"tb_region\" id=\"reg36\"> PUERTO RICO REGION</td><td class=\"comment updatetimeno\" id=\"upd36\" style=\"text-align:right;\">2020-02-06 05:25</td></tr>\n",
       " <tr class=\"ligne2 normal\" id=\"827324\" onclick=\"go_details(event,827324);\"><td class=\"tabev0\"></td><td class=\"tabev0\"></td><td class=\"tabev0\"></td><td class=\"tabev6\"><b><i style=\"display:none;\">earthquake</i><a href=\"/Earthquake/earthquake.php?id=827324\">2020-02-06   05:10:13.0</a></b><i class=\"ago\" id=\"ago37\">5hr 14min ago</i></td><td class=\"tabev1\">2.53 </td><td class=\"tabev2\">S  </td><td class=\"tabev1\">121.13 </td><td class=\"tabev2\">E  </td><td class=\"tabev3\">10</td><td class=\"tabev5\" id=\"magtyp37\"> M</td><td class=\"tabev2\">2.6</td><td class=\"tb_region\" id=\"reg37\"> SULAWESI, INDONESIA</td><td class=\"comment updatetimeno\" id=\"upd37\" style=\"text-align:right;\">2020-02-06 05:20</td></tr>\n",
       " <tr class=\"ligne1 normal\" id=\"827332\" onclick=\"go_details(event,827332);\"><td class=\"tabev0\"></td><td class=\"tabev0\"></td><td class=\"tabev0\"></td><td class=\"tabev6\"><b><i style=\"display:none;\">earthquake</i><a href=\"/Earthquake/earthquake.php?id=827332\">2020-02-06   05:08:02.5</a></b><i class=\"ago\" id=\"ago38\">5hr 16min ago</i></td><td class=\"tabev1\">17.83 </td><td class=\"tabev2\">N  </td><td class=\"tabev1\">66.90 </td><td class=\"tabev2\">W  </td><td class=\"tabev3\">7</td><td class=\"tabev5\" id=\"magtyp38\">Md</td><td class=\"tabev2\">2.8</td><td class=\"tb_region\" id=\"reg38\"> PUERTO RICO REGION</td><td class=\"comment updatetimeno\" id=\"upd38\" style=\"text-align:right;\">2020-02-06 06:10</td></tr>\n",
       " <tr class=\"ligne2 normal\" id=\"827319\" onclick=\"go_details(event,827319);\"><td class=\"tabev0\"></td><td class=\"tabev0\"></td><td class=\"tabev0\"><span class=\"intensity\" onclick=\"go_details(event,null,'https://www.emsc-csem.org/Earthquake/popup_intensmap.php?id=827319&amp;f=/FELTREPORTS/82/827319/IntensityMap.png');\" onmouseout=\"info_b2('notshow','');\" onmouseover=\"info_b2('show','See the &lt;b&gt; Intensity map&lt;/b&gt;');\" style=\"background-color:#FFFFFF;\">F</span></td><td class=\"tabev6\"><b><i style=\"display:none;\">earthquake</i><a href=\"/Earthquake/earthquake.php?id=827319\">2020-02-06   05:06:22.5</a></b><i class=\"ago\" id=\"ago39\">5hr 17min ago</i></td><td class=\"tabev1\">38.10 </td><td class=\"tabev2\">N  </td><td class=\"tabev1\">22.29 </td><td class=\"tabev2\">E  </td><td class=\"tabev3\">6</td><td class=\"tabev5\" id=\"magtyp39\">ML</td><td class=\"tabev2\">3.2</td><td class=\"tb_region\" id=\"reg39\"> GREECE</td><td class=\"comment updatetimeno\" id=\"upd39\" style=\"text-align:right;\">2020-02-06 07:55</td></tr>\n",
       " <tr class=\"ligne1 normal\" id=\"827327\" onclick=\"go_details(event,827327);\"><td class=\"tabev0\"></td><td class=\"tabev0\"></td><td class=\"tabev0\"></td><td class=\"tabev6\"><b><i style=\"display:none;\">earthquake</i><a href=\"/Earthquake/earthquake.php?id=827327\">2020-02-06   05:05:53.7</a></b><i class=\"ago\" id=\"ago40\">5hr 18min ago</i></td><td class=\"tabev1\">39.06 </td><td class=\"tabev2\">N  </td><td class=\"tabev1\">27.85 </td><td class=\"tabev2\">E  </td><td class=\"tabev3\">7</td><td class=\"tabev5\" id=\"magtyp40\">ML</td><td class=\"tabev2\">2.2</td><td class=\"tb_region\" id=\"reg40\"> WESTERN TURKEY</td><td class=\"comment updatetimeno\" id=\"upd40\" style=\"text-align:right;\">2020-02-06 05:27</td></tr>\n",
       " <tr class=\"ligne2 normal\" id=\"827321\" onclick=\"go_details(event,827321);\"><td class=\"tabev0\"></td><td class=\"tabev0\"></td><td class=\"tabev0\"></td><td class=\"tabev6\"><b><i style=\"display:none;\">earthquake</i><a href=\"/Earthquake/earthquake.php?id=827321\">2020-02-06   04:57:36.7</a></b><i class=\"ago\" id=\"ago41\">5hr 26min ago</i></td><td class=\"tabev1\">39.00 </td><td class=\"tabev2\">N  </td><td class=\"tabev1\">27.88 </td><td class=\"tabev2\">E  </td><td class=\"tabev3\">6</td><td class=\"tabev5\" id=\"magtyp41\">ML</td><td class=\"tabev2\">2.1</td><td class=\"tb_region\" id=\"reg41\"> WESTERN TURKEY</td><td class=\"comment updatetimeno\" id=\"upd41\" style=\"text-align:right;\">2020-02-06 05:09</td></tr>\n",
       " <tr class=\"ligne1 normal\" id=\"827318\" onclick=\"go_details(event,827318);\"><td class=\"tabev0\"></td><td class=\"tabev0\"></td><td class=\"tabev0\"></td><td class=\"tabev6\"><b><i style=\"display:none;\">earthquake</i><a href=\"/Earthquake/earthquake.php?id=827318\">2020-02-06   04:55:01.0</a></b><i class=\"ago\" id=\"ago42\">5hr 29min ago</i></td><td class=\"tabev1\">22.53 </td><td class=\"tabev2\">S  </td><td class=\"tabev1\">68.61 </td><td class=\"tabev2\">W  </td><td class=\"tabev3\">130</td><td class=\"tabev5\" id=\"magtyp42\">ML</td><td class=\"tabev2\">3.4</td><td class=\"tb_region\" id=\"reg42\"> ANTOFAGASTA, CHILE</td><td class=\"comment updatetimeno\" id=\"upd42\" style=\"text-align:right;\">2020-02-06 05:07</td></tr>\n",
       " <tr class=\"ligne2 normal\" id=\"827323\" onclick=\"go_details(event,827323);\"><td class=\"tabev0\" style=\"text-align:center;\"><a href=\"https://www.emsc-csem.org/Earthquake/Testimonies/comments.php?id=827323\" onmouseout=\"info_b2('notshow','');\" onmouseover=\"info_b2('show','See the &lt;b&gt;25 testimonies&lt;/b&gt; for this earthquake');\"><span class=\"\" style=\"vertical-align:middle;\">25</span></a></td><td class=\"tabev0\"></td><td class=\"tabev0\"><span class=\"intensity\" onclick=\"go_details(event,null,'https://www.emsc-csem.org/Earthquake/popup_intensmap.php?id=827323&amp;f=/FELTREPORTS/82/827323/IntensityMap.png');\" onmouseout=\"info_b2('notshow','');\" onmouseover=\"info_b2('show','See the &lt;b&gt; Intensity map&lt;/b&gt;');\" style=\"background-color:#00FFFF;\">IV</span></td><td class=\"tabev6\"><b><i style=\"display:none;\">earthquake</i><a href=\"/Earthquake/earthquake.php?id=827323\">2020-02-06   04:53:48.2</a></b><i class=\"ago\" id=\"ago43\">5hr 30min ago</i></td><td class=\"tabev1\">32.82 </td><td class=\"tabev2\">N  </td><td class=\"tabev1\">34.60 </td><td class=\"tabev2\">E  </td><td class=\"tabev3\">10</td><td class=\"tabev5\" id=\"magtyp43\">mb</td><td class=\"tabev2\">4.0</td><td class=\"tb_region\" id=\"reg43\"> DEAD SEA REGION</td><td class=\"comment updatetimeno\" id=\"upd43\" style=\"text-align:right;\">2020-02-06 07:53</td></tr>\n",
       " <tr class=\"ligne1 normal\" id=\"827314\" onclick=\"go_details(event,827314);\"><td class=\"tabev0\"></td><td class=\"tabev0\"></td><td class=\"tabev0\"></td><td class=\"tabev6\"><b><i style=\"display:none;\">earthquake</i><a href=\"/Earthquake/earthquake.php?id=827314\">2020-02-06   04:41:13.4</a></b><i class=\"ago\" id=\"ago44\">5hr 43min ago</i></td><td class=\"tabev1\">38.34 </td><td class=\"tabev2\">N  </td><td class=\"tabev1\">38.80 </td><td class=\"tabev2\">E  </td><td class=\"tabev3\">12</td><td class=\"tabev5\" id=\"magtyp44\">ML</td><td class=\"tabev2\">2.7</td><td class=\"tb_region\" id=\"reg44\"> EASTERN TURKEY</td><td class=\"comment updatetimeno\" id=\"upd44\" style=\"text-align:right;\">2020-02-06 07:53</td></tr>\n",
       " <tr class=\"ligne2 normal\" id=\"827310\" onclick=\"go_details(event,827310);\"><td class=\"tabev0\" style=\"text-align:center;\"><a href=\"https://www.emsc-csem.org/Earthquake/Testimonies/comments.php?id=827310\" onmouseout=\"info_b2('notshow','');\" onmouseover=\"info_b2('show','See the &lt;b&gt;33 testimonies&lt;/b&gt; for this earthquake');\"><span class=\"\" style=\"vertical-align:middle;\">33</span></a></td><td class=\"tabev0\"></td><td class=\"tabev0\"><span class=\"intensity\" onclick=\"go_details(event,null,'https://www.emsc-csem.org/Earthquake/popup_intensmap.php?id=827310&amp;f=/FELTREPORTS/82/827310/IntensityMap.png');\" onmouseout=\"info_b2('notshow','');\" onmouseover=\"info_b2('show','See the &lt;b&gt; Intensity map&lt;/b&gt;');\" style=\"background-color:#00FFFF;\">IV</span></td><td class=\"tabev6\"><b><i style=\"display:none;\">earthquake</i><a href=\"/Earthquake/earthquake.php?id=827310\">2020-02-06   04:10:13.5</a></b><i class=\"ago\" id=\"ago45\">6hr 14min ago</i></td><td class=\"tabev1\">44.21 </td><td class=\"tabev2\">N  </td><td class=\"tabev1\">16.00 </td><td class=\"tabev2\">E  </td><td class=\"tabev3\">15</td><td class=\"tabev5\" id=\"magtyp45\">mb</td><td class=\"tabev2\">4.0</td><td class=\"tb_region\" id=\"reg45\"> CROATIA</td><td class=\"comment updatetimeno\" id=\"upd45\" style=\"text-align:right;\">2020-02-06 04:35</td></tr>\n",
       " <tr class=\"ligne1 normal\" id=\"827315\" onclick=\"go_details(event,827315);\"><td class=\"tabev0\"></td><td class=\"tabev0\"></td><td class=\"tabev0\"></td><td class=\"tabev6\"><b><i style=\"display:none;\">earthquake</i><a href=\"/Earthquake/earthquake.php?id=827315\">2020-02-06   04:08:49.7</a></b><i class=\"ago\" id=\"ago46\">6hr 15min ago</i></td><td class=\"tabev1\">17.95 </td><td class=\"tabev2\">N  </td><td class=\"tabev1\">66.82 </td><td class=\"tabev2\">W  </td><td class=\"tabev3\">20</td><td class=\"tabev5\" id=\"magtyp46\">ML</td><td class=\"tabev2\">2.1</td><td class=\"tb_region\" id=\"reg46\"> PUERTO RICO REGION</td><td class=\"comment updatetimeno\" id=\"upd46\" style=\"text-align:right;\">2020-02-06 04:50</td></tr>\n",
       " <tr class=\"ligne2 normal\" id=\"827312\" onclick=\"go_details(event,827312);\"><td class=\"tabev0\"></td><td class=\"tabev0\"></td><td class=\"tabev0\"></td><td class=\"tabev6\"><b><i style=\"display:none;\">earthquake</i><a href=\"/Earthquake/earthquake.php?id=827312\">2020-02-06   04:07:20.0</a></b><i class=\"ago\" id=\"ago47\">6hr 16min ago</i></td><td class=\"tabev1\">2.47 </td><td class=\"tabev2\">S  </td><td class=\"tabev1\">121.06 </td><td class=\"tabev2\">E  </td><td class=\"tabev3\">10</td><td class=\"tabev5\" id=\"magtyp47\"> M</td><td class=\"tabev2\">3.2</td><td class=\"tb_region\" id=\"reg47\"> SULAWESI, INDONESIA</td><td class=\"comment updatetimeno\" id=\"upd47\" style=\"text-align:right;\">2020-02-06 04:20</td></tr>\n",
       " <tr class=\"ligne1 normal\" id=\"827313\" onclick=\"go_details(event,827313);\"><td class=\"tabev0\"></td><td class=\"tabev0\"></td><td class=\"tabev0\"></td><td class=\"tabev6\"><b><i style=\"display:none;\">earthquake</i><a href=\"/Earthquake/earthquake.php?id=827313\">2020-02-06   03:59:15.0</a></b><i class=\"ago\" id=\"ago48\">6hr 24min ago</i></td><td class=\"tabev1\">16.02 </td><td class=\"tabev2\">N  </td><td class=\"tabev1\">98.43 </td><td class=\"tabev2\">W  </td><td class=\"tabev3\">15</td><td class=\"tabev5\" id=\"magtyp48\"> M</td><td class=\"tabev2\">4.1</td><td class=\"tb_region\" id=\"reg48\"> OFFSHORE OAXACA, MEXICO</td><td class=\"comment updatetimeno\" id=\"upd48\" style=\"text-align:right;\">2020-02-06 04:20</td></tr>\n",
       " <tr class=\"ligne2 normal\" id=\"827304\" onclick=\"go_details(event,827304);\"><td class=\"tabev0\"></td><td class=\"tabev0\"></td><td class=\"tabev0\"></td><td class=\"tabev6\"><b><i style=\"display:none;\">earthquake</i><a href=\"/Earthquake/earthquake.php?id=827304\">2020-02-06   03:53:08.3</a></b><i class=\"ago\" id=\"ago49\">6hr 31min ago</i></td><td class=\"tabev1\">39.37 </td><td class=\"tabev2\">N  </td><td class=\"tabev1\">17.15 </td><td class=\"tabev2\">E  </td><td class=\"tabev3\">20</td><td class=\"tabev5\" id=\"magtyp49\">ML</td><td class=\"tabev2\">2.0</td><td class=\"tb_region\" id=\"reg49\"> SOUTHERN ITALY</td><td class=\"comment updatetimeno\" id=\"upd49\" style=\"text-align:right;\">2020-02-06 04:02</td></tr>\n",
       " </tbody>]"
      ]
     },
     "execution_count": 109,
     "metadata": {},
     "output_type": "execute_result"
    }
   ],
   "source": [
    "#your code\n",
    "table_body = soup.find_all('tbody')\n",
    "table_body"
   ]
  },
  {
   "cell_type": "code",
   "execution_count": 147,
   "metadata": {},
   "outputs": [
    {
     "data": {
      "text/plain": [
       "['ISLAND OF HAWAII, HAWAII',\n",
       " 'OFFSHORE NORTHERN CALIFORNIA',\n",
       " 'CHIAPAS, MEXICO',\n",
       " 'ISLAND OF HAWAII, HAWAII',\n",
       " 'WESTERN TURKEY',\n",
       " 'PUERTO RICO REGION',\n",
       " 'GREECE',\n",
       " 'EASTERN TURKEY',\n",
       " 'PUERTO RICO REGION',\n",
       " 'ISLAND OF HAWAII, HAWAII',\n",
       " 'EASTERN TURKEY',\n",
       " 'ALASKA PENINSULA',\n",
       " 'OFFSHORE NORTHERN CALIFORNIA',\n",
       " 'CENTRAL CALIFORNIA',\n",
       " 'GULF OF CALIFORNIA',\n",
       " 'WESTERN TEXAS',\n",
       " 'PUERTO RICO REGION',\n",
       " 'WESTERN TURKEY',\n",
       " 'FLORES SEA',\n",
       " 'CROATIA',\n",
       " 'NEAR N COAST OF PAPUA, INDONESIA']"
      ]
     },
     "execution_count": 147,
     "metadata": {},
     "output_type": "execute_result"
    }
   ],
   "source": [
    "list_places= [i.text for i in soup.find_all(attrs={'class': 'tb_region'})]\n",
    "list_places_final=[re.sub('\\xa0', '', i) for i in list_places[:21]]\n",
    "list_places_final"
   ]
  },
  {
   "cell_type": "code",
   "execution_count": 130,
   "metadata": {},
   "outputs": [
    {
     "data": {
      "text/plain": [
       "[<a href=\"https://www.emsc-csem.org/Earthquake/info.php\">Earthquake information</a>,\n",
       " <a href=\"https://www.emsc-csem.org/Earthquake/\">List of latest earthquakes</a>,\n",
       " <a href=\"https://www.emsc-csem.org/Earthquake/significant_earthquakes.php\">Significant earthquakes</a>,\n",
       " <a href=\"https://www.emsc-csem.org/Earthquake/?filter=yes\">Search earthquakes</a>,\n",
       " <a href=\"https://www.emsc-csem.org/Earthquake/Map/gmap.php\">Earthquakes interactive map</a>,\n",
       " <a href=\"https://www.emsc-csem.org/Earthquake/near_you.php\">Earthquakes near you</a>,\n",
       " <a href=\"https://www.emsc-csem.org/Earthquake/felt.php\">Felt earthquakes</a>,\n",
       " <a href=\"https://www.emsc-csem.org/Earthquake/News/\">Special reports</a>,\n",
       " <a href=\"https://www.emsc-csem.org/Earthquake/seismicity/real_time.php\">How it works</a>,\n",
       " <a href=\"https://www.emsc-csem.org/Earthquake/Contribute/\" onmouseout=\"info_b('notshow','','');\" onmouseover=\"info_b('show','The flag is the visible language that seems to be the most appropriate to respond to our questionnaire.','Language');\"><img id=\"flag\" src=\"/Images/flag/flag_en.png\" style=\"vertical-align:bottom;height:12px;width:18px;margin-bottom:-2px;\"/>  Testimonies, photos</a>,\n",
       " <a href=\"https://www.emsc-csem.org/Earthquake/Gallery/\">Photos</a>,\n",
       " <a href=\"https://www.emsc-csem.org/Earthquake/Testimonies/\">Testimonies</a>,\n",
       " <a href=\"https://www.emsc-csem.org/service/\">Information services</a>,\n",
       " <a href=\"https://www.emsc-csem.org/service/real_time/\"><span class=\"spriteorig sp_phone\" style=\"vertical-align:middle;\"></span> For smartphones</a>,\n",
       " <a href=\"https://www.emsc-csem.org/service/application/\"><span class=\"spriteorig sp_phone\" style=\"vertical-align:middle;\"></span> Android &amp; iOS App</a>,\n",
       " <a href=\"https://www.emsc-csem.org/service/Browser-extension/\"><span style=\"display:inline-block;background:url(/Css/img/extension-icon.png) no-repeat;width:16px;height:16px;vertical-align:middle;\"></span> Browser extensions</a>,\n",
       " <a href=\"https://www.seismicportal.eu/webservices.html\"><span class=\"spriteorig sp_feed-icon14\" style=\"vertical-align:middle;\"></span> Webservices</a>,\n",
       " <a href=\"https://www.emsc-csem.org/service/rss/\"><span class=\"spriteorig sp_feed-icon14\" style=\"vertical-align:middle;\"></span> RSS feeds</a>,\n",
       " <a href=\"https://www.emsc-csem.org/Earthquake/Map/earth/\"><span class=\"spriteorig sp_ge2\" style=\"vertical-align:middle;\"></span> Seismicity on Google Earth</a>,\n",
       " <a href=\"https://www.emsc-csem.org/service/register.php\"><span class=\"spriteorig sp_alert1\" style=\"vertical-align:middle;\"></span> Email notification service</a>,\n",
       " <a href=\"https://www.emsc-csem.org/Earthquake/for_seismologist.php\">For seismologists</a>,\n",
       " <a href=\"https://www.emsc-csem.org/Earthquake/seismologist.php\">Latest data contributions</a>,\n",
       " <a href=\"https://www.emsc-csem.org/Earthquake/index_tensors.php\">Moment tensors</a>,\n",
       " <a href=\"https://www.emsc-csem.org/Bulletin/\">Euro-Med bulletin</a>,\n",
       " <a href=\"https://www.seismicportal.eu/\" target=\"_blank\">Seismic Portal</a>,\n",
       " <a href=\"https://www.emsc-csem.org/News/\">News</a>,\n",
       " <a href=\"https://www.emsc-csem.org/job/\">Jobs</a>,\n",
       " <a href=\"https://www.emsc-csem.org/Project/\">Projects</a>,\n",
       " <a href=\"https://www.emsc-csem.org/Project/#aristotle\">ARISTOTLE</a>,\n",
       " <a href=\"https://www.emsc-csem.org/Project/#carismand\">CARISMAND</a>,\n",
       " <a href=\"https://www.emsc-csem.org/Project/#improver\">IMPROVER</a>,\n",
       " <a href=\"https://www.emsc-csem.org/Project/#seismic\">Seismic portal</a>,\n",
       " <a href=\"https://www.emsc-csem.org/Project/#citizen\">Citizen seismology</a>,\n",
       " <a href=\"https://www.emsc-csem.org/Project/#qcn\">Quake Catcher Network</a>,\n",
       " <a href=\"https://www.emsc-csem.org/Project/#sigma\">Sigma</a>,\n",
       " <a href=\"https://www.emsc-csem.org/Project/#verce\">Verce</a>,\n",
       " <a href=\"https://www.emsc-csem.org/Project/#marsite\">MARsite</a>,\n",
       " <a href=\"https://www.emsc-csem.org/Project/#nera\">NERA</a>,\n",
       " <a href=\"https://www.emsc-csem.org/Project/#EPOS\">EPOS</a>,\n",
       " <a href=\"https://www.emsc-csem.org/Project/#REAKT\">REAKT</a>,\n",
       " <a href=\"https://www.emsc-csem.org/Documents/\">Publications &amp; docs</a>,\n",
       " <a href=\"https://www.emsc-csem.org\">EMSC</a>,\n",
       " <a href=\"http://www.digitalelement.com/\" target=\"_blank\">digitalelement<div id=\"sponimg\"><img src=\"https://static3.emsc.eu/Images/sites/p_netacuity_01.gif\"/></div></a>,\n",
       " <a href=\"/Donate/\"><span class=\"spriteorig sp_btn_donate_SM\" style=\"vertical-align:middle;margin-top:-2px;\"></span></a>,\n",
       " <a href=\"/about/\">About EMSC</a>,\n",
       " <a href=\"/disclaimer.php\">Disclaimer</a>,\n",
       " <a href=\"/Earthquake/?filter=yes\"><span class=\"spriteorig sp_Icon_tools_th\" style=\"margin-right:3px;\"></span>Define your criteria</a>,\n",
       " <a href=\"/Earthquake/world/M3/\"> mag≥3 </a>,\n",
       " <a href=\"/Earthquake/world/M4/\"> mag≥4 </a>,\n",
       " <a href=\"/Earthquake/world/M5/\"> mag≥5 </a>,\n",
       " <a href=\"/glossary.php\">Glossary</a>,\n",
       " <a href=\"javascript:hide_magni();\" id=\"magplus\" style=\"color:white;\">[+]</a>,\n",
       " <a href=\"javascript:hide_upd();\" style=\"color:white;\">[+]</a>,\n",
       " <a href=\"javascript:hide_upd();\" style=\"color:white;\">[-]</a>,\n",
       " <a class=\"sublink sublinka\" href=\"javascript:void()\" rel=\"nofollow\">1</a>,\n",
       " <a class=\"sublink\" href=\"/Earthquake/?view=2\">2</a>,\n",
       " <a class=\"sublink\" href=\"/Earthquake/?view=3\">3</a>,\n",
       " <a class=\"sublink\" href=\"/Earthquake/?view=4\">4</a>,\n",
       " <a class=\"sublink\" href=\"/Earthquake/?view=5\">5</a>,\n",
       " <a class=\"sublink\" href=\"/Earthquake/?view=6\">6</a>,\n",
       " <a class=\"sublink\" href=\"/Earthquake/?view=7\">7</a>,\n",
       " <a class=\"sublink\" href=\"/Earthquake/?view=8\">8</a>,\n",
       " <a class=\"sublink\" href=\"/Earthquake/?view=9\">9</a>,\n",
       " <a class=\"sublink\" href=\"/Earthquake/?view=10\">10</a>,\n",
       " <a alt=\"Next page\" class=\"sublink\" href=\"/Earthquake/?view=2\"></a>,\n",
       " <a alt=\"Next 10 pages\" class=\"sublink\" href=\"/Earthquake/?view=11\">»</a>,\n",
       " <a href=\"/Earthquake/earthquake.php?id=827372\">2020-02-06   10:17:09.3</a>,\n",
       " <a href=\"/Earthquake/earthquake.php?id=827370\">2020-02-06   10:00:08.3</a>,\n",
       " <a href=\"/Earthquake/earthquake.php?id=827369\">2020-02-06   09:38:24.0</a>,\n",
       " <a href=\"/Earthquake/earthquake.php?id=827365\">2020-02-06   09:38:16.1</a>,\n",
       " <a href=\"/Earthquake/earthquake.php?id=827367\">2020-02-06   09:33:52.8</a>,\n",
       " <a href=\"/Earthquake/earthquake.php?id=827368\">2020-02-06   09:25:59.3</a>,\n",
       " <a href=\"https://www.emsc-csem.org/Earthquake/Testimonies/comments.php?id=827364\" onmouseout=\"info_b2('notshow','');\" onmouseover=\"info_b2('show','See the &lt;b&gt;70 testimonies&lt;/b&gt; for this earthquake');\"><span class=\"\" style=\"vertical-align:middle;\">70</span></a>,\n",
       " <a href=\"/Earthquake/earthquake.php?id=827364\">2020-02-06   09:24:14.8</a>,\n",
       " <a href=\"/Earthquake/earthquake.php?id=827361\">2020-02-06   09:06:05.1</a>,\n",
       " <a href=\"/Earthquake/earthquake.php?id=827362\">2020-02-06   08:58:03.6</a>,\n",
       " <a href=\"/Earthquake/earthquake.php?id=827360\">2020-02-06   08:55:06.1</a>,\n",
       " <a href=\"/Earthquake/earthquake.php?id=827359\">2020-02-06   08:40:34.9</a>,\n",
       " <a href=\"/Earthquake/earthquake.php?id=827357\">2020-02-06   08:24:28.9</a>,\n",
       " <a href=\"/Earthquake/earthquake.php?id=827356\">2020-02-06   08:20:19.6</a>,\n",
       " <a href=\"/Earthquake/earthquake.php?id=827347\">2020-02-06   07:56:16.8</a>,\n",
       " <a href=\"/Earthquake/earthquake.php?id=827349\">2020-02-06   07:51:34.0</a>,\n",
       " <a href=\"/Earthquake/earthquake.php?id=827345\">2020-02-06   07:32:07.7</a>,\n",
       " <a href=\"/Earthquake/earthquake.php?id=827366\">2020-02-06   07:27:14.1</a>,\n",
       " <a href=\"/Earthquake/earthquake.php?id=827348\">2020-02-06   07:25:31.2</a>,\n",
       " <a href=\"/Earthquake/earthquake.php?id=827343\">2020-02-06   07:22:26.0</a>,\n",
       " <a href=\"/Earthquake/earthquake.php?id=827353\">2020-02-06   07:16:02.2</a>,\n",
       " <a href=\"/Earthquake/earthquake.php?id=827340\">2020-02-06   07:10:53.7</a>,\n",
       " <a href=\"/Earthquake/earthquake.php?id=827355\">2020-02-06   07:06:41.2</a>,\n",
       " <a href=\"/Earthquake/earthquake.php?id=827346\">2020-02-06   07:06:27.2</a>,\n",
       " <a href=\"/Earthquake/earthquake.php?id=827339\">2020-02-06   07:03:03.2</a>,\n",
       " <a href=\"/Earthquake/earthquake.php?id=827338\">2020-02-06   06:51:16.0</a>,\n",
       " <a href=\"/Earthquake/earthquake.php?id=827352\">2020-02-06   06:48:44.9</a>,\n",
       " <a href=\"/Earthquake/earthquake.php?id=827337\">2020-02-06   06:43:29.0</a>,\n",
       " <a href=\"https://www.emsc-csem.org/Earthquake/Testimonies/comments.php?id=827334\" onmouseout=\"info_b2('notshow','');\" onmouseover=\"info_b2('show','See the &lt;b&gt;testimony&lt;/b&gt; for this earthquake');\"><span class=\"\" style=\"vertical-align:middle;\">1</span></a>,\n",
       " <a href=\"/Earthquake/earthquake.php?id=827334\">2020-02-06   06:32:03.0</a>,\n",
       " <a href=\"/Earthquake/earthquake.php?id=827363\">2020-02-06   06:31:53.9</a>,\n",
       " <a href=\"/Earthquake/earthquake.php?id=827351\">2020-02-06   06:26:05.1</a>,\n",
       " <a href=\"/Earthquake/earthquake.php?id=827350\">2020-02-06   06:16:38.3</a>,\n",
       " <a href=\"/Earthquake/earthquake.php?id=827333\">2020-02-06   06:11:06.6</a>,\n",
       " <a href=\"/Earthquake/earthquake.php?id=827331\">2020-02-06   05:48:11.0</a>,\n",
       " <a href=\"https://www.emsc-csem.org/Earthquake/Testimonies/comments.php?id=827329\" onmouseout=\"info_b2('notshow','');\" onmouseover=\"info_b2('show','See the &lt;b&gt;testimony&lt;/b&gt; for this earthquake');\"><span class=\"\" style=\"vertical-align:middle;\">1</span></a>,\n",
       " <a href=\"/Earthquake/earthquake.php?id=827329\">2020-02-06   05:43:24.1</a>,\n",
       " <a href=\"/Earthquake/earthquake.php?id=827330\">2020-02-06   05:33:09.8</a>,\n",
       " <a href=\"/Earthquake/earthquake.php?id=827328\">2020-02-06   05:30:30.0</a>,\n",
       " <a href=\"/Earthquake/earthquake.php?id=827326\">2020-02-06   05:12:35.0</a>,\n",
       " <a href=\"/Earthquake/earthquake.php?id=827324\">2020-02-06   05:10:13.0</a>,\n",
       " <a href=\"/Earthquake/earthquake.php?id=827332\">2020-02-06   05:08:02.5</a>,\n",
       " <a href=\"/Earthquake/earthquake.php?id=827319\">2020-02-06   05:06:22.5</a>,\n",
       " <a href=\"/Earthquake/earthquake.php?id=827327\">2020-02-06   05:05:53.7</a>,\n",
       " <a href=\"/Earthquake/earthquake.php?id=827321\">2020-02-06   04:57:36.7</a>,\n",
       " <a href=\"/Earthquake/earthquake.php?id=827318\">2020-02-06   04:55:01.0</a>,\n",
       " <a href=\"https://www.emsc-csem.org/Earthquake/Testimonies/comments.php?id=827323\" onmouseout=\"info_b2('notshow','');\" onmouseover=\"info_b2('show','See the &lt;b&gt;25 testimonies&lt;/b&gt; for this earthquake');\"><span class=\"\" style=\"vertical-align:middle;\">25</span></a>,\n",
       " <a href=\"/Earthquake/earthquake.php?id=827323\">2020-02-06   04:53:48.2</a>,\n",
       " <a href=\"/Earthquake/earthquake.php?id=827314\">2020-02-06   04:41:13.4</a>,\n",
       " <a href=\"https://www.emsc-csem.org/Earthquake/Testimonies/comments.php?id=827310\" onmouseout=\"info_b2('notshow','');\" onmouseover=\"info_b2('show','See the &lt;b&gt;33 testimonies&lt;/b&gt; for this earthquake');\"><span class=\"\" style=\"vertical-align:middle;\">33</span></a>,\n",
       " <a href=\"/Earthquake/earthquake.php?id=827310\">2020-02-06   04:10:13.5</a>,\n",
       " <a href=\"/Earthquake/earthquake.php?id=827315\">2020-02-06   04:08:49.7</a>,\n",
       " <a href=\"/Earthquake/earthquake.php?id=827312\">2020-02-06   04:07:20.0</a>,\n",
       " <a href=\"/Earthquake/earthquake.php?id=827313\">2020-02-06   03:59:15.0</a>,\n",
       " <a href=\"/Earthquake/earthquake.php?id=827304\">2020-02-06   03:53:08.3</a>,\n",
       " <a class=\"sublink sublinka\" href=\"javascript:void()\" rel=\"nofollow\">1</a>,\n",
       " <a class=\"sublink\" href=\"/Earthquake/?view=2\">2</a>,\n",
       " <a class=\"sublink\" href=\"/Earthquake/?view=3\">3</a>,\n",
       " <a class=\"sublink\" href=\"/Earthquake/?view=4\">4</a>,\n",
       " <a class=\"sublink\" href=\"/Earthquake/?view=5\">5</a>,\n",
       " <a class=\"sublink\" href=\"/Earthquake/?view=6\">6</a>,\n",
       " <a class=\"sublink\" href=\"/Earthquake/?view=7\">7</a>,\n",
       " <a class=\"sublink\" href=\"/Earthquake/?view=8\">8</a>,\n",
       " <a class=\"sublink\" href=\"/Earthquake/?view=9\">9</a>,\n",
       " <a class=\"sublink\" href=\"/Earthquake/?view=10\">10</a>,\n",
       " <a alt=\"Next page\" class=\"sublink\" href=\"/Earthquake/?view=2\"></a>,\n",
       " <a alt=\"Next 10 pages\" class=\"sublink\" href=\"/Earthquake/?view=11\">»</a>,\n",
       " <a href=\"/Earthquake/?disclam=yes\">Disclaimer</a>,\n",
       " <a href=\"https://www.emsc-csem.org/faq.php\"><b>FAQ</b></a>,\n",
       " <a href=\"https://www.emsc-csem.org/about/\"><b>About EMSC</b></a>,\n",
       " <a href=\"https://www.emsc-csem.org/sitemap.php\"><b>Site Map</b></a>,\n",
       " <a href=\"https://www.emsc-csem.org/Search/\"><b>Search</b></a>,\n",
       " <a href=\"http://twitter.com/lastquake\" target=\"_blank\"><span class=\"spriteorig sp_twitter\" title=\"twitter: @lastquake\"></span></a>,\n",
       " <a href=\"http://twitter.com/EMSC\" target=\"_blank\"><span class=\"spriteorig sp_twitter\" title=\"twitter: @EMSC\"></span></a>,\n",
       " <a href=\"http://www.facebook.com/pages/EMSC-CSEM/207151812690551?sk=wall\" target=\"_blank\"><span class=\"spriteorig sp_facebook\" title=\"facebook: EMSC-CSEM\"></span></a>,\n",
       " <a href=\"https://t.me/LastQuake2\" target=\"_blank\"><span style=\"display:inline-block;background:url(/Css/img/telegram-24.png) no-repeat;width:24px;height:24px;\" title=\"Telegram: LastQuake2\"></span></a>,\n",
       " <a href=\"https://t.me/AllQuakes2\" target=\"_blank\"><span style=\"display:inline-block;background:url(/Css/img/telegram-24.png) no-repeat;width:24px;height:24px;\" title=\"Telegram: AllQuakes2\"></span></a>,\n",
       " <a href=\"https://plus.google.com/110355370165808827925/posts\" target=\"_blank\"><span class=\"spriteorig sp_googleplus\" title=\"google: emsc csem\"></span></a>,\n",
       " <a href=\"http://www.pinterest.com/EMSCCSEM/\" target=\"_blank\"><span class=\"spriteorig sp_pinterest\" title=\"pinterest: EMSCCSEM\"></span></a>,\n",
       " <a href=\"http://www.youtube.com/user/EuroMSC\" target=\"_blank\"><span class=\"spriteorig sp_youtube\" title=\"youtube: EuroMSC\"></span></a>,\n",
       " <a href=\"/policy.php\">Privacy</a>,\n",
       " <a href=\"http://www.statcounter.com/\" target=\"_blank\" title=\"hit counter\"><img alt=\"hit counter\" class=\"statcounter\" src=\"https://c.statcounter.com/217829/0//1/\" style=\"width:1px;height:1px;\"/></a>]"
      ]
     },
     "execution_count": 130,
     "metadata": {},
     "output_type": "execute_result"
    }
   ],
   "source": [
    "list_date = [i for i in soup.find_all('a', href=True)]\n",
    "list_date"
   ]
  },
  {
   "cell_type": "code",
   "execution_count": 161,
   "metadata": {},
   "outputs": [],
   "source": [
    "latitude_longitude = [i.text for i in soup.find_all(attrs={'class': 'tabev1'})]\n",
    "\n",
    "latitude_longitude_final=[re.sub('\\xa0', '', i) for i in latitude_longitude[:40]]\n",
    "latitude = []\n",
    "longitude = []\n",
    "for i in range(0, len(latitude_longitude_final)):\n",
    "    if i%2==0:\n",
    "        latitude.append(latitude_longitude_final[i])\n",
    "    else:\n",
    "        longitude.append(latitude_longitude_final[i])"
   ]
  },
  {
   "cell_type": "code",
   "execution_count": 164,
   "metadata": {},
   "outputs": [
    {
     "data": {
      "text/plain": [
       "['19.21',\n",
       " '40.30',\n",
       " '16.54',\n",
       " '19.22',\n",
       " '38.93',\n",
       " '17.88',\n",
       " '39.18',\n",
       " '38.33',\n",
       " '17.82',\n",
       " '19.51',\n",
       " '38.29',\n",
       " '54.47',\n",
       " '40.24',\n",
       " '36.03',\n",
       " '27.23',\n",
       " '31.67',\n",
       " '17.84',\n",
       " '39.08',\n",
       " '7.34',\n",
       " '44.21']"
      ]
     },
     "execution_count": 164,
     "metadata": {},
     "output_type": "execute_result"
    }
   ],
   "source": [
    "latitude"
   ]
  },
  {
   "cell_type": "code",
   "execution_count": 173,
   "metadata": {},
   "outputs": [
    {
     "data": {
      "text/plain": [
       "['N',\n",
       " 'W',\n",
       " '2.1',\n",
       " 'N',\n",
       " 'W',\n",
       " '2.5',\n",
       " 'N',\n",
       " 'W',\n",
       " '4.2',\n",
       " 'N',\n",
       " 'W',\n",
       " '2.1',\n",
       " 'N',\n",
       " 'E',\n",
       " '2.0',\n",
       " 'N',\n",
       " 'W',\n",
       " '2.4',\n",
       " 'N',\n",
       " 'E',\n",
       " '5.1',\n",
       " 'N',\n",
       " 'E',\n",
       " '2.7',\n",
       " 'N',\n",
       " 'W',\n",
       " '3.2',\n",
       " 'N',\n",
       " 'W',\n",
       " '2.3',\n",
       " 'N',\n",
       " 'E',\n",
       " '2.6',\n",
       " 'N',\n",
       " 'W',\n",
       " '4.8',\n",
       " 'N',\n",
       " 'W',\n",
       " '3.4',\n",
       " 'N',\n",
       " 'W',\n",
       " '2.4',\n",
       " 'N',\n",
       " 'W',\n",
       " '4.2',\n",
       " 'N',\n",
       " 'W',\n",
       " '2.7',\n",
       " 'N',\n",
       " 'W',\n",
       " '2.2',\n",
       " 'N',\n",
       " 'E',\n",
       " '2.2',\n",
       " 'S',\n",
       " 'E',\n",
       " '4.4',\n",
       " 'N',\n",
       " 'E',\n",
       " '2.9',\n",
       " 'S',\n",
       " 'E',\n",
       " '4.9',\n",
       " 'N',\n",
       " 'W',\n",
       " '2.9',\n",
       " 'N',\n",
       " 'E',\n",
       " '2.2',\n",
       " 'N',\n",
       " 'W',\n",
       " '2.3',\n",
       " 'S',\n",
       " 'W',\n",
       " '4.0',\n",
       " 'N',\n",
       " 'E',\n",
       " '2.9',\n",
       " 'S',\n",
       " 'E',\n",
       " '3.7',\n",
       " 'N',\n",
       " 'W',\n",
       " '3.3',\n",
       " 'N',\n",
       " 'W',\n",
       " '2.9',\n",
       " 'N',\n",
       " 'E',\n",
       " '2.8',\n",
       " 'N',\n",
       " 'E',\n",
       " '2.8',\n",
       " 'N',\n",
       " 'W',\n",
       " '2.5',\n",
       " 'N',\n",
       " 'E',\n",
       " '4.3',\n",
       " 'N',\n",
       " 'E',\n",
       " '2.5',\n",
       " 'N',\n",
       " 'W',\n",
       " '2.7',\n",
       " 'N',\n",
       " 'E',\n",
       " '3.6',\n",
       " 'N',\n",
       " 'W',\n",
       " '2.5',\n",
       " 'S',\n",
       " 'E',\n",
       " '2.6',\n",
       " 'N',\n",
       " 'W',\n",
       " '2.8',\n",
       " 'N',\n",
       " 'E',\n",
       " '3.2',\n",
       " 'N',\n",
       " 'E',\n",
       " '2.2',\n",
       " 'N',\n",
       " 'E',\n",
       " '2.1',\n",
       " 'S',\n",
       " 'W',\n",
       " '3.4',\n",
       " 'N',\n",
       " 'E',\n",
       " '4.0',\n",
       " 'N',\n",
       " 'E',\n",
       " '2.7',\n",
       " 'N',\n",
       " 'E',\n",
       " '4.0',\n",
       " 'N',\n",
       " 'W',\n",
       " '2.1',\n",
       " 'S',\n",
       " 'E',\n",
       " '3.2',\n",
       " 'N',\n",
       " 'W',\n",
       " '4.1',\n",
       " 'N',\n",
       " 'E',\n",
       " '2.0']"
      ]
     },
     "execution_count": 173,
     "metadata": {},
     "output_type": "execute_result"
    }
   ],
   "source": [
    "latitude_longitude_type_coordenate = [re.sub('\\xa0', '', i.text) for i in soup.find_all(attrs={'class': 'tabev2'})]\n",
    "latitude_longitude_type_coordenate"
   ]
  },
  {
   "cell_type": "code",
   "execution_count": null,
   "metadata": {},
   "outputs": [],
   "source": [
    "for i in latitude_longitude_type_coordenate:\n",
    "    "
   ]
  },
  {
   "cell_type": "code",
   "execution_count": 176,
   "metadata": {},
   "outputs": [
    {
     "data": {
      "text/plain": [
       "['32',\n",
       " '8',\n",
       " '15',\n",
       " '32',\n",
       " '7',\n",
       " '4',\n",
       " '9',\n",
       " '1',\n",
       " '8',\n",
       " '1',\n",
       " '2',\n",
       " '35',\n",
       " '10',\n",
       " '7',\n",
       " '11',\n",
       " '5',\n",
       " '11',\n",
       " '7',\n",
       " '520',\n",
       " '10']"
      ]
     },
     "execution_count": 176,
     "metadata": {},
     "output_type": "execute_result"
    }
   ],
   "source": [
    "depth = [i.text for i in soup.find_all(attrs={'class': 'tabev3'})][:20]\n",
    "depth"
   ]
  },
  {
   "cell_type": "markdown",
   "metadata": {},
   "source": [
    "#### Display the date, days, title, city, country of next 25 hackathon events as a Pandas dataframe table"
   ]
  },
  {
   "cell_type": "code",
   "execution_count": null,
   "metadata": {},
   "outputs": [],
   "source": [
    "# This is the url you will scrape in this exercise\n",
    "url ='https://hackevents.co/hackathons'\n",
    "html = requests.get(url).content\n",
    "soup = BeautifulSoup(html, 'lxml')"
   ]
  },
  {
   "cell_type": "code",
   "execution_count": null,
   "metadata": {},
   "outputs": [],
   "source": [
    "#your code"
   ]
  },
  {
   "cell_type": "markdown",
   "metadata": {},
   "source": [
    "#### Count number of tweets by a given Twitter account."
   ]
  },
  {
   "cell_type": "markdown",
   "metadata": {},
   "source": [
    "You will need to include a ***try/except block*** for account names not found. \n",
    "<br>***Hint:*** the program should count the number of tweets for any provided account"
   ]
  },
  {
   "cell_type": "code",
   "execution_count": null,
   "metadata": {},
   "outputs": [],
   "source": [
    "# This is the url you will scrape in this exercise \n",
    "# You will need to add the account credentials to this url\n",
    "url = 'https://twitter.com/'\n",
    "html = requests.get(url).content\n",
    "soup = BeautifulSoup(html, 'lxml')"
   ]
  },
  {
   "cell_type": "code",
   "execution_count": null,
   "metadata": {},
   "outputs": [],
   "source": [
    "#your code"
   ]
  },
  {
   "cell_type": "markdown",
   "metadata": {},
   "source": [
    "#### Number of followers of a given twitter account"
   ]
  },
  {
   "cell_type": "markdown",
   "metadata": {},
   "source": [
    "You will need to include a ***try/except block*** in case account/s name not found. \n",
    "<br>***Hint:*** the program should count the followers for any provided account"
   ]
  },
  {
   "cell_type": "code",
   "execution_count": null,
   "metadata": {},
   "outputs": [],
   "source": [
    "# This is the url you will scrape in this exercise \n",
    "# You will need to add the account credentials to this url\n",
    "url = 'https://twitter.com/'"
   ]
  },
  {
   "cell_type": "code",
   "execution_count": null,
   "metadata": {},
   "outputs": [],
   "source": [
    "#your code"
   ]
  },
  {
   "cell_type": "markdown",
   "metadata": {},
   "source": [
    "#### List all language names and number of related articles in the order they appear in wikipedia.org"
   ]
  },
  {
   "cell_type": "code",
   "execution_count": 177,
   "metadata": {},
   "outputs": [],
   "source": [
    "# This is the url you will scrape in this exercise\n",
    "url = 'https://www.wikipedia.org/'\n",
    "html = requests.get(url).content\n",
    "soup = BeautifulSoup(html, 'lxml')"
   ]
  },
  {
   "cell_type": "code",
   "execution_count": 191,
   "metadata": {},
   "outputs": [
    {
     "data": {
      "text/plain": [
       "[<a class=\"link-box\" data-slogan=\"The Free Encyclopedia\" href=\"//en.wikipedia.org/\" id=\"js-link-box-en\" title=\"English — Wikipedia — The Free Encyclopedia\">\n",
       " <strong>English</strong>\n",
       " <small><bdi dir=\"ltr\">5 994 000+</bdi> <span>articles</span></small>\n",
       " </a>,\n",
       " <a class=\"link-box\" data-slogan=\"フリー百科事典\" href=\"//ja.wikipedia.org/\" id=\"js-link-box-ja\" title=\"Nihongo — ウィキペディア — フリー百科事典\">\n",
       " <strong>日本語</strong>\n",
       " <small><bdi dir=\"ltr\">1 185 000+</bdi> <span>記事</span></small>\n",
       " </a>,\n",
       " <a class=\"link-box\" data-slogan=\"Die freie Enzyklopädie\" href=\"//de.wikipedia.org/\" id=\"js-link-box-de\" title=\"Deutsch — Wikipedia — Die freie Enzyklopädie\">\n",
       " <strong>Deutsch</strong>\n",
       " <small><bdi dir=\"ltr\">2 385 000+</bdi> <span>Artikel</span></small>\n",
       " </a>,\n",
       " <a class=\"link-box\" data-slogan=\"La enciclopedia libre\" href=\"//es.wikipedia.org/\" id=\"js-link-box-es\" title=\"Español — Wikipedia — La enciclopedia libre\">\n",
       " <strong>Español</strong>\n",
       " <small><bdi dir=\"ltr\">1 571 000+</bdi> <span>artículos</span></small>\n",
       " </a>,\n",
       " <a class=\"link-box\" data-slogan=\"Свободная энциклопедия\" href=\"//ru.wikipedia.org/\" id=\"js-link-box-ru\" title=\"Russkiy — Википедия — Свободная энциклопедия\">\n",
       " <strong>Русский</strong>\n",
       " <small><bdi dir=\"ltr\">1 590 000+</bdi> <span>статей</span></small>\n",
       " </a>,\n",
       " <a class=\"link-box\" data-slogan=\"L’encyclopédie libre\" href=\"//fr.wikipedia.org/\" id=\"js-link-box-fr\" title=\"Français — Wikipédia — L’encyclopédie libre\">\n",
       " <strong>Français</strong>\n",
       " <small><bdi dir=\"ltr\">2 171 000+</bdi> <span>articles</span></small>\n",
       " </a>,\n",
       " <a class=\"link-box\" data-slogan=\"L'enciclopedia libera\" href=\"//it.wikipedia.org/\" id=\"js-link-box-it\" title=\"Italiano — Wikipedia — L'enciclopedia libera\">\n",
       " <strong>Italiano</strong>\n",
       " <small><bdi dir=\"ltr\">1 576 000+</bdi> <span>voci</span></small>\n",
       " </a>,\n",
       " <a class=\"link-box\" data-converttitle-hans=\"Zhōngwén — 维基百科 — 自由的百科全书\" data-slogan=\"自由的百科全書\" href=\"//zh.wikipedia.org/\" id=\"js-link-box-zh\" title=\"Zhōngwén — 維基百科 — 自由的百科全書\">\n",
       " <strong>中文</strong>\n",
       " <small><bdi dir=\"ltr\">1 090 000+</bdi> <span data-convert-hans=\"条目\" id=\"zh_art\">條目</span></small>\n",
       " </a>,\n",
       " <a class=\"link-box\" data-slogan=\"A enciclopédia livre\" href=\"//pt.wikipedia.org/\" id=\"js-link-box-pt\" title=\"Português — Wikipédia — A enciclopédia livre\">\n",
       " <strong>Português</strong>\n",
       " <small><bdi dir=\"ltr\">1 018 000+</bdi> <span>artigos</span></small>\n",
       " </a>,\n",
       " <a class=\"link-box\" data-slogan=\"Wolna encyklopedia\" href=\"//pl.wikipedia.org/\" id=\"js-link-box-pl\" title=\"Polski — Wikipedia — Wolna encyklopedia\">\n",
       " <strong>Polski</strong>\n",
       " <small><bdi dir=\"ltr\">1 379 000+</bdi> <span>haseł</span></small>\n",
       " </a>,\n",
       " <a href=\"//ar.wikipedia.org/\" lang=\"ar\" title=\"Al-ʿArabīyah\"><bdi dir=\"rtl\">العربية</bdi></a>,\n",
       " <a href=\"//de.wikipedia.org/\" lang=\"de\">Deutsch</a>,\n",
       " <a href=\"//en.wikipedia.org/\" lang=\"en\" title=\"English\">English</a>,\n",
       " <a href=\"//es.wikipedia.org/\" lang=\"es\">Español</a>,\n",
       " <a href=\"//fr.wikipedia.org/\" lang=\"fr\">Français</a>,\n",
       " <a href=\"//it.wikipedia.org/\" lang=\"it\">Italiano</a>,\n",
       " <a href=\"//nl.wikipedia.org/\" lang=\"nl\">Nederlands</a>,\n",
       " <a href=\"//ja.wikipedia.org/\" lang=\"ja\" title=\"Nihongo\">日本語</a>,\n",
       " <a href=\"//pl.wikipedia.org/\" lang=\"pl\">Polski</a>,\n",
       " <a href=\"//pt.wikipedia.org/\" lang=\"pt\">Português</a>,\n",
       " <a href=\"//ru.wikipedia.org/\" lang=\"ru\" title=\"Russkiy\">Русский</a>,\n",
       " <a href=\"//ceb.wikipedia.org/\" lang=\"ceb\">Sinugboanong Binisaya</a>,\n",
       " <a href=\"//sv.wikipedia.org/\" lang=\"sv\">Svenska</a>,\n",
       " <a href=\"//vi.wikipedia.org/\" lang=\"vi\">Tiếng Việt</a>,\n",
       " <a href=\"//war.wikipedia.org/\" lang=\"war\">Winaray</a>,\n",
       " <a href=\"//zh.wikipedia.org/\" lang=\"zh\" title=\"Zhōngwén\">中文</a>,\n",
       " <a href=\"//az.wikipedia.org/\" lang=\"az\">Azərbaycanca</a>,\n",
       " <a href=\"//bg.wikipedia.org/\" lang=\"bg\" title=\"Bǎlgarski\">Български</a>,\n",
       " <a href=\"//zh-min-nan.wikipedia.org/\" lang=\"nan\">Bân-lâm-gú / Hō-ló-oē</a>,\n",
       " <a href=\"//be.wikipedia.org/\" lang=\"be\" title=\"Belaruskaya (Akademichnaya)\">Беларуская (Акадэмічная)</a>,\n",
       " <a href=\"//ca.wikipedia.org/\" lang=\"ca\">Català</a>,\n",
       " <a href=\"//cs.wikipedia.org/\" lang=\"cs\" title=\"čeština\">Čeština</a>,\n",
       " <a href=\"//da.wikipedia.org/\" lang=\"da\">Dansk</a>,\n",
       " <a href=\"//et.wikipedia.org/\" lang=\"et\">Eesti</a>,\n",
       " <a href=\"//el.wikipedia.org/\" lang=\"el\" title=\"Ellīniká\">Ελληνικά</a>,\n",
       " <a href=\"//eo.wikipedia.org/\" lang=\"eo\">Esperanto</a>,\n",
       " <a href=\"//eu.wikipedia.org/\" lang=\"eu\">Euskara</a>,\n",
       " <a href=\"//fa.wikipedia.org/\" lang=\"fa\" title=\"Fārsi\"><bdi dir=\"rtl\">فارسی</bdi></a>,\n",
       " <a href=\"//gl.wikipedia.org/\" lang=\"gl\">Galego</a>,\n",
       " <a href=\"//hy.wikipedia.org/\" lang=\"hy\" title=\"Hayeren\">Հայերեն</a>,\n",
       " <a href=\"//hi.wikipedia.org/\" lang=\"hi\" title=\"Hindī\">हिन्दी</a>,\n",
       " <a href=\"//hr.wikipedia.org/\" lang=\"hr\">Hrvatski</a>,\n",
       " <a href=\"//id.wikipedia.org/\" lang=\"id\">Bahasa Indonesia</a>,\n",
       " <a href=\"//he.wikipedia.org/\" lang=\"he\" title=\"ʿIvrit\"><bdi dir=\"rtl\">עברית</bdi></a>,\n",
       " <a href=\"//ka.wikipedia.org/\" lang=\"ka\" title=\"Kartuli\">ქართული</a>,\n",
       " <a href=\"//la.wikipedia.org/\" lang=\"la\">Latina</a>,\n",
       " <a href=\"//lt.wikipedia.org/\" lang=\"lt\">Lietuvių</a>,\n",
       " <a href=\"//hu.wikipedia.org/\" lang=\"hu\">Magyar</a>,\n",
       " <a href=\"//mk.wikipedia.org/\" lang=\"mk\" title=\"Makedonski\">Македонски</a>,\n",
       " <a href=\"//ms.wikipedia.org/\" lang=\"ms\">Bahasa Melayu</a>,\n",
       " <a href=\"//min.wikipedia.org/\" lang=\"min\">Bahaso Minangkabau</a>,\n",
       " <a href=\"//no.wikipedia.org/\" lang=\"nb\">bokmål</a>,\n",
       " <a href=\"//nn.wikipedia.org/\" lang=\"nn\">nynorsk</a>,\n",
       " <a href=\"//ce.wikipedia.org/\" lang=\"ce\" title=\"Noxçiyn\">Нохчийн</a>,\n",
       " <a href=\"//uz.wikipedia.org/\" lang=\"uz\">Oʻzbekcha / Ўзбекча</a>,\n",
       " <a href=\"//kk.wikipedia.org/\" lang=\"kk\"><span lang=\"kk-Cyrl\">Қазақша</span> / <span lang=\"kk-Latn\">Qazaqşa</span> / <bdi dir=\"rtl\" lang=\"kk-Arab\">قازاقشا</bdi></a>,\n",
       " <a href=\"//ro.wikipedia.org/\" lang=\"ro\">Română</a>,\n",
       " <a href=\"//cy.wikipedia.org/\" lang=\"cy\" title=\"Saesneg\">Cymraeg</a>,\n",
       " <a href=\"//simple.wikipedia.org/\" lang=\"en\">Simple English</a>,\n",
       " <a href=\"//sk.wikipedia.org/\" lang=\"sk\">Slovenčina</a>,\n",
       " <a href=\"//sl.wikipedia.org/\" lang=\"sl\">Slovenščina</a>,\n",
       " <a href=\"//sr.wikipedia.org/\" lang=\"sr\">Српски / Srpski</a>,\n",
       " <a href=\"//sh.wikipedia.org/\" lang=\"sh\">Srpskohrvatski / Српскохрватски</a>,\n",
       " <a href=\"//fi.wikipedia.org/\" lang=\"fi\" title=\"suomi\">Suomi</a>,\n",
       " <a href=\"//ta.wikipedia.org/\" lang=\"ta\" title=\"Tamiḻ\">தமிழ்</a>,\n",
       " <a href=\"//th.wikipedia.org/\" lang=\"th\" title=\"Phasa Thai\">ภาษาไทย</a>,\n",
       " <a href=\"//tg.wikipedia.org/\" lang=\"tg\" title=\"Tojikī\">Тоҷикӣ</a>,\n",
       " <a href=\"//azb.wikipedia.org/\" lang=\"azb\" title=\"Türkce\"><bdi dir=\"rtl\">تۆرکجه</bdi></a>,\n",
       " <a href=\"//tr.wikipedia.org/\" lang=\"tr\" title=\"Türkçe\">Türkçe</a>,\n",
       " <a href=\"//uk.wikipedia.org/\" lang=\"uk\" title=\"Ukrayins’ka\">Українська</a>,\n",
       " <a href=\"//ur.wikipedia.org/\" lang=\"ur\" title=\"Urdu\"><bdi dir=\"rtl\">اردو</bdi></a>,\n",
       " <a href=\"//vo.wikipedia.org/\" lang=\"vo\">Volapük</a>,\n",
       " <a href=\"//ko.wikipedia.org/\" lang=\"ko\" title=\"Hangugeo\">한국어</a>,\n",
       " <a href=\"//ace.wikipedia.org/\" lang=\"ace\">Bahsa Acèh</a>,\n",
       " <a href=\"//af.wikipedia.org/\" lang=\"af\">Afrikaans</a>,\n",
       " <a href=\"//als.wikipedia.org/\" lang=\"gsw\">Alemannisch</a>,\n",
       " <a href=\"//am.wikipedia.org/\" lang=\"am\" title=\"Āmariññā\">አማርኛ</a>,\n",
       " <a href=\"//an.wikipedia.org/\" lang=\"an\">Aragonés</a>,\n",
       " <a href=\"//ast.wikipedia.org/\" lang=\"ast\">Asturianu</a>,\n",
       " <a href=\"//bn.wikipedia.org/\" lang=\"bn\" title=\"Bangla\">বাংলা</a>,\n",
       " <a href=\"//map-bms.wikipedia.org/\" lang=\"map-x-bms\">Basa Banyumasan</a>,\n",
       " <a href=\"//ba.wikipedia.org/\" lang=\"ba\" title=\"Başqortsa\">Башҡортса</a>,\n",
       " <a href=\"//be-tarask.wikipedia.org/\" lang=\"be\" title=\"Belaruskaya (Taraškievica)\">Беларуская (Тарашкевіца)</a>,\n",
       " <a href=\"//bpy.wikipedia.org/\" lang=\"bpy\" title=\"Bishnupriya Manipuri\">বিষ্ণুপ্রিয়া মণিপুরী</a>,\n",
       " <a href=\"//bar.wikipedia.org/\" lang=\"bar\">Boarisch</a>,\n",
       " <a href=\"//bs.wikipedia.org/\" lang=\"bs\">Bosanski</a>,\n",
       " <a href=\"//br.wikipedia.org/\" lang=\"br\">Brezhoneg</a>,\n",
       " <a href=\"//cv.wikipedia.org/\" lang=\"cv\" title=\"Čăvašla\">Чӑвашла</a>,\n",
       " <a href=\"//nv.wikipedia.org/\" lang=\"nv\">Diné Bizaad</a>,\n",
       " <a href=\"//eml.wikipedia.org/\" lang=\"roa-x-eml\">Emigliàn–Rumagnòl</a>,\n",
       " <a href=\"//fo.wikipedia.org/\" lang=\"fo\">Føroyskt</a>,\n",
       " <a href=\"//fy.wikipedia.org/\" lang=\"fy\">Frysk</a>,\n",
       " <a href=\"//ga.wikipedia.org/\" lang=\"ga\">Gaeilge</a>,\n",
       " <a href=\"//gd.wikipedia.org/\" lang=\"gd\">Gàidhlig</a>,\n",
       " <a href=\"//gu.wikipedia.org/\" lang=\"gu\" title=\"Gujarati\">ગુજરાતી</a>,\n",
       " <a href=\"//hsb.wikipedia.org/\" lang=\"hsb\">Hornjoserbsce</a>,\n",
       " <a href=\"//io.wikipedia.org/\" lang=\"io\">Ido</a>,\n",
       " <a href=\"//ilo.wikipedia.org/\" lang=\"ilo\">Ilokano</a>,\n",
       " <a href=\"//ia.wikipedia.org/\" lang=\"ia\">Interlingua</a>,\n",
       " <a href=\"//os.wikipedia.org/\" lang=\"os\" title=\"Iron Ævzag\">Ирон æвзаг</a>,\n",
       " <a href=\"//is.wikipedia.org/\" lang=\"is\">Íslenska</a>,\n",
       " <a href=\"//jv.wikipedia.org/\" lang=\"jv\">Jawa</a>,\n",
       " <a href=\"//kn.wikipedia.org/\" lang=\"kn\" title=\"Kannada\">ಕನ್ನಡ</a>,\n",
       " <a href=\"//ht.wikipedia.org/\" lang=\"ht\">Kreyòl Ayisyen</a>,\n",
       " <a href=\"//ku.wikipedia.org/\" lang=\"ku\"><span lang=\"ku-Latn\">Kurdî</span> / <bdi dir=\"rtl\" lang=\"ku-Arab\">كوردی</bdi></a>,\n",
       " <a href=\"//ckb.wikipedia.org/\" lang=\"ckb\" title=\"Kurdîy Nawendî\"><bdi dir=\"rtl\">کوردیی ناوەندی</bdi></a>,\n",
       " <a href=\"//ky.wikipedia.org/\" lang=\"ky\" title=\"Kyrgyzča\">Кыргызча</a>,\n",
       " <a href=\"//mrj.wikipedia.org/\" lang=\"mjr\" title=\"Kyryk Mary\">Кырык Мары</a>,\n",
       " <a href=\"//lv.wikipedia.org/\" lang=\"lv\">Latviešu</a>,\n",
       " <a href=\"//lb.wikipedia.org/\" lang=\"lb\">Lëtzebuergesch</a>,\n",
       " <a href=\"//li.wikipedia.org/\" lang=\"li\">Limburgs</a>,\n",
       " <a href=\"//lmo.wikipedia.org/\" lang=\"lmo\">Lumbaart</a>,\n",
       " <a href=\"//mai.wikipedia.org/\" lang=\"mai\" title=\"Maithilī\">मैथिली</a>,\n",
       " <a href=\"//mg.wikipedia.org/\" lang=\"mg\">Malagasy</a>,\n",
       " <a href=\"//ml.wikipedia.org/\" lang=\"ml\" title=\"Malayalam\">മലയാളം</a>,\n",
       " <a href=\"//zh-classical.wikipedia.org/\" lang=\"lzh\" title=\"Man4jin4 / Wényán\">文言</a>,\n",
       " <a href=\"//mr.wikipedia.org/\" lang=\"mr\" title=\"Marathi\">मराठी</a>,\n",
       " <a href=\"//xmf.wikipedia.org/\" lang=\"xmf\" title=\"Margaluri\">მარგალური</a>,\n",
       " <a href=\"//arz.wikipedia.org/\" lang=\"arz\" title=\"Maṣrī\"><bdi dir=\"rtl\">مصرى</bdi></a>,\n",
       " <a href=\"//mzn.wikipedia.org/\" lang=\"mzn\" title=\"Mäzeruni\"><bdi dir=\"rtl\">مازِرونی</bdi></a>,\n",
       " <a href=\"//cdo.wikipedia.org/\" lang=\"cdo\" title=\"Ming-deng-ngu\">Mìng-dĕ̤ng-ngṳ̄ / 閩東語</a>,\n",
       " <a href=\"//mn.wikipedia.org/\" lang=\"mn\" title=\"Mongol\">Монгол</a>,\n",
       " <a href=\"//my.wikipedia.org/\" lang=\"my\" title=\"Myanmarsar\">မြန်မာဘာသာ</a>,\n",
       " <a href=\"//new.wikipedia.org/\" lang=\"new\" title=\"Nepal Bhasa\">नेपाल भाषा</a>,\n",
       " <a href=\"//ne.wikipedia.org/\" lang=\"ne\" title=\"Nepālī\">नेपाली</a>,\n",
       " <a href=\"//nap.wikipedia.org/\" lang=\"nap\">Nnapulitano</a>,\n",
       " <a href=\"//oc.wikipedia.org/\" lang=\"oc\">Occitan</a>,\n",
       " <a href=\"//mhr.wikipedia.org/\" lang=\"mhr\" title=\"Olyk Marij\">Марий</a>,\n",
       " <a href=\"//or.wikipedia.org/\" lang=\"or\" title=\"Oṛiā\">ଓଡି଼ଆ</a>,\n",
       " <a href=\"//pa.wikipedia.org/\" lang=\"pa\" title=\"Pañjābī (Gurmukhī)\">ਪੰਜਾਬੀ (ਗੁਰਮੁਖੀ)</a>,\n",
       " <a href=\"//pnb.wikipedia.org/\" lang=\"pnb\" title=\"Pañjābī (Shāhmukhī)\"><bdi dir=\"rtl\">پنجابی (شاہ مکھی)</bdi></a>,\n",
       " <a href=\"//ps.wikipedia.org/\" lang=\"ps\" title=\"Paʂto\"><bdi dir=\"rtl\">پښتو</bdi></a>,\n",
       " <a href=\"//pms.wikipedia.org/\" lang=\"pms\">Piemontèis</a>,\n",
       " <a href=\"//nds.wikipedia.org/\" lang=\"nds\">Plattdüütsch</a>,\n",
       " <a href=\"//qu.wikipedia.org/\" lang=\"qu\">Runa Simi</a>,\n",
       " <a href=\"//sa.wikipedia.org/\" lang=\"sa\" title=\"Saṃskṛtam\">संस्कृतम्</a>,\n",
       " <a href=\"//sah.wikipedia.org/\" lang=\"sah\" title=\"Saxa Tyla\">Саха Тыла</a>,\n",
       " <a href=\"//sco.wikipedia.org/\" lang=\"sco\">Scots</a>,\n",
       " <a href=\"//sq.wikipedia.org/\" lang=\"sq\">Shqip</a>,\n",
       " <a href=\"//scn.wikipedia.org/\" lang=\"scn\">Sicilianu</a>,\n",
       " <a href=\"//si.wikipedia.org/\" lang=\"si\" title=\"Siṃhala\">සිංහල</a>,\n",
       " <a href=\"//sd.wikipedia.org/\" lang=\"sd\" title=\"Sindhī\"><bdi dir=\"rtl\">سنڌي</bdi></a>,\n",
       " <a href=\"//szl.wikipedia.org/\" lang=\"szl\">Ślůnski</a>,\n",
       " <a href=\"//su.wikipedia.org/\" lang=\"su\">Basa Sunda</a>,\n",
       " <a href=\"//sw.wikipedia.org/\" lang=\"sw\">Kiswahili</a>,\n",
       " <a href=\"//tl.wikipedia.org/\" lang=\"tl\">Tagalog</a>,\n",
       " <a href=\"//tt.wikipedia.org/\" lang=\"tt\">Татарча / Tatarça</a>,\n",
       " <a href=\"//te.wikipedia.org/\" lang=\"te\" title=\"Telugu\">తెలుగు</a>,\n",
       " <a href=\"//bug.wikipedia.org/\" lang=\"bug\">ᨅᨔ ᨕᨙᨁᨗ / Basa Ugi</a>,\n",
       " <a href=\"//vec.wikipedia.org/\" lang=\"vec\">Vèneto</a>,\n",
       " <a href=\"//wa.wikipedia.org/\" lang=\"wa\">Walon</a>,\n",
       " <a data-convert-hans=\"吴语\" href=\"//wuu.wikipedia.org/\" id=\"wuu_wiki\" lang=\"wuu\" title=\"Wú Yǔ\">吳語</a>,\n",
       " <a href=\"//yi.wikipedia.org/\" lang=\"yi\" title=\"Yidiš\"><bdi dir=\"rtl\">ייִדיש</bdi></a>,\n",
       " <a href=\"//yo.wikipedia.org/\" lang=\"yo\">Yorùbá</a>,\n",
       " <a data-convert-hans=\"粤语\" href=\"//zh-yue.wikipedia.org/\" id=\"zh-yue_wiki\" lang=\"yue\" title=\"Yuht Yúh / Jyut6 jyu5\">粵語</a>,\n",
       " <a href=\"//diq.wikipedia.org/\" lang=\"diq\" title=\"Zazaki\">Zazaki</a>,\n",
       " <a href=\"//bat-smg.wikipedia.org/\" lang=\"sgs\">Žemaitėška</a>,\n",
       " <a href=\"//kbd.wikipedia.org/\" lang=\"kbd\" title=\"Adighabze\">Адыгэбзэ</a>,\n",
       " <a href=\"//ang.wikipedia.org/\" lang=\"ang\">Ænglisc</a>,\n",
       " <a href=\"//ab.wikipedia.org/\" lang=\"ab\" title=\"Aṗsua\">Аҧсуа</a>,\n",
       " <a href=\"//hyw.wikipedia.org/\" lang=\"hyw\" title=\"Arevmdahayeren\">Արեւմտահայերէն</a>,\n",
       " <a href=\"//roa-rup.wikipedia.org/\" lang=\"roa-rup\">Armãneashce</a>,\n",
       " <a href=\"//frp.wikipedia.org/\" lang=\"frp\">Arpitan</a>,\n",
       " <a href=\"//ig.wikipedia.org/\" lang=\"ig\">asụsụ bekee maọbụ asụsụ oyibo</a>,\n",
       " <a href=\"//arc.wikipedia.org/\" lang=\"arc\" title=\"Ātûrāyâ\"><bdi dir=\"rtl\">ܐܬܘܪܝܐ</bdi></a>,\n",
       " <a href=\"//gn.wikipedia.org/\" lang=\"gn\">Avañe’ẽ</a>,\n",
       " <a href=\"//av.wikipedia.org/\" lang=\"av\" title=\"Avar\">Авар</a>,\n",
       " <a href=\"//ay.wikipedia.org/\" lang=\"ay\">Aymar</a>,\n",
       " <a href=\"//bjn.wikipedia.org/\" lang=\"bjn\">Bahasa Banjar</a>,\n",
       " <a href=\"//bh.wikipedia.org/\" lang=\"bh\" title=\"Bhōjapurī\">भोजपुरी</a>,\n",
       " <a href=\"//bcl.wikipedia.org/\" lang=\"bcl\">Bikol Central</a>,\n",
       " <a href=\"//bi.wikipedia.org/\" lang=\"bi\">Bislama</a>,\n",
       " <a href=\"//bo.wikipedia.org/\" lang=\"bo\" title=\"Bod Skad\">བོད་ཡིག</a>,\n",
       " <a href=\"//bxr.wikipedia.org/\" lang=\"bxr\" title=\"Buryad\">Буряад</a>,\n",
       " <a href=\"//cbk-zam.wikipedia.org/\" lang=\"cbk-x-zam\">Chavacano de Zamboanga</a>,\n",
       " <a href=\"//co.wikipedia.org/\" lang=\"co\">Corsu</a>,\n",
       " <a href=\"//za.wikipedia.org/\" lang=\"za\">Vahcuengh / 話僮</a>,\n",
       " <a href=\"//se.wikipedia.org/\" lang=\"se\">Davvisámegiella</a>,\n",
       " <a href=\"//pdc.wikipedia.org/\" lang=\"pdc\">Deitsch</a>,\n",
       " <a href=\"//dsb.wikipedia.org/\" lang=\"dsb\">Dolnoserbski</a>,\n",
       " <a href=\"//myv.wikipedia.org/\" lang=\"myv\" title=\"Erzjanj\">Эрзянь</a>,\n",
       " <a href=\"//ext.wikipedia.org/\" lang=\"ext\">Estremeñu</a>,\n",
       " <a href=\"//hif.wikipedia.org/\" lang=\"hif\">Fiji Hindi</a>,\n",
       " <a href=\"//fur.wikipedia.org/\" lang=\"fur\">Furlan</a>,\n",
       " <a href=\"//gv.wikipedia.org/\" lang=\"gv\">Gaelg</a>,\n",
       " <a href=\"//gag.wikipedia.org/\" lang=\"gag\">Gagauz</a>,\n",
       " <a href=\"//ki.wikipedia.org/\" lang=\"ki\">Gĩkũyũ</a>,\n",
       " <a href=\"//glk.wikipedia.org/\" lang=\"glk\" title=\"Giləki\"><bdi dir=\"rtl\">گیلکی</bdi></a>,\n",
       " <a data-convert-hans=\"赣语\" href=\"//gan.wikipedia.org/\" id=\"gan_wiki\" lang=\"gan\" title=\"Gon ua\">贛語</a>,\n",
       " <a href=\"//hak.wikipedia.org/\" lang=\"hak\">Hak-kâ-ngî / 客家語</a>,\n",
       " <a href=\"//xal.wikipedia.org/\" lang=\"xal\" title=\"Halʹmg\">Хальмг</a>,\n",
       " <a href=\"//ha.wikipedia.org/\" lang=\"ha\"><span lang=\"ha-Latn\">Hausa</span> / <bdi dir=\"rtl\" lang=\"ha-Arab\">هَوُسَا</bdi></a>,\n",
       " <a href=\"//haw.wikipedia.org/\" lang=\"haw\">ʻŌlelo Hawaiʻi</a>,\n",
       " <a href=\"//ie.wikipedia.org/\" lang=\"ie\">Interlingue</a>,\n",
       " <a href=\"//kl.wikipedia.org/\" lang=\"kl\">Kalaallisut</a>,\n",
       " <a href=\"//pam.wikipedia.org/\" lang=\"pam\">Kapampangan</a>,\n",
       " <a href=\"//csb.wikipedia.org/\" lang=\"csb\">Kaszëbsczi</a>,\n",
       " <a href=\"//kw.wikipedia.org/\" lang=\"kw\">Kernewek</a>,\n",
       " <a href=\"//km.wikipedia.org/\" lang=\"km\" title=\"Phéasa Khmér\">ភាសាខ្មែរ</a>,\n",
       " <a href=\"//rw.wikipedia.org/\" lang=\"rw\">Kinyarwanda</a>,\n",
       " <a href=\"//kv.wikipedia.org/\" lang=\"kv\" title=\"Komi\">Коми</a>,\n",
       " <a href=\"//kg.wikipedia.org/\" lang=\"kg\">Kongo</a>,\n",
       " <a href=\"//gom.wikipedia.org/\" lang=\"gom\">कोंकणी / Konknni</a>,\n",
       " <a href=\"//lo.wikipedia.org/\" lang=\"lo\" title=\"Phaasaa Laao\">ພາສາລາວ</a>,\n",
       " <a href=\"//lad.wikipedia.org/\" lang=\"lad\" title=\"Ladino\"><span lang=\"lad-Latn\">Dzhudezmo</span> / <bdi dir=\"rtl\" lang=\"lad-Hebr\">לאדינו</bdi></a>,\n",
       " <a href=\"//lbe.wikipedia.org/\" lang=\"lbe\" title=\"Lakːu\">Лакку</a>,\n",
       " <a href=\"//lez.wikipedia.org/\" lang=\"lez\" title=\"Lezgi\">Лезги</a>,\n",
       " <a href=\"//ln.wikipedia.org/\" lang=\"ln\">Lingála</a>,\n",
       " <a href=\"//jbo.wikipedia.org/\" lang=\"jbo\">lojban</a>,\n",
       " <a href=\"//lrc.wikipedia.org/\" lang=\"lrc\" title=\"Löriyé-Šomālī\"><bdi dir=\"rtl\">لۊری شومالی</bdi></a>,\n",
       " <a href=\"//lg.wikipedia.org/\" lang=\"lg\">Luganda</a>,\n",
       " <a href=\"//lij.wikipedia.org/\" lang=\"lij\">Lìgure</a>,\n",
       " <a href=\"//mt.wikipedia.org/\" lang=\"mt\">Malti</a>,\n",
       " <a href=\"//ty.wikipedia.org/\" lang=\"ty\">Reo Mā’ohi</a>,\n",
       " <a href=\"//mi.wikipedia.org/\" lang=\"mi\">Māori</a>,\n",
       " <a href=\"//mwl.wikipedia.org/\" lang=\"mwl\">Mirandés</a>,\n",
       " <a href=\"//mdf.wikipedia.org/\" lang=\"mdf\" title=\"Mokšenj\">Мокшень</a>,\n",
       " <a href=\"//nah.wikipedia.org/\" lang=\"nah\">Nāhuatlahtōlli</a>,\n",
       " <a href=\"//na.wikipedia.org/\" lang=\"na\">Dorerin Naoero</a>,\n",
       " <a href=\"//nds-nl.wikipedia.org/\" lang=\"nds-nl\">Nedersaksisch</a>,\n",
       " <a href=\"//frr.wikipedia.org/\" lang=\"frr\">Nordfriisk</a>,\n",
       " <a href=\"//nrm.wikipedia.org/\" lang=\"roa-x-nrm\">Nouormand / Normaund</a>,\n",
       " <a href=\"//nov.wikipedia.org/\" lang=\"nov\">Novial</a>,\n",
       " <a href=\"//as.wikipedia.org/\" lang=\"as\" title=\"Ôxômiya\">অসমীযা়</a>,\n",
       " <a href=\"//pi.wikipedia.org/\" lang=\"pi\" title=\"Pāḷi\">पालि</a>,\n",
       " <a href=\"//pag.wikipedia.org/\" lang=\"pag\">Pangasinán</a>,\n",
       " <a href=\"//pap.wikipedia.org/\" lang=\"pap\">Papiamentu</a>,\n",
       " <a href=\"//koi.wikipedia.org/\" lang=\"koi\" title=\"Perem Komi\">Перем Коми</a>,\n",
       " <a href=\"//pfl.wikipedia.org/\" lang=\"pfl\">Pfälzisch</a>,\n",
       " <a href=\"//pcd.wikipedia.org/\" lang=\"pcd\">Picard</a>,\n",
       " <a href=\"//krc.wikipedia.org/\" lang=\"krc\" title=\"Qaraçay–Malqar\">Къарачай–Малкъар</a>,\n",
       " <a href=\"//kaa.wikipedia.org/\" lang=\"kaa\">Qaraqalpaqsha</a>,\n",
       " <a href=\"//crh.wikipedia.org/\" lang=\"crh\">Qırımtatarca</a>,\n",
       " <a href=\"//ksh.wikipedia.org/\" lang=\"ksh\">Ripoarisch</a>,\n",
       " <a href=\"//rm.wikipedia.org/\" lang=\"rm\">Rumantsch</a>,\n",
       " <a href=\"//rue.wikipedia.org/\" lang=\"rue\" title=\"Rusin’skyj Yazyk\">Русиньскый Язык</a>,\n",
       " <a href=\"//sc.wikipedia.org/\" lang=\"sc\">Sardu</a>,\n",
       " <a href=\"//stq.wikipedia.org/\" lang=\"stq\">Seeltersk</a>,\n",
       " <a href=\"//nso.wikipedia.org/\" lang=\"nso\">Sesotho sa Leboa</a>,\n",
       " <a href=\"//sn.wikipedia.org/\" lang=\"sn\">ChiShona</a>,\n",
       " <a href=\"//so.wikipedia.org/\" lang=\"so\">Soomaaliga</a>,\n",
       " <a href=\"//srn.wikipedia.org/\" lang=\"srn\">Sranantongo</a>,\n",
       " <a href=\"//kab.wikipedia.org/\" lang=\"kab\">Taqbaylit</a>,\n",
       " <a href=\"//roa-tara.wikipedia.org/\" lang=\"roa\">Tarandíne</a>,\n",
       " <a href=\"//tet.wikipedia.org/\" lang=\"tet\">Tetun</a>,\n",
       " <a href=\"//tpi.wikipedia.org/\" lang=\"tpi\">Tok Pisin</a>,\n",
       " <a href=\"//to.wikipedia.org/\" lang=\"to\">faka Tonga</a>,\n",
       " <a href=\"//tk.wikipedia.org/\" lang=\"tk\">Türkmençe</a>,\n",
       " <a href=\"//tyv.wikipedia.org/\" lang=\"tyv\" title=\"Tyva dyl\">Тыва дыл</a>,\n",
       " <a href=\"//udm.wikipedia.org/\" lang=\"udm\" title=\"Udmurt\">Удмурт</a>,\n",
       " <a href=\"//ug.wikipedia.org/\" lang=\"ug\"><bdi dir=\"rtl\">ئۇيغۇرچه</bdi></a>,\n",
       " <a href=\"//vep.wikipedia.org/\" lang=\"vep\">Vepsän</a>,\n",
       " <a href=\"//fiu-vro.wikipedia.org/\" lang=\"fiu-vro\">Võro</a>,\n",
       " <a href=\"//vls.wikipedia.org/\" lang=\"vls\">West-Vlams</a>,\n",
       " <a href=\"//wo.wikipedia.org/\" lang=\"wo\">Wolof</a>,\n",
       " <a href=\"//xh.wikipedia.org/\" lang=\"xh\">isiXhosa</a>,\n",
       " <a href=\"//zea.wikipedia.org/\" lang=\"zea\">Zeêuws</a>,\n",
       " <a href=\"//zu.wikipedia.org/\" lang=\"zu\">isiZulu</a>,\n",
       " <a href=\"//dv.wikipedia.org/\" lang=\"dv\" title=\"އިނގިރޭސި\"><bdi dir=\"rtl\">ދިވެހިބަސް</bdi></a>,\n",
       " <a href=\"//ak.wikipedia.org/\" lang=\"ak\">Akan</a>,\n",
       " <a href=\"//bm.wikipedia.org/\" lang=\"bm\">Bamanankan</a>,\n",
       " <a href=\"//ch.wikipedia.org/\" lang=\"ch\">Chamoru</a>,\n",
       " <a href=\"//ny.wikipedia.org/\" lang=\"ny\">Chichewa</a>,\n",
       " <a href=\"//ee.wikipedia.org/\" lang=\"ee\">Eʋegbe</a>,\n",
       " <a href=\"//ff.wikipedia.org/\" lang=\"ff\">Fulfulde</a>,\n",
       " <a href=\"//got.wikipedia.org/\" lang=\"got\" title=\"Gutisk\">𐌲𐌿𐍄𐌹𐍃𐌺</a>,\n",
       " <a href=\"//iu.wikipedia.org/\" lang=\"iu\">ᐃᓄᒃᑎᑐᑦ / Inuktitut</a>,\n",
       " <a href=\"//ik.wikipedia.org/\" lang=\"ik\">Iñupiak</a>,\n",
       " <a href=\"//ks.wikipedia.org/\" lang=\"ks\" title=\"Kashmiri\"><bdi dir=\"rtl\">كشميري</bdi></a>,\n",
       " <a href=\"//gcr.wikipedia.org/\" lang=\"gcr\" title=\"Kriyòl Gwiyannen\">Kriyòl Gwiyannen</a>,\n",
       " <a href=\"//ltg.wikipedia.org/\" lang=\"ltg\">Latgaļu</a>,\n",
       " <a href=\"//fj.wikipedia.org/\" lang=\"fj\">Na Vosa Vaka-Viti</a>,\n",
       " <a href=\"//cr.wikipedia.org/\" lang=\"cr\">Nēhiyawēwin / ᓀᐦᐃᔭᐍᐏᐣ</a>,\n",
       " <a href=\"//pih.wikipedia.org/\" lang=\"pih\">Norfuk / Pitkern</a>,\n",
       " <a href=\"//om.wikipedia.org/\" lang=\"om\">Afaan Oromoo</a>,\n",
       " <a href=\"//pnt.wikipedia.org/\" lang=\"pnt\" title=\"Pontiaká\">Ποντιακά</a>,\n",
       " <a href=\"//dz.wikipedia.org/\" lang=\"dz\" title=\"Rdzong-Kha\">རྫོང་ཁ</a>,\n",
       " <a href=\"//rmy.wikipedia.org/\" lang=\"rmy\">Romani</a>,\n",
       " <a href=\"//rn.wikipedia.org/\" lang=\"rn\">Kirundi</a>,\n",
       " <a href=\"//sm.wikipedia.org/\" lang=\"sm\">Gagana Sāmoa</a>,\n",
       " <a href=\"//sg.wikipedia.org/\" lang=\"sg\">Sängö</a>,\n",
       " <a href=\"//st.wikipedia.org/\" lang=\"st\">Sesotho</a>,\n",
       " <a href=\"//tn.wikipedia.org/\" lang=\"tn\">Setswana</a>,\n",
       " <a href=\"//cu.wikipedia.org/\" lang=\"cu\" title=\"Slověnĭskŭ\">Словѣ́ньскъ / ⰔⰎⰑⰂⰡⰐⰠⰔⰍⰟ</a>,\n",
       " <a href=\"//ss.wikipedia.org/\" lang=\"ss\">SiSwati</a>,\n",
       " <a href=\"//ti.wikipedia.org/\" lang=\"ti\" title=\"Tigriññā\">ትግርኛ</a>,\n",
       " <a href=\"//chr.wikipedia.org/\" lang=\"chr\" title=\"Tsalagi\">ᏣᎳᎩ</a>,\n",
       " <a href=\"//chy.wikipedia.org/\" lang=\"chy\">Tsėhesenėstsestotse</a>,\n",
       " <a href=\"//ve.wikipedia.org/\" lang=\"ve\">Tshivenḓa</a>,\n",
       " <a href=\"//ts.wikipedia.org/\" lang=\"ts\">Xitsonga</a>,\n",
       " <a href=\"//tum.wikipedia.org/\" lang=\"tum\">chiTumbuka</a>,\n",
       " <a href=\"//tw.wikipedia.org/\" lang=\"tw\">Twi</a>,\n",
       " <a href=\"//nqo.wikipedia.org/\" lang=\"nqo\" title=\"N'Ko\">ߒߞߏ</a>,\n",
       " <a href=\"//meta.wikimedia.org/wiki/List_of_Wikipedias\" lang=\"en\">Other languages</a>,\n",
       " <a href=\"//de.wikipedia.org/wiki/Wikipedia:Sprachen\" lang=\"de\">Weitere Sprachen</a>,\n",
       " <a href=\"//meta.wikimedia.org/wiki/Liste_des_Wikip%C3%A9dias\" lang=\"fr\">Autres langues</a>,\n",
       " <a href=\"//pl.wikipedia.org/wiki/Wikipedia:Lista_wersji_j%C4%99zykowych\" lang=\"pl\">Kompletna lista języków</a>,\n",
       " <a href=\"//ja.wikipedia.org/wiki/Wikipedia:%E5%A4%9A%E8%A8%80%E8%AA%9E%E3%83%97%E3%83%AD%E3%82%B8%E3%82%A7%E3%82%AF%E3%83%88%E3%81%A8%E3%81%97%E3%81%A6%E3%81%AE%E3%82%A6%E3%82%A3%E3%82%AD%E3%83%9A%E3%83%87%E3%82%A3%E3%82%A2\" lang=\"ja\">他の言語</a>,\n",
       " <a href=\"//meta.wikimedia.org/wiki/Lista_de_Wikipedias\" lang=\"es\">Otros idiomas</a>,\n",
       " <a data-convert-hans=\"其他语言\" href=\"//zh.wikipedia.org/wiki/Wikipedia:%E7%BB%B4%E5%9F%BA%E7%99%BE%E7%A7%91%E8%AF%AD%E8%A8%80%E5%88%97%E8%A1%A8\" id=\"zh_others\" lang=\"zh\">其他語言</a>,\n",
       " <a href=\"//ru.wikipedia.org/wiki/%D0%92%D0%B8%D0%BA%D0%B8%D0%BF%D0%B5%D0%B4%D0%B8%D1%8F:%D0%A1%D0%92\" lang=\"ru\">Другие языки</a>,\n",
       " <a href=\"//eo.wikipedia.org/wiki/Vikipedio:Internacia_Vikipedio\" lang=\"eo\">Aliaj lingvoj</a>,\n",
       " <a href=\"//meta.wikimedia.org/wiki/%EC%9C%84%ED%82%A4%EB%B0%B1%EA%B3%BC%EC%9D%98_%EB%AA%A9%EB%A1%9D\" lang=\"ko\">다른 언어</a>,\n",
       " <a href=\"//vi.wikipedia.org/wiki/Wikipedia:Phi%C3%AAn_b%E1%BA%A3n_ng%C3%B4n_ng%E1%BB%AF\" lang=\"vi\">Ngôn ngữ khác</a>,\n",
       " <a href=\"//wikimediafoundation.org/\">Wikimedia Foundation</a>,\n",
       " <a class=\"jsl10n\" data-jsl10n=\"app-links.url\" href=\"https://en.wikipedia.org/wiki/List_of_Wikipedia_mobile_applications\">\n",
       " Download Wikipedia for Android or iOS\n",
       " </a>,\n",
       " <a href=\"//play.google.com/store/apps/details?id=org.wikipedia&amp;referrer=utm_source%3Dportal%26utm_medium%3Dbutton%26anid%3Dadmob\" target=\"_blank\">\n",
       " <span class=\"sprite svg-badge_google_play_store\">\n",
       " </span></a>,\n",
       " <a href=\"//itunes.apple.com/app/apple-store/id324715238?pt=208305&amp;ct=portal&amp;mt=8\" target=\"_blank\">\n",
       " <span class=\"sprite svg-badge_ios_app_store\">\n",
       " </span></a>,\n",
       " <a class=\"other-project-link\" href=\"//commons.wikimedia.org/\">\n",
       " <div class=\"other-project-icon\">\n",
       " <div class=\"sprite svg-Commons-logo_sister\"></div>\n",
       " </div>\n",
       " <div class=\"other-project-text\">\n",
       " <span class=\"other-project-title jsl10n\" data-jsl10n=\"commons.name\">Commons</span>\n",
       " <span class=\"other-project-tagline jsl10n\" data-jsl10n=\"commons.slogan\">Freely usable photos &amp; more</span>\n",
       " </div>\n",
       " </a>,\n",
       " <a class=\"other-project-link\" href=\"//www.wikivoyage.org/\">\n",
       " <div class=\"other-project-icon\">\n",
       " <div class=\"sprite svg-Wikivoyage-logo_sister\"></div>\n",
       " </div>\n",
       " <div class=\"other-project-text\">\n",
       " <span class=\"other-project-title jsl10n\" data-jsl10n=\"wikivoyage.name\">Wikivoyage</span>\n",
       " <span class=\"other-project-tagline jsl10n\" data-jsl10n=\"wikivoyage.slogan\">Free travel guide</span>\n",
       " </div>\n",
       " </a>,\n",
       " <a class=\"other-project-link\" href=\"//www.wiktionary.org/\">\n",
       " <div class=\"other-project-icon\">\n",
       " <div class=\"sprite svg-Wiktionary-logo_sister\"></div>\n",
       " </div>\n",
       " <div class=\"other-project-text\">\n",
       " <span class=\"other-project-title jsl10n\" data-jsl10n=\"wiktionary.name\">Wiktionary</span>\n",
       " <span class=\"other-project-tagline jsl10n\" data-jsl10n=\"wiktionary.slogan\">Free dictionary</span>\n",
       " </div>\n",
       " </a>,\n",
       " <a class=\"other-project-link\" href=\"//www.wikibooks.org/\">\n",
       " <div class=\"other-project-icon\">\n",
       " <div class=\"sprite svg-Wikibooks-logo_sister\"></div>\n",
       " </div>\n",
       " <div class=\"other-project-text\">\n",
       " <span class=\"other-project-title jsl10n\" data-jsl10n=\"wikibooks.name\">Wikibooks</span>\n",
       " <span class=\"other-project-tagline jsl10n\" data-jsl10n=\"wikibooks.slogan\">Free textbooks</span>\n",
       " </div>\n",
       " </a>,\n",
       " <a class=\"other-project-link\" href=\"//www.wikinews.org/\">\n",
       " <div class=\"other-project-icon\">\n",
       " <div class=\"sprite svg-Wikinews-logo_sister\"></div>\n",
       " </div>\n",
       " <div class=\"other-project-text\">\n",
       " <span class=\"other-project-title jsl10n\" data-jsl10n=\"wikinews.name\">Wikinews</span>\n",
       " <span class=\"other-project-tagline jsl10n\" data-jsl10n=\"wikinews.slogan\">Free news source</span>\n",
       " </div>\n",
       " </a>,\n",
       " <a class=\"other-project-link\" href=\"//www.wikidata.org/\">\n",
       " <div class=\"other-project-icon\">\n",
       " <div class=\"sprite svg-Wikidata-logo_sister\"></div>\n",
       " </div>\n",
       " <div class=\"other-project-text\">\n",
       " <span class=\"other-project-title jsl10n\" data-jsl10n=\"wikidata.name\">Wikidata</span>\n",
       " <span class=\"other-project-tagline jsl10n\" data-jsl10n=\"wikidata.slogan\">Free knowledge base</span>\n",
       " </div>\n",
       " </a>,\n",
       " <a class=\"other-project-link\" href=\"//www.wikiversity.org/\">\n",
       " <div class=\"other-project-icon\">\n",
       " <div class=\"sprite svg-Wikiversity-logo_sister\"></div>\n",
       " </div>\n",
       " <div class=\"other-project-text\">\n",
       " <span class=\"other-project-title jsl10n\" data-jsl10n=\"wikiversity.name\">Wikiversity</span>\n",
       " <span class=\"other-project-tagline jsl10n\" data-jsl10n=\"wikiversity.slogan\">Free course materials</span>\n",
       " </div>\n",
       " </a>,\n",
       " <a class=\"other-project-link\" href=\"//www.wikiquote.org/\">\n",
       " <div class=\"other-project-icon\">\n",
       " <div class=\"sprite svg-Wikiquote-logo_sister\"></div>\n",
       " </div>\n",
       " <div class=\"other-project-text\">\n",
       " <span class=\"other-project-title jsl10n\" data-jsl10n=\"wikiquote.name\">Wikiquote</span>\n",
       " <span class=\"other-project-tagline jsl10n\" data-jsl10n=\"wikiquote.slogan\">Free quote compendium</span>\n",
       " </div>\n",
       " </a>,\n",
       " <a class=\"other-project-link\" href=\"//www.mediawiki.org/\">\n",
       " <div class=\"other-project-icon\">\n",
       " <div class=\"sprite svg-MediaWiki-logo_sister\"></div>\n",
       " </div>\n",
       " <div class=\"other-project-text\">\n",
       " <span class=\"other-project-title jsl10n\" data-jsl10n=\"mediawiki.name\">MediaWiki</span>\n",
       " <span class=\"other-project-tagline jsl10n\" data-jsl10n=\"mediawiki.slogan\">Free &amp; open wiki application</span>\n",
       " </div>\n",
       " </a>,\n",
       " <a class=\"other-project-link\" href=\"//www.wikisource.org/\">\n",
       " <div class=\"other-project-icon\">\n",
       " <div class=\"sprite svg-Wikisource-logo_sister\"></div>\n",
       " </div>\n",
       " <div class=\"other-project-text\">\n",
       " <span class=\"other-project-title jsl10n\" data-jsl10n=\"wikisource.name\">Wikisource</span>\n",
       " <span class=\"other-project-tagline jsl10n\" data-jsl10n=\"wikisource.slogan\">Free library</span>\n",
       " </div>\n",
       " </a>,\n",
       " <a class=\"other-project-link\" href=\"//species.wikimedia.org/\">\n",
       " <div class=\"other-project-icon\">\n",
       " <div class=\"sprite svg-Wikispecies-logo_sister\"></div>\n",
       " </div>\n",
       " <div class=\"other-project-text\">\n",
       " <span class=\"other-project-title jsl10n\" data-jsl10n=\"wikispecies.name\">Wikispecies</span>\n",
       " <span class=\"other-project-tagline jsl10n\" data-jsl10n=\"wikispecies.slogan\">Free species directory</span>\n",
       " </div>\n",
       " </a>,\n",
       " <a class=\"other-project-link\" href=\"//meta.wikimedia.org/\">\n",
       " <div class=\"other-project-icon\">\n",
       " <div class=\"sprite svg-Meta-Wiki-logo_sister\"></div>\n",
       " </div>\n",
       " <div class=\"other-project-text\">\n",
       " <span class=\"other-project-title jsl10n\" data-jsl10n=\"metawiki.name\">Meta-Wiki</span>\n",
       " <span class=\"other-project-tagline jsl10n\" data-jsl10n=\"metawiki.slogan\">Community coordination &amp; documentation</span>\n",
       " </div>\n",
       " </a>,\n",
       " <a href=\"https://creativecommons.org/licenses/by-sa/3.0/\">Creative Commons Attribution-ShareAlike License</a>,\n",
       " <a href=\"//meta.wikimedia.org/wiki/Terms_of_Use\">Terms of Use</a>,\n",
       " <a href=\"//meta.wikimedia.org/wiki/Privacy_policy\">Privacy Policy</a>]"
      ]
     },
     "execution_count": 191,
     "metadata": {},
     "output_type": "execute_result"
    }
   ],
   "source": [
    "#your code\n",
    "a= soup.find_all('a')\n",
    "a"
   ]
  },
  {
   "cell_type": "markdown",
   "metadata": {},
   "source": [
    "#### A list with the different kind of datasets available in data.gov.uk "
   ]
  },
  {
   "cell_type": "code",
   "execution_count": null,
   "metadata": {},
   "outputs": [],
   "source": [
    "# This is the url you will scrape in this exercise\n",
    "url = 'https://data.gov.uk/'"
   ]
  },
  {
   "cell_type": "code",
   "execution_count": null,
   "metadata": {},
   "outputs": [],
   "source": [
    "#your code "
   ]
  },
  {
   "cell_type": "markdown",
   "metadata": {},
   "source": [
    "#### Top 10 languages by number of native speakers stored in a Pandas Dataframe"
   ]
  },
  {
   "cell_type": "code",
   "execution_count": null,
   "metadata": {},
   "outputs": [],
   "source": [
    "# This is the url you will scrape in this exercise\n",
    "url = 'https://en.wikipedia.org/wiki/List_of_languages_by_number_of_native_speakers'"
   ]
  },
  {
   "cell_type": "code",
   "execution_count": null,
   "metadata": {},
   "outputs": [],
   "source": [
    "#your code"
   ]
  },
  {
   "cell_type": "markdown",
   "metadata": {},
   "source": [
    "### BONUS QUESTIONS"
   ]
  },
  {
   "cell_type": "markdown",
   "metadata": {},
   "source": [
    "#### Scrape a certain number of tweets of a given Twitter account."
   ]
  },
  {
   "cell_type": "code",
   "execution_count": null,
   "metadata": {},
   "outputs": [],
   "source": [
    "# This is the url you will scrape in this exercise \n",
    "# You will need to add the account credentials to this url\n",
    "url = 'https://twitter.com/'"
   ]
  },
  {
   "cell_type": "code",
   "execution_count": null,
   "metadata": {},
   "outputs": [],
   "source": [
    "# your code"
   ]
  },
  {
   "cell_type": "markdown",
   "metadata": {},
   "source": [
    "#### IMDB's Top 250 data (movie name, Initial release, director name and stars) as a pandas dataframe"
   ]
  },
  {
   "cell_type": "code",
   "execution_count": null,
   "metadata": {},
   "outputs": [],
   "source": [
    "# This is the url you will scrape in this exercise \n",
    "url = 'https://www.imdb.com/chart/top'"
   ]
  },
  {
   "cell_type": "code",
   "execution_count": null,
   "metadata": {},
   "outputs": [],
   "source": [
    "# your code"
   ]
  },
  {
   "cell_type": "markdown",
   "metadata": {},
   "source": [
    "#### Movie name, year and a brief summary of the top 10 random movies (IMDB) as a pandas dataframe."
   ]
  },
  {
   "cell_type": "code",
   "execution_count": null,
   "metadata": {},
   "outputs": [],
   "source": [
    "#This is the url you will scrape in this exercise\n",
    "url = 'http://www.imdb.com/chart/top'"
   ]
  },
  {
   "cell_type": "code",
   "execution_count": null,
   "metadata": {},
   "outputs": [],
   "source": [
    "#your code"
   ]
  },
  {
   "cell_type": "markdown",
   "metadata": {},
   "source": [
    "#### Find the live weather report (temperature, wind speed, description and weather) of a given city."
   ]
  },
  {
   "cell_type": "code",
   "execution_count": null,
   "metadata": {},
   "outputs": [],
   "source": [
    "#https://openweathermap.org/current\n",
    "city = city=input('Enter the city:')\n",
    "url = 'http://api.openweathermap.org/data/2.5/weather?'+'q='+city+'&APPID=b35975e18dc93725acb092f7272cc6b8&units=metric'"
   ]
  },
  {
   "cell_type": "code",
   "execution_count": null,
   "metadata": {},
   "outputs": [],
   "source": [
    "# your code"
   ]
  },
  {
   "cell_type": "markdown",
   "metadata": {},
   "source": [
    "#### Book name,price and stock availability as a pandas dataframe."
   ]
  },
  {
   "cell_type": "code",
   "execution_count": null,
   "metadata": {},
   "outputs": [],
   "source": [
    "# This is the url you will scrape in this exercise. \n",
    "# It is a fictional bookstore created to be scraped. \n",
    "url = 'http://books.toscrape.com/'"
   ]
  },
  {
   "cell_type": "code",
   "execution_count": null,
   "metadata": {},
   "outputs": [],
   "source": [
    "#your code"
   ]
  }
 ],
 "metadata": {
  "kernelspec": {
   "display_name": "Python [conda env:data_env]",
   "language": "python",
   "name": "conda-env-data_env-py"
  },
  "language_info": {
   "codemirror_mode": {
    "name": "ipython",
    "version": 3
   },
   "file_extension": ".py",
   "mimetype": "text/x-python",
   "name": "python",
   "nbconvert_exporter": "python",
   "pygments_lexer": "ipython3",
   "version": "3.7.5"
  }
 },
 "nbformat": 4,
 "nbformat_minor": 2
}
