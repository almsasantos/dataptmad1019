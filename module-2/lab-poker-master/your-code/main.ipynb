{
 "cells": [
  {
   "cell_type": "markdown",
   "metadata": {},
   "source": [
    "# Game of the Chance\n",
    "\n",
    "In the lesson we have shown you how to use Python to calculate the probabilities and odds of the *royal flush* and *straight flush* in poker. In this lab you will calculate the probabilities of all other hands. Please be reminded that in the lesson there is a Poker Hands Probability Table you can refer to when you write Python code to calculate the probabilities."
   ]
  },
  {
   "cell_type": "code",
   "execution_count": 1,
   "metadata": {},
   "outputs": [],
   "source": [
    "#!pip install sympy"
   ]
  },
  {
   "cell_type": "code",
   "execution_count": 2,
   "metadata": {},
   "outputs": [],
   "source": [
    "import sympy"
   ]
  },
  {
   "cell_type": "markdown",
   "metadata": {},
   "source": [
    "## Challenge 1: *four of a kind*, *full house*, *flush*, and *straight*\n",
    "\n",
    "In the cell below, calculate the probability of getting each of the following hands:\n",
    "\n",
    "* *four of a kind*\n",
    "* *full house*\n",
    "* *flush*\n",
    "* *straight*\n",
    "\n",
    "Assign your results to these variables: `four_of_a_kind`, `full_house`, `flush`, and `straight`. Then print them out to check if they are consistent with the probabilities as shown in the table."
   ]
  },
  {
   "cell_type": "code",
   "execution_count": 3,
   "metadata": {},
   "outputs": [
    {
     "data": {
      "text/latex": [
       "$\\displaystyle \\frac{1}{4165}$"
      ],
      "text/plain": [
       "1/4165"
      ]
     },
     "execution_count": 3,
     "metadata": {},
     "output_type": "execute_result"
    }
   ],
   "source": [
    "# Calculation four of a kind:\n",
    "four_of_a_kind_numerator = sympy.binomial(13, 1)*sympy.binomial(4, 4)*sympy.binomial(12, 1)*sympy.binomial(4, 1)\n",
    "four_of_a_kind_denominator = sympy.binomial(52, 5)\n",
    "four_of_a_kind = four_of_a_kind_numerator/four_of_a_kind_denominator\n",
    "four_of_a_kind"
   ]
  },
  {
   "cell_type": "code",
   "execution_count": 4,
   "metadata": {},
   "outputs": [
    {
     "data": {
      "text/latex": [
       "$\\displaystyle \\frac{6}{4165}$"
      ],
      "text/plain": [
       "6/4165"
      ]
     },
     "execution_count": 4,
     "metadata": {},
     "output_type": "execute_result"
    }
   ],
   "source": [
    "# Calculation full house (three of a kind plus two of a kind):\n",
    "full_house_numerator = sympy.binomial(13, 1)*sympy.binomial(4, 3)*sympy.binomial(12, 1)*sympy.binomial(4, 2)\n",
    "full_house_denominator = sympy.binomial(52, 5)\n",
    "full_house = full_house_numerator/full_house_denominator\n",
    "full_house"
   ]
  },
  {
   "cell_type": "code",
   "execution_count": 5,
   "metadata": {},
   "outputs": [
    {
     "data": {
      "text/latex": [
       "$\\displaystyle \\frac{1}{649740}$"
      ],
      "text/plain": [
       "1/649740"
      ]
     },
     "execution_count": 5,
     "metadata": {},
     "output_type": "execute_result"
    }
   ],
   "source": [
    "# Calculation royal flush:\n",
    "royal_flush_numerator = sympy.binomial(4, 1)\n",
    "royal_flush_denominator = sympy.binomial(52, 5)\n",
    "royal_flush = royal_flush_numerator/royal_flush_denominator\n",
    "royal_flush"
   ]
  },
  {
   "cell_type": "code",
   "execution_count": 6,
   "metadata": {},
   "outputs": [
    {
     "data": {
      "text/latex": [
       "$\\displaystyle \\frac{3}{216580}$"
      ],
      "text/plain": [
       "3/216580"
      ]
     },
     "execution_count": 6,
     "metadata": {},
     "output_type": "execute_result"
    }
   ],
   "source": [
    "# Calculation straight flush (color scalettor):\n",
    "straight_flush_numerator = sympy.binomial(10, 1)*sympy.binomial(4, 1)\n",
    "straight_flush_denominator = sympy.binomial(52, 5)\n",
    "straight_flush = (straight_flush_numerator/straight_flush_denominator) - royal_flush\n",
    "straight_flush"
   ]
  },
  {
   "cell_type": "markdown",
   "metadata": {},
   "source": [
    "## Challenge 2: *three of a kind*, *two pair*, *one pair*, and *no pair*\n",
    "\n",
    "In the cell below, calculate the probability of getting each of the following hands:\n",
    "\n",
    "* *three of a kind*\n",
    "* *two pair*\n",
    "* *one pair*\n",
    "* *no pair*\n",
    "\n",
    "You need to figure out the math formulas by yourself. Check if your calculated probabilities are the same as shown in the table. Then assign your results to these variables: `three_of_a_kind`, `two_pair`, `one_pair`, and `no_pair`.\n",
    "\n",
    "*If you are really stuck and frustrated you may scroll down to the section called \"Show your probabilities in table\" where we give you all the math formulas. But try not to look at them unless you've lost half of your hair* 😏"
   ]
  },
  {
   "cell_type": "code",
   "execution_count": 7,
   "metadata": {},
   "outputs": [
    {
     "ename": "SyntaxError",
     "evalue": "invalid syntax (<ipython-input-7-eb913daa29cd>, line 2)",
     "output_type": "error",
     "traceback": [
      "\u001b[0;36m  File \u001b[0;32m\"<ipython-input-7-eb913daa29cd>\"\u001b[0;36m, line \u001b[0;32m2\u001b[0m\n\u001b[0;31m    three_of_a_kind = #(13C1*4C3*¹²C2*(⁴C1)²)/(52C5)\u001b[0m\n\u001b[0m                                                    ^\u001b[0m\n\u001b[0;31mSyntaxError\u001b[0m\u001b[0;31m:\u001b[0m invalid syntax\n"
     ]
    }
   ],
   "source": [
    "# your code here\n",
    "three_of_a_kind = #(13C1*4C3*¹²C2*(⁴C1)²)/(52C5)\n",
    "two_pair = #(13C2*(4C2)²*11C1*4C1)/(52C5)\n",
    "one_pair = #(13C1*4C2*12C3*(4C1)³)/(52C5)\n",
    "no_pair = -1"
   ]
  },
  {
   "cell_type": "code",
   "execution_count": 8,
   "metadata": {},
   "outputs": [
    {
     "data": {
      "text/latex": [
       "$\\displaystyle \\frac{88}{4165}$"
      ],
      "text/plain": [
       "88/4165"
      ]
     },
     "execution_count": 8,
     "metadata": {},
     "output_type": "execute_result"
    }
   ],
   "source": [
    "# Calculation three of a kind:\n",
    "three_of_a_kind_numerator = sympy.binomial(13, 1)*sympy.binomial(4, 3)*sympy.binomial(12, 2)*(sympy.binomial(4, 1)**2)\n",
    "three_of_a_kind_denominator = sympy.binomial(52, 5)\n",
    "three_of_a_kind = three_of_a_kind_numerator/three_of_a_kind_denominator\n",
    "three_of_a_kind"
   ]
  },
  {
   "cell_type": "code",
   "execution_count": 9,
   "metadata": {},
   "outputs": [
    {
     "data": {
      "text/latex": [
       "$\\displaystyle \\frac{198}{4165}$"
      ],
      "text/plain": [
       "198/4165"
      ]
     },
     "execution_count": 9,
     "metadata": {},
     "output_type": "execute_result"
    }
   ],
   "source": [
    "# Calculation two pair:\n",
    "two_pair_numerator = sympy.binomial(13, 2)*(sympy.binomial(4, 2)**2)*sympy.binomial(11, 1)*sympy.binomial(4, 1)\n",
    "two_pair_denominator = sympy.binomial(52, 5)\n",
    "two_pair = two_pair_numerator/two_pair_denominator\n",
    "two_pair"
   ]
  },
  {
   "cell_type": "code",
   "execution_count": 10,
   "metadata": {},
   "outputs": [
    {
     "data": {
      "text/latex": [
       "$\\displaystyle \\frac{352}{833}$"
      ],
      "text/plain": [
       "352/833"
      ]
     },
     "execution_count": 10,
     "metadata": {},
     "output_type": "execute_result"
    }
   ],
   "source": [
    "# Calculation one pair:\n",
    "one_pair_numerator =  sympy.binomial(13, 1)*sympy.binomial(4, 2)*sympy.binomial(12, 3)*(sympy.binomial(4, 1)**3)\n",
    "one_pair_denominator = sympy.binomial(52, 5)\n",
    "one_pair = one_pair_numerator/one_pair_denominator\n",
    "one_pair"
   ]
  },
  {
   "cell_type": "code",
   "execution_count": 11,
   "metadata": {},
   "outputs": [
    {
     "data": {
      "text/latex": [
       "$\\displaystyle \\frac{1277}{2548}$"
      ],
      "text/plain": [
       "1277/2548"
      ]
     },
     "execution_count": 11,
     "metadata": {},
     "output_type": "execute_result"
    }
   ],
   "source": [
    "# Calculation no pair:\n",
    "no_pair_numerator = (sympy.binomial(13, 5)-10)*((sympy.binomial(4, 1))**5-4)\n",
    "no_pair_denominator = sympy.binomial(52, 5)\n",
    "no_pair = no_pair_numerator/no_pair_denominator\n",
    "no_pair"
   ]
  },
  {
   "cell_type": "markdown",
   "metadata": {},
   "source": [
    "### Show your probabilities in table\n",
    "\n",
    "Execute the following cell to display the probabilities you calculated.\n",
    "\n",
    "The code sample below also shows you:\n",
    "\n",
    "* How to format a float number as percentage.\n",
    "\n",
    "* How to print a HTML table in Jupyter Notebook to display the values in a Python dictionary.\n",
    "\n",
    "It's useful to understand how the code sample works."
   ]
  },
  {
   "cell_type": "code",
   "execution_count": 12,
   "metadata": {},
   "outputs": [
    {
     "ename": "NameError",
     "evalue": "name 'flush' is not defined",
     "output_type": "error",
     "traceback": [
      "\u001b[0;31m---------------------------------------------------------------------------\u001b[0m",
      "\u001b[0;31mNameError\u001b[0m                                 Traceback (most recent call last)",
      "\u001b[0;32m<ipython-input-12-38a99e5766dd>\u001b[0m in \u001b[0;36m<module>\u001b[0;34m\u001b[0m\n\u001b[1;32m      7\u001b[0m     \u001b[0;34m'four of a kind'\u001b[0m\u001b[0;34m:\u001b[0m \u001b[0;34m(\u001b[0m\u001b[0mfour_of_a_kind\u001b[0m\u001b[0;34m,\u001b[0m \u001b[0;34m'four-of-kind.jpeg'\u001b[0m\u001b[0;34m,\u001b[0m \u001b[0;34m'four-of-kind.svg'\u001b[0m\u001b[0;34m)\u001b[0m\u001b[0;34m,\u001b[0m\u001b[0;34m\u001b[0m\u001b[0;34m\u001b[0m\u001b[0m\n\u001b[1;32m      8\u001b[0m     \u001b[0;34m'full house'\u001b[0m\u001b[0;34m:\u001b[0m \u001b[0;34m(\u001b[0m\u001b[0mfull_house\u001b[0m\u001b[0;34m,\u001b[0m \u001b[0;34m'full-house.jpeg'\u001b[0m\u001b[0;34m,\u001b[0m \u001b[0;34m'full-house.svg'\u001b[0m\u001b[0;34m)\u001b[0m\u001b[0;34m,\u001b[0m\u001b[0;34m\u001b[0m\u001b[0;34m\u001b[0m\u001b[0m\n\u001b[0;32m----> 9\u001b[0;31m     \u001b[0;34m'flush'\u001b[0m\u001b[0;34m:\u001b[0m \u001b[0;34m(\u001b[0m\u001b[0mflush\u001b[0m\u001b[0;34m,\u001b[0m \u001b[0;34m'flush.jpeg'\u001b[0m\u001b[0;34m,\u001b[0m \u001b[0;34m'flush.svg'\u001b[0m\u001b[0;34m)\u001b[0m\u001b[0;34m,\u001b[0m\u001b[0;34m\u001b[0m\u001b[0;34m\u001b[0m\u001b[0m\n\u001b[0m\u001b[1;32m     10\u001b[0m     \u001b[0;34m'straight'\u001b[0m\u001b[0;34m:\u001b[0m \u001b[0;34m(\u001b[0m\u001b[0mstraight\u001b[0m\u001b[0;34m,\u001b[0m \u001b[0;34m'straight.jpeg'\u001b[0m\u001b[0;34m,\u001b[0m \u001b[0;34m'straight.svg'\u001b[0m\u001b[0;34m)\u001b[0m\u001b[0;34m,\u001b[0m\u001b[0;34m\u001b[0m\u001b[0;34m\u001b[0m\u001b[0m\n\u001b[1;32m     11\u001b[0m     \u001b[0;34m'three of a kind'\u001b[0m\u001b[0;34m:\u001b[0m \u001b[0;34m(\u001b[0m\u001b[0mthree_of_a_kind\u001b[0m\u001b[0;34m,\u001b[0m \u001b[0;34m'three-of-kind.jpeg'\u001b[0m\u001b[0;34m,\u001b[0m \u001b[0;34m'three-of-kind.svg'\u001b[0m\u001b[0;34m)\u001b[0m\u001b[0;34m,\u001b[0m\u001b[0;34m\u001b[0m\u001b[0;34m\u001b[0m\u001b[0m\n",
      "\u001b[0;31mNameError\u001b[0m: name 'flush' is not defined"
     ]
    }
   ],
   "source": [
    "from scipy.special import comb\n",
    "from IPython.display import HTML, display\n",
    "\n",
    "probs = {\n",
    "    'royal flush': (4/comb(52, 5), 'royal-flush.jpeg', 'royal-flush.svg'),\n",
    "    'straight flush': ((comb(10,1)*comb(4,1)-comb(4,1))/comb(52, 5), 'straight-flush.jpeg', 'straight-flush.svg'),\n",
    "    'four of a kind': (four_of_a_kind, 'four-of-kind.jpeg', 'four-of-kind.svg'),\n",
    "    'full house': (full_house, 'full-house.jpeg', 'full-house.svg'),\n",
    "    'flush': (flush, 'flush.jpeg', 'flush.svg'),\n",
    "    'straight': (straight, 'straight.jpeg', 'straight.svg'),\n",
    "    'three of a kind': (three_of_a_kind, 'three-of-kind.jpeg', 'three-of-kind.svg'),\n",
    "    'two pair': (two_pair, 'two-pair.jpeg', 'two-pair.svg'),\n",
    "    'one pair': (one_pair, 'one-pair.jpeg', 'one-pair.svg'),\n",
    "    'no pair': (no_pair, 'no-pair.jpeg', 'no-pair.svg'),\n",
    "}\n",
    "\n",
    "def format_prob(prob):\n",
    "    return \"{}%\".format(format(prob*100, '.6f'))\n",
    "\n",
    "def get_image_html(src):\n",
    "    return '<img src=\"{}\" style=\"float:right;\" />'.format(src)\n",
    "\n",
    "display(HTML(\n",
    "   '<table style=\"width:100%;\"><tr><th>Cards</th><th>Hand</th><th>Probability</th><th>Math Expression</th></tr><tr>{}</tr></table>'.format(\n",
    "       '</tr><tr>'.join(\n",
    "           '<td>{}</td>'.format('</td><td>'.join([get_image_html(val[1]), key, format_prob(val[0]), get_image_html(val[2])])) for key, val in probs.items())\n",
    "       )\n",
    "))"
   ]
  },
  {
   "cell_type": "markdown",
   "metadata": {},
   "source": [
    "## Bonus challenge: Using odds in real poker game\n",
    "\n",
    "But understanding how to calculate probabilities and odds does not necessarily make you a poker master. Additional learning is required. As an example, let's explain how to use this skill in [Texas Hold'em](https://www.instructables.com/id/Learn-To-Play-Poker---Texas-Hold-Em-aka-Texas-Ho/) (also see [this video](https://www.youtube.com/watch?v=KKMac6tQKiI)) where you are in the simpliest scenario playing against a single opponent.\n",
    "\n",
    "### Pot odds\n",
    "\n",
    "First, you need to understand what are **pot odds** which represent the odds of risk versus return. Pot odds is **the ratio between the amount of money in the pot versus the amount you need to put down in order to stay in the turn**. For example, if the pot has 10 dollars and your opponent bet 5 dollars, in order to follow you need to to bet 5 dollars. At this time, the pot odds is:\n",
    "\n",
    "```\n",
    "(10 + 5) : 5 = 15 : 5 = 3 : 1\n",
    "```\n",
    "\n",
    "The 3:1 pot odds means for every 1 dollar you bet you can potentially win 3 dollars. If you can win at least once among 3 tries you give, it is worth the risk. So then the question comes to how to calculate your odds to win, which can be achieved by calculating your **outs**."
   ]
  },
  {
   "cell_type": "markdown",
   "metadata": {},
   "source": [
    "### Outs\n",
    "\n",
    "**Outs are the number of cards you need in order to win the hand**. To count the outs you need to take into consideration what cards have been shown on the table (versus those unseen) and what cards you need in order to beat your opponent. For example, consider the following scenario after the turn (i.e. after the dealer lays out the 4th card and before everyone bets for the 3rd round):\n",
    "\n",
    "| Your hand: | ![](hj.png) | ![](h8.png) | . | . | . | . | . | . | . |\n",
    "| --- | --- | --- | --- | --- | --- | --- | --- | --- | --- |\n",
    "| **Dealer lays out:** | ![](h1.png) | ![](hk.png) | ![](c8.png) | ![](s7.png) | . | . | . | . | . |\n",
    "| **Opponent's hand (unknown):** | ![](unknown.png) | ![](unknown.png) | . | . | . | . | . | . | . |\n",
    "| **Cards you need to win (your outs):** | ![](h2.png) | ![](h3.png) | ![](h4.png) | ![](h5.png) |![](h6.png) | ![](h7.png) | ![](h9.png) | ![](h10.png) | ![](hq.png) |\n",
    "\n",
    "To win, you just need the dealer to lay out a heart card as the river card (the 5th & final card) so that you can have a flush. Your flush will beat your opponent for sure. Since there are 9 heart cards that are not shown on the table, you have 9 outs."
   ]
  },
  {
   "cell_type": "markdown",
   "metadata": {},
   "source": [
    "### Use outs to calculate your odds to win\n",
    "\n",
    "Your odds to win is calculated with the following formula:\n",
    "\n",
    "```\n",
    "Odds to Win = Number of Outs : (Number of Unseen Cards - Number of Outs)\n",
    "```\n",
    "\n",
    "In the example above, 6 cards have been shown on the table which means 52-6=46 cards are unseen (including the remaining deck plus the 2 cards in your opponent's hand). And you have 9 outs. Therefore, your odds to win is:\n",
    "\n",
    "```\n",
    "9 : (46 - 9) = 9 : 37\n",
    "```\n",
    "\n",
    "This is approximately 1:4, meaning you're 4 times likely to lose than to win. Your chance to win is thus 20%. Considering the pot odds which is 3:1, it does not worth for you to take the risk to bet. You should fold.\n",
    "\n",
    "Of course in real playing it's 100 times more complex than the scenario we showed you. First, there may be more than one way for you to win. For example, you may eventually have two pairs or a flush, either of which will make you win. In this case you total outs are the sum of the two-pair outs and the flush outs. But make sure you don't double count any of the cards when you count the outs. For instance, you may eventually have a straight flush or a flush, either of which will make you win. In this case you should only count the outs for flush because the outs for straight flush are contained in the outs for flush. \n",
    "\n",
    "Your eventual odds to win is related to on your opponents' odds to win. Unfortunately you can't see what cards your opponents have. The best you can do is to make sure you don't count the outs that will also give your opponents advantage. For example, afer the flop don't expect the dealer to come up with a pair so that you can have a three of a kind or two pairs. Because the dealer's pair will also give your opponent the equal advantage.\n",
    "\n",
    "Statistically speaking, there is only one basic rule: **don't take the risk if the risk won't bring you a higher return of your money**. However, as you get better in playing poker you'll be able to consider human and psychological factors such as your opponents bluffing or you bluffing."
   ]
  },
  {
   "cell_type": "markdown",
   "metadata": {},
   "source": [
    "### The shortcut method\n",
    "\n",
    "If you don't want to burn yourself out by calculating and comparing the pot odds and your odds to win, a shortcut method is **The Rule of 4 and 2**:\n",
    "\n",
    "* **After the flop (after dealer lays the first 3 cards on table), your chance to win is approximately 4 times the number of outs.**\n",
    "\n",
    "* **After the turn (after dealer lays the 4th card on table), your chance to win is approximately 2 times the number of outs.**\n",
    "\n",
    "This rule simplifies your decision making process whether to stay in the hand. In the example we gave you earlier, you have 9 outs after the turn. So your chance to win is `9 x 2 = 18%`. This is identical to the probability we calculated.\n",
    "\n",
    "*Disclaimer: We provide this lesson only for educational purposes. We do not think gambling is good for anyone. Do not gamble.*"
   ]
  },
  {
   "cell_type": "markdown",
   "metadata": {},
   "source": [
    "### Practice\n",
    "\n",
    "In the following scenarios, practice calculating your outs and odds to win. Assume the pot odds are 4:1. Should you fold or follow?\n",
    "\n",
    "![](scenario-1.png)\n",
    "\n",
    "![](scenario-2.png)\n",
    "\n",
    "![](scenario-3.png)"
   ]
  },
  {
   "cell_type": "code",
   "execution_count": null,
   "metadata": {},
   "outputs": [],
   "source": [
    "# your answer here"
   ]
  }
 ],
 "metadata": {
  "kernelspec": {
   "display_name": "Python [conda env:data_env]",
   "language": "python",
   "name": "conda-env-data_env-py"
  },
  "language_info": {
   "codemirror_mode": {
    "name": "ipython",
    "version": 3
   },
   "file_extension": ".py",
   "mimetype": "text/x-python",
   "name": "python",
   "nbconvert_exporter": "python",
   "pygments_lexer": "ipython3",
   "version": "3.7.5"
  }
 },
 "nbformat": 4,
 "nbformat_minor": 2
}
