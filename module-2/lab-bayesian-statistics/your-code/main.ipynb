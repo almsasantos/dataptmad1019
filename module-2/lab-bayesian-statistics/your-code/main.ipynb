{
 "cells": [
  {
   "cell_type": "markdown",
   "metadata": {},
   "source": [
    "# Intro to Bayesian Statistics Lab\n",
    "\n",
    "Complete the following set of exercises to solidify your knowledge of Bayesian statistics and Bayesian data analysis."
   ]
  },
  {
   "cell_type": "code",
   "execution_count": 69,
   "metadata": {},
   "outputs": [],
   "source": [
    "import pandas as pd\n",
    "import numpy as np\n",
    "import matplotlib.pyplot as plt\n",
    "from scipy import stats\n",
    "%matplotlib inline"
   ]
  },
  {
   "cell_type": "markdown",
   "metadata": {},
   "source": [
    "## 1. Cookie Problem\n",
    "\n",
    "Suppose we have two bowls of cookies. Bowl 1 contains 30 vanilla cookies and 10 chocolate cookies. Bowl 2 contains 20 of each. You randomly pick one cookie out of one of the bowls, and it is vanilla. Use Bayes Theorem to calculate the probability that the vanilla cookie you picked came from Bowl 1?"
   ]
  },
  {
   "cell_type": "code",
   "execution_count": 2,
   "metadata": {},
   "outputs": [
    {
     "data": {
      "text/html": [
       "<div>\n",
       "<style scoped>\n",
       "    .dataframe tbody tr th:only-of-type {\n",
       "        vertical-align: middle;\n",
       "    }\n",
       "\n",
       "    .dataframe tbody tr th {\n",
       "        vertical-align: top;\n",
       "    }\n",
       "\n",
       "    .dataframe thead th {\n",
       "        text-align: right;\n",
       "    }\n",
       "</style>\n",
       "<table border=\"1\" class=\"dataframe\">\n",
       "  <thead>\n",
       "    <tr style=\"text-align: right;\">\n",
       "      <th></th>\n",
       "      <th>Vanilla Cookie</th>\n",
       "      <th>Chocolate Cookie</th>\n",
       "    </tr>\n",
       "  </thead>\n",
       "  <tbody>\n",
       "    <tr>\n",
       "      <th>0</th>\n",
       "      <td>30</td>\n",
       "      <td>10</td>\n",
       "    </tr>\n",
       "    <tr>\n",
       "      <th>1</th>\n",
       "      <td>20</td>\n",
       "      <td>20</td>\n",
       "    </tr>\n",
       "  </tbody>\n",
       "</table>\n",
       "</div>"
      ],
      "text/plain": [
       "   Vanilla Cookie  Chocolate Cookie\n",
       "0              30                10\n",
       "1              20                20"
      ]
     },
     "execution_count": 2,
     "metadata": {},
     "output_type": "execute_result"
    }
   ],
   "source": [
    "columns = ['Vanilla Cookie', 'Chocolate Cookie']\n",
    "balls_per_bar = [[30, 10], [20, 20]]\n",
    "cookies_prob = pd.DataFrame(balls_per_bar, columns=columns)\n",
    "cookies_prob"
   ]
  },
  {
   "cell_type": "code",
   "execution_count": 3,
   "metadata": {},
   "outputs": [],
   "source": [
    "def bayes_rule(priors, likelihoods):\n",
    "    marg = sum(np.multiply(priors, likelihoods))\n",
    "    post = np.divide(np.multiply(priors, likelihoods), marg)\n",
    "    return post"
   ]
  },
  {
   "cell_type": "code",
   "execution_count": 15,
   "metadata": {},
   "outputs": [
    {
     "data": {
      "text/plain": [
       "array([0.6, 0.4])"
      ]
     },
     "execution_count": 15,
     "metadata": {},
     "output_type": "execute_result"
    }
   ],
   "source": [
    "'''\n",
    "p(A) = Our prior probability is that we picked a cookie from bowl1 = 0.5\n",
    "p(B|A) = likelihood of evidence that we got a vanilla cookie if hypothesis H is true = 30/40\n",
    "p(B) = 30/40*0.5+20/40*0.5 = 0.625\n",
    "p(A|B) = p(B|A) * p(A)/p(B) = 0.75*0.5/0.625 = 0.6\n",
    "'''\n",
    "\n",
    "cookie_vanilla_bar1 = bayes_rule([0.5, 0.5], [30/40, 20/40])\n",
    "cookie_vanilla_bar1"
   ]
  },
  {
   "cell_type": "code",
   "execution_count": 16,
   "metadata": {},
   "outputs": [
    {
     "name": "stdout",
     "output_type": "stream",
     "text": [
      "There is a probability of 0.6 to get a vanilla cookie from bowl 1\n"
     ]
    }
   ],
   "source": [
    "print(f'There is a probability of {cookie_vanilla_bar1[0]} to get a vanilla cookie from bowl 1')"
   ]
  },
  {
   "cell_type": "markdown",
   "metadata": {},
   "source": [
    "What is the probability that it came from Bowl 2?"
   ]
  },
  {
   "cell_type": "code",
   "execution_count": 17,
   "metadata": {},
   "outputs": [
    {
     "data": {
      "text/plain": [
       "array([0.6, 0.4])"
      ]
     },
     "execution_count": 17,
     "metadata": {},
     "output_type": "execute_result"
    }
   ],
   "source": [
    "'''\n",
    "p(A) = Our prior probability is that we picked a cookie from bowl2 = 0.5\n",
    "p(B|A) = likelihood of evidence that we got a vanilla cookie if hypothesis H is true = 20/40\n",
    "p(B) = 20/40*0.5+30/40*0.5 \n",
    "p(A|B) = 0.5*0.5/0.625 = 0.4\n",
    "'''\n",
    "\n",
    "cookie_vanilla_bar2 = bayes_rule([0.5, 0.5], [30/40, 20/40])\n",
    "cookie_vanilla_bar2"
   ]
  },
  {
   "cell_type": "code",
   "execution_count": 18,
   "metadata": {},
   "outputs": [
    {
     "name": "stdout",
     "output_type": "stream",
     "text": [
      "There is a probability of 0.4 to get a vanilla cookie from bowl 2\n"
     ]
    }
   ],
   "source": [
    "print(f'There is a probability of {cookie_vanilla_bar2[1]} to get a vanilla cookie from bowl 2')"
   ]
  },
  {
   "cell_type": "markdown",
   "metadata": {},
   "source": [
    "What if the cookie you had picked was chocolate? What are the probabilities that the chocolate cookie came from Bowl 1 and Bowl 2 respectively?"
   ]
  },
  {
   "cell_type": "code",
   "execution_count": 20,
   "metadata": {},
   "outputs": [
    {
     "data": {
      "text/plain": [
       "array([0.33333333, 0.66666667])"
      ]
     },
     "execution_count": 20,
     "metadata": {},
     "output_type": "execute_result"
    }
   ],
   "source": [
    "'''\n",
    "Question 1: What is the probability that a chocolate cookie came from Bowl1?\n",
    "p(A) = Our prior probability is that we picked a cookie from bowl1 = 0.5\n",
    "p(B|A) = likelihood of evidence that we got a chocolate cookie if hypothesis H is true = 10/40\n",
    "p(B) = 10/40*0.5+20/40*0.5 = 0.375\n",
    "p(A|B) = p(B|A) * p(A) /p(B) = (10/40)*0.5/0.375 = 0.33333333\n",
    "'''\n",
    "cookie_chocolate_bar1 = bayes_rule([0.5, 0.5], [10/40, 20/40])\n",
    "\n",
    "'''\n",
    "Question 2: What is the probability that a chocolate cookie came from Bowl2?\n",
    "p(A) = Our prior probability is that we picked a cookie from bowl2 = 0.5\n",
    "p(B|A) = likelihood of evidence that we got a chocolate cookie if hypothesis H is true = 20/40\n",
    "p(B) = 20/40*0.5+10/40*0.5 = 0.375\n",
    "p(A|B) = (20/40) * 0.5 / 0.375 = 0.66666667\n",
    "'''\n",
    "cookie_chocolate_bar1"
   ]
  },
  {
   "cell_type": "code",
   "execution_count": 21,
   "metadata": {},
   "outputs": [
    {
     "name": "stdout",
     "output_type": "stream",
     "text": [
      "There is a probability of 0.3333333333333333 to get a chocolate cookie from bowl 1\n",
      "There is a probability of 0.6666666666666666 to get a chocolate cookie from bowl 2\n"
     ]
    }
   ],
   "source": [
    "print(f'There is a probability of {cookie_chocolate_bar1[0]} to get a chocolate cookie from bowl 1')\n",
    "print(f'There is a probability of {cookie_chocolate_bar1[1]} to get a chocolate cookie from bowl 2')"
   ]
  },
  {
   "cell_type": "markdown",
   "metadata": {},
   "source": [
    "## 2. Candy Problem\n",
    "\n",
    "Suppose you have two bags of candies:\n",
    "\n",
    "- In Bag 1, the mix of colors is:\n",
    "    - Brown - 30%\n",
    "    - Yellow - 20%\n",
    "    - Red - 20%\n",
    "    - Green - 10%\n",
    "    - Orange - 10%\n",
    "    - Tan - 10%\n",
    "    \n",
    "- In Bag 2, the mix of colors is:\n",
    "    - Blue - 24%\n",
    "    - Green - 20%\n",
    "    - Orange - 16%\n",
    "    - Yellow - 14%\n",
    "    - Red - 13%\n",
    "    - Brown - 13%\n",
    "    \n",
    "Not knowing which bag is which, you randomly draw one candy from each bag. One is yellow and one is green. What is the probability that the yellow one came from the Bag 1?\n",
    "\n",
    "*Hint: For the likelihoods, you will need to multiply the probabilities of drawing yellow from one bag and green from the other bag and vice versa.*"
   ]
  },
  {
   "cell_type": "code",
   "execution_count": 77,
   "metadata": {},
   "outputs": [
    {
     "data": {
      "text/plain": [
       "array([0.58823529, 0.41176471])"
      ]
     },
     "execution_count": 77,
     "metadata": {},
     "output_type": "execute_result"
    }
   ],
   "source": [
    "yellow_green_bag1 = bayes_rule([0.5, 0.5], [0.2, 0.14])\n",
    "yellow_green_bag1"
   ]
  },
  {
   "cell_type": "code",
   "execution_count": 32,
   "metadata": {},
   "outputs": [
    {
     "name": "stdout",
     "output_type": "stream",
     "text": [
      "There is a probability of 0.5882352941176471 to get one candy yellow and one green from bag 1\n"
     ]
    }
   ],
   "source": [
    "print(f'There is a probability of {yellow_green_bag1[0]} to get one candy yellow and one green from bag 1')"
   ]
  },
  {
   "cell_type": "markdown",
   "metadata": {},
   "source": [
    "#### What is the probability that the yellow candy came from Bag 2?"
   ]
  },
  {
   "cell_type": "code",
   "execution_count": 28,
   "metadata": {},
   "outputs": [
    {
     "name": "stdout",
     "output_type": "stream",
     "text": [
      "There is a probability of 0.411764705882353 to get one candy yellow from bag 2\n"
     ]
    }
   ],
   "source": [
    "yellow_bag2 = bayes_rule([0.5, 0.5], [0.2, 0.14])\n",
    "print(f'There is a probability of {yellow_bag2[1]} to get one candy yellow from bag 2')"
   ]
  },
  {
   "cell_type": "markdown",
   "metadata": {},
   "source": [
    "What are the probabilities that the green one came from Bag 1 and Bag 2 respectively?"
   ]
  },
  {
   "cell_type": "code",
   "execution_count": 30,
   "metadata": {},
   "outputs": [
    {
     "name": "stdout",
     "output_type": "stream",
     "text": [
      "There is a probability of 0.3333333333333333 to get one candy green from bag 1\n",
      "There is a probability of 0.6666666666666666 to get one candy green from bag 2\n"
     ]
    }
   ],
   "source": [
    "green_bag1_bag2 = bayes_rule([0.5, 0.5], [0.1, 0.2])\n",
    "print(f'There is a probability of {green_bag1_bag2[0]} to get one candy green from bag 1')\n",
    "print(f'There is a probability of {green_bag1_bag2[1]} to get one candy green from bag 2')"
   ]
  },
  {
   "cell_type": "markdown",
   "metadata": {},
   "source": [
    "## 3. Monty Hall Problem\n",
    "\n",
    "Suppose you are a contestant on the popular game show *Let's Make a Deal*. The host of the show (Monty Hall) presents you with three doors - Door A, Door B, and Door C. He tells you that there is a sports car behind one of them and if you choose the correct one, you win the car!\n",
    "\n",
    "You select Door A, but then Monty makes things a little more interesting. He opens Door B to reveal that there is no sports car behind it and asks you if you would like to stick with your choice of Door A or switch your choice to Door C. Given this new information, what are the probabilities of you winning the car if you stick with Door A versus if you switch to Door C?"
   ]
  },
  {
   "cell_type": "code",
   "execution_count": 35,
   "metadata": {},
   "outputs": [
    {
     "name": "stdout",
     "output_type": "stream",
     "text": [
      "The probability of winning the car if we stick with Door A is 0.3333333333333333\n",
      "The probability of winning the car if we switch to Door C is 0.6666666666666666\n"
     ]
    }
   ],
   "source": [
    "monty_hall = bayes_rule([1/3, 2/3], [0.5, 0.5])\n",
    "print(f'The probability of winning the car if we stick with Door A is {monty_hall[0]}')\n",
    "print(f'The probability of winning the car if we switch to Door C is {monty_hall[1]}')"
   ]
  },
  {
   "cell_type": "markdown",
   "metadata": {},
   "source": [
    "## 4. Bayesian Analysis \n",
    "\n",
    "Suppose you work for a landscaping company, and they want to advertise their service online. They create an ad and sit back waiting for the money to roll in. On the first day, the ad sends 100 visitors to the site and 14 of them sign up for landscaping services. Create a generative model to come up with the posterior distribution and produce a visualization of what the posterior distribution would look like given the observed data."
   ]
  },
  {
   "cell_type": "code",
   "execution_count": 74,
   "metadata": {},
   "outputs": [
    {
     "data": {
      "text/plain": [
       "Text(0, 0.5, 'Number of visitors per day')"
      ]
     },
     "execution_count": 74,
     "metadata": {},
     "output_type": "execute_result"
    },
    {
     "data": {
      "image/png": "[encoded data removed]",
      "text/plain": [
       "<Figure size 432x288 with 1 Axes>"
      ]
     },
     "metadata": {
      "needs_background": "light"
     },
     "output_type": "display_data"
    }
   ],
   "source": [
    "# Based on the statistics of the first day:\n",
    "visitors = 100\n",
    "sign_up_visitors_probability = 0.14\n",
    "simulation = pd.Series(np.random.binomial(visitors, sign_up_visitors_probability, 1000))\n",
    "plt.hist(simulation, color='green')\n",
    "plt.title('Number of visitors per number of users registered per day')\n",
    "plt.xlabel('Number of users registered per day')\n",
    "plt.ylabel('Number of visitors per day')"
   ]
  },
  {
   "cell_type": "markdown",
   "metadata": {},
   "source": [
    "Produce a set of descriptive statistics for the posterior distribution."
   ]
  },
  {
   "cell_type": "code",
   "execution_count": 75,
   "metadata": {},
   "outputs": [
    {
     "data": {
      "text/plain": [
       "count    1000.000000\n",
       "mean       13.903000\n",
       "std         3.357807\n",
       "min         3.000000\n",
       "25%        12.000000\n",
       "50%        14.000000\n",
       "75%        16.000000\n",
       "max        25.000000\n",
       "dtype: float64"
      ]
     },
     "execution_count": 75,
     "metadata": {},
     "output_type": "execute_result"
    }
   ],
   "source": [
    "simulation.describe()"
   ]
  },
  {
   "cell_type": "markdown",
   "metadata": {},
   "source": [
    "What is the 90% credible interval range?"
   ]
  },
  {
   "cell_type": "code",
   "execution_count": 71,
   "metadata": {},
   "outputs": [
    {
     "data": {
      "text/plain": [
       "(8.522568018443888, 19.985431981556108)"
      ]
     },
     "execution_count": 71,
     "metadata": {},
     "output_type": "execute_result"
    }
   ],
   "source": [
    "mean_simulation = np.mean(simulation)\n",
    "sigma = np.std(simulation)\n",
    "stats.norm.interval(0.90, loc=mean_simulation, scale=sigma)"
   ]
  },
  {
   "cell_type": "markdown",
   "metadata": {},
   "source": [
    "What is the Maximum Likelihood Estimate?"
   ]
  },
  {
   "cell_type": "code",
   "execution_count": null,
   "metadata": {},
   "outputs": [],
   "source": []
  }
 ],
 "metadata": {
  "kernelspec": {
   "display_name": "Python [conda env:data_env]",
   "language": "python",
   "name": "conda-env-data_env-py"
  },
  "language_info": {
   "codemirror_mode": {
    "name": "ipython",
    "version": 3
   },
   "file_extension": ".py",
   "mimetype": "text/x-python",
   "name": "python",
   "nbconvert_exporter": "python",
   "pygments_lexer": "ipython3",
   "version": "3.7.5"
  }
 },
 "nbformat": 4,
 "nbformat_minor": 2
}
