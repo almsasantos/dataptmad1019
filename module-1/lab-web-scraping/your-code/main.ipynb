{
 "cells": [
  {
   "cell_type": "markdown",
   "metadata": {},
   "source": [
    "# Web Scraping Lab\n",
    "\n",
    "You will find in this notebook some scrapy exercises to practise your scraping skills.\n",
    "\n",
    "**Tips:**\n",
    "\n",
    "- Check the response status code for each request to ensure you have obtained the intended contennt.\n",
    "- Print the response text in each request to understand the kind of info you are getting and its format.\n",
    "- Check for patterns in the response text to extract the data/info requested in each question.\n",
    "- Visit each url and take a look at its source through Chrome DevTools. You'll need to identify the html tags, special class names etc. used for the html content you are expected to extract."
   ]
  },
  {
   "cell_type": "markdown",
   "metadata": {},
   "source": [
    "- [Requests library](http://docs.python-requests.org/en/master/#the-user-guide) documentation \n",
    "- [Beautiful Soup Doc](https://www.crummy.com/software/BeautifulSoup/bs4/doc/)\n",
    "- [Urllib](https://docs.python.org/3/library/urllib.html#module-urllib)\n",
    "- [re lib](https://docs.python.org/3/library/re.html)\n",
    "- [lxml lib](https://lxml.de/)\n",
    "- [Scrapy](https://scrapy.org/)\n",
    "- [List of HTTP status codes](https://en.wikipedia.org/wiki/List_of_HTTP_status_codes)\n",
    "- [HTML basics](http://www.simplehtmlguide.com/cheatsheet.php)\n",
    "- [CSS basics](https://www.cssbasics.com/#page_start)"
   ]
  },
  {
   "cell_type": "markdown",
   "metadata": {},
   "source": [
    "#### Below are the libraries and modules you may need. `requests`,  `BeautifulSoup` and `pandas` are imported for you. If you prefer to use additional libraries feel free to uncomment them."
   ]
  },
  {
   "cell_type": "code",
   "execution_count": 1,
   "metadata": {},
   "outputs": [],
   "source": [
    "#!pip install scrapy"
   ]
  },
  {
   "cell_type": "code",
   "execution_count": 2,
   "metadata": {},
   "outputs": [],
   "source": [
    "import requests\n",
    "from bs4 import BeautifulSoup\n",
    "import pandas as pd\n",
    "from pprint import pprint\n",
    "from lxml import html\n",
    "from lxml.html import fromstring\n",
    "import urllib.request\n",
    "from urllib.request import urlopen\n",
    "import random\n",
    "import re\n",
    "import scrapy"
   ]
  },
  {
   "cell_type": "markdown",
   "metadata": {},
   "source": [
    "#### Download, parse (using BeautifulSoup), and print the content from the Trending Developers page from GitHub:"
   ]
  },
  {
   "cell_type": "code",
   "execution_count": 3,
   "metadata": {},
   "outputs": [],
   "source": [
    "# This is the url you will scrape in this exercise\n",
    "url = 'https://github.com/trending/developers'"
   ]
  },
  {
   "cell_type": "code",
   "execution_count": 4,
   "metadata": {},
   "outputs": [],
   "source": [
    "#your code\n",
    "html = requests.get(url).content\n",
    "soup = BeautifulSoup(html, 'lxml')"
   ]
  },
  {
   "cell_type": "markdown",
   "metadata": {},
   "source": [
    "#### Display the names of the trending developers retrieved in the previous step.\n",
    "\n",
    "Your output should be a Python list of developer names. Each name should not contain any html tag.\n",
    "\n",
    "**Instructions:**\n",
    "\n",
    "1. Find out the html tag and class names used for the developer names. You can achieve this using Chrome DevTools.\n",
    "\n",
    "1. Use BeautifulSoup to extract all the html elements that contain the developer names.\n",
    "\n",
    "1. Use string manipulation techniques to replace whitespaces and linebreaks (i.e. `\\n`) in the *text* of each html element. Use a list to store the clean names.\n",
    "\n",
    "1. Print the list of names.\n",
    "\n",
    "Your output should look like below:\n",
    "\n",
    "```\n",
    "['trimstray (@trimstray)',\n",
    " 'joewalnes (JoeWalnes)',\n",
    " 'charlax (Charles-AxelDein)',\n",
    " 'ForrestKnight (ForrestKnight)',\n",
    " 'revery-ui (revery-ui)',\n",
    " 'alibaba (Alibaba)',\n",
    " 'Microsoft (Microsoft)',\n",
    " 'github (GitHub)',\n",
    " 'facebook (Facebook)',\n",
    " 'boazsegev (Bo)',\n",
    " 'google (Google)',\n",
    " 'cloudfetch',\n",
    " 'sindresorhus (SindreSorhus)',\n",
    " 'tensorflow',\n",
    " 'apache (TheApacheSoftwareFoundation)',\n",
    " 'DevonCrawford (DevonCrawford)',\n",
    " 'ARMmbed (ArmMbed)',\n",
    " 'vuejs (vuejs)',\n",
    " 'fastai (fast.ai)',\n",
    " 'QiShaoXuan (Qi)',\n",
    " 'joelparkerhenderson (JoelParkerHenderson)',\n",
    " 'torvalds (LinusTorvalds)',\n",
    " 'CyC2018',\n",
    " 'komeiji-satori (神楽坂覚々)',\n",
    " 'script-8']\n",
    " ```"
   ]
  },
  {
   "cell_type": "code",
   "execution_count": 5,
   "metadata": {},
   "outputs": [
    {
     "data": {
      "text/plain": [
       "['wkentaro',\n",
       " 'aleju',\n",
       " 'fzaninotto',\n",
       " 'guardrex',\n",
       " 'BYK',\n",
       " 'jethrokuan',\n",
       " 'patrickhulce',\n",
       " 'matchai',\n",
       " 'remy',\n",
       " 'JLLeitschuh',\n",
       " 'andreruffert',\n",
       " 'tiangolo',\n",
       " 'ripienaar',\n",
       " 'stefanprodan',\n",
       " 'vektah',\n",
       " 'ziadoz',\n",
       " 'caarlos0',\n",
       " 'iamtrask',\n",
       " 'alexellis',\n",
       " 'balloob',\n",
       " 'ndelangen',\n",
       " 'kylekatarnls',\n",
       " 'normanmaurer',\n",
       " 'shimat']"
      ]
     },
     "execution_count": 5,
     "metadata": {},
     "output_type": "execute_result"
    }
   ],
   "source": [
    "# your code\n",
    "# Get all the abreviations of developers name\n",
    "anchors = soup.find_all('a', {'class': 'link-gray', 'href': True})\n",
    "lista_gral = [anchor['href'] for anchor in anchors]\n",
    "lista_clean = lista_gral[18:42]\n",
    "lista_clean\n",
    "\n",
    "developers = []\n",
    "for k in range(0, len(lista_clean)):\n",
    "    developers.append(re.sub('/', '', str(lista_clean[k])))\n",
    "\n",
    "developers"
   ]
  },
  {
   "cell_type": "code",
   "execution_count": 6,
   "metadata": {},
   "outputs": [
    {
     "data": {
      "text/plain": [
       "['Kentaro Wada',\n",
       " 'Alexander Jung',\n",
       " 'Francois Zaninotto',\n",
       " 'Luke Latham',\n",
       " 'Burak Yigit Kaya',\n",
       " 'Jethro Kuan',\n",
       " 'Patrick Hulce',\n",
       " 'Matan Kushner',\n",
       " 'Remy Sharp',\n",
       " 'Jonathan Leitschuh',\n",
       " 'André Ruffert',\n",
       " 'Sebastián Ramírez',\n",
       " 'R.I.Pienaar',\n",
       " 'Stefan Prodan',\n",
       " 'Adam Scarr',\n",
       " 'Jamie York',\n",
       " 'Carlos Alexandro Becker',\n",
       " 'Andrew Trask',\n",
       " 'Alex Ellis',\n",
       " 'Paulus Schoutsen',\n",
       " 'Norbert de Langen',\n",
       " 'Kyle',\n",
       " 'Norman Maurer',\n",
       " 'shimat',\n",
       " 'Zack Story']"
      ]
     },
     "execution_count": 6,
     "metadata": {},
     "output_type": "execute_result"
    }
   ],
   "source": [
    "# Get all the developers names\n",
    "name_dev = soup.find_all(class_='h3 lh-condensed')\n",
    "final_names = []\n",
    "for i in name_dev:\n",
    "    final_names.append(i.getText().strip())\n",
    "final_names"
   ]
  },
  {
   "cell_type": "code",
   "execution_count": 7,
   "metadata": {},
   "outputs": [
    {
     "data": {
      "text/plain": [
       "['wkentaro (Kentaro Wada)',\n",
       " 'aleju (Alexander Jung)',\n",
       " 'fzaninotto (Francois Zaninotto)',\n",
       " 'guardrex (Luke Latham)',\n",
       " 'BYK (Burak Yigit Kaya)',\n",
       " 'jethrokuan (Jethro Kuan)',\n",
       " 'patrickhulce (Patrick Hulce)',\n",
       " 'matchai (Matan Kushner)',\n",
       " 'remy (Remy Sharp)',\n",
       " 'JLLeitschuh (Jonathan Leitschuh)',\n",
       " 'andreruffert (André Ruffert)',\n",
       " 'tiangolo (Sebastián Ramírez)',\n",
       " 'ripienaar (R.I.Pienaar)',\n",
       " 'stefanprodan (Stefan Prodan)',\n",
       " 'vektah (Adam Scarr)',\n",
       " 'ziadoz (Jamie York)',\n",
       " 'caarlos0 (Carlos Alexandro Becker)',\n",
       " 'iamtrask (Andrew Trask)',\n",
       " 'alexellis (Alex Ellis)',\n",
       " 'balloob (Paulus Schoutsen)',\n",
       " 'ndelangen (Norbert de Langen)',\n",
       " 'kylekatarnls (Kyle)',\n",
       " 'normanmaurer (Norman Maurer)',\n",
       " 'shimat (shimat)']"
      ]
     },
     "execution_count": 7,
     "metadata": {},
     "output_type": "execute_result"
    }
   ],
   "source": [
    "final_list = [developers[i] + ' (' + final_names[i] + ')' for i in range(0, len(developers))]\n",
    "final_list"
   ]
  },
  {
   "cell_type": "markdown",
   "metadata": {},
   "source": [
    "#### Display the trending Python repositories in GitHub\n",
    "\n",
    "The steps to solve this problem is similar to the previous one except that you need to find out the repository names instead of developer names."
   ]
  },
  {
   "cell_type": "code",
   "execution_count": 8,
   "metadata": {},
   "outputs": [],
   "source": [
    "# This is the url you will scrape in this exercise\n",
    "url = 'https://github.com/trending/python?since=daily'\n",
    "html = requests.get(url).content\n",
    "soup = BeautifulSoup(html, 'lxml')"
   ]
  },
  {
   "cell_type": "code",
   "execution_count": 9,
   "metadata": {},
   "outputs": [
    {
     "data": {
      "text/plain": [
       "['TheAlgorithms /\\n\\n\\n\\n      Python',\n",
       " 'deezer /\\n\\n\\n\\n      spleeter',\n",
       " 'OWASP /\\n\\n\\n\\n      CheatSheetSeries',\n",
       " 'tychxn /\\n\\n\\n\\n      jd-assistant',\n",
       " 'swisskyrepo /\\n\\n\\n\\n      PayloadsAllTheThings',\n",
       " 'baowenbo /\\n\\n\\n\\n      DAIN',\n",
       " 'django /\\n\\n\\n\\n      django',\n",
       " 'programthink /\\n\\n\\n\\n      zhao',\n",
       " 'python /\\n\\n\\n\\n      cpython',\n",
       " 'cycz /\\n\\n\\n\\n      jdBuyMask',\n",
       " 'firmai /\\n\\n\\n\\n      atspy',\n",
       " 'zhanyong-wan /\\n\\n\\n\\n      dongbei',\n",
       " 'tamim /\\n\\n\\n\\n      codinginterviewbook',\n",
       " 'Echowxsy /\\n\\n\\n\\n      CMPEDUDownload',\n",
       " 'dingjiansw101 /\\n\\n\\n\\n      AerialDetection',\n",
       " 'horovod /\\n\\n\\n\\n      horovod',\n",
       " 'frappe /\\n\\n\\n\\n      erpnext',\n",
       " 'mlflow /\\n\\n\\n\\n      mlflow',\n",
       " 'HelloZeroNet /\\n\\n\\n\\n      ZeroNet',\n",
       " 'atlassian-labs /\\n\\n\\n\\n      peerd',\n",
       " 'jpetazzo /\\n\\n\\n\\n      container.training',\n",
       " 'StevenBlack /\\n\\n\\n\\n      hosts',\n",
       " 'paramiko /\\n\\n\\n\\n      paramiko',\n",
       " 'pierre-andre-long /\\n\\n\\n\\n      tinder-swipe-ai',\n",
       " 'localstack /\\n\\n\\n\\n      localstack']"
      ]
     },
     "execution_count": 9,
     "metadata": {},
     "output_type": "execute_result"
    }
   ],
   "source": [
    "#your code\n",
    "name_repo = soup.find_all(class_='h3 lh-condensed')\n",
    "repositories = []\n",
    "for i in name_repo:\n",
    "    repositories.append(i.getText().strip())\n",
    "repositories"
   ]
  },
  {
   "cell_type": "code",
   "execution_count": 10,
   "metadata": {},
   "outputs": [
    {
     "data": {
      "text/plain": [
       "'TheAlgorithms      Python'"
      ]
     },
     "execution_count": 10,
     "metadata": {},
     "output_type": "execute_result"
    }
   ],
   "source": [
    "a = re.sub('\\n', '', repositories[0])\n",
    "re.sub(' /','', a)"
   ]
  },
  {
   "cell_type": "markdown",
   "metadata": {},
   "source": [
    "#### Display all the image links from Walt Disney wikipedia page"
   ]
  },
  {
   "cell_type": "code",
   "execution_count": 11,
   "metadata": {},
   "outputs": [],
   "source": [
    "# This is the url you will scrape in this exercise\n",
    "url = 'https://en.wikipedia.org/wiki/Walt_Disney'\n",
    "html = requests.get(url).content\n",
    "soup = BeautifulSoup(html, 'lxml')"
   ]
  },
  {
   "cell_type": "code",
   "execution_count": 12,
   "metadata": {},
   "outputs": [
    {
     "data": {
      "text/plain": [
       "[<a class=\"image\" href=\"/wiki/File:Walt_Disney_1946.JPG\"><img alt=\"Walt Disney 1946.JPG\" data-file-height=\"675\" data-file-width=\"450\" decoding=\"async\" height=\"330\" src=\"//upload.wikimedia.org/wikipedia/commons/thumb/d/df/Walt_Disney_1946.JPG/220px-Walt_Disney_1946.JPG\" srcset=\"//upload.wikimedia.org/wikipedia/commons/thumb/d/df/Walt_Disney_1946.JPG/330px-Walt_Disney_1946.JPG 1.5x, //upload.wikimedia.org/wikipedia/commons/thumb/d/df/Walt_Disney_1946.JPG/440px-Walt_Disney_1946.JPG 2x\" width=\"220\"/></a>,\n",
       " <a class=\"image\" href=\"/wiki/File:Walt_Disney_1942_signature.svg\"><img alt=\"Walt Disney 1942 signature.svg\" data-file-height=\"218\" data-file-width=\"585\" decoding=\"async\" height=\"56\" src=\"//upload.wikimedia.org/wikipedia/commons/thumb/8/87/Walt_Disney_1942_signature.svg/150px-Walt_Disney_1942_signature.svg.png\" srcset=\"//upload.wikimedia.org/wikipedia/commons/thumb/8/87/Walt_Disney_1942_signature.svg/225px-Walt_Disney_1942_signature.svg.png 1.5x, //upload.wikimedia.org/wikipedia/commons/thumb/8/87/Walt_Disney_1942_signature.svg/300px-Walt_Disney_1942_signature.svg.png 2x\" width=\"150\"/></a>,\n",
       " <a class=\"image\" href=\"/wiki/File:Walt_Disney_envelope_ca._1921.jpg\"><img alt=\"\" class=\"thumbimage\" data-file-height=\"1086\" data-file-width=\"1576\" decoding=\"async\" height=\"152\" src=\"//upload.wikimedia.org/wikipedia/commons/thumb/c/c4/Walt_Disney_envelope_ca._1921.jpg/220px-Walt_Disney_envelope_ca._1921.jpg\" srcset=\"//upload.wikimedia.org/wikipedia/commons/thumb/c/c4/Walt_Disney_envelope_ca._1921.jpg/330px-Walt_Disney_envelope_ca._1921.jpg 1.5x, //upload.wikimedia.org/wikipedia/commons/thumb/c/c4/Walt_Disney_envelope_ca._1921.jpg/440px-Walt_Disney_envelope_ca._1921.jpg 2x\" width=\"220\"/></a>,\n",
       " <a class=\"image\" href=\"/wiki/File:Trolley_Troubles_poster.jpg\"><img alt=\"A cartoon rabbit is driving a tramcar; other cartoon rabbits are in, under, on and around the car.\" class=\"thumbimage\" data-file-height=\"1600\" data-file-width=\"1202\" decoding=\"async\" height=\"226\" src=\"//upload.wikimedia.org/wikipedia/commons/thumb/0/0d/Trolley_Troubles_poster.jpg/170px-Trolley_Troubles_poster.jpg\" srcset=\"//upload.wikimedia.org/wikipedia/commons/thumb/0/0d/Trolley_Troubles_poster.jpg/255px-Trolley_Troubles_poster.jpg 1.5x, //upload.wikimedia.org/wikipedia/commons/thumb/0/0d/Trolley_Troubles_poster.jpg/340px-Trolley_Troubles_poster.jpg 2x\" width=\"170\"/></a>,\n",
       " <a class=\"image\" href=\"/wiki/File:Walt_Disney_and_his_cartoon_creation_%22Mickey_Mouse%22_-_National_Board_of_Review_Magazine.jpg\"><img alt=\"Walt Disney with Mickey Mouse\" class=\"thumbimage\" data-file-height=\"1028\" data-file-width=\"915\" decoding=\"async\" height=\"191\" src=\"//upload.wikimedia.org/wikipedia/commons/thumb/7/71/Walt_Disney_and_his_cartoon_creation_%22Mickey_Mouse%22_-_National_Board_of_Review_Magazine.jpg/170px-Walt_Disney_and_his_cartoon_creation_%22Mickey_Mouse%22_-_National_Board_of_Review_Magazine.jpg\" srcset=\"//upload.wikimedia.org/wikipedia/commons/thumb/7/71/Walt_Disney_and_his_cartoon_creation_%22Mickey_Mouse%22_-_National_Board_of_Review_Magazine.jpg/255px-Walt_Disney_and_his_cartoon_creation_%22Mickey_Mouse%22_-_National_Board_of_Review_Magazine.jpg 1.5x, //upload.wikimedia.org/wikipedia/commons/thumb/7/71/Walt_Disney_and_his_cartoon_creation_%22Mickey_Mouse%22_-_National_Board_of_Review_Magazine.jpg/340px-Walt_Disney_and_his_cartoon_creation_%22Mickey_Mouse%22_-_National_Board_of_Review_Magazine.jpg 2x\" width=\"170\"/></a>,\n",
       " <a class=\"image\" href=\"/wiki/File:Steamboat-willie.jpg\"><img alt=\"A cartoon mouse is operating a ship's steering wheel\" class=\"thumbimage\" data-file-height=\"267\" data-file-width=\"373\" decoding=\"async\" height=\"122\" src=\"//upload.wikimedia.org/wikipedia/en/thumb/4/4e/Steamboat-willie.jpg/170px-Steamboat-willie.jpg\" srcset=\"//upload.wikimedia.org/wikipedia/en/thumb/4/4e/Steamboat-willie.jpg/255px-Steamboat-willie.jpg 1.5x, //upload.wikimedia.org/wikipedia/en/thumb/4/4e/Steamboat-willie.jpg/340px-Steamboat-willie.jpg 2x\" width=\"170\"/></a>,\n",
       " <a class=\"image\" href=\"/wiki/File:Walt_Disney_1935.jpg\"><img alt=\"\" class=\"thumbimage\" data-file-height=\"451\" data-file-width=\"358\" decoding=\"async\" height=\"214\" src=\"//upload.wikimedia.org/wikipedia/commons/thumb/5/57/Walt_Disney_1935.jpg/170px-Walt_Disney_1935.jpg\" srcset=\"//upload.wikimedia.org/wikipedia/commons/thumb/5/57/Walt_Disney_1935.jpg/255px-Walt_Disney_1935.jpg 1.5x, //upload.wikimedia.org/wikipedia/commons/thumb/5/57/Walt_Disney_1935.jpg/340px-Walt_Disney_1935.jpg 2x\" width=\"170\"/></a>,\n",
       " <a class=\"image\" href=\"/wiki/File:Walt_Disney_Snow_white_1937_trailer_screenshot_(13).jpg\"><img alt=\"Walt Disney sits in front of a set of models of the seven dwarfs\" class=\"thumbimage\" data-file-height=\"388\" data-file-width=\"500\" decoding=\"async\" height=\"171\" src=\"//upload.wikimedia.org/wikipedia/commons/thumb/c/cd/Walt_Disney_Snow_white_1937_trailer_screenshot_%2813%29.jpg/220px-Walt_Disney_Snow_white_1937_trailer_screenshot_%2813%29.jpg\" srcset=\"//upload.wikimedia.org/wikipedia/commons/thumb/c/cd/Walt_Disney_Snow_white_1937_trailer_screenshot_%2813%29.jpg/330px-Walt_Disney_Snow_white_1937_trailer_screenshot_%2813%29.jpg 1.5x, //upload.wikimedia.org/wikipedia/commons/thumb/c/cd/Walt_Disney_Snow_white_1937_trailer_screenshot_%2813%29.jpg/440px-Walt_Disney_Snow_white_1937_trailer_screenshot_%2813%29.jpg 2x\" width=\"220\"/></a>,\n",
       " <a class=\"image\" href=\"/wiki/File:Disney_drawing_goofy.jpg\"><img alt=\"\" class=\"thumbimage\" data-file-height=\"770\" data-file-width=\"600\" decoding=\"async\" height=\"218\" src=\"//upload.wikimedia.org/wikipedia/commons/thumb/1/15/Disney_drawing_goofy.jpg/170px-Disney_drawing_goofy.jpg\" srcset=\"//upload.wikimedia.org/wikipedia/commons/thumb/1/15/Disney_drawing_goofy.jpg/255px-Disney_drawing_goofy.jpg 1.5x, //upload.wikimedia.org/wikipedia/commons/thumb/1/15/Disney_drawing_goofy.jpg/340px-Disney_drawing_goofy.jpg 2x\" width=\"170\"/></a>,\n",
       " <a class=\"image\" href=\"/wiki/File:DisneySchiphol1951.jpg\"><img alt=\"\" class=\"thumbimage\" data-file-height=\"2493\" data-file-width=\"3247\" decoding=\"async\" height=\"169\" src=\"//upload.wikimedia.org/wikipedia/commons/thumb/1/13/DisneySchiphol1951.jpg/220px-DisneySchiphol1951.jpg\" srcset=\"//upload.wikimedia.org/wikipedia/commons/thumb/1/13/DisneySchiphol1951.jpg/330px-DisneySchiphol1951.jpg 1.5x, //upload.wikimedia.org/wikipedia/commons/thumb/1/13/DisneySchiphol1951.jpg/440px-DisneySchiphol1951.jpg 2x\" width=\"220\"/></a>,\n",
       " <a class=\"image\" href=\"/wiki/File:WaltDisneyplansDisneylandDec1954.jpg\"><img alt=\"\" class=\"thumbimage\" data-file-height=\"2417\" data-file-width=\"2723\" decoding=\"async\" height=\"195\" src=\"//upload.wikimedia.org/wikipedia/commons/thumb/8/8c/WaltDisneyplansDisneylandDec1954.jpg/220px-WaltDisneyplansDisneylandDec1954.jpg\" srcset=\"//upload.wikimedia.org/wikipedia/commons/thumb/8/8c/WaltDisneyplansDisneylandDec1954.jpg/330px-WaltDisneyplansDisneylandDec1954.jpg 1.5x, //upload.wikimedia.org/wikipedia/commons/thumb/8/8c/WaltDisneyplansDisneylandDec1954.jpg/440px-WaltDisneyplansDisneylandDec1954.jpg 2x\" width=\"220\"/></a>,\n",
       " <a class=\"image\" href=\"/wiki/File:Walt_disney_portrait_right.jpg\"><img alt=\"\" class=\"thumbimage\" data-file-height=\"902\" data-file-width=\"667\" decoding=\"async\" height=\"230\" src=\"//upload.wikimedia.org/wikipedia/commons/thumb/f/ff/Walt_disney_portrait_right.jpg/170px-Walt_disney_portrait_right.jpg\" srcset=\"//upload.wikimedia.org/wikipedia/commons/thumb/f/ff/Walt_disney_portrait_right.jpg/255px-Walt_disney_portrait_right.jpg 1.5x, //upload.wikimedia.org/wikipedia/commons/thumb/f/ff/Walt_disney_portrait_right.jpg/340px-Walt_disney_portrait_right.jpg 2x\" width=\"170\"/></a>,\n",
       " <a class=\"image\" href=\"/wiki/File:Walt_Disney_Grave.JPG\"><img alt=\"A gravestone inscribed 'Walter Elias Disney', 'Lillian Bounds Disney', 'Robert B. Brown', Sharon Disney Brown Lund ashes scattered in paradise'\" class=\"thumbimage\" data-file-height=\"1700\" data-file-width=\"1400\" decoding=\"async\" height=\"206\" src=\"//upload.wikimedia.org/wikipedia/commons/thumb/1/1a/Walt_Disney_Grave.JPG/170px-Walt_Disney_Grave.JPG\" srcset=\"//upload.wikimedia.org/wikipedia/commons/thumb/1/1a/Walt_Disney_Grave.JPG/255px-Walt_Disney_Grave.JPG 1.5x, //upload.wikimedia.org/wikipedia/commons/thumb/1/1a/Walt_Disney_Grave.JPG/340px-Walt_Disney_Grave.JPG 2x\" width=\"170\"/></a>,\n",
       " <a class=\"image\" href=\"/wiki/File:Roy_O._Disney_with_Company_at_Press_Conference.jpg\"><img alt=\"\" class=\"thumbimage\" data-file-height=\"275\" data-file-width=\"220\" decoding=\"async\" height=\"213\" src=\"//upload.wikimedia.org/wikipedia/commons/thumb/2/2d/Roy_O._Disney_with_Company_at_Press_Conference.jpg/170px-Roy_O._Disney_with_Company_at_Press_Conference.jpg\" srcset=\"//upload.wikimedia.org/wikipedia/commons/2/2d/Roy_O._Disney_with_Company_at_Press_Conference.jpg 1.5x\" width=\"170\"/></a>,\n",
       " <a class=\"image\" href=\"/wiki/File:Disney_Display_Case.JPG\"><img alt=\"\" class=\"thumbimage\" data-file-height=\"3025\" data-file-width=\"1927\" decoding=\"async\" height=\"267\" src=\"//upload.wikimedia.org/wikipedia/commons/thumb/a/a9/Disney_Display_Case.JPG/170px-Disney_Display_Case.JPG\" srcset=\"//upload.wikimedia.org/wikipedia/commons/thumb/a/a9/Disney_Display_Case.JPG/255px-Disney_Display_Case.JPG 1.5x, //upload.wikimedia.org/wikipedia/commons/thumb/a/a9/Disney_Display_Case.JPG/340px-Disney_Display_Case.JPG 2x\" width=\"170\"/></a>,\n",
       " <a class=\"image\" href=\"/wiki/File:Disney1968.jpg\"><img alt=\"A portrait of Disney with cartoon representations of different nationalities on a 6 cent US stamp\" class=\"thumbimage\" data-file-height=\"286\" data-file-width=\"190\" decoding=\"async\" height=\"256\" src=\"//upload.wikimedia.org/wikipedia/commons/thumb/6/6c/Disney1968.jpg/170px-Disney1968.jpg\" srcset=\"//upload.wikimedia.org/wikipedia/commons/6/6c/Disney1968.jpg 1.5x\" width=\"170\"/></a>,\n",
       " <a class=\"image\" href=\"/wiki/File:The_Walt_Disney_Company_Logo.svg\"><img alt=\"The Walt Disney Company Logo.svg\" data-file-height=\"135\" data-file-width=\"890\" decoding=\"async\" height=\"18\" src=\"//upload.wikimedia.org/wikipedia/commons/thumb/4/44/The_Walt_Disney_Company_Logo.svg/120px-The_Walt_Disney_Company_Logo.svg.png\" srcset=\"//upload.wikimedia.org/wikipedia/commons/thumb/4/44/The_Walt_Disney_Company_Logo.svg/180px-The_Walt_Disney_Company_Logo.svg.png 1.5x, //upload.wikimedia.org/wikipedia/commons/thumb/4/44/The_Walt_Disney_Company_Logo.svg/240px-The_Walt_Disney_Company_Logo.svg.png 2x\" width=\"120\"/></a>,\n",
       " <a class=\"image\" href=\"/wiki/File:Animation_disc.svg\"><img alt=\"Animation disc.svg\" data-file-height=\"28\" data-file-width=\"30\" decoding=\"async\" height=\"28\" src=\"//upload.wikimedia.org/wikipedia/commons/thumb/d/da/Animation_disc.svg/30px-Animation_disc.svg.png\" srcset=\"//upload.wikimedia.org/wikipedia/commons/thumb/d/da/Animation_disc.svg/45px-Animation_disc.svg.png 1.5x, //upload.wikimedia.org/wikipedia/commons/thumb/d/da/Animation_disc.svg/60px-Animation_disc.svg.png 2x\" width=\"30\"/></a>,\n",
       " <a class=\"image\" href=\"/wiki/File:P_vip.svg\"><img alt=\"P vip.svg\" data-file-height=\"1944\" data-file-width=\"1911\" decoding=\"async\" height=\"30\" src=\"//upload.wikimedia.org/wikipedia/en/thumb/6/69/P_vip.svg/29px-P_vip.svg.png\" srcset=\"//upload.wikimedia.org/wikipedia/en/thumb/6/69/P_vip.svg/44px-P_vip.svg.png 1.5x, //upload.wikimedia.org/wikipedia/en/thumb/6/69/P_vip.svg/59px-P_vip.svg.png 2x\" width=\"29\"/></a>,\n",
       " <a class=\"image\" href=\"/wiki/File:Magic_Kingdom_castle.jpg\"><img alt=\"Magic Kingdom castle.jpg\" data-file-height=\"1545\" data-file-width=\"1262\" decoding=\"async\" height=\"30\" src=\"//upload.wikimedia.org/wikipedia/commons/thumb/1/1a/Magic_Kingdom_castle.jpg/24px-Magic_Kingdom_castle.jpg\" srcset=\"//upload.wikimedia.org/wikipedia/commons/thumb/1/1a/Magic_Kingdom_castle.jpg/37px-Magic_Kingdom_castle.jpg 1.5x, //upload.wikimedia.org/wikipedia/commons/thumb/1/1a/Magic_Kingdom_castle.jpg/49px-Magic_Kingdom_castle.jpg 2x\" width=\"24\"/></a>,\n",
       " <a class=\"image\" href=\"/wiki/File:Video-x-generic.svg\"><img alt=\"Video-x-generic.svg\" data-file-height=\"48\" data-file-width=\"48\" decoding=\"async\" height=\"30\" src=\"//upload.wikimedia.org/wikipedia/en/thumb/e/e7/Video-x-generic.svg/30px-Video-x-generic.svg.png\" srcset=\"//upload.wikimedia.org/wikipedia/en/thumb/e/e7/Video-x-generic.svg/45px-Video-x-generic.svg.png 1.5x, //upload.wikimedia.org/wikipedia/en/thumb/e/e7/Video-x-generic.svg/60px-Video-x-generic.svg.png 2x\" width=\"30\"/></a>,\n",
       " <a class=\"image\" href=\"/wiki/File:Flag_of_Los_Angeles_County,_California.svg\"><img alt=\"Flag of Los Angeles County, California.svg\" data-file-height=\"913\" data-file-width=\"1522\" decoding=\"async\" height=\"18\" src=\"//upload.wikimedia.org/wikipedia/commons/thumb/a/a3/Flag_of_Los_Angeles_County%2C_California.svg/30px-Flag_of_Los_Angeles_County%2C_California.svg.png\" srcset=\"//upload.wikimedia.org/wikipedia/commons/thumb/a/a3/Flag_of_Los_Angeles_County%2C_California.svg/45px-Flag_of_Los_Angeles_County%2C_California.svg.png 1.5x, //upload.wikimedia.org/wikipedia/commons/thumb/a/a3/Flag_of_Los_Angeles_County%2C_California.svg/60px-Flag_of_Los_Angeles_County%2C_California.svg.png 2x\" width=\"30\"/></a>,\n",
       " <a class=\"image\" href=\"/wiki/File:Blank_television_set.svg\"><img alt=\"Blank television set.svg\" data-file-height=\"92\" data-file-width=\"138\" decoding=\"async\" height=\"20\" src=\"//upload.wikimedia.org/wikipedia/commons/thumb/8/8c/Blank_television_set.svg/30px-Blank_television_set.svg.png\" srcset=\"//upload.wikimedia.org/wikipedia/commons/thumb/8/8c/Blank_television_set.svg/45px-Blank_television_set.svg.png 1.5x, //upload.wikimedia.org/wikipedia/commons/thumb/8/8c/Blank_television_set.svg/60px-Blank_television_set.svg.png 2x\" width=\"30\"/></a>,\n",
       " <a class=\"image\" href=\"/wiki/File:Flag_of_the_United_States.svg\"><img alt=\"Flag of the United States.svg\" data-file-height=\"650\" data-file-width=\"1235\" decoding=\"async\" height=\"16\" src=\"//upload.wikimedia.org/wikipedia/en/thumb/a/a4/Flag_of_the_United_States.svg/30px-Flag_of_the_United_States.svg.png\" srcset=\"//upload.wikimedia.org/wikipedia/en/thumb/a/a4/Flag_of_the_United_States.svg/45px-Flag_of_the_United_States.svg.png 1.5x, //upload.wikimedia.org/wikipedia/en/thumb/a/a4/Flag_of_the_United_States.svg/60px-Flag_of_the_United_States.svg.png 2x\" width=\"30\"/></a>]"
      ]
     },
     "execution_count": 12,
     "metadata": {},
     "output_type": "execute_result"
    }
   ],
   "source": [
    "image_list = soup.find_all(class_=\"image\")\n",
    "image_list"
   ]
  },
  {
   "cell_type": "code",
   "execution_count": 13,
   "metadata": {},
   "outputs": [
    {
     "data": {
      "text/plain": [
       "'/wiki/File:Walt_Disney_1946.JPG'"
      ]
     },
     "metadata": {},
     "output_type": "display_data"
    },
    {
     "data": {
      "text/plain": [
       "'/wiki/File:Walt_Disney_1942_signature.svg'"
      ]
     },
     "metadata": {},
     "output_type": "display_data"
    },
    {
     "data": {
      "text/plain": [
       "'/wiki/File:Walt_Disney_envelope_ca._1921.jpg'"
      ]
     },
     "metadata": {},
     "output_type": "display_data"
    },
    {
     "data": {
      "text/plain": [
       "'/wiki/File:Trolley_Troubles_poster.jpg'"
      ]
     },
     "metadata": {},
     "output_type": "display_data"
    },
    {
     "data": {
      "text/plain": [
       "'/wiki/File:Walt_Disney_and_his_cartoon_creation_%22Mickey_Mouse%22_-_National_Board_of_Review_Magazine.jpg'"
      ]
     },
     "metadata": {},
     "output_type": "display_data"
    },
    {
     "data": {
      "text/plain": [
       "'/wiki/File:Steamboat-willie.jpg'"
      ]
     },
     "metadata": {},
     "output_type": "display_data"
    },
    {
     "data": {
      "text/plain": [
       "'/wiki/File:Walt_Disney_1935.jpg'"
      ]
     },
     "metadata": {},
     "output_type": "display_data"
    },
    {
     "data": {
      "text/plain": [
       "'/wiki/File:Walt_Disney_Snow_white_1937_trailer_screenshot_(13).jpg'"
      ]
     },
     "metadata": {},
     "output_type": "display_data"
    },
    {
     "data": {
      "text/plain": [
       "'/wiki/File:Disney_drawing_goofy.jpg'"
      ]
     },
     "metadata": {},
     "output_type": "display_data"
    },
    {
     "data": {
      "text/plain": [
       "'/wiki/File:DisneySchiphol1951.jpg'"
      ]
     },
     "metadata": {},
     "output_type": "display_data"
    },
    {
     "data": {
      "text/plain": [
       "'/wiki/File:WaltDisneyplansDisneylandDec1954.jpg'"
      ]
     },
     "metadata": {},
     "output_type": "display_data"
    },
    {
     "data": {
      "text/plain": [
       "'/wiki/File:Walt_disney_portrait_right.jpg'"
      ]
     },
     "metadata": {},
     "output_type": "display_data"
    },
    {
     "data": {
      "text/plain": [
       "'/wiki/File:Walt_Disney_Grave.JPG'"
      ]
     },
     "metadata": {},
     "output_type": "display_data"
    },
    {
     "data": {
      "text/plain": [
       "'/wiki/File:Roy_O._Disney_with_Company_at_Press_Conference.jpg'"
      ]
     },
     "metadata": {},
     "output_type": "display_data"
    },
    {
     "data": {
      "text/plain": [
       "'/wiki/File:Disney_Display_Case.JPG'"
      ]
     },
     "metadata": {},
     "output_type": "display_data"
    },
    {
     "data": {
      "text/plain": [
       "'/wiki/File:Disney1968.jpg'"
      ]
     },
     "metadata": {},
     "output_type": "display_data"
    },
    {
     "data": {
      "text/plain": [
       "'/wiki/File:The_Walt_Disney_Company_Logo.svg'"
      ]
     },
     "metadata": {},
     "output_type": "display_data"
    },
    {
     "data": {
      "text/plain": [
       "'/wiki/File:Animation_disc.svg'"
      ]
     },
     "metadata": {},
     "output_type": "display_data"
    },
    {
     "data": {
      "text/plain": [
       "'/wiki/File:P_vip.svg'"
      ]
     },
     "metadata": {},
     "output_type": "display_data"
    },
    {
     "data": {
      "text/plain": [
       "'/wiki/File:Magic_Kingdom_castle.jpg'"
      ]
     },
     "metadata": {},
     "output_type": "display_data"
    },
    {
     "data": {
      "text/plain": [
       "'/wiki/File:Video-x-generic.svg'"
      ]
     },
     "metadata": {},
     "output_type": "display_data"
    },
    {
     "data": {
      "text/plain": [
       "'/wiki/File:Flag_of_Los_Angeles_County,_California.svg'"
      ]
     },
     "metadata": {},
     "output_type": "display_data"
    },
    {
     "data": {
      "text/plain": [
       "'/wiki/File:Blank_television_set.svg'"
      ]
     },
     "metadata": {},
     "output_type": "display_data"
    },
    {
     "data": {
      "text/plain": [
       "'/wiki/File:Flag_of_the_United_States.svg'"
      ]
     },
     "metadata": {},
     "output_type": "display_data"
    }
   ],
   "source": [
    "# Getting all the links images in the web page:\n",
    "for link in image_list:\n",
    "    display(link['href'])"
   ]
  },
  {
   "cell_type": "markdown",
   "metadata": {},
   "source": [
    "#### Retrieve an arbitary Wikipedia page of \"Python\" and create a list of links on that page"
   ]
  },
  {
   "cell_type": "code",
   "execution_count": 14,
   "metadata": {},
   "outputs": [],
   "source": [
    "# This is the url you will scrape in this exercise\n",
    "url ='https://en.wikipedia.org/wiki/Python' \n",
    "html = requests.get(url).content\n",
    "soup = BeautifulSoup(html, 'lxml')"
   ]
  },
  {
   "cell_type": "code",
   "execution_count": 15,
   "metadata": {},
   "outputs": [
    {
     "data": {
      "text/plain": [
       "['#mw-head',\n",
       " '#p-search',\n",
       " 'https://en.wiktionary.org/wiki/Python',\n",
       " 'https://en.wiktionary.org/wiki/python',\n",
       " '#Snakes',\n",
       " '#Ancient_Greece',\n",
       " '#Media_and_entertainment',\n",
       " '#Computing',\n",
       " '#Engineering',\n",
       " '#Roller_coasters',\n",
       " '#Vehicles',\n",
       " '#Weaponry',\n",
       " '#People',\n",
       " '#Other_uses',\n",
       " '#See_also',\n",
       " '/w/index.php?title=Python&action=edit&section=1',\n",
       " '/wiki/Pythonidae',\n",
       " '/wiki/Python_(genus)',\n",
       " '/w/index.php?title=Python&action=edit&section=2',\n",
       " '/wiki/Python_(mythology)',\n",
       " '/wiki/Python_of_Aenus',\n",
       " '/wiki/Python_(painter)',\n",
       " '/wiki/Python_of_Byzantium',\n",
       " '/wiki/Python_of_Catana',\n",
       " '/w/index.php?title=Python&action=edit&section=3',\n",
       " '/wiki/Python_(film)',\n",
       " '/wiki/Pythons_2',\n",
       " '/wiki/Monty_Python',\n",
       " '/wiki/Python_(Monty)_Pictures',\n",
       " '/w/index.php?title=Python&action=edit&section=4',\n",
       " '/wiki/Python_(programming_language)',\n",
       " '/wiki/CPython',\n",
       " '/wiki/CMU_Common_Lisp',\n",
       " '/wiki/PERQ#PERQ_3',\n",
       " '/w/index.php?title=Python&action=edit&section=5',\n",
       " '/w/index.php?title=Python&action=edit&section=6',\n",
       " '/wiki/Python_(Busch_Gardens_Tampa_Bay)',\n",
       " '/wiki/Python_(Coney_Island,_Cincinnati,_Ohio)',\n",
       " '/wiki/Python_(Efteling)',\n",
       " '/w/index.php?title=Python&action=edit&section=7',\n",
       " '/wiki/Python_(automobile_maker)',\n",
       " '/wiki/Python_(Ford_prototype)',\n",
       " '/w/index.php?title=Python&action=edit&section=8',\n",
       " '/wiki/Colt_Python',\n",
       " '/wiki/Python_(missile)',\n",
       " '/wiki/Python_(nuclear_primary)',\n",
       " '/w/index.php?title=Python&action=edit&section=9',\n",
       " '/wiki/Python_Anghelo',\n",
       " '/w/index.php?title=Python&action=edit&section=10',\n",
       " '/wiki/PYTHON',\n",
       " '/w/index.php?title=Python&action=edit&section=11',\n",
       " '/wiki/Cython',\n",
       " '/wiki/Pyton',\n",
       " '/wiki/File:Disambig_gray.svg',\n",
       " '/wiki/Help:Disambiguation',\n",
       " 'https://en.wikipedia.org/w/index.php?title=Special:WhatLinksHere/Python&namespace=0',\n",
       " 'https://en.wikipedia.org/w/index.php?title=Python&oldid=937840393',\n",
       " '/wiki/Help:Category',\n",
       " '/wiki/Category:Disambiguation_pages',\n",
       " '/wiki/Category:Disambiguation_pages_with_short_description',\n",
       " '/wiki/Category:All_article_disambiguation_pages',\n",
       " '/wiki/Category:All_disambiguation_pages',\n",
       " '/wiki/Category:Animal_common_name_disambiguation_pages',\n",
       " '/wiki/Special:MyTalk',\n",
       " '/wiki/Special:MyContributions',\n",
       " '/w/index.php?title=Special:CreateAccount&returnto=Python',\n",
       " '/w/index.php?title=Special:UserLogin&returnto=Python',\n",
       " '/wiki/Python',\n",
       " '/wiki/Talk:Python',\n",
       " '/wiki/Python',\n",
       " '/w/index.php?title=Python&action=edit',\n",
       " '/w/index.php?title=Python&action=history',\n",
       " '/wiki/Main_Page',\n",
       " '/wiki/Main_Page',\n",
       " '/wiki/Wikipedia:Contents',\n",
       " '/wiki/Wikipedia:Featured_content',\n",
       " '/wiki/Portal:Current_events',\n",
       " '/wiki/Special:Random',\n",
       " 'https://donate.wikimedia.org/wiki/Special:FundraiserRedirector?utm_source=donate&utm_medium=sidebar&utm_campaign=C13_en.wikipedia.org&uselang=en',\n",
       " '//shop.wikimedia.org',\n",
       " '/wiki/Help:Contents',\n",
       " '/wiki/Wikipedia:About',\n",
       " '/wiki/Wikipedia:Community_portal',\n",
       " '/wiki/Special:RecentChanges',\n",
       " '//en.wikipedia.org/wiki/Wikipedia:Contact_us',\n",
       " '/wiki/Special:WhatLinksHere/Python',\n",
       " '/wiki/Special:RecentChangesLinked/Python',\n",
       " '/wiki/Wikipedia:File_Upload_Wizard',\n",
       " '/wiki/Special:SpecialPages',\n",
       " '/w/index.php?title=Python&oldid=937840393',\n",
       " '/w/index.php?title=Python&action=info',\n",
       " 'https://www.wikidata.org/wiki/Special:EntityPage/Q747452',\n",
       " '/w/index.php?title=Special:CiteThisPage&page=Python&id=937840393',\n",
       " 'https://commons.wikimedia.org/wiki/Category:Python',\n",
       " '/w/index.php?title=Special:Book&bookcmd=book_creator&referer=Python',\n",
       " '/w/index.php?title=Special:ElectronPdf&page=Python&action=show-download-screen',\n",
       " '/w/index.php?title=Python&printable=yes',\n",
       " 'https://af.wikipedia.org/wiki/Python',\n",
       " 'https://als.wikipedia.org/wiki/Python',\n",
       " 'https://az.wikipedia.org/wiki/Python',\n",
       " 'https://bn.wikipedia.org/wiki/%E0%A6%AA%E0%A6%BE%E0%A6%87%E0%A6%A5%E0%A6%A8_(%E0%A6%A6%E0%A7%8D%E0%A6%AC%E0%A7%8D%E0%A6%AF%E0%A6%B0%E0%A7%8D%E0%A6%A5%E0%A6%A4%E0%A6%BE_%E0%A6%A8%E0%A6%BF%E0%A6%B0%E0%A6%B8%E0%A6%A8)',\n",
       " 'https://be.wikipedia.org/wiki/Python',\n",
       " 'https://bg.wikipedia.org/wiki/%D0%9F%D0%B8%D1%82%D0%BE%D0%BD_(%D0%BF%D0%BE%D1%8F%D1%81%D0%BD%D0%B5%D0%BD%D0%B8%D0%B5)',\n",
       " 'https://cs.wikipedia.org/wiki/Python_(rozcestn%C3%ADk)',\n",
       " 'https://da.wikipedia.org/wiki/Python',\n",
       " 'https://de.wikipedia.org/wiki/Python',\n",
       " 'https://eo.wikipedia.org/wiki/Pitono_(apartigilo)',\n",
       " 'https://eu.wikipedia.org/wiki/Python_(argipena)',\n",
       " 'https://fa.wikipedia.org/wiki/%D9%BE%D8%A7%DB%8C%D8%AA%D9%88%D9%86',\n",
       " 'https://fr.wikipedia.org/wiki/Python',\n",
       " 'https://ko.wikipedia.org/wiki/%ED%8C%8C%EC%9D%B4%EC%84%A0',\n",
       " 'https://hr.wikipedia.org/wiki/Python_(razdvojba)',\n",
       " 'https://io.wikipedia.org/wiki/Pitono',\n",
       " 'https://id.wikipedia.org/wiki/Python',\n",
       " 'https://ia.wikipedia.org/wiki/Python_(disambiguation)',\n",
       " 'https://is.wikipedia.org/wiki/Python_(a%C3%B0greining)',\n",
       " 'https://it.wikipedia.org/wiki/Python_(disambigua)',\n",
       " 'https://he.wikipedia.org/wiki/%D7%A4%D7%99%D7%AA%D7%95%D7%9F',\n",
       " 'https://ka.wikipedia.org/wiki/%E1%83%9E%E1%83%98%E1%83%97%E1%83%9D%E1%83%9C%E1%83%98_(%E1%83%9B%E1%83%A0%E1%83%90%E1%83%95%E1%83%90%E1%83%9A%E1%83%9B%E1%83%9C%E1%83%98%E1%83%A8%E1%83%95%E1%83%9C%E1%83%94%E1%83%9A%E1%83%9D%E1%83%95%E1%83%90%E1%83%9C%E1%83%98)',\n",
       " 'https://kg.wikipedia.org/wiki/Mboma_(nyoka)',\n",
       " 'https://la.wikipedia.org/wiki/Python_(discretiva)',\n",
       " 'https://lb.wikipedia.org/wiki/Python',\n",
       " 'https://hu.wikipedia.org/wiki/Python_(egy%C3%A9rtelm%C5%B1s%C3%ADt%C5%91_lap)',\n",
       " 'https://mr.wikipedia.org/wiki/%E0%A4%AA%E0%A4%BE%E0%A4%AF%E0%A4%A5%E0%A5%89%E0%A4%A8_(%E0%A4%86%E0%A4%9C%E0%A5%8D%E0%A4%9E%E0%A4%BE%E0%A4%B5%E0%A4%B2%E0%A5%80_%E0%A4%AD%E0%A4%BE%E0%A4%B7%E0%A4%BE)',\n",
       " 'https://nl.wikipedia.org/wiki/Python',\n",
       " 'https://ja.wikipedia.org/wiki/%E3%83%91%E3%82%A4%E3%82%BD%E3%83%B3',\n",
       " 'https://no.wikipedia.org/wiki/Pyton',\n",
       " 'https://pl.wikipedia.org/wiki/Pyton',\n",
       " 'https://pt.wikipedia.org/wiki/Python_(desambigua%C3%A7%C3%A3o)',\n",
       " 'https://ru.wikipedia.org/wiki/Python_(%D0%B7%D0%BD%D0%B0%D1%87%D0%B5%D0%BD%D0%B8%D1%8F)',\n",
       " 'https://sk.wikipedia.org/wiki/Python',\n",
       " 'https://sr.wikipedia.org/wiki/%D0%9F%D0%B8%D1%82%D0%BE%D0%BD_(%D0%B2%D0%B8%D1%88%D0%B5%D0%B7%D0%BD%D0%B0%D1%87%D0%BD%D0%B0_%D0%BE%D0%B4%D1%80%D0%B5%D0%B4%D0%BD%D0%B8%D1%86%D0%B0)',\n",
       " 'https://sh.wikipedia.org/wiki/Python',\n",
       " 'https://fi.wikipedia.org/wiki/Python',\n",
       " 'https://sv.wikipedia.org/wiki/Pyton',\n",
       " 'https://th.wikipedia.org/wiki/%E0%B9%84%E0%B8%9E%E0%B8%97%E0%B8%AD%E0%B8%99',\n",
       " 'https://tr.wikipedia.org/wiki/Python',\n",
       " 'https://uk.wikipedia.org/wiki/%D0%9F%D1%96%D1%84%D0%BE%D0%BD',\n",
       " 'https://ur.wikipedia.org/wiki/%D9%BE%D8%A7%D8%A6%DB%8C%D8%AA%DA%BE%D9%88%D9%86',\n",
       " 'https://vi.wikipedia.org/wiki/Python',\n",
       " 'https://zh.wikipedia.org/wiki/Python_(%E6%B6%88%E6%AD%A7%E4%B9%89)',\n",
       " 'https://www.wikidata.org/wiki/Special:EntityPage/Q747452#sitelinks-wikipedia',\n",
       " '//en.wikipedia.org/wiki/Wikipedia:Text_of_Creative_Commons_Attribution-ShareAlike_3.0_Unported_License',\n",
       " '//creativecommons.org/licenses/by-sa/3.0/',\n",
       " '//foundation.wikimedia.org/wiki/Terms_of_Use',\n",
       " '//foundation.wikimedia.org/wiki/Privacy_policy',\n",
       " '//www.wikimediafoundation.org/',\n",
       " 'https://foundation.wikimedia.org/wiki/Privacy_policy',\n",
       " '/wiki/Wikipedia:About',\n",
       " '/wiki/Wikipedia:General_disclaimer',\n",
       " '//en.wikipedia.org/wiki/Wikipedia:Contact_us',\n",
       " 'https://www.mediawiki.org/wiki/Special:MyLanguage/How_to_contribute',\n",
       " 'https://stats.wikimedia.org/v2/#/en.wikipedia.org',\n",
       " 'https://foundation.wikimedia.org/wiki/Cookie_statement',\n",
       " '//en.m.wikipedia.org/w/index.php?title=Python&mobileaction=toggle_view_mobile',\n",
       " 'https://wikimediafoundation.org/',\n",
       " 'https://www.mediawiki.org/']"
      ]
     },
     "execution_count": 15,
     "metadata": {},
     "output_type": "execute_result"
    }
   ],
   "source": [
    "#your code\n",
    "total_python_links = [link['href'] for link in soup.find_all('a', href=True)]\n",
    "total_python_links"
   ]
  },
  {
   "cell_type": "markdown",
   "metadata": {},
   "source": [
    "#### Number of Titles that have changed in the United States Code since its last release point "
   ]
  },
  {
   "cell_type": "code",
   "execution_count": 16,
   "metadata": {},
   "outputs": [],
   "source": [
    "# This is the url you will scrape in this exercise\n",
    "url = 'http://uscode.house.gov/download/download.shtml'\n",
    "html = requests.get(url).content\n",
    "soup = BeautifulSoup(html, 'lxml')"
   ]
  },
  {
   "cell_type": "code",
   "execution_count": 17,
   "metadata": {},
   "outputs": [
    {
     "data": {
      "text/plain": [
       "[<div class=\"usctitlechanged\" id=\"us/usc/t18\">\n",
       " \n",
       "           Title 18 - Crimes and Criminal Procedure <span class=\"footnote\"><a class=\"fn\" href=\"#fn\">٭</a></span>\n",
       " </div>, <div class=\"usctitlechanged\" id=\"us/usc/t20\">\n",
       " \n",
       "           Title 20 - Education\n",
       " \n",
       "         </div>, <div class=\"usctitlechanged\" id=\"us/usc/t26\">\n",
       " \n",
       "           Title 26 - Internal Revenue Code\n",
       " \n",
       "         </div>]"
      ]
     },
     "execution_count": 17,
     "metadata": {},
     "output_type": "execute_result"
    }
   ],
   "source": [
    "#your code\n",
    "titles = soup.find_all(class_='usctitlechanged')\n",
    "titles"
   ]
  },
  {
   "cell_type": "code",
   "execution_count": 18,
   "metadata": {},
   "outputs": [
    {
     "data": {
      "text/plain": [
       "['Title 18 - Crimes and Criminal Procedure ٭',\n",
       " 'Title 20 - Education',\n",
       " 'Title 26 - Internal Revenue Code']"
      ]
     },
     "execution_count": 18,
     "metadata": {},
     "output_type": "execute_result"
    }
   ],
   "source": [
    "title_changed = []\n",
    "for i in titles:\n",
    "    title_changed.append(i.getText().strip())\n",
    "title_changed"
   ]
  },
  {
   "cell_type": "markdown",
   "metadata": {},
   "source": [
    "#### A Python list with the top ten FBI's Most Wanted names "
   ]
  },
  {
   "cell_type": "code",
   "execution_count": 19,
   "metadata": {},
   "outputs": [],
   "source": [
    "# This is the url you will scrape in this exercise\n",
    "url = 'https://www.fbi.gov/wanted/topten'\n",
    "html = requests.get(url).content\n",
    "soup = BeautifulSoup(html, 'lxml')"
   ]
  },
  {
   "cell_type": "code",
   "execution_count": 20,
   "metadata": {},
   "outputs": [],
   "source": [
    "#your code \n",
    "most_wanted_info = soup.find_all('a', href=True)"
   ]
  },
  {
   "cell_type": "code",
   "execution_count": 21,
   "metadata": {},
   "outputs": [
    {
     "data": {
      "text/plain": [
       "['YASER ABDEL SAID',\n",
       " 'JASON DEREK BROWN',\n",
       " 'ALEXIS FLORES',\n",
       " 'EUGENE PALMER',\n",
       " 'SANTIAGO VILLALBA MEDEROS',\n",
       " 'RAFAEL CARO-QUINTERO',\n",
       " 'ROBERT WILLIAM FISHER',\n",
       " 'BHADRESHKUMAR CHETANBHAI PATEL',\n",
       " 'ARNOLDO JIMENEZ',\n",
       " 'ALEJANDRO ROSALES CASTILLO']"
      ]
     },
     "execution_count": 21,
     "metadata": {},
     "output_type": "execute_result"
    }
   ],
   "source": [
    "most_wanted = [i.getText().strip() for i in most_wanted_info]\n",
    "\n",
    "most_wanted_final = most_wanted[33:52]\n",
    "\n",
    "for j in most_wanted_final:\n",
    "    if j == '':\n",
    "        most_wanted_final.remove(j)\n",
    "        \n",
    "most_wanted_final"
   ]
  },
  {
   "cell_type": "markdown",
   "metadata": {},
   "source": [
    "####  20 latest earthquakes info (date, time, latitude, longitude and region name) by the EMSC as a pandas dataframe"
   ]
  },
  {
   "cell_type": "code",
   "execution_count": 22,
   "metadata": {},
   "outputs": [],
   "source": [
    "# This is the url you will scrape in this exercise\n",
    "url = 'https://www.emsc-csem.org/Earthquake/'\n",
    "html = requests.get(url).content\n",
    "soup = BeautifulSoup(html, 'lxml')"
   ]
  },
  {
   "cell_type": "code",
   "execution_count": 23,
   "metadata": {},
   "outputs": [
    {
     "data": {
      "text/plain": [
       "[<tbody id=\"tbody\"><tr class=\"ligne1 normal\" id=\"827460\" onclick=\"go_details(event,827460);\"><td class=\"tabev0\"></td><td class=\"tabev0\"></td><td class=\"tabev0\"></td><td class=\"tabev6\"><b><i style=\"display:none;\">earthquake</i><a href=\"/Earthquake/earthquake.php?id=827460\">2020-02-06   16:02:14.9</a></b><i class=\"ago\" id=\"ago0\">14min ago</i></td><td class=\"tabev1\">38.37 </td><td class=\"tabev2\">N  </td><td class=\"tabev1\">39.13 </td><td class=\"tabev2\">E  </td><td class=\"tabev3\">3</td><td class=\"tabev5\" id=\"magtyp0\">ML</td><td class=\"tabev2\">2.8</td><td class=\"tb_region\" id=\"reg0\"> EASTERN TURKEY</td><td class=\"comment updatetimeno\" id=\"upd0\" style=\"text-align:right;\">2020-02-06 16:07</td></tr>\n",
       " <tr class=\"ligne2 normal\" id=\"827462\" onclick=\"go_details(event,827462);\"><td class=\"tabev0\"></td><td class=\"tabev0\"></td><td class=\"tabev0\"></td><td class=\"tabev6\"><b><i style=\"display:none;\">earthquake</i><a href=\"/Earthquake/earthquake.php?id=827462\">2020-02-06   16:01:50.0</a></b><i class=\"ago\" id=\"ago1\">14min ago</i></td><td class=\"tabev1\">2.43 </td><td class=\"tabev2\">S  </td><td class=\"tabev1\">140.29 </td><td class=\"tabev2\">E  </td><td class=\"tabev3\">10</td><td class=\"tabev5\" id=\"magtyp1\"> M</td><td class=\"tabev2\">3.1</td><td class=\"tb_region\" id=\"reg1\"> NEAR N COAST OF PAPUA, INDONESIA</td><td class=\"comment updatetimeno\" id=\"upd1\" style=\"text-align:right;\">2020-02-06 16:15</td></tr>\n",
       " <tr class=\"ligne1 normal\" id=\"827454\" onclick=\"go_details(event,827454);\"><td class=\"tabev0\"></td><td class=\"tabev0\"></td><td class=\"tabev0\"></td><td class=\"tabev6\"><b><i style=\"display:none;\">earthquake</i><a href=\"/Earthquake/earthquake.php?id=827454\">2020-02-06   15:42:50.0</a></b><i class=\"ago\" id=\"ago2\">33min ago</i></td><td class=\"tabev1\">6.25 </td><td class=\"tabev2\">S  </td><td class=\"tabev1\">130.32 </td><td class=\"tabev2\">E  </td><td class=\"tabev3\">190</td><td class=\"tabev5\" id=\"magtyp2\"> M</td><td class=\"tabev2\">3.7</td><td class=\"tb_region\" id=\"reg2\"> BANDA SEA</td><td class=\"comment updatetimeno\" id=\"upd2\" style=\"text-align:right;\">2020-02-06 16:00</td></tr>\n",
       " <tr class=\"ligne2 normal\" id=\"827455\" onclick=\"go_details(event,827455);\"><td class=\"tabev0\"></td><td class=\"tabev0\"></td><td class=\"tabev0\"></td><td class=\"tabev6\"><b><i style=\"display:none;\">earthquake</i><a href=\"/Earthquake/earthquake.php?id=827455\">2020-02-06   15:38:47.0</a></b><i class=\"ago\" id=\"ago3\">37min ago</i></td><td class=\"tabev1\">1.00 </td><td class=\"tabev2\">S  </td><td class=\"tabev1\">128.98 </td><td class=\"tabev2\">E  </td><td class=\"tabev3\">10</td><td class=\"tabev5\" id=\"magtyp3\"> M</td><td class=\"tabev2\">4.0</td><td class=\"tb_region\" id=\"reg3\"> KEPULAUAN OBI, INDONESIA</td><td class=\"comment updatetimeno\" id=\"upd3\" style=\"text-align:right;\">2020-02-06 15:50</td></tr>\n",
       " <tr class=\"ligne1 normal\" id=\"827452\" onclick=\"go_details(event,827452);\"><td class=\"tabev0\"></td><td class=\"tabev0\"></td><td class=\"tabev0\"></td><td class=\"tabev6\"><b><i style=\"display:none;\">earthquake</i><a href=\"/Earthquake/earthquake.php?id=827452\">2020-02-06   15:28:13.0</a></b><i class=\"ago\" id=\"ago4\">48min ago</i></td><td class=\"tabev1\">0.16 </td><td class=\"tabev2\">S  </td><td class=\"tabev1\">129.36 </td><td class=\"tabev2\">E  </td><td class=\"tabev3\">10</td><td class=\"tabev5\" id=\"magtyp4\"> M</td><td class=\"tabev2\">3.4</td><td class=\"tb_region\" id=\"reg4\"> HALMAHERA, INDONESIA</td><td class=\"comment updatetimeno\" id=\"upd4\" style=\"text-align:right;\">2020-02-06 15:41</td></tr>\n",
       " <tr class=\"ligne2 normal\" id=\"827458\" onclick=\"go_details(event,827458);\"><td class=\"tabev0\"></td><td class=\"tabev0\"></td><td class=\"tabev0\"><span class=\"intensity\" onclick=\"go_details(event,null,'https://www.emsc-csem.org/Earthquake/popup_intensmap.php?id=827458&amp;f=/FELTREPORTS/82/827458/IntensityMap.png');\" onmouseout=\"info_b2('notshow','');\" onmouseover=\"info_b2('show','See the &lt;b&gt; Intensity map&lt;/b&gt;');\" style=\"background-color:#FFFFFF;\">F</span></td><td class=\"tabev6\"><b><i style=\"display:none;\">earthquake</i><a href=\"/Earthquake/earthquake.php?id=827458\">2020-02-06   15:25:52.5</a></b><i class=\"ago\" id=\"ago5\">50min ago</i></td><td class=\"tabev1\">17.94 </td><td class=\"tabev2\">N  </td><td class=\"tabev1\">66.94 </td><td class=\"tabev2\">W  </td><td class=\"tabev3\">8</td><td class=\"tabev5\" id=\"magtyp5\">Md</td><td class=\"tabev2\">3.1</td><td class=\"tb_region\" id=\"reg5\"> PUERTO RICO</td><td class=\"comment updatetimeno\" id=\"upd5\" style=\"text-align:right;\">2020-02-06 16:01</td></tr>\n",
       " <tr class=\"ligne1 normal\" id=\"827453\" onclick=\"go_details(event,827453);\"><td class=\"tabev0\"></td><td class=\"tabev0\"></td><td class=\"tabev0\"></td><td class=\"tabev6\"><b><i style=\"display:none;\">earthquake</i><a href=\"/Earthquake/earthquake.php?id=827453\">2020-02-06   15:25:30.0</a></b><i class=\"ago\" id=\"ago6\">50min ago</i></td><td class=\"tabev1\">11.54 </td><td class=\"tabev2\">N  </td><td class=\"tabev1\">85.82 </td><td class=\"tabev2\">W  </td><td class=\"tabev3\">11</td><td class=\"tabev5\" id=\"magtyp6\"> M</td><td class=\"tabev2\">4.0</td><td class=\"tb_region\" id=\"reg6\"> NICARAGUA</td><td class=\"comment updatetimeno\" id=\"upd6\" style=\"text-align:right;\">2020-02-06 15:45</td></tr>\n",
       " <tr class=\"ligne2 normal\" id=\"827456\" onclick=\"go_details(event,827456);\"><td class=\"tabev0\"></td><td class=\"tabev0\"></td><td class=\"tabev0\"></td><td class=\"tabev6\"><b><i style=\"display:none;\">earthquake</i><a href=\"/Earthquake/earthquake.php?id=827456\">2020-02-06   15:15:46.9</a></b><i class=\"ago\" id=\"ago7\">1hr 00min ago</i></td><td class=\"tabev1\">18.01 </td><td class=\"tabev2\">N  </td><td class=\"tabev1\">66.80 </td><td class=\"tabev2\">W  </td><td class=\"tabev3\">16</td><td class=\"tabev5\" id=\"magtyp7\">Md</td><td class=\"tabev2\">2.4</td><td class=\"tb_region\" id=\"reg7\"> PUERTO RICO</td><td class=\"comment updatetimeno\" id=\"upd7\" style=\"text-align:right;\">2020-02-06 15:53</td></tr>\n",
       " <tr class=\"ligne1 normal\" id=\"827449\" onclick=\"go_details(event,827449);\"><td class=\"tabev0\"></td><td class=\"tabev0\"></td><td class=\"tabev0\"></td><td class=\"tabev6\"><b><i style=\"display:none;\">earthquake</i><a href=\"/Earthquake/earthquake.php?id=827449\">2020-02-06   14:50:24.8</a></b><i class=\"ago\" id=\"ago8\">1hr 25min ago</i></td><td class=\"tabev1\">17.87 </td><td class=\"tabev2\">N  </td><td class=\"tabev1\">66.88 </td><td class=\"tabev2\">W  </td><td class=\"tabev3\">12</td><td class=\"tabev5\" id=\"magtyp8\">Md</td><td class=\"tabev2\">2.3</td><td class=\"tb_region\" id=\"reg8\"> PUERTO RICO REGION</td><td class=\"comment updatetimeno\" id=\"upd8\" style=\"text-align:right;\">2020-02-06 15:13</td></tr>\n",
       " <tr class=\"ligne2 normal\" id=\"827448\" onclick=\"go_details(event,827448);\"><td class=\"tabev0\"></td><td class=\"tabev0\"></td><td class=\"tabev0\"></td><td class=\"tabev6\"><b><i style=\"display:none;\">earthquake</i><a href=\"/Earthquake/earthquake.php?id=827448\">2020-02-06   14:40:04.0</a></b><i class=\"ago\" id=\"ago9\">1hr 36min ago</i></td><td class=\"tabev1\">31.82 </td><td class=\"tabev2\">S  </td><td class=\"tabev1\">70.02 </td><td class=\"tabev2\">W  </td><td class=\"tabev3\">145</td><td class=\"tabev5\" id=\"magtyp9\">ML</td><td class=\"tabev2\">3.0</td><td class=\"tb_region\" id=\"reg9\"> SAN JUAN, ARGENTINA</td><td class=\"comment updatetimeno\" id=\"upd9\" style=\"text-align:right;\">2020-02-06 15:10</td></tr>\n",
       " <tr class=\"ligne1 normal\" id=\"827447\" onclick=\"go_details(event,827447);\"><td class=\"tabev0\"></td><td class=\"tabev0\"></td><td class=\"tabev0\"></td><td class=\"tabev6\"><b><i style=\"display:none;\">earthquake</i><a href=\"/Earthquake/earthquake.php?id=827447\">2020-02-06   14:38:29.5</a></b><i class=\"ago\" id=\"ago10\">1hr 37min ago</i></td><td class=\"tabev1\">17.96 </td><td class=\"tabev2\">N  </td><td class=\"tabev1\">66.74 </td><td class=\"tabev2\">W  </td><td class=\"tabev3\">13</td><td class=\"tabev5\" id=\"magtyp10\">MD</td><td class=\"tabev2\">2.7</td><td class=\"tb_region\" id=\"reg10\"> PUERTO RICO REGION</td><td class=\"comment updatetimeno\" id=\"upd10\" style=\"text-align:right;\">2020-02-06 15:05</td></tr>\n",
       " <tr class=\"ligne2 normal\" id=\"827444\" onclick=\"go_details(event,827444);\"><td class=\"tabev0\"></td><td class=\"tabev0\"></td><td class=\"tabev0\"></td><td class=\"tabev6\"><b><i style=\"display:none;\">earthquake</i><a href=\"/Earthquake/earthquake.php?id=827444\">2020-02-06   14:37:28.0</a></b><i class=\"ago\" id=\"ago11\">1hr 38min ago</i></td><td class=\"tabev1\">1.54 </td><td class=\"tabev2\">N  </td><td class=\"tabev1\">126.48 </td><td class=\"tabev2\">E  </td><td class=\"tabev3\">82</td><td class=\"tabev5\" id=\"magtyp11\"> M</td><td class=\"tabev2\">3.2</td><td class=\"tb_region\" id=\"reg11\"> MOLUCCA SEA</td><td class=\"comment updatetimeno\" id=\"upd11\" style=\"text-align:right;\">2020-02-06 14:55</td></tr>\n",
       " <tr class=\"ligne1 normal\" id=\"827443\" onclick=\"go_details(event,827443);\"><td class=\"tabev0\"></td><td class=\"tabev0\"></td><td class=\"tabev0\"></td><td class=\"tabev6\"><b><i style=\"display:none;\">earthquake</i><a href=\"/Earthquake/earthquake.php?id=827443\">2020-02-06   14:29:34.8</a></b><i class=\"ago\" id=\"ago12\">1hr 46min ago</i></td><td class=\"tabev1\">39.09 </td><td class=\"tabev2\">N  </td><td class=\"tabev1\">27.81 </td><td class=\"tabev2\">E  </td><td class=\"tabev3\">7</td><td class=\"tabev5\" id=\"magtyp12\">ML</td><td class=\"tabev2\">2.1</td><td class=\"tb_region\" id=\"reg12\"> WESTERN TURKEY</td><td class=\"comment updatetimeno\" id=\"upd12\" style=\"text-align:right;\">2020-02-06 14:42</td></tr>\n",
       " <tr class=\"ligne2 normal\" id=\"827441\" onclick=\"go_details(event,827441);\"><td class=\"tabev0\"></td><td class=\"tabev0\"></td><td class=\"tabev0\"></td><td class=\"tabev6\"><b><i style=\"display:none;\">earthquake</i><a href=\"/Earthquake/earthquake.php?id=827441\">2020-02-06   14:20:46.5</a></b><i class=\"ago\" id=\"ago13\">1hr 55min ago</i></td><td class=\"tabev1\">5.40 </td><td class=\"tabev2\">N  </td><td class=\"tabev1\">126.38 </td><td class=\"tabev2\">E  </td><td class=\"tabev3\">80</td><td class=\"tabev5\" id=\"magtyp13\">mb</td><td class=\"tabev2\">4.8</td><td class=\"tb_region\" id=\"reg13\"> MINDANAO, PHILIPPINES</td><td class=\"comment updatetimeno\" id=\"upd13\" style=\"text-align:right;\">2020-02-06 15:55</td></tr>\n",
       " <tr class=\"ligne1 normal\" id=\"827442\" onclick=\"go_details(event,827442);\"><td class=\"tabev0\"></td><td class=\"tabev0\"></td><td class=\"tabev0\"></td><td class=\"tabev6\"><b><i style=\"display:none;\">earthquake</i><a href=\"/Earthquake/earthquake.php?id=827442\">2020-02-06   14:18:36.0</a></b><i class=\"ago\" id=\"ago14\">1hr 57min ago</i></td><td class=\"tabev1\">17.85 </td><td class=\"tabev2\">N  </td><td class=\"tabev1\">66.83 </td><td class=\"tabev2\">W  </td><td class=\"tabev3\">10</td><td class=\"tabev5\" id=\"magtyp14\">ML</td><td class=\"tabev2\">2.5</td><td class=\"tb_region\" id=\"reg14\"> PUERTO RICO REGION</td><td class=\"comment updatetimeno\" id=\"upd14\" style=\"text-align:right;\">2020-02-06 16:09</td></tr>\n",
       " <tr class=\"ligne2 normal\" id=\"827440\" onclick=\"go_details(event,827440);\"><td class=\"tabev0\"></td><td class=\"tabev0\"></td><td class=\"tabev0\"></td><td class=\"tabev6\"><b><i style=\"display:none;\">earthquake</i><a href=\"/Earthquake/earthquake.php?id=827440\">2020-02-06   14:14:04.0</a></b><i class=\"ago\" id=\"ago15\">2hr 02min ago</i></td><td class=\"tabev1\">24.23 </td><td class=\"tabev2\">S  </td><td class=\"tabev1\">67.47 </td><td class=\"tabev2\">W  </td><td class=\"tabev3\">229</td><td class=\"tabev5\" id=\"magtyp15\">ML</td><td class=\"tabev2\">3.6</td><td class=\"tb_region\" id=\"reg15\"> SALTA, ARGENTINA</td><td class=\"comment updatetimeno\" id=\"upd15\" style=\"text-align:right;\">2020-02-06 14:25</td></tr>\n",
       " <tr class=\"ligne1 normal\" id=\"827459\" onclick=\"go_details(event,827459);\"><td class=\"tabev0\"></td><td class=\"tabev0\"></td><td class=\"tabev0\"></td><td class=\"tabev6\"><b><i style=\"display:none;\">earthquake</i><a href=\"/Earthquake/earthquake.php?id=827459\">2020-02-06   14:04:43.1</a></b><i class=\"ago\" id=\"ago16\">2hr 11min ago</i></td><td class=\"tabev1\">31.65 </td><td class=\"tabev2\">N  </td><td class=\"tabev1\">104.31 </td><td class=\"tabev2\">W  </td><td class=\"tabev3\">5</td><td class=\"tabev5\" id=\"magtyp16\">mb</td><td class=\"tabev2\">2.6</td><td class=\"tb_region\" id=\"reg16\"> WESTERN TEXAS</td><td class=\"comment updatetimeno\" id=\"upd16\" style=\"text-align:right;\">2020-02-06 16:05</td></tr>\n",
       " <tr class=\"ligne2 normal\" id=\"827439\" onclick=\"go_details(event,827439);\"><td class=\"tabev0\"></td><td class=\"tabev0\"></td><td class=\"tabev0\"></td><td class=\"tabev6\"><b><i style=\"display:none;\">earthquake</i><a href=\"/Earthquake/earthquake.php?id=827439\">2020-02-06   13:59:45.2</a></b><i class=\"ago\" id=\"ago17\">2hr 16min ago</i></td><td class=\"tabev1\">17.79 </td><td class=\"tabev2\">N  </td><td class=\"tabev1\">66.85 </td><td class=\"tabev2\">W  </td><td class=\"tabev3\">10</td><td class=\"tabev5\" id=\"magtyp17\">ML</td><td class=\"tabev2\">2.7</td><td class=\"tb_region\" id=\"reg17\"> PUERTO RICO REGION</td><td class=\"comment updatetimeno\" id=\"upd17\" style=\"text-align:right;\">2020-02-06 16:00</td></tr>\n",
       " <tr class=\"ligne1 normal\" id=\"827423\" onclick=\"go_details(event,827423);\"><td class=\"tabev0\"></td><td class=\"tabev0\"></td><td class=\"tabev0\"></td><td class=\"tabev6\"><b><i style=\"display:none;\">earthquake</i><a href=\"/Earthquake/earthquake.php?id=827423\">2020-02-06   13:45:38.0</a></b><i class=\"ago\" id=\"ago18\">2hr 30min ago</i></td><td class=\"tabev1\">5.35 </td><td class=\"tabev2\">N  </td><td class=\"tabev1\">126.53 </td><td class=\"tabev2\">E  </td><td class=\"tabev3\">3</td><td class=\"tabev5\" id=\"magtyp18\"> M</td><td class=\"tabev2\">4.6</td><td class=\"tb_region\" id=\"reg18\"> MINDANAO, PHILIPPINES</td><td class=\"comment updatetimeno\" id=\"upd18\" style=\"text-align:right;\">2020-02-06 14:02</td></tr>\n",
       " <tr class=\"ligne2 normal\" id=\"827424\" onclick=\"go_details(event,827424);\"><td class=\"tabev0\"></td><td class=\"tabev0\"></td><td class=\"tabev0\"></td><td class=\"tabev6\"><b><i style=\"display:none;\">earthquake</i><a href=\"/Earthquake/earthquake.php?id=827424\">2020-02-06   13:42:53.9</a></b><i class=\"ago\" id=\"ago19\">2hr 33min ago</i></td><td class=\"tabev1\">38.37 </td><td class=\"tabev2\">N  </td><td class=\"tabev1\">41.33 </td><td class=\"tabev2\">E  </td><td class=\"tabev3\">7</td><td class=\"tabev5\" id=\"magtyp19\">ML</td><td class=\"tabev2\">2.0</td><td class=\"tb_region\" id=\"reg19\"> EASTERN TURKEY</td><td class=\"comment updatetimeno\" id=\"upd19\" style=\"text-align:right;\">2020-02-06 14:02</td></tr>\n",
       " <tr class=\"ligne1 info\" id=\"827418\" onclick=\"go_details(event,827418);\"><td class=\"tabev0\" style=\"text-align:center;\"><a href=\"https://www.emsc-csem.org/Earthquake/Testimonies/comments.php?id=827418\" onmouseout=\"info_b2('notshow','');\" onmouseover=\"info_b2('show','See the &lt;b&gt;15 testimonies&lt;/b&gt; for this earthquake');\"><span class=\"\" style=\"vertical-align:middle;\">15</span></a></td><td class=\"tabev0\"></td><td class=\"tabev0\"><span class=\"intensity\" onclick=\"go_details(event,null,'https://www.emsc-csem.org/Earthquake/popup_intensmap.php?id=827418&amp;f=/FELTREPORTS/82/827418/IntensityMap.png');\" onmouseout=\"info_b2('notshow','');\" onmouseover=\"info_b2('show','See the &lt;b&gt; Intensity map&lt;/b&gt;');\" style=\"background-color:#00FFFF;\">IV</span></td><td class=\"tabev6\"><b><i style=\"display:none;\">earthquake</i><a href=\"/Earthquake/earthquake.php?id=827418\">2020-02-06   13:40:05.2</a></b><i class=\"ago\" id=\"ago20\">2hr 36min ago</i></td><td class=\"tabev1\">5.49 </td><td class=\"tabev2\">N  </td><td class=\"tabev1\">126.57 </td><td class=\"tabev2\">E  </td><td class=\"tabev3\">10</td><td class=\"tabev5\" id=\"magtyp20\">Mw</td><td class=\"tabev2\">6.0</td><td class=\"tb_region\" id=\"reg20\"> MINDANAO, PHILIPPINES</td><td class=\"comment updatetimeno\" id=\"upd20\" style=\"text-align:right;\">2020-02-06 13:53</td></tr>\n",
       " <tr class=\"ligne2 normal\" id=\"827421\" onclick=\"go_details(event,827421);\"><td class=\"tabev0\"></td><td class=\"tabev0\"></td><td class=\"tabev0\"></td><td class=\"tabev6\"><b><i style=\"display:none;\">earthquake</i><a href=\"/Earthquake/earthquake.php?id=827421\">2020-02-06   13:38:25.5</a></b><i class=\"ago\" id=\"ago21\">2hr 37min ago</i></td><td class=\"tabev1\">44.28 </td><td class=\"tabev2\">N  </td><td class=\"tabev1\">16.03 </td><td class=\"tabev2\">E  </td><td class=\"tabev3\">14</td><td class=\"tabev5\" id=\"magtyp21\">ML</td><td class=\"tabev2\">2.3</td><td class=\"tb_region\" id=\"reg21\"> CROATIA</td><td class=\"comment updatetimeno\" id=\"upd21\" style=\"text-align:right;\">2020-02-06 13:55</td></tr>\n",
       " <tr class=\"ligne1 normal\" id=\"827414\" onclick=\"go_details(event,827414);\"><td class=\"tabev0\"></td><td class=\"tabev0\"></td><td class=\"tabev0\"></td><td class=\"tabev6\"><b><i style=\"display:none;\">earthquake</i><a href=\"/Earthquake/earthquake.php?id=827414\">2020-02-06   13:34:25.9</a></b><i class=\"ago\" id=\"ago22\">2hr 41min ago</i></td><td class=\"tabev1\">35.28 </td><td class=\"tabev2\">N  </td><td class=\"tabev1\">97.88 </td><td class=\"tabev2\">W  </td><td class=\"tabev3\">5</td><td class=\"tabev5\" id=\"magtyp22\">mb</td><td class=\"tabev2\">2.6</td><td class=\"tb_region\" id=\"reg22\"> OKLAHOMA</td><td class=\"comment updatetimeno\" id=\"upd22\" style=\"text-align:right;\">2020-02-06 15:56</td></tr>\n",
       " <tr class=\"ligne2 normal\" id=\"827417\" onclick=\"go_details(event,827417);\"><td class=\"tabev0\"></td><td class=\"tabev0\"></td><td class=\"tabev0\"><span class=\"intensity\" onclick=\"go_details(event,null,'https://www.emsc-csem.org/Earthquake/popup_intensmap.php?id=827417&amp;f=/FELTREPORTS/82/827417/IntensityMap.png');\" onmouseout=\"info_b2('notshow','');\" onmouseover=\"info_b2('show','See the &lt;b&gt; Intensity map&lt;/b&gt;');\" style=\"background-color:#FFFFFF;\">F</span></td><td class=\"tabev6\"><b><i style=\"display:none;\">earthquake</i><a href=\"/Earthquake/earthquake.php?id=827417\">2020-02-06   13:31:39.3</a></b><i class=\"ago\" id=\"ago23\">2hr 44min ago</i></td><td class=\"tabev1\">17.84 </td><td class=\"tabev2\">N  </td><td class=\"tabev1\">66.88 </td><td class=\"tabev2\">W  </td><td class=\"tabev3\">10</td><td class=\"tabev5\" id=\"magtyp23\">ML</td><td class=\"tabev2\">2.9</td><td class=\"tb_region\" id=\"reg23\"> PUERTO RICO REGION</td><td class=\"comment updatetimeno\" id=\"upd23\" style=\"text-align:right;\">2020-02-06 15:51</td></tr>\n",
       " <tr class=\"ligne1 normal\" id=\"827413\" onclick=\"go_details(event,827413);\"><td class=\"tabev0\" style=\"text-align:center;\"><a href=\"https://www.emsc-csem.org/Earthquake/Testimonies/comments.php?id=827413\" onmouseout=\"info_b2('notshow','');\" onmouseover=\"info_b2('show','See the &lt;b&gt;3 testimonies&lt;/b&gt; for this earthquake');\"><span class=\"\" style=\"vertical-align:middle;\">3</span></a></td><td class=\"tabev0\"></td><td class=\"tabev0\"><span class=\"intensity\" onclick=\"go_details(event,null,'https://www.emsc-csem.org/Earthquake/popup_intensmap.php?id=827413&amp;f=/FELTREPORTS/82/827413/IntensityMap.png');\" onmouseout=\"info_b2('notshow','');\" onmouseover=\"info_b2('show','See the &lt;b&gt; Intensity map&lt;/b&gt;');\" style=\"background-color:#CC99FF;\">II</span></td><td class=\"tabev6\"><b><i style=\"display:none;\">earthquake</i><a href=\"/Earthquake/earthquake.php?id=827413\">2020-02-06   13:20:49.0</a></b><i class=\"ago\" id=\"ago24\">2hr 55min ago</i></td><td class=\"tabev1\">17.80 </td><td class=\"tabev2\">N  </td><td class=\"tabev1\">66.81 </td><td class=\"tabev2\">W  </td><td class=\"tabev3\">10</td><td class=\"tabev5\" id=\"magtyp24\">ML</td><td class=\"tabev2\">3.8</td><td class=\"tb_region\" id=\"reg24\"> PUERTO RICO REGION</td><td class=\"comment updatetimeno\" id=\"upd24\" style=\"text-align:right;\">2020-02-06 13:38</td></tr>\n",
       " <tr class=\"ligne2 normal\" id=\"827410\" onclick=\"go_details(event,827410);\"><td class=\"tabev0\"></td><td class=\"tabev0\"></td><td class=\"tabev0\"><span class=\"intensity\" onclick=\"go_details(event,null,'https://www.emsc-csem.org/Earthquake/popup_intensmap.php?id=827410&amp;f=/FELTREPORTS/82/827410/IntensityMap.png');\" onmouseout=\"info_b2('notshow','');\" onmouseover=\"info_b2('show','See the &lt;b&gt; Intensity map&lt;/b&gt;');\" style=\"background-color:#FFFFFF;\">F</span></td><td class=\"tabev6\"><b><i style=\"display:none;\">earthquake</i><a href=\"/Earthquake/earthquake.php?id=827410\">2020-02-06   13:20:43.7</a></b><i class=\"ago\" id=\"ago25\">2hr 55min ago</i></td><td class=\"tabev1\">35.68 </td><td class=\"tabev2\">N  </td><td class=\"tabev1\">117.41 </td><td class=\"tabev2\">W  </td><td class=\"tabev3\">10</td><td class=\"tabev5\" id=\"magtyp25\">ML</td><td class=\"tabev2\">2.9</td><td class=\"tb_region\" id=\"reg25\"> SOUTHERN CALIFORNIA</td><td class=\"comment updatetimeno\" id=\"upd25\" style=\"text-align:right;\">2020-02-06 15:48</td></tr>\n",
       " <tr class=\"ligne1 normal\" id=\"827420\" onclick=\"go_details(event,827420);\"><td class=\"tabev0\"></td><td class=\"tabev0\"></td><td class=\"tabev0\"><span class=\"intensity\" onclick=\"go_details(event,null,'https://www.emsc-csem.org/Earthquake/popup_intensmap.php?id=827420&amp;f=/FELTREPORTS/82/827420/IntensityMap.png');\" onmouseout=\"info_b2('notshow','');\" onmouseover=\"info_b2('show','See the &lt;b&gt; Intensity map&lt;/b&gt;');\" style=\"background-color:#FFFFFF;\">F</span></td><td class=\"tabev6\"><b><i style=\"display:none;\">earthquake</i><a href=\"/Earthquake/earthquake.php?id=827420\">2020-02-06   13:10:34.7</a></b><i class=\"ago\" id=\"ago26\">3hr 05min ago</i></td><td class=\"tabev1\">44.27 </td><td class=\"tabev2\">N  </td><td class=\"tabev1\">16.03 </td><td class=\"tabev2\">E  </td><td class=\"tabev3\">14</td><td class=\"tabev5\" id=\"magtyp26\">ML</td><td class=\"tabev2\">2.1</td><td class=\"tb_region\" id=\"reg26\"> CROATIA</td><td class=\"comment updatetimeno\" id=\"upd26\" style=\"text-align:right;\">2020-02-06 13:55</td></tr>\n",
       " <tr class=\"ligne2 normal\" id=\"827435\" onclick=\"go_details(event,827435);\"><td class=\"tabev0\" style=\"text-align:center;\"><a href=\"https://www.emsc-csem.org/Earthquake/Testimonies/comments.php?id=827435\" onmouseout=\"info_b2('notshow','');\" onmouseover=\"info_b2('show','See the &lt;b&gt;testimony&lt;/b&gt; for this earthquake');\"><span class=\"\" style=\"vertical-align:middle;\">1</span></a></td><td class=\"tabev0\"></td><td class=\"tabev0\"><span class=\"intensity\" onclick=\"go_details(event,null,'https://www.emsc-csem.org/Earthquake/popup_intensmap.php?id=827435&amp;f=/FELTREPORTS/82/827435/IntensityMap.png');\" onmouseout=\"info_b2('notshow','');\" onmouseover=\"info_b2('show','See the &lt;b&gt; Intensity map&lt;/b&gt;');\" style=\"background-color:#FFFFFF;\">F</span></td><td class=\"tabev6\"><b><i style=\"display:none;\">earthquake</i><a href=\"/Earthquake/earthquake.php?id=827435\">2020-02-06   13:10:00.6</a></b><i class=\"ago\" id=\"ago27\">3hr 06min ago</i></td><td class=\"tabev1\">17.93 </td><td class=\"tabev2\">N  </td><td class=\"tabev1\">66.83 </td><td class=\"tabev2\">W  </td><td class=\"tabev3\">10</td><td class=\"tabev5\" id=\"magtyp27\">ML</td><td class=\"tabev2\">2.9</td><td class=\"tb_region\" id=\"reg27\"> PUERTO RICO REGION</td><td class=\"comment updatetimeno\" id=\"upd27\" style=\"text-align:right;\">2020-02-06 15:44</td></tr>\n",
       " <tr class=\"ligne1 normal\" id=\"827411\" onclick=\"go_details(event,827411);\"><td class=\"tabev0\"></td><td class=\"tabev0\"></td><td class=\"tabev0\"></td><td class=\"tabev6\"><b><i style=\"display:none;\">earthquake</i><a href=\"/Earthquake/earthquake.php?id=827411\">2020-02-06   12:59:27.5</a></b><i class=\"ago\" id=\"ago28\">3hr 16min ago</i></td><td class=\"tabev1\">43.04 </td><td class=\"tabev2\">N  </td><td class=\"tabev1\">18.20 </td><td class=\"tabev2\">E  </td><td class=\"tabev3\">1</td><td class=\"tabev5\" id=\"magtyp28\">ML</td><td class=\"tabev2\">2.4</td><td class=\"tb_region\" id=\"reg28\"> BOSNIA AND HERZEGOVINA</td><td class=\"comment updatetimeno\" id=\"upd28\" style=\"text-align:right;\">2020-02-06 13:26</td></tr>\n",
       " <tr class=\"ligne2 normal\" id=\"827403\" onclick=\"go_details(event,827403);\"><td class=\"tabev0\"></td><td class=\"tabev0\"></td><td class=\"tabev0\"></td><td class=\"tabev6\"><b><i style=\"display:none;\">earthquake</i><a href=\"/Earthquake/earthquake.php?id=827403\">2020-02-06   12:30:15.2</a></b><i class=\"ago\" id=\"ago29\">3hr 46min ago</i></td><td class=\"tabev1\">42.74 </td><td class=\"tabev2\">N  </td><td class=\"tabev1\">13.01 </td><td class=\"tabev2\">E  </td><td class=\"tabev3\">11</td><td class=\"tabev5\" id=\"magtyp29\">ML</td><td class=\"tabev2\">2.0</td><td class=\"tb_region\" id=\"reg29\"> CENTRAL ITALY</td><td class=\"comment updatetimeno\" id=\"upd29\" style=\"text-align:right;\">2020-02-06 12:41</td></tr>\n",
       " <tr class=\"ligne1 normal\" id=\"827404\" onclick=\"go_details(event,827404);\"><td class=\"tabev0\"></td><td class=\"tabev0\"></td><td class=\"tabev0\"><span class=\"intensity\" onclick=\"go_details(event,null,'https://www.emsc-csem.org/Earthquake/popup_intensmap.php?id=827404&amp;f=/FELTREPORTS/82/827404/IntensityMap.png');\" onmouseout=\"info_b2('notshow','');\" onmouseover=\"info_b2('show','See the &lt;b&gt; Intensity map&lt;/b&gt;');\" style=\"background-color:#FFFFFF;\">F</span></td><td class=\"tabev6\"><b><i style=\"display:none;\">earthquake</i><a href=\"/Earthquake/earthquake.php?id=827404\">2020-02-06   12:22:30.3</a></b><i class=\"ago\" id=\"ago30\">3hr 53min ago</i></td><td class=\"tabev1\">44.22 </td><td class=\"tabev2\">N  </td><td class=\"tabev1\">15.97 </td><td class=\"tabev2\">E  </td><td class=\"tabev3\">10</td><td class=\"tabev5\" id=\"magtyp30\">ML</td><td class=\"tabev2\">2.8</td><td class=\"tb_region\" id=\"reg30\"> CROATIA</td><td class=\"comment updatetimeno\" id=\"upd30\" style=\"text-align:right;\">2020-02-06 13:22</td></tr>\n",
       " <tr class=\"ligne2 normal\" id=\"827397\" onclick=\"go_details(event,827397);\"><td class=\"tabev0\"></td><td class=\"tabev0\"></td><td class=\"tabev0\"></td><td class=\"tabev6\"><b><i style=\"display:none;\">earthquake</i><a href=\"/Earthquake/earthquake.php?id=827397\">2020-02-06   12:08:23.0</a></b><i class=\"ago\" id=\"ago31\">4hr 08min ago</i></td><td class=\"tabev1\">19.92 </td><td class=\"tabev2\">N  </td><td class=\"tabev1\">155.58 </td><td class=\"tabev2\">W  </td><td class=\"tabev3\">32</td><td class=\"tabev5\" id=\"magtyp31\">Md</td><td class=\"tabev2\">2.1</td><td class=\"tb_region\" id=\"reg31\"> ISLAND OF HAWAII, HAWAII</td><td class=\"comment updatetimeno\" id=\"upd31\" style=\"text-align:right;\">2020-02-06 12:11</td></tr>\n",
       " <tr class=\"ligne1 normal\" id=\"827412\" onclick=\"go_details(event,827412);\"><td class=\"tabev0\"></td><td class=\"tabev0\"></td><td class=\"tabev0\"></td><td class=\"tabev6\"><b><i style=\"display:none;\">earthquake</i><a href=\"/Earthquake/earthquake.php?id=827412\">2020-02-06   12:00:55.9</a></b><i class=\"ago\" id=\"ago32\">4hr 15min ago</i></td><td class=\"tabev1\">17.92 </td><td class=\"tabev2\">S  </td><td class=\"tabev1\">179.20 </td><td class=\"tabev2\">W  </td><td class=\"tabev3\">621</td><td class=\"tabev5\" id=\"magtyp32\">mb</td><td class=\"tabev2\">4.6</td><td class=\"tb_region\" id=\"reg32\"> FIJI REGION</td><td class=\"comment updatetimeno\" id=\"upd32\" style=\"text-align:right;\">2020-02-06 15:55</td></tr>\n",
       " <tr class=\"ligne2 normal\" id=\"827395\" onclick=\"go_details(event,827395);\"><td class=\"tabev0\"></td><td class=\"tabev0\"></td><td class=\"tabev0\"></td><td class=\"tabev6\"><b><i style=\"display:none;\">earthquake</i><a href=\"/Earthquake/earthquake.php?id=827395\">2020-02-06   11:55:14.0</a></b><i class=\"ago\" id=\"ago33\">4hr 21min ago</i></td><td class=\"tabev1\">19.32 </td><td class=\"tabev2\">S  </td><td class=\"tabev1\">70.11 </td><td class=\"tabev2\">W  </td><td class=\"tabev3\">68</td><td class=\"tabev5\" id=\"magtyp33\">ML</td><td class=\"tabev2\">3.0</td><td class=\"tb_region\" id=\"reg33\"> TARAPACA, CHILE</td><td class=\"comment updatetimeno\" id=\"upd33\" style=\"text-align:right;\">2020-02-06 12:06</td></tr>\n",
       " <tr class=\"ligne1 normal\" id=\"827391\" onclick=\"go_details(event,827391);\"><td class=\"tabev0\"></td><td class=\"tabev0\"></td><td class=\"tabev0\"></td><td class=\"tabev6\"><b><i style=\"display:none;\">earthquake</i><a href=\"/Earthquake/earthquake.php?id=827391\">2020-02-06   11:53:03.2</a></b><i class=\"ago\" id=\"ago34\">4hr 23min ago</i></td><td class=\"tabev1\">66.42 </td><td class=\"tabev2\">N  </td><td class=\"tabev1\">157.25 </td><td class=\"tabev2\">W  </td><td class=\"tabev3\">3</td><td class=\"tabev5\" id=\"magtyp34\">ml</td><td class=\"tabev2\">3.1</td><td class=\"tb_region\" id=\"reg34\"> NORTHERN ALASKA</td><td class=\"comment updatetimeno\" id=\"upd34\" style=\"text-align:right;\">2020-02-06 12:03</td></tr>\n",
       " <tr class=\"ligne2 normal\" id=\"827400\" onclick=\"go_details(event,827400);\"><td class=\"tabev0\"></td><td class=\"tabev0\"></td><td class=\"tabev0\"></td><td class=\"tabev6\"><b><i style=\"display:none;\">earthquake</i><a href=\"/Earthquake/earthquake.php?id=827400\">2020-02-06   11:51:34.1</a></b><i class=\"ago\" id=\"ago35\">4hr 24min ago</i></td><td class=\"tabev1\">17.97 </td><td class=\"tabev2\">N  </td><td class=\"tabev1\">66.84 </td><td class=\"tabev2\">W  </td><td class=\"tabev3\">16</td><td class=\"tabev5\" id=\"magtyp35\">Md</td><td class=\"tabev2\">2.7</td><td class=\"tb_region\" id=\"reg35\"> PUERTO RICO</td><td class=\"comment updatetimeno\" id=\"upd35\" style=\"text-align:right;\">2020-02-06 12:21</td></tr>\n",
       " <tr class=\"ligne1 normal\" id=\"827398\" onclick=\"go_details(event,827398);\"><td class=\"tabev0\"></td><td class=\"tabev0\"></td><td class=\"tabev0\"></td><td class=\"tabev6\"><b><i style=\"display:none;\">earthquake</i><a href=\"/Earthquake/earthquake.php?id=827398\">2020-02-06   11:48:01.0</a></b><i class=\"ago\" id=\"ago36\">4hr 28min ago</i></td><td class=\"tabev1\">6.52 </td><td class=\"tabev2\">N  </td><td class=\"tabev1\">125.22 </td><td class=\"tabev2\">E  </td><td class=\"tabev3\">19</td><td class=\"tabev5\" id=\"magtyp36\"> M</td><td class=\"tabev2\">3.6</td><td class=\"tb_region\" id=\"reg36\"> MINDANAO, PHILIPPINES</td><td class=\"comment updatetimeno\" id=\"upd36\" style=\"text-align:right;\">2020-02-06 12:16</td></tr>\n",
       " <tr class=\"ligne2 normal\" id=\"827416\" onclick=\"go_details(event,827416);\"><td class=\"tabev0\"></td><td class=\"tabev0\"></td><td class=\"tabev0\"></td><td class=\"tabev6\"><b><i style=\"display:none;\">earthquake</i><a href=\"/Earthquake/earthquake.php?id=827416\">2020-02-06   11:47:30.0</a></b><i class=\"ago\" id=\"ago37\">4hr 28min ago</i></td><td class=\"tabev1\">10.72 </td><td class=\"tabev2\">N  </td><td class=\"tabev1\">86.24 </td><td class=\"tabev2\">W  </td><td class=\"tabev3\">19</td><td class=\"tabev5\" id=\"magtyp37\"> M</td><td class=\"tabev2\">4.4</td><td class=\"tb_region\" id=\"reg37\"> OFF COAST OF COSTA RICA</td><td class=\"comment updatetimeno\" id=\"upd37\" style=\"text-align:right;\">2020-02-06 13:40</td></tr>\n",
       " <tr class=\"ligne1 normal\" id=\"827390\" onclick=\"go_details(event,827390);\"><td class=\"tabev0\"></td><td class=\"tabev0\"></td><td class=\"tabev0\"></td><td class=\"tabev6\"><b><i style=\"display:none;\">earthquake</i><a href=\"/Earthquake/earthquake.php?id=827390\">2020-02-06   11:43:13.1</a></b><i class=\"ago\" id=\"ago38\">4hr 33min ago</i></td><td class=\"tabev1\">19.21 </td><td class=\"tabev2\">N  </td><td class=\"tabev1\">155.42 </td><td class=\"tabev2\">W  </td><td class=\"tabev3\">34</td><td class=\"tabev5\" id=\"magtyp38\">Ml</td><td class=\"tabev2\">2.1</td><td class=\"tb_region\" id=\"reg38\"> ISLAND OF HAWAII, HAWAII</td><td class=\"comment updatetimeno\" id=\"upd38\" style=\"text-align:right;\">2020-02-06 11:48</td></tr>\n",
       " <tr class=\"ligne2 normal\" id=\"827392\" onclick=\"go_details(event,827392);\"><td class=\"tabev0\" style=\"text-align:center;\"><a href=\"https://www.emsc-csem.org/Earthquake/Testimonies/comments.php?id=827392\" onmouseout=\"info_b2('notshow','');\" onmouseover=\"info_b2('show','See the &lt;b&gt;testimony&lt;/b&gt; for this earthquake');\"><span class=\"\" style=\"vertical-align:middle;\">1</span></a></td><td class=\"tabev0\"></td><td class=\"tabev0\"><span class=\"intensity\" onclick=\"go_details(event,null,'https://www.emsc-csem.org/Earthquake/popup_intensmap.php?id=827392&amp;f=/FELTREPORTS/82/827392/IntensityMap.png');\" onmouseout=\"info_b2('notshow','');\" onmouseover=\"info_b2('show','See the &lt;b&gt; Intensity map&lt;/b&gt;');\" style=\"background-color:#FFFFFF;\">F</span></td><td class=\"tabev6\"><b><i style=\"display:none;\">earthquake</i><a href=\"/Earthquake/earthquake.php?id=827392\">2020-02-06   11:41:24.5</a></b><i class=\"ago\" id=\"ago39\">4hr 34min ago</i></td><td class=\"tabev1\">17.97 </td><td class=\"tabev2\">N  </td><td class=\"tabev1\">66.77 </td><td class=\"tabev2\">W  </td><td class=\"tabev3\">8</td><td class=\"tabev5\" id=\"magtyp39\">Md</td><td class=\"tabev2\">2.7</td><td class=\"tb_region\" id=\"reg39\"> PUERTO RICO REGION</td><td class=\"comment updatetimeno\" id=\"upd39\" style=\"text-align:right;\">2020-02-06 11:59</td></tr>\n",
       " <tr class=\"ligne1 normal\" id=\"827396\" onclick=\"go_details(event,827396);\"><td class=\"tabev0\"></td><td class=\"tabev0\"></td><td class=\"tabev0\"></td><td class=\"tabev6\"><b><i style=\"display:none;\">earthquake</i><a href=\"/Earthquake/earthquake.php?id=827396\">2020-02-06   11:36:07.4</a></b><i class=\"ago\" id=\"ago40\">4hr 40min ago</i></td><td class=\"tabev1\">17.94 </td><td class=\"tabev2\">N  </td><td class=\"tabev1\">66.86 </td><td class=\"tabev2\">W  </td><td class=\"tabev3\">16</td><td class=\"tabev5\" id=\"magtyp40\">Md</td><td class=\"tabev2\">2.7</td><td class=\"tb_region\" id=\"reg40\"> PUERTO RICO REGION</td><td class=\"comment updatetimeno\" id=\"upd40\" style=\"text-align:right;\">2020-02-06 12:10</td></tr>\n",
       " <tr class=\"ligne2 normal\" id=\"827386\" onclick=\"go_details(event,827386);\"><td class=\"tabev0\"></td><td class=\"tabev0\"></td><td class=\"tabev0\"></td><td class=\"tabev6\"><b><i style=\"display:none;\">earthquake</i><a href=\"/Earthquake/earthquake.php?id=827386\">2020-02-06   11:26:29.3</a></b><i class=\"ago\" id=\"ago41\">4hr 49min ago</i></td><td class=\"tabev1\">46.73 </td><td class=\"tabev2\">N  </td><td class=\"tabev1\">7.23 </td><td class=\"tabev2\">E  </td><td class=\"tabev3\">7</td><td class=\"tabev5\" id=\"magtyp41\">ML</td><td class=\"tabev2\">1.7</td><td class=\"tb_region\" id=\"reg41\"> SWITZERLAND</td><td class=\"comment updatetimeno\" id=\"upd41\" style=\"text-align:right;\">2020-02-06 11:33</td></tr>\n",
       " <tr class=\"ligne1 normal\" id=\"827383\" onclick=\"go_details(event,827383);\"><td class=\"tabev0\"></td><td class=\"tabev0\"></td><td class=\"tabev0\"></td><td class=\"tabev6\"><b><i style=\"display:none;\">earthquake</i><a href=\"/Earthquake/earthquake.php?id=827383\">2020-02-06   11:21:08.8</a></b><i class=\"ago\" id=\"ago42\">4hr 55min ago</i></td><td class=\"tabev1\">40.30 </td><td class=\"tabev2\">N  </td><td class=\"tabev1\">124.38 </td><td class=\"tabev2\">W  </td><td class=\"tabev3\">7</td><td class=\"tabev5\" id=\"magtyp42\">Md</td><td class=\"tabev2\">2.1</td><td class=\"tb_region\" id=\"reg42\"> OFFSHORE NORTHERN CALIFORNIA</td><td class=\"comment updatetimeno\" id=\"upd42\" style=\"text-align:right;\">2020-02-06 11:22</td></tr>\n",
       " <tr class=\"ligne2 normal\" id=\"827385\" onclick=\"go_details(event,827385);\"><td class=\"tabev0\"></td><td class=\"tabev0\"></td><td class=\"tabev0\"><span class=\"intensity\" onclick=\"go_details(event,null,'https://www.emsc-csem.org/Earthquake/popup_intensmap.php?id=827385&amp;f=/FELTREPORTS/82/827385/IntensityMap.png');\" onmouseout=\"info_b2('notshow','');\" onmouseover=\"info_b2('show','See the &lt;b&gt; Intensity map&lt;/b&gt;');\" style=\"background-color:#FFFFFF;\">F</span></td><td class=\"tabev6\"><b><i style=\"display:none;\">earthquake</i><a href=\"/Earthquake/earthquake.php?id=827385\">2020-02-06   11:19:56.3</a></b><i class=\"ago\" id=\"ago43\">4hr 56min ago</i></td><td class=\"tabev1\">36.29 </td><td class=\"tabev2\">N  </td><td class=\"tabev1\">141.82 </td><td class=\"tabev2\">E  </td><td class=\"tabev3\">10</td><td class=\"tabev5\" id=\"magtyp43\">Mw</td><td class=\"tabev2\">5.3</td><td class=\"tb_region\" id=\"reg43\"> NEAR EAST COAST OF HONSHU, JAPAN</td><td class=\"comment updatetimeno\" id=\"upd43\" style=\"text-align:right;\">2020-02-06 12:29</td></tr>\n",
       " <tr class=\"ligne1 normal\" id=\"827384\" onclick=\"go_details(event,827384);\"><td class=\"tabev0\"></td><td class=\"tabev0\"></td><td class=\"tabev0\"></td><td class=\"tabev6\"><b><i style=\"display:none;\">earthquake</i><a href=\"/Earthquake/earthquake.php?id=827384\">2020-02-06   11:14:12.1</a></b><i class=\"ago\" id=\"ago44\">5hr 02min ago</i></td><td class=\"tabev1\">44.23 </td><td class=\"tabev2\">N  </td><td class=\"tabev1\">16.05 </td><td class=\"tabev2\">E  </td><td class=\"tabev3\">11</td><td class=\"tabev5\" id=\"magtyp44\">ML</td><td class=\"tabev2\">2.5</td><td class=\"tb_region\" id=\"reg44\"> CROATIA</td><td class=\"comment updatetimeno\" id=\"upd44\" style=\"text-align:right;\">2020-02-06 11:25</td></tr>\n",
       " <tr class=\"ligne2 normal\" id=\"827382\" onclick=\"go_details(event,827382);\"><td class=\"tabev0\"></td><td class=\"tabev0\"></td><td class=\"tabev0\"></td><td class=\"tabev6\"><b><i style=\"display:none;\">earthquake</i><a href=\"/Earthquake/earthquake.php?id=827382\">2020-02-06   11:08:37.4</a></b><i class=\"ago\" id=\"ago45\">5hr 07min ago</i></td><td class=\"tabev1\">38.40 </td><td class=\"tabev2\">N  </td><td class=\"tabev1\">39.18 </td><td class=\"tabev2\">E  </td><td class=\"tabev3\">5</td><td class=\"tabev5\" id=\"magtyp45\">ML</td><td class=\"tabev2\">2.7</td><td class=\"tb_region\" id=\"reg45\"> EASTERN TURKEY</td><td class=\"comment updatetimeno\" id=\"upd45\" style=\"text-align:right;\">2020-02-06 12:30</td></tr>\n",
       " <tr class=\"ligne1 normal\" id=\"827381\" onclick=\"go_details(event,827381);\"><td class=\"tabev0\" style=\"text-align:center;\"><a href=\"https://www.emsc-csem.org/Earthquake/Testimonies/comments.php?id=827381\" onmouseout=\"info_b2('notshow','');\" onmouseover=\"info_b2('show','See the &lt;b&gt;testimony&lt;/b&gt; for this earthquake');\"><span class=\"\" style=\"vertical-align:middle;\">1</span></a></td><td class=\"tabev0\"></td><td class=\"tabev0\"><span class=\"intensity\" onclick=\"go_details(event,null,'https://www.emsc-csem.org/Earthquake/popup_intensmap.php?id=827381&amp;f=/FELTREPORTS/82/827381/IntensityMap.png');\" onmouseout=\"info_b2('notshow','');\" onmouseover=\"info_b2('show','See the &lt;b&gt; Intensity map&lt;/b&gt;');\" style=\"background-color:#FFFFFF;\">F</span></td><td class=\"tabev6\"><b><i style=\"display:none;\">earthquake</i><a href=\"/Earthquake/earthquake.php?id=827381\">2020-02-06   11:05:29.3</a></b><i class=\"ago\" id=\"ago46\">5hr 10min ago</i></td><td class=\"tabev1\">40.30 </td><td class=\"tabev2\">N  </td><td class=\"tabev1\">124.38 </td><td class=\"tabev2\">W  </td><td class=\"tabev3\">8</td><td class=\"tabev5\" id=\"magtyp46\">Ml</td><td class=\"tabev2\">3.3</td><td class=\"tb_region\" id=\"reg46\"> OFFSHORE NORTHERN CALIFORNIA</td><td class=\"comment updatetimeno\" id=\"upd46\" style=\"text-align:right;\">2020-02-06 11:07</td></tr>\n",
       " <tr class=\"ligne2 normal\" id=\"827380\" onclick=\"go_details(event,827380);\"><td class=\"tabev0\"></td><td class=\"tabev0\"></td><td class=\"tabev0\"></td><td class=\"tabev6\"><b><i style=\"display:none;\">earthquake</i><a href=\"/Earthquake/earthquake.php?id=827380\">2020-02-06   11:02:50.3</a></b><i class=\"ago\" id=\"ago47\">5hr 13min ago</i></td><td class=\"tabev1\">38.41 </td><td class=\"tabev2\">N  </td><td class=\"tabev1\">25.54 </td><td class=\"tabev2\">E  </td><td class=\"tabev3\">17</td><td class=\"tabev5\" id=\"magtyp47\">ML</td><td class=\"tabev2\">2.7</td><td class=\"tb_region\" id=\"reg47\"> AEGEAN SEA</td><td class=\"comment updatetimeno\" id=\"upd47\" style=\"text-align:right;\">2020-02-06 12:33</td></tr>\n",
       " <tr class=\"ligne1 normal\" id=\"827436\" onclick=\"go_details(event,827436);\"><td class=\"tabev0\"></td><td class=\"tabev0\"></td><td class=\"tabev0\"></td><td class=\"tabev6\"><b><i style=\"display:none;\">earthquake</i><a href=\"/Earthquake/earthquake.php?id=827436\">2020-02-06   10:57:08.0</a></b><i class=\"ago\" id=\"ago48\">5hr 19min ago</i></td><td class=\"tabev1\">19.39 </td><td class=\"tabev2\">N  </td><td class=\"tabev1\">102.22 </td><td class=\"tabev2\">W  </td><td class=\"tabev3\">15</td><td class=\"tabev5\" id=\"magtyp48\"> M</td><td class=\"tabev2\">3.5</td><td class=\"tb_region\" id=\"reg48\"> MICHOACAN, MEXICO</td><td class=\"comment updatetimeno\" id=\"upd48\" style=\"text-align:right;\">2020-02-06 14:10</td></tr>\n",
       " <tr class=\"ligne2 normal\" id=\"827437\" onclick=\"go_details(event,827437);\"><td class=\"tabev0\"></td><td class=\"tabev0\"></td><td class=\"tabev0\"></td><td class=\"tabev6\"><b><i style=\"display:none;\">earthquake</i><a href=\"/Earthquake/earthquake.php?id=827437\">2020-02-06   10:44:44.0</a></b><i class=\"ago\" id=\"ago49\">5hr 31min ago</i></td><td class=\"tabev1\">19.43 </td><td class=\"tabev2\">N  </td><td class=\"tabev1\">102.07 </td><td class=\"tabev2\">W  </td><td class=\"tabev3\">22</td><td class=\"tabev5\" id=\"magtyp49\"> M</td><td class=\"tabev2\">3.6</td><td class=\"tb_region\" id=\"reg49\"> MICHOACAN, MEXICO</td><td class=\"comment updatetimeno\" id=\"upd49\" style=\"text-align:right;\">2020-02-06 14:11</td></tr>\n",
       " </tbody>]"
      ]
     },
     "execution_count": 23,
     "metadata": {},
     "output_type": "execute_result"
    }
   ],
   "source": [
    "#your code\n",
    "table_body = soup.find_all('tbody')\n",
    "table_body"
   ]
  },
  {
   "cell_type": "code",
   "execution_count": 24,
   "metadata": {},
   "outputs": [
    {
     "data": {
      "text/plain": [
       "['EASTERN TURKEY',\n",
       " 'NEAR N COAST OF PAPUA, INDONESIA',\n",
       " 'BANDA SEA',\n",
       " 'KEPULAUAN OBI, INDONESIA',\n",
       " 'HALMAHERA, INDONESIA',\n",
       " 'PUERTO RICO',\n",
       " 'NICARAGUA',\n",
       " 'PUERTO RICO',\n",
       " 'PUERTO RICO REGION',\n",
       " 'SAN JUAN, ARGENTINA',\n",
       " 'PUERTO RICO REGION',\n",
       " 'MOLUCCA SEA',\n",
       " 'WESTERN TURKEY',\n",
       " 'MINDANAO, PHILIPPINES',\n",
       " 'PUERTO RICO REGION',\n",
       " 'SALTA, ARGENTINA',\n",
       " 'WESTERN TEXAS',\n",
       " 'PUERTO RICO REGION',\n",
       " 'MINDANAO, PHILIPPINES',\n",
       " 'EASTERN TURKEY',\n",
       " 'MINDANAO, PHILIPPINES']"
      ]
     },
     "execution_count": 24,
     "metadata": {},
     "output_type": "execute_result"
    }
   ],
   "source": [
    "list_places= [i.text for i in soup.find_all(attrs={'class': 'tb_region'})]\n",
    "list_places_final=[re.sub('\\xa0', '', i) for i in list_places[:21]]\n",
    "list_places_final"
   ]
  },
  {
   "cell_type": "code",
   "execution_count": 25,
   "metadata": {},
   "outputs": [
    {
     "data": {
      "text/plain": [
       "[<a href=\"https://www.emsc-csem.org/Earthquake/info.php\">Earthquake information</a>,\n",
       " <a href=\"https://www.emsc-csem.org/Earthquake/\">List of latest earthquakes</a>,\n",
       " <a href=\"https://www.emsc-csem.org/Earthquake/significant_earthquakes.php\">Significant earthquakes</a>,\n",
       " <a href=\"https://www.emsc-csem.org/Earthquake/?filter=yes\">Search earthquakes</a>,\n",
       " <a href=\"https://www.emsc-csem.org/Earthquake/Map/gmap.php\">Earthquakes interactive map</a>,\n",
       " <a href=\"https://www.emsc-csem.org/Earthquake/near_you.php\">Earthquakes near you</a>,\n",
       " <a href=\"https://www.emsc-csem.org/Earthquake/felt.php\">Felt earthquakes</a>,\n",
       " <a href=\"https://www.emsc-csem.org/Earthquake/News/\">Special reports</a>,\n",
       " <a href=\"https://www.emsc-csem.org/Earthquake/seismicity/real_time.php\">How it works</a>,\n",
       " <a href=\"https://www.emsc-csem.org/Earthquake/Contribute/?lang=es\" onmouseout=\"info_b('notshow','','');\" onmouseover=\"info_b('show','The flag is the visible language that seems to be the most appropriate to respond to our questionnaire.','Language');\"><img id=\"flag\" src=\"/Images/flag/flag_es.png\" style=\"vertical-align:middle;height:12px;width:18px;\"/>  Testimonies, photos</a>,\n",
       " <a href=\"https://www.emsc-csem.org/Earthquake/Gallery/\">Photos</a>,\n",
       " <a href=\"https://www.emsc-csem.org/Earthquake/Testimonies/\">Testimonies</a>,\n",
       " <a href=\"https://www.emsc-csem.org/service/\">Information services</a>,\n",
       " <a href=\"https://www.emsc-csem.org/service/real_time/\"><span class=\"spriteorig sp_phone\" style=\"vertical-align:middle;\"></span> For smartphones</a>,\n",
       " <a href=\"https://www.emsc-csem.org/service/application/\"><span class=\"spriteorig sp_phone\" style=\"vertical-align:middle;\"></span> Android &amp; iOS App</a>,\n",
       " <a href=\"https://www.emsc-csem.org/service/Browser-extension/\"><span style=\"display:inline-block;background:url(/Css/img/extension-icon.png) no-repeat;width:16px;height:16px;vertical-align:middle;\"></span> Browser extensions</a>,\n",
       " <a href=\"https://www.seismicportal.eu/webservices.html\"><span class=\"spriteorig sp_feed-icon14\" style=\"vertical-align:middle;\"></span> Webservices</a>,\n",
       " <a href=\"https://www.emsc-csem.org/service/rss/\"><span class=\"spriteorig sp_feed-icon14\" style=\"vertical-align:middle;\"></span> RSS feeds</a>,\n",
       " <a href=\"https://www.emsc-csem.org/Earthquake/Map/earth/\"><span class=\"spriteorig sp_ge2\" style=\"vertical-align:middle;\"></span> Seismicity on Google Earth</a>,\n",
       " <a href=\"https://www.emsc-csem.org/service/register.php\"><span class=\"spriteorig sp_alert1\" style=\"vertical-align:middle;\"></span> Email notification service</a>,\n",
       " <a href=\"https://www.emsc-csem.org/Earthquake/for_seismologist.php\">For seismologists</a>,\n",
       " <a href=\"https://www.emsc-csem.org/Earthquake/seismologist.php\">Latest data contributions</a>,\n",
       " <a href=\"https://www.emsc-csem.org/Earthquake/index_tensors.php\">Moment tensors</a>,\n",
       " <a href=\"https://www.emsc-csem.org/Bulletin/\">Euro-Med bulletin</a>,\n",
       " <a href=\"https://www.seismicportal.eu/\" target=\"_blank\">Seismic Portal</a>,\n",
       " <a href=\"https://www.emsc-csem.org/News/\">News</a>,\n",
       " <a href=\"https://www.emsc-csem.org/job/\">Jobs</a>,\n",
       " <a href=\"https://www.emsc-csem.org/Project/\">Projects</a>,\n",
       " <a href=\"https://www.emsc-csem.org/Project/#aristotle\">ARISTOTLE</a>,\n",
       " <a href=\"https://www.emsc-csem.org/Project/#carismand\">CARISMAND</a>,\n",
       " <a href=\"https://www.emsc-csem.org/Project/#improver\">IMPROVER</a>,\n",
       " <a href=\"https://www.emsc-csem.org/Project/#seismic\">Seismic portal</a>,\n",
       " <a href=\"https://www.emsc-csem.org/Project/#citizen\">Citizen seismology</a>,\n",
       " <a href=\"https://www.emsc-csem.org/Project/#qcn\">Quake Catcher Network</a>,\n",
       " <a href=\"https://www.emsc-csem.org/Project/#sigma\">Sigma</a>,\n",
       " <a href=\"https://www.emsc-csem.org/Project/#verce\">Verce</a>,\n",
       " <a href=\"https://www.emsc-csem.org/Project/#marsite\">MARsite</a>,\n",
       " <a href=\"https://www.emsc-csem.org/Project/#nera\">NERA</a>,\n",
       " <a href=\"https://www.emsc-csem.org/Project/#EPOS\">EPOS</a>,\n",
       " <a href=\"https://www.emsc-csem.org/Project/#REAKT\">REAKT</a>,\n",
       " <a href=\"https://www.emsc-csem.org/Documents/\">Publications &amp; docs</a>,\n",
       " <a href=\"https://www.emsc-csem.org\">EMSC</a>,\n",
       " <a href=\"http://www.digitalelement.com/\" target=\"_blank\">digitalelement<div id=\"sponimg\"><img src=\"https://static3.emsc.eu/Images/sites/p_netacuity_01.gif\"/></div></a>,\n",
       " <a href=\"/Donate/\"><span class=\"spriteorig sp_btn_donate_SM\" style=\"vertical-align:middle;margin-top:-2px;\"></span></a>,\n",
       " <a href=\"/about/\">About EMSC</a>,\n",
       " <a href=\"/disclaimer.php\">Disclaimer</a>,\n",
       " <a href=\"/Earthquake/?filter=yes\"><span class=\"spriteorig sp_Icon_tools_th\" style=\"margin-right:3px;\"></span>Define your criteria</a>,\n",
       " <a href=\"/Earthquake/world/M3/\"> mag≥3 </a>,\n",
       " <a href=\"/Earthquake/world/M4/\"> mag≥4 </a>,\n",
       " <a href=\"/Earthquake/world/M5/\"> mag≥5 </a>,\n",
       " <a href=\"/glossary.php\">Glossary</a>,\n",
       " <a href=\"javascript:hide_magni();\" id=\"magplus\" style=\"color:white;\">[+]</a>,\n",
       " <a href=\"javascript:hide_upd();\" style=\"color:white;\">[+]</a>,\n",
       " <a href=\"javascript:hide_upd();\" style=\"color:white;\">[-]</a>,\n",
       " <a class=\"sublink sublinka\" href=\"javascript:void()\" rel=\"nofollow\">1</a>,\n",
       " <a class=\"sublink\" href=\"/Earthquake/?view=2\">2</a>,\n",
       " <a class=\"sublink\" href=\"/Earthquake/?view=3\">3</a>,\n",
       " <a class=\"sublink\" href=\"/Earthquake/?view=4\">4</a>,\n",
       " <a class=\"sublink\" href=\"/Earthquake/?view=5\">5</a>,\n",
       " <a class=\"sublink\" href=\"/Earthquake/?view=6\">6</a>,\n",
       " <a class=\"sublink\" href=\"/Earthquake/?view=7\">7</a>,\n",
       " <a class=\"sublink\" href=\"/Earthquake/?view=8\">8</a>,\n",
       " <a class=\"sublink\" href=\"/Earthquake/?view=9\">9</a>,\n",
       " <a class=\"sublink\" href=\"/Earthquake/?view=10\">10</a>,\n",
       " <a alt=\"Next page\" class=\"sublink\" href=\"/Earthquake/?view=2\"></a>,\n",
       " <a alt=\"Next 10 pages\" class=\"sublink\" href=\"/Earthquake/?view=11\">»</a>,\n",
       " <a href=\"/Earthquake/earthquake.php?id=827460\">2020-02-06   16:02:14.9</a>,\n",
       " <a href=\"/Earthquake/earthquake.php?id=827462\">2020-02-06   16:01:50.0</a>,\n",
       " <a href=\"/Earthquake/earthquake.php?id=827454\">2020-02-06   15:42:50.0</a>,\n",
       " <a href=\"/Earthquake/earthquake.php?id=827455\">2020-02-06   15:38:47.0</a>,\n",
       " <a href=\"/Earthquake/earthquake.php?id=827452\">2020-02-06   15:28:13.0</a>,\n",
       " <a href=\"/Earthquake/earthquake.php?id=827458\">2020-02-06   15:25:52.5</a>,\n",
       " <a href=\"/Earthquake/earthquake.php?id=827453\">2020-02-06   15:25:30.0</a>,\n",
       " <a href=\"/Earthquake/earthquake.php?id=827456\">2020-02-06   15:15:46.9</a>,\n",
       " <a href=\"/Earthquake/earthquake.php?id=827449\">2020-02-06   14:50:24.8</a>,\n",
       " <a href=\"/Earthquake/earthquake.php?id=827448\">2020-02-06   14:40:04.0</a>,\n",
       " <a href=\"/Earthquake/earthquake.php?id=827447\">2020-02-06   14:38:29.5</a>,\n",
       " <a href=\"/Earthquake/earthquake.php?id=827444\">2020-02-06   14:37:28.0</a>,\n",
       " <a href=\"/Earthquake/earthquake.php?id=827443\">2020-02-06   14:29:34.8</a>,\n",
       " <a href=\"/Earthquake/earthquake.php?id=827441\">2020-02-06   14:20:46.5</a>,\n",
       " <a href=\"/Earthquake/earthquake.php?id=827442\">2020-02-06   14:18:36.0</a>,\n",
       " <a href=\"/Earthquake/earthquake.php?id=827440\">2020-02-06   14:14:04.0</a>,\n",
       " <a href=\"/Earthquake/earthquake.php?id=827459\">2020-02-06   14:04:43.1</a>,\n",
       " <a href=\"/Earthquake/earthquake.php?id=827439\">2020-02-06   13:59:45.2</a>,\n",
       " <a href=\"/Earthquake/earthquake.php?id=827423\">2020-02-06   13:45:38.0</a>,\n",
       " <a href=\"/Earthquake/earthquake.php?id=827424\">2020-02-06   13:42:53.9</a>,\n",
       " <a href=\"https://www.emsc-csem.org/Earthquake/Testimonies/comments.php?id=827418\" onmouseout=\"info_b2('notshow','');\" onmouseover=\"info_b2('show','See the &lt;b&gt;15 testimonies&lt;/b&gt; for this earthquake');\"><span class=\"\" style=\"vertical-align:middle;\">15</span></a>,\n",
       " <a href=\"/Earthquake/earthquake.php?id=827418\">2020-02-06   13:40:05.2</a>,\n",
       " <a href=\"/Earthquake/earthquake.php?id=827421\">2020-02-06   13:38:25.5</a>,\n",
       " <a href=\"/Earthquake/earthquake.php?id=827414\">2020-02-06   13:34:25.9</a>,\n",
       " <a href=\"/Earthquake/earthquake.php?id=827417\">2020-02-06   13:31:39.3</a>,\n",
       " <a href=\"https://www.emsc-csem.org/Earthquake/Testimonies/comments.php?id=827413\" onmouseout=\"info_b2('notshow','');\" onmouseover=\"info_b2('show','See the &lt;b&gt;3 testimonies&lt;/b&gt; for this earthquake');\"><span class=\"\" style=\"vertical-align:middle;\">3</span></a>,\n",
       " <a href=\"/Earthquake/earthquake.php?id=827413\">2020-02-06   13:20:49.0</a>,\n",
       " <a href=\"/Earthquake/earthquake.php?id=827410\">2020-02-06   13:20:43.7</a>,\n",
       " <a href=\"/Earthquake/earthquake.php?id=827420\">2020-02-06   13:10:34.7</a>,\n",
       " <a href=\"https://www.emsc-csem.org/Earthquake/Testimonies/comments.php?id=827435\" onmouseout=\"info_b2('notshow','');\" onmouseover=\"info_b2('show','See the &lt;b&gt;testimony&lt;/b&gt; for this earthquake');\"><span class=\"\" style=\"vertical-align:middle;\">1</span></a>,\n",
       " <a href=\"/Earthquake/earthquake.php?id=827435\">2020-02-06   13:10:00.6</a>,\n",
       " <a href=\"/Earthquake/earthquake.php?id=827411\">2020-02-06   12:59:27.5</a>,\n",
       " <a href=\"/Earthquake/earthquake.php?id=827403\">2020-02-06   12:30:15.2</a>,\n",
       " <a href=\"/Earthquake/earthquake.php?id=827404\">2020-02-06   12:22:30.3</a>,\n",
       " <a href=\"/Earthquake/earthquake.php?id=827397\">2020-02-06   12:08:23.0</a>,\n",
       " <a href=\"/Earthquake/earthquake.php?id=827412\">2020-02-06   12:00:55.9</a>,\n",
       " <a href=\"/Earthquake/earthquake.php?id=827395\">2020-02-06   11:55:14.0</a>,\n",
       " <a href=\"/Earthquake/earthquake.php?id=827391\">2020-02-06   11:53:03.2</a>,\n",
       " <a href=\"/Earthquake/earthquake.php?id=827400\">2020-02-06   11:51:34.1</a>,\n",
       " <a href=\"/Earthquake/earthquake.php?id=827398\">2020-02-06   11:48:01.0</a>,\n",
       " <a href=\"/Earthquake/earthquake.php?id=827416\">2020-02-06   11:47:30.0</a>,\n",
       " <a href=\"/Earthquake/earthquake.php?id=827390\">2020-02-06   11:43:13.1</a>,\n",
       " <a href=\"https://www.emsc-csem.org/Earthquake/Testimonies/comments.php?id=827392\" onmouseout=\"info_b2('notshow','');\" onmouseover=\"info_b2('show','See the &lt;b&gt;testimony&lt;/b&gt; for this earthquake');\"><span class=\"\" style=\"vertical-align:middle;\">1</span></a>,\n",
       " <a href=\"/Earthquake/earthquake.php?id=827392\">2020-02-06   11:41:24.5</a>,\n",
       " <a href=\"/Earthquake/earthquake.php?id=827396\">2020-02-06   11:36:07.4</a>,\n",
       " <a href=\"/Earthquake/earthquake.php?id=827386\">2020-02-06   11:26:29.3</a>,\n",
       " <a href=\"/Earthquake/earthquake.php?id=827383\">2020-02-06   11:21:08.8</a>,\n",
       " <a href=\"/Earthquake/earthquake.php?id=827385\">2020-02-06   11:19:56.3</a>,\n",
       " <a href=\"/Earthquake/earthquake.php?id=827384\">2020-02-06   11:14:12.1</a>,\n",
       " <a href=\"/Earthquake/earthquake.php?id=827382\">2020-02-06   11:08:37.4</a>,\n",
       " <a href=\"https://www.emsc-csem.org/Earthquake/Testimonies/comments.php?id=827381\" onmouseout=\"info_b2('notshow','');\" onmouseover=\"info_b2('show','See the &lt;b&gt;testimony&lt;/b&gt; for this earthquake');\"><span class=\"\" style=\"vertical-align:middle;\">1</span></a>,\n",
       " <a href=\"/Earthquake/earthquake.php?id=827381\">2020-02-06   11:05:29.3</a>,\n",
       " <a href=\"/Earthquake/earthquake.php?id=827380\">2020-02-06   11:02:50.3</a>,\n",
       " <a href=\"/Earthquake/earthquake.php?id=827436\">2020-02-06   10:57:08.0</a>,\n",
       " <a href=\"/Earthquake/earthquake.php?id=827437\">2020-02-06   10:44:44.0</a>,\n",
       " <a class=\"sublink sublinka\" href=\"javascript:void()\" rel=\"nofollow\">1</a>,\n",
       " <a class=\"sublink\" href=\"/Earthquake/?view=2\">2</a>,\n",
       " <a class=\"sublink\" href=\"/Earthquake/?view=3\">3</a>,\n",
       " <a class=\"sublink\" href=\"/Earthquake/?view=4\">4</a>,\n",
       " <a class=\"sublink\" href=\"/Earthquake/?view=5\">5</a>,\n",
       " <a class=\"sublink\" href=\"/Earthquake/?view=6\">6</a>,\n",
       " <a class=\"sublink\" href=\"/Earthquake/?view=7\">7</a>,\n",
       " <a class=\"sublink\" href=\"/Earthquake/?view=8\">8</a>,\n",
       " <a class=\"sublink\" href=\"/Earthquake/?view=9\">9</a>,\n",
       " <a class=\"sublink\" href=\"/Earthquake/?view=10\">10</a>,\n",
       " <a alt=\"Next page\" class=\"sublink\" href=\"/Earthquake/?view=2\"></a>,\n",
       " <a alt=\"Next 10 pages\" class=\"sublink\" href=\"/Earthquake/?view=11\">»</a>,\n",
       " <a href=\"/Earthquake/?disclam=yes\">Disclaimer</a>,\n",
       " <a href=\"https://www.emsc-csem.org/faq.php\"><b>FAQ</b></a>,\n",
       " <a href=\"https://www.emsc-csem.org/about/\"><b>About EMSC</b></a>,\n",
       " <a href=\"https://www.emsc-csem.org/sitemap.php\"><b>Site Map</b></a>,\n",
       " <a href=\"https://www.emsc-csem.org/Search/\"><b>Search</b></a>,\n",
       " <a href=\"http://twitter.com/lastquake\" target=\"_blank\"><span class=\"spriteorig sp_twitter\" title=\"twitter: @lastquake\"></span></a>,\n",
       " <a href=\"http://twitter.com/EMSC\" target=\"_blank\"><span class=\"spriteorig sp_twitter\" title=\"twitter: @EMSC\"></span></a>,\n",
       " <a href=\"http://www.facebook.com/pages/EMSC-CSEM/207151812690551?sk=wall\" target=\"_blank\"><span class=\"spriteorig sp_facebook\" title=\"facebook: EMSC-CSEM\"></span></a>,\n",
       " <a href=\"https://t.me/LastQuake2\" target=\"_blank\"><span style=\"display:inline-block;background:url(/Css/img/telegram-24.png) no-repeat;width:24px;height:24px;\" title=\"Telegram: LastQuake2\"></span></a>,\n",
       " <a href=\"https://t.me/AllQuakes2\" target=\"_blank\"><span style=\"display:inline-block;background:url(/Css/img/telegram-24.png) no-repeat;width:24px;height:24px;\" title=\"Telegram: AllQuakes2\"></span></a>,\n",
       " <a href=\"https://plus.google.com/110355370165808827925/posts\" target=\"_blank\"><span class=\"spriteorig sp_googleplus\" title=\"google: emsc csem\"></span></a>,\n",
       " <a href=\"http://www.pinterest.com/EMSCCSEM/\" target=\"_blank\"><span class=\"spriteorig sp_pinterest\" title=\"pinterest: EMSCCSEM\"></span></a>,\n",
       " <a href=\"http://www.youtube.com/user/EuroMSC\" target=\"_blank\"><span class=\"spriteorig sp_youtube\" title=\"youtube: EuroMSC\"></span></a>,\n",
       " <a href=\"/policy.php\">Privacy</a>,\n",
       " <a href=\"http://www.statcounter.com/\" target=\"_blank\" title=\"hit counter\"><img alt=\"hit counter\" class=\"statcounter\" src=\"https://c.statcounter.com/217829/0//1/\" style=\"width:1px;height:1px;\"/></a>]"
      ]
     },
     "execution_count": 25,
     "metadata": {},
     "output_type": "execute_result"
    }
   ],
   "source": [
    "list_date = [i for i in soup.find_all('a', href=True)]\n",
    "list_date"
   ]
  },
  {
   "cell_type": "code",
   "execution_count": 26,
   "metadata": {},
   "outputs": [],
   "source": [
    "latitude_longitude = [i.text for i in soup.find_all(attrs={'class': 'tabev1'})]\n",
    "\n",
    "latitude_longitude_final=[re.sub('\\xa0', '', i) for i in latitude_longitude[:40]]\n",
    "latitude = []\n",
    "longitude = []\n",
    "for i in range(0, len(latitude_longitude_final)):\n",
    "    if i%2==0:\n",
    "        latitude.append(latitude_longitude_final[i])\n",
    "    else:\n",
    "        longitude.append(latitude_longitude_final[i])"
   ]
  },
  {
   "cell_type": "code",
   "execution_count": 27,
   "metadata": {},
   "outputs": [
    {
     "data": {
      "text/plain": [
       "['38.37',\n",
       " '2.43',\n",
       " '6.25',\n",
       " '1.00',\n",
       " '0.16',\n",
       " '17.94',\n",
       " '11.54',\n",
       " '18.01',\n",
       " '17.87',\n",
       " '31.82',\n",
       " '17.96',\n",
       " '1.54',\n",
       " '39.09',\n",
       " '5.40',\n",
       " '17.85',\n",
       " '24.23',\n",
       " '31.65',\n",
       " '17.79',\n",
       " '5.35',\n",
       " '38.37']"
      ]
     },
     "execution_count": 27,
     "metadata": {},
     "output_type": "execute_result"
    }
   ],
   "source": [
    "latitude"
   ]
  },
  {
   "cell_type": "code",
   "execution_count": 28,
   "metadata": {},
   "outputs": [
    {
     "data": {
      "text/plain": [
       "['N',\n",
       " 'E',\n",
       " '2.8',\n",
       " 'S',\n",
       " 'E',\n",
       " '3.1',\n",
       " 'S',\n",
       " 'E',\n",
       " '3.7',\n",
       " 'S',\n",
       " 'E',\n",
       " '4.0',\n",
       " 'S',\n",
       " 'E',\n",
       " '3.4',\n",
       " 'N',\n",
       " 'W',\n",
       " '3.1',\n",
       " 'N',\n",
       " 'W',\n",
       " '4.0',\n",
       " 'N',\n",
       " 'W',\n",
       " '2.4',\n",
       " 'N',\n",
       " 'W',\n",
       " '2.3',\n",
       " 'S',\n",
       " 'W',\n",
       " '3.0',\n",
       " 'N',\n",
       " 'W',\n",
       " '2.7',\n",
       " 'N',\n",
       " 'E',\n",
       " '3.2',\n",
       " 'N',\n",
       " 'E',\n",
       " '2.1',\n",
       " 'N',\n",
       " 'E',\n",
       " '4.8',\n",
       " 'N',\n",
       " 'W',\n",
       " '2.5',\n",
       " 'S',\n",
       " 'W',\n",
       " '3.6',\n",
       " 'N',\n",
       " 'W',\n",
       " '2.6',\n",
       " 'N',\n",
       " 'W',\n",
       " '2.7',\n",
       " 'N',\n",
       " 'E',\n",
       " '4.6',\n",
       " 'N',\n",
       " 'E',\n",
       " '2.0',\n",
       " 'N',\n",
       " 'E',\n",
       " '6.0',\n",
       " 'N',\n",
       " 'E',\n",
       " '2.3',\n",
       " 'N',\n",
       " 'W',\n",
       " '2.6',\n",
       " 'N',\n",
       " 'W',\n",
       " '2.9',\n",
       " 'N',\n",
       " 'W',\n",
       " '3.8',\n",
       " 'N',\n",
       " 'W',\n",
       " '2.9',\n",
       " 'N',\n",
       " 'E',\n",
       " '2.1',\n",
       " 'N',\n",
       " 'W',\n",
       " '2.9',\n",
       " 'N',\n",
       " 'E',\n",
       " '2.4',\n",
       " 'N',\n",
       " 'E',\n",
       " '2.0',\n",
       " 'N',\n",
       " 'E',\n",
       " '2.8',\n",
       " 'N',\n",
       " 'W',\n",
       " '2.1',\n",
       " 'S',\n",
       " 'W',\n",
       " '4.6',\n",
       " 'S',\n",
       " 'W',\n",
       " '3.0',\n",
       " 'N',\n",
       " 'W',\n",
       " '3.1',\n",
       " 'N',\n",
       " 'W',\n",
       " '2.7',\n",
       " 'N',\n",
       " 'E',\n",
       " '3.6',\n",
       " 'N',\n",
       " 'W',\n",
       " '4.4',\n",
       " 'N',\n",
       " 'W',\n",
       " '2.1',\n",
       " 'N',\n",
       " 'W',\n",
       " '2.7',\n",
       " 'N',\n",
       " 'W',\n",
       " '2.7',\n",
       " 'N',\n",
       " 'E',\n",
       " '1.7',\n",
       " 'N',\n",
       " 'W',\n",
       " '2.1',\n",
       " 'N',\n",
       " 'E',\n",
       " '5.3',\n",
       " 'N',\n",
       " 'E',\n",
       " '2.5',\n",
       " 'N',\n",
       " 'E',\n",
       " '2.7',\n",
       " 'N',\n",
       " 'W',\n",
       " '3.3',\n",
       " 'N',\n",
       " 'E',\n",
       " '2.7',\n",
       " 'N',\n",
       " 'W',\n",
       " '3.5',\n",
       " 'N',\n",
       " 'W',\n",
       " '3.6']"
      ]
     },
     "execution_count": 28,
     "metadata": {},
     "output_type": "execute_result"
    }
   ],
   "source": [
    "latitude_longitude_type_coordenate = [re.sub('\\xa0', '', i.text) for i in soup.find_all(attrs={'class': 'tabev2'})]\n",
    "latitude_longitude_type_coordenate"
   ]
  },
  {
   "cell_type": "code",
   "execution_count": null,
   "metadata": {},
   "outputs": [],
   "source": []
  },
  {
   "cell_type": "code",
   "execution_count": 29,
   "metadata": {},
   "outputs": [],
   "source": [
    "#for i in latitude_longitude_type_coordenate:\n",
    "    "
   ]
  },
  {
   "cell_type": "code",
   "execution_count": 30,
   "metadata": {},
   "outputs": [
    {
     "data": {
      "text/plain": [
       "['3',\n",
       " '10',\n",
       " '190',\n",
       " '10',\n",
       " '10',\n",
       " '8',\n",
       " '11',\n",
       " '16',\n",
       " '12',\n",
       " '145',\n",
       " '13',\n",
       " '82',\n",
       " '7',\n",
       " '80',\n",
       " '10',\n",
       " '229',\n",
       " '5',\n",
       " '10',\n",
       " '3',\n",
       " '7']"
      ]
     },
     "execution_count": 30,
     "metadata": {},
     "output_type": "execute_result"
    }
   ],
   "source": [
    "depth = [i.text for i in soup.find_all(attrs={'class': 'tabev3'})][:20]\n",
    "depth"
   ]
  },
  {
   "cell_type": "markdown",
   "metadata": {},
   "source": [
    "#### Display the date, days, title, city, country of next 25 hackathon events as a Pandas dataframe table"
   ]
  },
  {
   "cell_type": "code",
   "execution_count": 31,
   "metadata": {},
   "outputs": [
    {
     "ename": "ConnectionError",
     "evalue": "HTTPSConnectionPool(host='hackevents.co', port=443): Max retries exceeded with url: /hackathons (Caused by NewConnectionError('<urllib3.connection.VerifiedHTTPSConnection object at 0x7f9e2156aa90>: Failed to establish a new connection: [Errno 111] Connection refused'))",
     "output_type": "error",
     "traceback": [
      "\u001b[0;31m---------------------------------------------------------------------------\u001b[0m",
      "\u001b[0;31mConnectionRefusedError\u001b[0m                    Traceback (most recent call last)",
      "\u001b[0;32m~/miniconda3/envs/data_env/lib/python3.7/site-packages/urllib3/connection.py\u001b[0m in \u001b[0;36m_new_conn\u001b[0;34m(self)\u001b[0m\n\u001b[1;32m    156\u001b[0m             conn = connection.create_connection(\n\u001b[0;32m--> 157\u001b[0;31m                 \u001b[0;34m(\u001b[0m\u001b[0mself\u001b[0m\u001b[0;34m.\u001b[0m\u001b[0m_dns_host\u001b[0m\u001b[0;34m,\u001b[0m \u001b[0mself\u001b[0m\u001b[0;34m.\u001b[0m\u001b[0mport\u001b[0m\u001b[0;34m)\u001b[0m\u001b[0;34m,\u001b[0m \u001b[0mself\u001b[0m\u001b[0;34m.\u001b[0m\u001b[0mtimeout\u001b[0m\u001b[0;34m,\u001b[0m \u001b[0;34m**\u001b[0m\u001b[0mextra_kw\u001b[0m\u001b[0;34m\u001b[0m\u001b[0;34m\u001b[0m\u001b[0m\n\u001b[0m\u001b[1;32m    158\u001b[0m             )\n",
      "\u001b[0;32m~/miniconda3/envs/data_env/lib/python3.7/site-packages/urllib3/util/connection.py\u001b[0m in \u001b[0;36mcreate_connection\u001b[0;34m(address, timeout, source_address, socket_options)\u001b[0m\n\u001b[1;32m     83\u001b[0m     \u001b[0;32mif\u001b[0m \u001b[0merr\u001b[0m \u001b[0;32mis\u001b[0m \u001b[0;32mnot\u001b[0m \u001b[0;32mNone\u001b[0m\u001b[0;34m:\u001b[0m\u001b[0;34m\u001b[0m\u001b[0;34m\u001b[0m\u001b[0m\n\u001b[0;32m---> 84\u001b[0;31m         \u001b[0;32mraise\u001b[0m \u001b[0merr\u001b[0m\u001b[0;34m\u001b[0m\u001b[0;34m\u001b[0m\u001b[0m\n\u001b[0m\u001b[1;32m     85\u001b[0m \u001b[0;34m\u001b[0m\u001b[0m\n",
      "\u001b[0;32m~/miniconda3/envs/data_env/lib/python3.7/site-packages/urllib3/util/connection.py\u001b[0m in \u001b[0;36mcreate_connection\u001b[0;34m(address, timeout, source_address, socket_options)\u001b[0m\n\u001b[1;32m     73\u001b[0m                 \u001b[0msock\u001b[0m\u001b[0;34m.\u001b[0m\u001b[0mbind\u001b[0m\u001b[0;34m(\u001b[0m\u001b[0msource_address\u001b[0m\u001b[0;34m)\u001b[0m\u001b[0;34m\u001b[0m\u001b[0;34m\u001b[0m\u001b[0m\n\u001b[0;32m---> 74\u001b[0;31m             \u001b[0msock\u001b[0m\u001b[0;34m.\u001b[0m\u001b[0mconnect\u001b[0m\u001b[0;34m(\u001b[0m\u001b[0msa\u001b[0m\u001b[0;34m)\u001b[0m\u001b[0;34m\u001b[0m\u001b[0;34m\u001b[0m\u001b[0m\n\u001b[0m\u001b[1;32m     75\u001b[0m             \u001b[0;32mreturn\u001b[0m \u001b[0msock\u001b[0m\u001b[0;34m\u001b[0m\u001b[0;34m\u001b[0m\u001b[0m\n",
      "\u001b[0;31mConnectionRefusedError\u001b[0m: [Errno 111] Connection refused",
      "\nDuring handling of the above exception, another exception occurred:\n",
      "\u001b[0;31mNewConnectionError\u001b[0m                        Traceback (most recent call last)",
      "\u001b[0;32m~/miniconda3/envs/data_env/lib/python3.7/site-packages/urllib3/connectionpool.py\u001b[0m in \u001b[0;36murlopen\u001b[0;34m(self, method, url, body, headers, retries, redirect, assert_same_host, timeout, pool_timeout, release_conn, chunked, body_pos, **response_kw)\u001b[0m\n\u001b[1;32m    671\u001b[0m                 \u001b[0mheaders\u001b[0m\u001b[0;34m=\u001b[0m\u001b[0mheaders\u001b[0m\u001b[0;34m,\u001b[0m\u001b[0;34m\u001b[0m\u001b[0;34m\u001b[0m\u001b[0m\n\u001b[0;32m--> 672\u001b[0;31m                 \u001b[0mchunked\u001b[0m\u001b[0;34m=\u001b[0m\u001b[0mchunked\u001b[0m\u001b[0;34m,\u001b[0m\u001b[0;34m\u001b[0m\u001b[0;34m\u001b[0m\u001b[0m\n\u001b[0m\u001b[1;32m    673\u001b[0m             )\n",
      "\u001b[0;32m~/miniconda3/envs/data_env/lib/python3.7/site-packages/urllib3/connectionpool.py\u001b[0m in \u001b[0;36m_make_request\u001b[0;34m(self, conn, method, url, timeout, chunked, **httplib_request_kw)\u001b[0m\n\u001b[1;32m    375\u001b[0m         \u001b[0;32mtry\u001b[0m\u001b[0;34m:\u001b[0m\u001b[0;34m\u001b[0m\u001b[0;34m\u001b[0m\u001b[0m\n\u001b[0;32m--> 376\u001b[0;31m             \u001b[0mself\u001b[0m\u001b[0;34m.\u001b[0m\u001b[0m_validate_conn\u001b[0m\u001b[0;34m(\u001b[0m\u001b[0mconn\u001b[0m\u001b[0;34m)\u001b[0m\u001b[0;34m\u001b[0m\u001b[0;34m\u001b[0m\u001b[0m\n\u001b[0m\u001b[1;32m    377\u001b[0m         \u001b[0;32mexcept\u001b[0m \u001b[0;34m(\u001b[0m\u001b[0mSocketTimeout\u001b[0m\u001b[0;34m,\u001b[0m \u001b[0mBaseSSLError\u001b[0m\u001b[0;34m)\u001b[0m \u001b[0;32mas\u001b[0m \u001b[0me\u001b[0m\u001b[0;34m:\u001b[0m\u001b[0;34m\u001b[0m\u001b[0;34m\u001b[0m\u001b[0m\n",
      "\u001b[0;32m~/miniconda3/envs/data_env/lib/python3.7/site-packages/urllib3/connectionpool.py\u001b[0m in \u001b[0;36m_validate_conn\u001b[0;34m(self, conn)\u001b[0m\n\u001b[1;32m    993\u001b[0m         \u001b[0;32mif\u001b[0m \u001b[0;32mnot\u001b[0m \u001b[0mgetattr\u001b[0m\u001b[0;34m(\u001b[0m\u001b[0mconn\u001b[0m\u001b[0;34m,\u001b[0m \u001b[0;34m\"sock\"\u001b[0m\u001b[0;34m,\u001b[0m \u001b[0;32mNone\u001b[0m\u001b[0;34m)\u001b[0m\u001b[0;34m:\u001b[0m  \u001b[0;31m# AppEngine might not have  `.sock`\u001b[0m\u001b[0;34m\u001b[0m\u001b[0;34m\u001b[0m\u001b[0m\n\u001b[0;32m--> 994\u001b[0;31m             \u001b[0mconn\u001b[0m\u001b[0;34m.\u001b[0m\u001b[0mconnect\u001b[0m\u001b[0;34m(\u001b[0m\u001b[0;34m)\u001b[0m\u001b[0;34m\u001b[0m\u001b[0;34m\u001b[0m\u001b[0m\n\u001b[0m\u001b[1;32m    995\u001b[0m \u001b[0;34m\u001b[0m\u001b[0m\n",
      "\u001b[0;32m~/miniconda3/envs/data_env/lib/python3.7/site-packages/urllib3/connection.py\u001b[0m in \u001b[0;36mconnect\u001b[0;34m(self)\u001b[0m\n\u001b[1;32m    333\u001b[0m         \u001b[0;31m# Add certificate verification\u001b[0m\u001b[0;34m\u001b[0m\u001b[0;34m\u001b[0m\u001b[0;34m\u001b[0m\u001b[0m\n\u001b[0;32m--> 334\u001b[0;31m         \u001b[0mconn\u001b[0m \u001b[0;34m=\u001b[0m \u001b[0mself\u001b[0m\u001b[0;34m.\u001b[0m\u001b[0m_new_conn\u001b[0m\u001b[0;34m(\u001b[0m\u001b[0;34m)\u001b[0m\u001b[0;34m\u001b[0m\u001b[0;34m\u001b[0m\u001b[0m\n\u001b[0m\u001b[1;32m    335\u001b[0m         \u001b[0mhostname\u001b[0m \u001b[0;34m=\u001b[0m \u001b[0mself\u001b[0m\u001b[0;34m.\u001b[0m\u001b[0mhost\u001b[0m\u001b[0;34m\u001b[0m\u001b[0;34m\u001b[0m\u001b[0m\n",
      "\u001b[0;32m~/miniconda3/envs/data_env/lib/python3.7/site-packages/urllib3/connection.py\u001b[0m in \u001b[0;36m_new_conn\u001b[0;34m(self)\u001b[0m\n\u001b[1;32m    168\u001b[0m             raise NewConnectionError(\n\u001b[0;32m--> 169\u001b[0;31m                 \u001b[0mself\u001b[0m\u001b[0;34m,\u001b[0m \u001b[0;34m\"Failed to establish a new connection: %s\"\u001b[0m \u001b[0;34m%\u001b[0m \u001b[0me\u001b[0m\u001b[0;34m\u001b[0m\u001b[0;34m\u001b[0m\u001b[0m\n\u001b[0m\u001b[1;32m    170\u001b[0m             )\n",
      "\u001b[0;31mNewConnectionError\u001b[0m: <urllib3.connection.VerifiedHTTPSConnection object at 0x7f9e2156aa90>: Failed to establish a new connection: [Errno 111] Connection refused",
      "\nDuring handling of the above exception, another exception occurred:\n",
      "\u001b[0;31mMaxRetryError\u001b[0m                             Traceback (most recent call last)",
      "\u001b[0;32m~/miniconda3/envs/data_env/lib/python3.7/site-packages/requests/adapters.py\u001b[0m in \u001b[0;36msend\u001b[0;34m(self, request, stream, timeout, verify, cert, proxies)\u001b[0m\n\u001b[1;32m    448\u001b[0m                     \u001b[0mretries\u001b[0m\u001b[0;34m=\u001b[0m\u001b[0mself\u001b[0m\u001b[0;34m.\u001b[0m\u001b[0mmax_retries\u001b[0m\u001b[0;34m,\u001b[0m\u001b[0;34m\u001b[0m\u001b[0;34m\u001b[0m\u001b[0m\n\u001b[0;32m--> 449\u001b[0;31m                     \u001b[0mtimeout\u001b[0m\u001b[0;34m=\u001b[0m\u001b[0mtimeout\u001b[0m\u001b[0;34m\u001b[0m\u001b[0;34m\u001b[0m\u001b[0m\n\u001b[0m\u001b[1;32m    450\u001b[0m                 )\n",
      "\u001b[0;32m~/miniconda3/envs/data_env/lib/python3.7/site-packages/urllib3/connectionpool.py\u001b[0m in \u001b[0;36murlopen\u001b[0;34m(self, method, url, body, headers, retries, redirect, assert_same_host, timeout, pool_timeout, release_conn, chunked, body_pos, **response_kw)\u001b[0m\n\u001b[1;32m    719\u001b[0m             retries = retries.increment(\n\u001b[0;32m--> 720\u001b[0;31m                 \u001b[0mmethod\u001b[0m\u001b[0;34m,\u001b[0m \u001b[0murl\u001b[0m\u001b[0;34m,\u001b[0m \u001b[0merror\u001b[0m\u001b[0;34m=\u001b[0m\u001b[0me\u001b[0m\u001b[0;34m,\u001b[0m \u001b[0m_pool\u001b[0m\u001b[0;34m=\u001b[0m\u001b[0mself\u001b[0m\u001b[0;34m,\u001b[0m \u001b[0m_stacktrace\u001b[0m\u001b[0;34m=\u001b[0m\u001b[0msys\u001b[0m\u001b[0;34m.\u001b[0m\u001b[0mexc_info\u001b[0m\u001b[0;34m(\u001b[0m\u001b[0;34m)\u001b[0m\u001b[0;34m[\u001b[0m\u001b[0;36m2\u001b[0m\u001b[0;34m]\u001b[0m\u001b[0;34m\u001b[0m\u001b[0;34m\u001b[0m\u001b[0m\n\u001b[0m\u001b[1;32m    721\u001b[0m             )\n",
      "\u001b[0;32m~/miniconda3/envs/data_env/lib/python3.7/site-packages/urllib3/util/retry.py\u001b[0m in \u001b[0;36mincrement\u001b[0;34m(self, method, url, response, error, _pool, _stacktrace)\u001b[0m\n\u001b[1;32m    435\u001b[0m         \u001b[0;32mif\u001b[0m \u001b[0mnew_retry\u001b[0m\u001b[0;34m.\u001b[0m\u001b[0mis_exhausted\u001b[0m\u001b[0;34m(\u001b[0m\u001b[0;34m)\u001b[0m\u001b[0;34m:\u001b[0m\u001b[0;34m\u001b[0m\u001b[0;34m\u001b[0m\u001b[0m\n\u001b[0;32m--> 436\u001b[0;31m             \u001b[0;32mraise\u001b[0m \u001b[0mMaxRetryError\u001b[0m\u001b[0;34m(\u001b[0m\u001b[0m_pool\u001b[0m\u001b[0;34m,\u001b[0m \u001b[0murl\u001b[0m\u001b[0;34m,\u001b[0m \u001b[0merror\u001b[0m \u001b[0;32mor\u001b[0m \u001b[0mResponseError\u001b[0m\u001b[0;34m(\u001b[0m\u001b[0mcause\u001b[0m\u001b[0;34m)\u001b[0m\u001b[0;34m)\u001b[0m\u001b[0;34m\u001b[0m\u001b[0;34m\u001b[0m\u001b[0m\n\u001b[0m\u001b[1;32m    437\u001b[0m \u001b[0;34m\u001b[0m\u001b[0m\n",
      "\u001b[0;31mMaxRetryError\u001b[0m: HTTPSConnectionPool(host='hackevents.co', port=443): Max retries exceeded with url: /hackathons (Caused by NewConnectionError('<urllib3.connection.VerifiedHTTPSConnection object at 0x7f9e2156aa90>: Failed to establish a new connection: [Errno 111] Connection refused'))",
      "\nDuring handling of the above exception, another exception occurred:\n",
      "\u001b[0;31mConnectionError\u001b[0m                           Traceback (most recent call last)",
      "\u001b[0;32m<ipython-input-31-ceb04923b0e8>\u001b[0m in \u001b[0;36m<module>\u001b[0;34m\u001b[0m\n\u001b[1;32m      1\u001b[0m \u001b[0;31m# This is the url you will scrape in this exercise\u001b[0m\u001b[0;34m\u001b[0m\u001b[0;34m\u001b[0m\u001b[0;34m\u001b[0m\u001b[0m\n\u001b[1;32m      2\u001b[0m \u001b[0murl\u001b[0m \u001b[0;34m=\u001b[0m\u001b[0;34m'https://hackevents.co/hackathons'\u001b[0m\u001b[0;34m\u001b[0m\u001b[0;34m\u001b[0m\u001b[0m\n\u001b[0;32m----> 3\u001b[0;31m \u001b[0mhtml\u001b[0m \u001b[0;34m=\u001b[0m \u001b[0mrequests\u001b[0m\u001b[0;34m.\u001b[0m\u001b[0mget\u001b[0m\u001b[0;34m(\u001b[0m\u001b[0murl\u001b[0m\u001b[0;34m)\u001b[0m\u001b[0;34m.\u001b[0m\u001b[0mcontent\u001b[0m\u001b[0;34m\u001b[0m\u001b[0;34m\u001b[0m\u001b[0m\n\u001b[0m\u001b[1;32m      4\u001b[0m \u001b[0msoup\u001b[0m \u001b[0;34m=\u001b[0m \u001b[0mBeautifulSoup\u001b[0m\u001b[0;34m(\u001b[0m\u001b[0mhtml\u001b[0m\u001b[0;34m,\u001b[0m \u001b[0;34m'lxml'\u001b[0m\u001b[0;34m)\u001b[0m\u001b[0;34m\u001b[0m\u001b[0;34m\u001b[0m\u001b[0m\n",
      "\u001b[0;32m~/miniconda3/envs/data_env/lib/python3.7/site-packages/requests/api.py\u001b[0m in \u001b[0;36mget\u001b[0;34m(url, params, **kwargs)\u001b[0m\n\u001b[1;32m     73\u001b[0m \u001b[0;34m\u001b[0m\u001b[0m\n\u001b[1;32m     74\u001b[0m     \u001b[0mkwargs\u001b[0m\u001b[0;34m.\u001b[0m\u001b[0msetdefault\u001b[0m\u001b[0;34m(\u001b[0m\u001b[0;34m'allow_redirects'\u001b[0m\u001b[0;34m,\u001b[0m \u001b[0;32mTrue\u001b[0m\u001b[0;34m)\u001b[0m\u001b[0;34m\u001b[0m\u001b[0;34m\u001b[0m\u001b[0m\n\u001b[0;32m---> 75\u001b[0;31m     \u001b[0;32mreturn\u001b[0m \u001b[0mrequest\u001b[0m\u001b[0;34m(\u001b[0m\u001b[0;34m'get'\u001b[0m\u001b[0;34m,\u001b[0m \u001b[0murl\u001b[0m\u001b[0;34m,\u001b[0m \u001b[0mparams\u001b[0m\u001b[0;34m=\u001b[0m\u001b[0mparams\u001b[0m\u001b[0;34m,\u001b[0m \u001b[0;34m**\u001b[0m\u001b[0mkwargs\u001b[0m\u001b[0;34m)\u001b[0m\u001b[0;34m\u001b[0m\u001b[0;34m\u001b[0m\u001b[0m\n\u001b[0m\u001b[1;32m     76\u001b[0m \u001b[0;34m\u001b[0m\u001b[0m\n\u001b[1;32m     77\u001b[0m \u001b[0;34m\u001b[0m\u001b[0m\n",
      "\u001b[0;32m~/miniconda3/envs/data_env/lib/python3.7/site-packages/requests/api.py\u001b[0m in \u001b[0;36mrequest\u001b[0;34m(method, url, **kwargs)\u001b[0m\n\u001b[1;32m     58\u001b[0m     \u001b[0;31m# cases, and look like a memory leak in others.\u001b[0m\u001b[0;34m\u001b[0m\u001b[0;34m\u001b[0m\u001b[0;34m\u001b[0m\u001b[0m\n\u001b[1;32m     59\u001b[0m     \u001b[0;32mwith\u001b[0m \u001b[0msessions\u001b[0m\u001b[0;34m.\u001b[0m\u001b[0mSession\u001b[0m\u001b[0;34m(\u001b[0m\u001b[0;34m)\u001b[0m \u001b[0;32mas\u001b[0m \u001b[0msession\u001b[0m\u001b[0;34m:\u001b[0m\u001b[0;34m\u001b[0m\u001b[0;34m\u001b[0m\u001b[0m\n\u001b[0;32m---> 60\u001b[0;31m         \u001b[0;32mreturn\u001b[0m \u001b[0msession\u001b[0m\u001b[0;34m.\u001b[0m\u001b[0mrequest\u001b[0m\u001b[0;34m(\u001b[0m\u001b[0mmethod\u001b[0m\u001b[0;34m=\u001b[0m\u001b[0mmethod\u001b[0m\u001b[0;34m,\u001b[0m \u001b[0murl\u001b[0m\u001b[0;34m=\u001b[0m\u001b[0murl\u001b[0m\u001b[0;34m,\u001b[0m \u001b[0;34m**\u001b[0m\u001b[0mkwargs\u001b[0m\u001b[0;34m)\u001b[0m\u001b[0;34m\u001b[0m\u001b[0;34m\u001b[0m\u001b[0m\n\u001b[0m\u001b[1;32m     61\u001b[0m \u001b[0;34m\u001b[0m\u001b[0m\n\u001b[1;32m     62\u001b[0m \u001b[0;34m\u001b[0m\u001b[0m\n",
      "\u001b[0;32m~/miniconda3/envs/data_env/lib/python3.7/site-packages/requests/sessions.py\u001b[0m in \u001b[0;36mrequest\u001b[0;34m(self, method, url, params, data, headers, cookies, files, auth, timeout, allow_redirects, proxies, hooks, stream, verify, cert, json)\u001b[0m\n\u001b[1;32m    531\u001b[0m         }\n\u001b[1;32m    532\u001b[0m         \u001b[0msend_kwargs\u001b[0m\u001b[0;34m.\u001b[0m\u001b[0mupdate\u001b[0m\u001b[0;34m(\u001b[0m\u001b[0msettings\u001b[0m\u001b[0;34m)\u001b[0m\u001b[0;34m\u001b[0m\u001b[0;34m\u001b[0m\u001b[0m\n\u001b[0;32m--> 533\u001b[0;31m         \u001b[0mresp\u001b[0m \u001b[0;34m=\u001b[0m \u001b[0mself\u001b[0m\u001b[0;34m.\u001b[0m\u001b[0msend\u001b[0m\u001b[0;34m(\u001b[0m\u001b[0mprep\u001b[0m\u001b[0;34m,\u001b[0m \u001b[0;34m**\u001b[0m\u001b[0msend_kwargs\u001b[0m\u001b[0;34m)\u001b[0m\u001b[0;34m\u001b[0m\u001b[0;34m\u001b[0m\u001b[0m\n\u001b[0m\u001b[1;32m    534\u001b[0m \u001b[0;34m\u001b[0m\u001b[0m\n\u001b[1;32m    535\u001b[0m         \u001b[0;32mreturn\u001b[0m \u001b[0mresp\u001b[0m\u001b[0;34m\u001b[0m\u001b[0;34m\u001b[0m\u001b[0m\n",
      "\u001b[0;32m~/miniconda3/envs/data_env/lib/python3.7/site-packages/requests/sessions.py\u001b[0m in \u001b[0;36msend\u001b[0;34m(self, request, **kwargs)\u001b[0m\n\u001b[1;32m    644\u001b[0m \u001b[0;34m\u001b[0m\u001b[0m\n\u001b[1;32m    645\u001b[0m         \u001b[0;31m# Send the request\u001b[0m\u001b[0;34m\u001b[0m\u001b[0;34m\u001b[0m\u001b[0;34m\u001b[0m\u001b[0m\n\u001b[0;32m--> 646\u001b[0;31m         \u001b[0mr\u001b[0m \u001b[0;34m=\u001b[0m \u001b[0madapter\u001b[0m\u001b[0;34m.\u001b[0m\u001b[0msend\u001b[0m\u001b[0;34m(\u001b[0m\u001b[0mrequest\u001b[0m\u001b[0;34m,\u001b[0m \u001b[0;34m**\u001b[0m\u001b[0mkwargs\u001b[0m\u001b[0;34m)\u001b[0m\u001b[0;34m\u001b[0m\u001b[0;34m\u001b[0m\u001b[0m\n\u001b[0m\u001b[1;32m    647\u001b[0m \u001b[0;34m\u001b[0m\u001b[0m\n\u001b[1;32m    648\u001b[0m         \u001b[0;31m# Total elapsed time of the request (approximately)\u001b[0m\u001b[0;34m\u001b[0m\u001b[0;34m\u001b[0m\u001b[0;34m\u001b[0m\u001b[0m\n",
      "\u001b[0;32m~/miniconda3/envs/data_env/lib/python3.7/site-packages/requests/adapters.py\u001b[0m in \u001b[0;36msend\u001b[0;34m(self, request, stream, timeout, verify, cert, proxies)\u001b[0m\n\u001b[1;32m    514\u001b[0m                 \u001b[0;32mraise\u001b[0m \u001b[0mSSLError\u001b[0m\u001b[0;34m(\u001b[0m\u001b[0me\u001b[0m\u001b[0;34m,\u001b[0m \u001b[0mrequest\u001b[0m\u001b[0;34m=\u001b[0m\u001b[0mrequest\u001b[0m\u001b[0;34m)\u001b[0m\u001b[0;34m\u001b[0m\u001b[0;34m\u001b[0m\u001b[0m\n\u001b[1;32m    515\u001b[0m \u001b[0;34m\u001b[0m\u001b[0m\n\u001b[0;32m--> 516\u001b[0;31m             \u001b[0;32mraise\u001b[0m \u001b[0mConnectionError\u001b[0m\u001b[0;34m(\u001b[0m\u001b[0me\u001b[0m\u001b[0;34m,\u001b[0m \u001b[0mrequest\u001b[0m\u001b[0;34m=\u001b[0m\u001b[0mrequest\u001b[0m\u001b[0;34m)\u001b[0m\u001b[0;34m\u001b[0m\u001b[0;34m\u001b[0m\u001b[0m\n\u001b[0m\u001b[1;32m    517\u001b[0m \u001b[0;34m\u001b[0m\u001b[0m\n\u001b[1;32m    518\u001b[0m         \u001b[0;32mexcept\u001b[0m \u001b[0mClosedPoolError\u001b[0m \u001b[0;32mas\u001b[0m \u001b[0me\u001b[0m\u001b[0;34m:\u001b[0m\u001b[0;34m\u001b[0m\u001b[0;34m\u001b[0m\u001b[0m\n",
      "\u001b[0;31mConnectionError\u001b[0m: HTTPSConnectionPool(host='hackevents.co', port=443): Max retries exceeded with url: /hackathons (Caused by NewConnectionError('<urllib3.connection.VerifiedHTTPSConnection object at 0x7f9e2156aa90>: Failed to establish a new connection: [Errno 111] Connection refused'))"
     ]
    }
   ],
   "source": [
    "# This is the url you will scrape in this exercise\n",
    "url ='https://hackevents.co/hackathons'\n",
    "html = requests.get(url).content\n",
    "soup = BeautifulSoup(html, 'lxml')"
   ]
  },
  {
   "cell_type": "code",
   "execution_count": null,
   "metadata": {},
   "outputs": [],
   "source": [
    "#your code"
   ]
  },
  {
   "cell_type": "markdown",
   "metadata": {},
   "source": [
    "#### Count number of tweets by a given Twitter account."
   ]
  },
  {
   "cell_type": "markdown",
   "metadata": {},
   "source": [
    "You will need to include a ***try/except block*** for account names not found. \n",
    "<br>***Hint:*** the program should count the number of tweets for any provided account"
   ]
  },
  {
   "cell_type": "code",
   "execution_count": null,
   "metadata": {},
   "outputs": [],
   "source": [
    "# This is the url you will scrape in this exercise \n",
    "# You will need to add the account credentials to this url\n",
    "url = 'https://twitter.com/'\n",
    "html = requests.get(url).content\n",
    "soup = BeautifulSoup(html, 'lxml')"
   ]
  },
  {
   "cell_type": "code",
   "execution_count": null,
   "metadata": {},
   "outputs": [],
   "source": [
    "#your code"
   ]
  },
  {
   "cell_type": "markdown",
   "metadata": {},
   "source": [
    "#### Number of followers of a given twitter account"
   ]
  },
  {
   "cell_type": "markdown",
   "metadata": {},
   "source": [
    "You will need to include a ***try/except block*** in case account/s name not found. \n",
    "<br>***Hint:*** the program should count the followers for any provided account"
   ]
  },
  {
   "cell_type": "code",
   "execution_count": null,
   "metadata": {},
   "outputs": [],
   "source": [
    "# This is the url you will scrape in this exercise \n",
    "# You will need to add the account credentials to this url\n",
    "url = 'https://twitter.com/'"
   ]
  },
  {
   "cell_type": "code",
   "execution_count": null,
   "metadata": {},
   "outputs": [],
   "source": [
    "#your code"
   ]
  },
  {
   "cell_type": "markdown",
   "metadata": {},
   "source": [
    "#### List all language names and number of related articles in the order they appear in wikipedia.org"
   ]
  },
  {
   "cell_type": "code",
   "execution_count": 32,
   "metadata": {},
   "outputs": [],
   "source": [
    "# This is the url you will scrape in this exercise\n",
    "url = 'https://www.wikipedia.org/'\n",
    "html = requests.get(url).content\n",
    "soup = BeautifulSoup(html, 'lxml')"
   ]
  },
  {
   "cell_type": "code",
   "execution_count": 33,
   "metadata": {},
   "outputs": [
    {
     "data": {
      "text/plain": [
       "[<a class=\"link-box\" data-slogan=\"The Free Encyclopedia\" href=\"//en.wikipedia.org/\" id=\"js-link-box-en\" title=\"English — Wikipedia — The Free Encyclopedia\">\n",
       " <strong>English</strong>\n",
       " <small><bdi dir=\"ltr\">5 994 000+</bdi> <span>articles</span></small>\n",
       " </a>,\n",
       " <a class=\"link-box\" data-slogan=\"フリー百科事典\" href=\"//ja.wikipedia.org/\" id=\"js-link-box-ja\" title=\"Nihongo — ウィキペディア — フリー百科事典\">\n",
       " <strong>日本語</strong>\n",
       " <small><bdi dir=\"ltr\">1 185 000+</bdi> <span>記事</span></small>\n",
       " </a>,\n",
       " <a class=\"link-box\" data-slogan=\"Die freie Enzyklopädie\" href=\"//de.wikipedia.org/\" id=\"js-link-box-de\" title=\"Deutsch — Wikipedia — Die freie Enzyklopädie\">\n",
       " <strong>Deutsch</strong>\n",
       " <small><bdi dir=\"ltr\">2 385 000+</bdi> <span>Artikel</span></small>\n",
       " </a>,\n",
       " <a class=\"link-box\" data-slogan=\"La enciclopedia libre\" href=\"//es.wikipedia.org/\" id=\"js-link-box-es\" title=\"Español — Wikipedia — La enciclopedia libre\">\n",
       " <strong>Español</strong>\n",
       " <small><bdi dir=\"ltr\">1 571 000+</bdi> <span>artículos</span></small>\n",
       " </a>,\n",
       " <a class=\"link-box\" data-slogan=\"Свободная энциклопедия\" href=\"//ru.wikipedia.org/\" id=\"js-link-box-ru\" title=\"Russkiy — Википедия — Свободная энциклопедия\">\n",
       " <strong>Русский</strong>\n",
       " <small><bdi dir=\"ltr\">1 590 000+</bdi> <span>статей</span></small>\n",
       " </a>,\n",
       " <a class=\"link-box\" data-slogan=\"L’encyclopédie libre\" href=\"//fr.wikipedia.org/\" id=\"js-link-box-fr\" title=\"Français — Wikipédia — L’encyclopédie libre\">\n",
       " <strong>Français</strong>\n",
       " <small><bdi dir=\"ltr\">2 171 000+</bdi> <span>articles</span></small>\n",
       " </a>,\n",
       " <a class=\"link-box\" data-slogan=\"L'enciclopedia libera\" href=\"//it.wikipedia.org/\" id=\"js-link-box-it\" title=\"Italiano — Wikipedia — L'enciclopedia libera\">\n",
       " <strong>Italiano</strong>\n",
       " <small><bdi dir=\"ltr\">1 576 000+</bdi> <span>voci</span></small>\n",
       " </a>,\n",
       " <a class=\"link-box\" data-converttitle-hans=\"Zhōngwén — 维基百科 — 自由的百科全书\" data-slogan=\"自由的百科全書\" href=\"//zh.wikipedia.org/\" id=\"js-link-box-zh\" title=\"Zhōngwén — 維基百科 — 自由的百科全書\">\n",
       " <strong>中文</strong>\n",
       " <small><bdi dir=\"ltr\">1 090 000+</bdi> <span data-convert-hans=\"条目\" id=\"zh_art\">條目</span></small>\n",
       " </a>,\n",
       " <a class=\"link-box\" data-slogan=\"A enciclopédia livre\" href=\"//pt.wikipedia.org/\" id=\"js-link-box-pt\" title=\"Português — Wikipédia — A enciclopédia livre\">\n",
       " <strong>Português</strong>\n",
       " <small><bdi dir=\"ltr\">1 018 000+</bdi> <span>artigos</span></small>\n",
       " </a>,\n",
       " <a class=\"link-box\" data-slogan=\"Wolna encyklopedia\" href=\"//pl.wikipedia.org/\" id=\"js-link-box-pl\" title=\"Polski — Wikipedia — Wolna encyklopedia\">\n",
       " <strong>Polski</strong>\n",
       " <small><bdi dir=\"ltr\">1 379 000+</bdi> <span>haseł</span></small>\n",
       " </a>,\n",
       " <a href=\"//ar.wikipedia.org/\" lang=\"ar\" title=\"Al-ʿArabīyah\"><bdi dir=\"rtl\">العربية</bdi></a>,\n",
       " <a href=\"//de.wikipedia.org/\" lang=\"de\">Deutsch</a>,\n",
       " <a href=\"//en.wikipedia.org/\" lang=\"en\" title=\"English\">English</a>,\n",
       " <a href=\"//es.wikipedia.org/\" lang=\"es\">Español</a>,\n",
       " <a href=\"//fr.wikipedia.org/\" lang=\"fr\">Français</a>,\n",
       " <a href=\"//it.wikipedia.org/\" lang=\"it\">Italiano</a>,\n",
       " <a href=\"//nl.wikipedia.org/\" lang=\"nl\">Nederlands</a>,\n",
       " <a href=\"//ja.wikipedia.org/\" lang=\"ja\" title=\"Nihongo\">日本語</a>,\n",
       " <a href=\"//pl.wikipedia.org/\" lang=\"pl\">Polski</a>,\n",
       " <a href=\"//pt.wikipedia.org/\" lang=\"pt\">Português</a>,\n",
       " <a href=\"//ru.wikipedia.org/\" lang=\"ru\" title=\"Russkiy\">Русский</a>,\n",
       " <a href=\"//ceb.wikipedia.org/\" lang=\"ceb\">Sinugboanong Binisaya</a>,\n",
       " <a href=\"//sv.wikipedia.org/\" lang=\"sv\">Svenska</a>,\n",
       " <a href=\"//vi.wikipedia.org/\" lang=\"vi\">Tiếng Việt</a>,\n",
       " <a href=\"//war.wikipedia.org/\" lang=\"war\">Winaray</a>,\n",
       " <a href=\"//zh.wikipedia.org/\" lang=\"zh\" title=\"Zhōngwén\">中文</a>,\n",
       " <a href=\"//az.wikipedia.org/\" lang=\"az\">Azərbaycanca</a>,\n",
       " <a href=\"//bg.wikipedia.org/\" lang=\"bg\" title=\"Bǎlgarski\">Български</a>,\n",
       " <a href=\"//zh-min-nan.wikipedia.org/\" lang=\"nan\">Bân-lâm-gú / Hō-ló-oē</a>,\n",
       " <a href=\"//be.wikipedia.org/\" lang=\"be\" title=\"Belaruskaya (Akademichnaya)\">Беларуская (Акадэмічная)</a>,\n",
       " <a href=\"//ca.wikipedia.org/\" lang=\"ca\">Català</a>,\n",
       " <a href=\"//cs.wikipedia.org/\" lang=\"cs\" title=\"čeština\">Čeština</a>,\n",
       " <a href=\"//da.wikipedia.org/\" lang=\"da\">Dansk</a>,\n",
       " <a href=\"//et.wikipedia.org/\" lang=\"et\">Eesti</a>,\n",
       " <a href=\"//el.wikipedia.org/\" lang=\"el\" title=\"Ellīniká\">Ελληνικά</a>,\n",
       " <a href=\"//eo.wikipedia.org/\" lang=\"eo\">Esperanto</a>,\n",
       " <a href=\"//eu.wikipedia.org/\" lang=\"eu\">Euskara</a>,\n",
       " <a href=\"//fa.wikipedia.org/\" lang=\"fa\" title=\"Fārsi\"><bdi dir=\"rtl\">فارسی</bdi></a>,\n",
       " <a href=\"//gl.wikipedia.org/\" lang=\"gl\">Galego</a>,\n",
       " <a href=\"//hy.wikipedia.org/\" lang=\"hy\" title=\"Hayeren\">Հայերեն</a>,\n",
       " <a href=\"//hi.wikipedia.org/\" lang=\"hi\" title=\"Hindī\">हिन्दी</a>,\n",
       " <a href=\"//hr.wikipedia.org/\" lang=\"hr\">Hrvatski</a>,\n",
       " <a href=\"//id.wikipedia.org/\" lang=\"id\">Bahasa Indonesia</a>,\n",
       " <a href=\"//he.wikipedia.org/\" lang=\"he\" title=\"ʿIvrit\"><bdi dir=\"rtl\">עברית</bdi></a>,\n",
       " <a href=\"//ka.wikipedia.org/\" lang=\"ka\" title=\"Kartuli\">ქართული</a>,\n",
       " <a href=\"//la.wikipedia.org/\" lang=\"la\">Latina</a>,\n",
       " <a href=\"//lt.wikipedia.org/\" lang=\"lt\">Lietuvių</a>,\n",
       " <a href=\"//hu.wikipedia.org/\" lang=\"hu\">Magyar</a>,\n",
       " <a href=\"//mk.wikipedia.org/\" lang=\"mk\" title=\"Makedonski\">Македонски</a>,\n",
       " <a href=\"//ms.wikipedia.org/\" lang=\"ms\">Bahasa Melayu</a>,\n",
       " <a href=\"//min.wikipedia.org/\" lang=\"min\">Bahaso Minangkabau</a>,\n",
       " <a href=\"//no.wikipedia.org/\" lang=\"nb\">bokmål</a>,\n",
       " <a href=\"//nn.wikipedia.org/\" lang=\"nn\">nynorsk</a>,\n",
       " <a href=\"//ce.wikipedia.org/\" lang=\"ce\" title=\"Noxçiyn\">Нохчийн</a>,\n",
       " <a href=\"//uz.wikipedia.org/\" lang=\"uz\">Oʻzbekcha / Ўзбекча</a>,\n",
       " <a href=\"//kk.wikipedia.org/\" lang=\"kk\"><span lang=\"kk-Cyrl\">Қазақша</span> / <span lang=\"kk-Latn\">Qazaqşa</span> / <bdi dir=\"rtl\" lang=\"kk-Arab\">قازاقشا</bdi></a>,\n",
       " <a href=\"//ro.wikipedia.org/\" lang=\"ro\">Română</a>,\n",
       " <a href=\"//cy.wikipedia.org/\" lang=\"cy\" title=\"Saesneg\">Cymraeg</a>,\n",
       " <a href=\"//simple.wikipedia.org/\" lang=\"en\">Simple English</a>,\n",
       " <a href=\"//sk.wikipedia.org/\" lang=\"sk\">Slovenčina</a>,\n",
       " <a href=\"//sl.wikipedia.org/\" lang=\"sl\">Slovenščina</a>,\n",
       " <a href=\"//sr.wikipedia.org/\" lang=\"sr\">Српски / Srpski</a>,\n",
       " <a href=\"//sh.wikipedia.org/\" lang=\"sh\">Srpskohrvatski / Српскохрватски</a>,\n",
       " <a href=\"//fi.wikipedia.org/\" lang=\"fi\" title=\"suomi\">Suomi</a>,\n",
       " <a href=\"//ta.wikipedia.org/\" lang=\"ta\" title=\"Tamiḻ\">தமிழ்</a>,\n",
       " <a href=\"//th.wikipedia.org/\" lang=\"th\" title=\"Phasa Thai\">ภาษาไทย</a>,\n",
       " <a href=\"//tg.wikipedia.org/\" lang=\"tg\" title=\"Tojikī\">Тоҷикӣ</a>,\n",
       " <a href=\"//azb.wikipedia.org/\" lang=\"azb\" title=\"Türkce\"><bdi dir=\"rtl\">تۆرکجه</bdi></a>,\n",
       " <a href=\"//tr.wikipedia.org/\" lang=\"tr\" title=\"Türkçe\">Türkçe</a>,\n",
       " <a href=\"//uk.wikipedia.org/\" lang=\"uk\" title=\"Ukrayins’ka\">Українська</a>,\n",
       " <a href=\"//ur.wikipedia.org/\" lang=\"ur\" title=\"Urdu\"><bdi dir=\"rtl\">اردو</bdi></a>,\n",
       " <a href=\"//vo.wikipedia.org/\" lang=\"vo\">Volapük</a>,\n",
       " <a href=\"//ko.wikipedia.org/\" lang=\"ko\" title=\"Hangugeo\">한국어</a>,\n",
       " <a href=\"//ace.wikipedia.org/\" lang=\"ace\">Bahsa Acèh</a>,\n",
       " <a href=\"//af.wikipedia.org/\" lang=\"af\">Afrikaans</a>,\n",
       " <a href=\"//als.wikipedia.org/\" lang=\"gsw\">Alemannisch</a>,\n",
       " <a href=\"//am.wikipedia.org/\" lang=\"am\" title=\"Āmariññā\">አማርኛ</a>,\n",
       " <a href=\"//an.wikipedia.org/\" lang=\"an\">Aragonés</a>,\n",
       " <a href=\"//ast.wikipedia.org/\" lang=\"ast\">Asturianu</a>,\n",
       " <a href=\"//bn.wikipedia.org/\" lang=\"bn\" title=\"Bangla\">বাংলা</a>,\n",
       " <a href=\"//map-bms.wikipedia.org/\" lang=\"map-x-bms\">Basa Banyumasan</a>,\n",
       " <a href=\"//ba.wikipedia.org/\" lang=\"ba\" title=\"Başqortsa\">Башҡортса</a>,\n",
       " <a href=\"//be-tarask.wikipedia.org/\" lang=\"be\" title=\"Belaruskaya (Taraškievica)\">Беларуская (Тарашкевіца)</a>,\n",
       " <a href=\"//bpy.wikipedia.org/\" lang=\"bpy\" title=\"Bishnupriya Manipuri\">বিষ্ণুপ্রিয়া মণিপুরী</a>,\n",
       " <a href=\"//bar.wikipedia.org/\" lang=\"bar\">Boarisch</a>,\n",
       " <a href=\"//bs.wikipedia.org/\" lang=\"bs\">Bosanski</a>,\n",
       " <a href=\"//br.wikipedia.org/\" lang=\"br\">Brezhoneg</a>,\n",
       " <a href=\"//cv.wikipedia.org/\" lang=\"cv\" title=\"Čăvašla\">Чӑвашла</a>,\n",
       " <a href=\"//nv.wikipedia.org/\" lang=\"nv\">Diné Bizaad</a>,\n",
       " <a href=\"//eml.wikipedia.org/\" lang=\"roa-x-eml\">Emigliàn–Rumagnòl</a>,\n",
       " <a href=\"//fo.wikipedia.org/\" lang=\"fo\">Føroyskt</a>,\n",
       " <a href=\"//fy.wikipedia.org/\" lang=\"fy\">Frysk</a>,\n",
       " <a href=\"//ga.wikipedia.org/\" lang=\"ga\">Gaeilge</a>,\n",
       " <a href=\"//gd.wikipedia.org/\" lang=\"gd\">Gàidhlig</a>,\n",
       " <a href=\"//gu.wikipedia.org/\" lang=\"gu\" title=\"Gujarati\">ગુજરાતી</a>,\n",
       " <a href=\"//hsb.wikipedia.org/\" lang=\"hsb\">Hornjoserbsce</a>,\n",
       " <a href=\"//io.wikipedia.org/\" lang=\"io\">Ido</a>,\n",
       " <a href=\"//ilo.wikipedia.org/\" lang=\"ilo\">Ilokano</a>,\n",
       " <a href=\"//ia.wikipedia.org/\" lang=\"ia\">Interlingua</a>,\n",
       " <a href=\"//os.wikipedia.org/\" lang=\"os\" title=\"Iron Ævzag\">Ирон æвзаг</a>,\n",
       " <a href=\"//is.wikipedia.org/\" lang=\"is\">Íslenska</a>,\n",
       " <a href=\"//jv.wikipedia.org/\" lang=\"jv\">Jawa</a>,\n",
       " <a href=\"//kn.wikipedia.org/\" lang=\"kn\" title=\"Kannada\">ಕನ್ನಡ</a>,\n",
       " <a href=\"//ht.wikipedia.org/\" lang=\"ht\">Kreyòl Ayisyen</a>,\n",
       " <a href=\"//ku.wikipedia.org/\" lang=\"ku\"><span lang=\"ku-Latn\">Kurdî</span> / <bdi dir=\"rtl\" lang=\"ku-Arab\">كوردی</bdi></a>,\n",
       " <a href=\"//ckb.wikipedia.org/\" lang=\"ckb\" title=\"Kurdîy Nawendî\"><bdi dir=\"rtl\">کوردیی ناوەندی</bdi></a>,\n",
       " <a href=\"//ky.wikipedia.org/\" lang=\"ky\" title=\"Kyrgyzča\">Кыргызча</a>,\n",
       " <a href=\"//mrj.wikipedia.org/\" lang=\"mjr\" title=\"Kyryk Mary\">Кырык Мары</a>,\n",
       " <a href=\"//lv.wikipedia.org/\" lang=\"lv\">Latviešu</a>,\n",
       " <a href=\"//lb.wikipedia.org/\" lang=\"lb\">Lëtzebuergesch</a>,\n",
       " <a href=\"//li.wikipedia.org/\" lang=\"li\">Limburgs</a>,\n",
       " <a href=\"//lmo.wikipedia.org/\" lang=\"lmo\">Lumbaart</a>,\n",
       " <a href=\"//mai.wikipedia.org/\" lang=\"mai\" title=\"Maithilī\">मैथिली</a>,\n",
       " <a href=\"//mg.wikipedia.org/\" lang=\"mg\">Malagasy</a>,\n",
       " <a href=\"//ml.wikipedia.org/\" lang=\"ml\" title=\"Malayalam\">മലയാളം</a>,\n",
       " <a href=\"//zh-classical.wikipedia.org/\" lang=\"lzh\" title=\"Man4jin4 / Wényán\">文言</a>,\n",
       " <a href=\"//mr.wikipedia.org/\" lang=\"mr\" title=\"Marathi\">मराठी</a>,\n",
       " <a href=\"//xmf.wikipedia.org/\" lang=\"xmf\" title=\"Margaluri\">მარგალური</a>,\n",
       " <a href=\"//arz.wikipedia.org/\" lang=\"arz\" title=\"Maṣrī\"><bdi dir=\"rtl\">مصرى</bdi></a>,\n",
       " <a href=\"//mzn.wikipedia.org/\" lang=\"mzn\" title=\"Mäzeruni\"><bdi dir=\"rtl\">مازِرونی</bdi></a>,\n",
       " <a href=\"//cdo.wikipedia.org/\" lang=\"cdo\" title=\"Ming-deng-ngu\">Mìng-dĕ̤ng-ngṳ̄ / 閩東語</a>,\n",
       " <a href=\"//mn.wikipedia.org/\" lang=\"mn\" title=\"Mongol\">Монгол</a>,\n",
       " <a href=\"//my.wikipedia.org/\" lang=\"my\" title=\"Myanmarsar\">မြန်မာဘာသာ</a>,\n",
       " <a href=\"//new.wikipedia.org/\" lang=\"new\" title=\"Nepal Bhasa\">नेपाल भाषा</a>,\n",
       " <a href=\"//ne.wikipedia.org/\" lang=\"ne\" title=\"Nepālī\">नेपाली</a>,\n",
       " <a href=\"//nap.wikipedia.org/\" lang=\"nap\">Nnapulitano</a>,\n",
       " <a href=\"//oc.wikipedia.org/\" lang=\"oc\">Occitan</a>,\n",
       " <a href=\"//mhr.wikipedia.org/\" lang=\"mhr\" title=\"Olyk Marij\">Марий</a>,\n",
       " <a href=\"//or.wikipedia.org/\" lang=\"or\" title=\"Oṛiā\">ଓଡି଼ଆ</a>,\n",
       " <a href=\"//pa.wikipedia.org/\" lang=\"pa\" title=\"Pañjābī (Gurmukhī)\">ਪੰਜਾਬੀ (ਗੁਰਮੁਖੀ)</a>,\n",
       " <a href=\"//pnb.wikipedia.org/\" lang=\"pnb\" title=\"Pañjābī (Shāhmukhī)\"><bdi dir=\"rtl\">پنجابی (شاہ مکھی)</bdi></a>,\n",
       " <a href=\"//ps.wikipedia.org/\" lang=\"ps\" title=\"Paʂto\"><bdi dir=\"rtl\">پښتو</bdi></a>,\n",
       " <a href=\"//pms.wikipedia.org/\" lang=\"pms\">Piemontèis</a>,\n",
       " <a href=\"//nds.wikipedia.org/\" lang=\"nds\">Plattdüütsch</a>,\n",
       " <a href=\"//qu.wikipedia.org/\" lang=\"qu\">Runa Simi</a>,\n",
       " <a href=\"//sa.wikipedia.org/\" lang=\"sa\" title=\"Saṃskṛtam\">संस्कृतम्</a>,\n",
       " <a href=\"//sah.wikipedia.org/\" lang=\"sah\" title=\"Saxa Tyla\">Саха Тыла</a>,\n",
       " <a href=\"//sco.wikipedia.org/\" lang=\"sco\">Scots</a>,\n",
       " <a href=\"//sq.wikipedia.org/\" lang=\"sq\">Shqip</a>,\n",
       " <a href=\"//scn.wikipedia.org/\" lang=\"scn\">Sicilianu</a>,\n",
       " <a href=\"//si.wikipedia.org/\" lang=\"si\" title=\"Siṃhala\">සිංහල</a>,\n",
       " <a href=\"//sd.wikipedia.org/\" lang=\"sd\" title=\"Sindhī\"><bdi dir=\"rtl\">سنڌي</bdi></a>,\n",
       " <a href=\"//szl.wikipedia.org/\" lang=\"szl\">Ślůnski</a>,\n",
       " <a href=\"//su.wikipedia.org/\" lang=\"su\">Basa Sunda</a>,\n",
       " <a href=\"//sw.wikipedia.org/\" lang=\"sw\">Kiswahili</a>,\n",
       " <a href=\"//tl.wikipedia.org/\" lang=\"tl\">Tagalog</a>,\n",
       " <a href=\"//tt.wikipedia.org/\" lang=\"tt\">Татарча / Tatarça</a>,\n",
       " <a href=\"//te.wikipedia.org/\" lang=\"te\" title=\"Telugu\">తెలుగు</a>,\n",
       " <a href=\"//bug.wikipedia.org/\" lang=\"bug\">ᨅᨔ ᨕᨙᨁᨗ / Basa Ugi</a>,\n",
       " <a href=\"//vec.wikipedia.org/\" lang=\"vec\">Vèneto</a>,\n",
       " <a href=\"//wa.wikipedia.org/\" lang=\"wa\">Walon</a>,\n",
       " <a data-convert-hans=\"吴语\" href=\"//wuu.wikipedia.org/\" id=\"wuu_wiki\" lang=\"wuu\" title=\"Wú Yǔ\">吳語</a>,\n",
       " <a href=\"//yi.wikipedia.org/\" lang=\"yi\" title=\"Yidiš\"><bdi dir=\"rtl\">ייִדיש</bdi></a>,\n",
       " <a href=\"//yo.wikipedia.org/\" lang=\"yo\">Yorùbá</a>,\n",
       " <a data-convert-hans=\"粤语\" href=\"//zh-yue.wikipedia.org/\" id=\"zh-yue_wiki\" lang=\"yue\" title=\"Yuht Yúh / Jyut6 jyu5\">粵語</a>,\n",
       " <a href=\"//diq.wikipedia.org/\" lang=\"diq\" title=\"Zazaki\">Zazaki</a>,\n",
       " <a href=\"//bat-smg.wikipedia.org/\" lang=\"sgs\">Žemaitėška</a>,\n",
       " <a href=\"//kbd.wikipedia.org/\" lang=\"kbd\" title=\"Adighabze\">Адыгэбзэ</a>,\n",
       " <a href=\"//ang.wikipedia.org/\" lang=\"ang\">Ænglisc</a>,\n",
       " <a href=\"//ab.wikipedia.org/\" lang=\"ab\" title=\"Aṗsua\">Аҧсуа</a>,\n",
       " <a href=\"//hyw.wikipedia.org/\" lang=\"hyw\" title=\"Arevmdahayeren\">Արեւմտահայերէն</a>,\n",
       " <a href=\"//roa-rup.wikipedia.org/\" lang=\"roa-rup\">Armãneashce</a>,\n",
       " <a href=\"//frp.wikipedia.org/\" lang=\"frp\">Arpitan</a>,\n",
       " <a href=\"//ig.wikipedia.org/\" lang=\"ig\">asụsụ bekee maọbụ asụsụ oyibo</a>,\n",
       " <a href=\"//arc.wikipedia.org/\" lang=\"arc\" title=\"Ātûrāyâ\"><bdi dir=\"rtl\">ܐܬܘܪܝܐ</bdi></a>,\n",
       " <a href=\"//gn.wikipedia.org/\" lang=\"gn\">Avañe’ẽ</a>,\n",
       " <a href=\"//av.wikipedia.org/\" lang=\"av\" title=\"Avar\">Авар</a>,\n",
       " <a href=\"//ay.wikipedia.org/\" lang=\"ay\">Aymar</a>,\n",
       " <a href=\"//bjn.wikipedia.org/\" lang=\"bjn\">Bahasa Banjar</a>,\n",
       " <a href=\"//bh.wikipedia.org/\" lang=\"bh\" title=\"Bhōjapurī\">भोजपुरी</a>,\n",
       " <a href=\"//bcl.wikipedia.org/\" lang=\"bcl\">Bikol Central</a>,\n",
       " <a href=\"//bi.wikipedia.org/\" lang=\"bi\">Bislama</a>,\n",
       " <a href=\"//bo.wikipedia.org/\" lang=\"bo\" title=\"Bod Skad\">བོད་ཡིག</a>,\n",
       " <a href=\"//bxr.wikipedia.org/\" lang=\"bxr\" title=\"Buryad\">Буряад</a>,\n",
       " <a href=\"//cbk-zam.wikipedia.org/\" lang=\"cbk-x-zam\">Chavacano de Zamboanga</a>,\n",
       " <a href=\"//co.wikipedia.org/\" lang=\"co\">Corsu</a>,\n",
       " <a href=\"//za.wikipedia.org/\" lang=\"za\">Vahcuengh / 話僮</a>,\n",
       " <a href=\"//se.wikipedia.org/\" lang=\"se\">Davvisámegiella</a>,\n",
       " <a href=\"//pdc.wikipedia.org/\" lang=\"pdc\">Deitsch</a>,\n",
       " <a href=\"//dsb.wikipedia.org/\" lang=\"dsb\">Dolnoserbski</a>,\n",
       " <a href=\"//myv.wikipedia.org/\" lang=\"myv\" title=\"Erzjanj\">Эрзянь</a>,\n",
       " <a href=\"//ext.wikipedia.org/\" lang=\"ext\">Estremeñu</a>,\n",
       " <a href=\"//hif.wikipedia.org/\" lang=\"hif\">Fiji Hindi</a>,\n",
       " <a href=\"//fur.wikipedia.org/\" lang=\"fur\">Furlan</a>,\n",
       " <a href=\"//gv.wikipedia.org/\" lang=\"gv\">Gaelg</a>,\n",
       " <a href=\"//gag.wikipedia.org/\" lang=\"gag\">Gagauz</a>,\n",
       " <a href=\"//ki.wikipedia.org/\" lang=\"ki\">Gĩkũyũ</a>,\n",
       " <a href=\"//glk.wikipedia.org/\" lang=\"glk\" title=\"Giləki\"><bdi dir=\"rtl\">گیلکی</bdi></a>,\n",
       " <a data-convert-hans=\"赣语\" href=\"//gan.wikipedia.org/\" id=\"gan_wiki\" lang=\"gan\" title=\"Gon ua\">贛語</a>,\n",
       " <a href=\"//hak.wikipedia.org/\" lang=\"hak\">Hak-kâ-ngî / 客家語</a>,\n",
       " <a href=\"//xal.wikipedia.org/\" lang=\"xal\" title=\"Halʹmg\">Хальмг</a>,\n",
       " <a href=\"//ha.wikipedia.org/\" lang=\"ha\"><span lang=\"ha-Latn\">Hausa</span> / <bdi dir=\"rtl\" lang=\"ha-Arab\">هَوُسَا</bdi></a>,\n",
       " <a href=\"//haw.wikipedia.org/\" lang=\"haw\">ʻŌlelo Hawaiʻi</a>,\n",
       " <a href=\"//ie.wikipedia.org/\" lang=\"ie\">Interlingue</a>,\n",
       " <a href=\"//kl.wikipedia.org/\" lang=\"kl\">Kalaallisut</a>,\n",
       " <a href=\"//pam.wikipedia.org/\" lang=\"pam\">Kapampangan</a>,\n",
       " <a href=\"//csb.wikipedia.org/\" lang=\"csb\">Kaszëbsczi</a>,\n",
       " <a href=\"//kw.wikipedia.org/\" lang=\"kw\">Kernewek</a>,\n",
       " <a href=\"//km.wikipedia.org/\" lang=\"km\" title=\"Phéasa Khmér\">ភាសាខ្មែរ</a>,\n",
       " <a href=\"//rw.wikipedia.org/\" lang=\"rw\">Kinyarwanda</a>,\n",
       " <a href=\"//kv.wikipedia.org/\" lang=\"kv\" title=\"Komi\">Коми</a>,\n",
       " <a href=\"//kg.wikipedia.org/\" lang=\"kg\">Kongo</a>,\n",
       " <a href=\"//gom.wikipedia.org/\" lang=\"gom\">कोंकणी / Konknni</a>,\n",
       " <a href=\"//lo.wikipedia.org/\" lang=\"lo\" title=\"Phaasaa Laao\">ພາສາລາວ</a>,\n",
       " <a href=\"//lad.wikipedia.org/\" lang=\"lad\" title=\"Ladino\"><span lang=\"lad-Latn\">Dzhudezmo</span> / <bdi dir=\"rtl\" lang=\"lad-Hebr\">לאדינו</bdi></a>,\n",
       " <a href=\"//lbe.wikipedia.org/\" lang=\"lbe\" title=\"Lakːu\">Лакку</a>,\n",
       " <a href=\"//lez.wikipedia.org/\" lang=\"lez\" title=\"Lezgi\">Лезги</a>,\n",
       " <a href=\"//ln.wikipedia.org/\" lang=\"ln\">Lingála</a>,\n",
       " <a href=\"//jbo.wikipedia.org/\" lang=\"jbo\">lojban</a>,\n",
       " <a href=\"//lrc.wikipedia.org/\" lang=\"lrc\" title=\"Löriyé-Šomālī\"><bdi dir=\"rtl\">لۊری شومالی</bdi></a>,\n",
       " <a href=\"//lg.wikipedia.org/\" lang=\"lg\">Luganda</a>,\n",
       " <a href=\"//lij.wikipedia.org/\" lang=\"lij\">Lìgure</a>,\n",
       " <a href=\"//mt.wikipedia.org/\" lang=\"mt\">Malti</a>,\n",
       " <a href=\"//ty.wikipedia.org/\" lang=\"ty\">Reo Mā’ohi</a>,\n",
       " <a href=\"//mi.wikipedia.org/\" lang=\"mi\">Māori</a>,\n",
       " <a href=\"//mwl.wikipedia.org/\" lang=\"mwl\">Mirandés</a>,\n",
       " <a href=\"//mdf.wikipedia.org/\" lang=\"mdf\" title=\"Mokšenj\">Мокшень</a>,\n",
       " <a href=\"//nah.wikipedia.org/\" lang=\"nah\">Nāhuatlahtōlli</a>,\n",
       " <a href=\"//na.wikipedia.org/\" lang=\"na\">Dorerin Naoero</a>,\n",
       " <a href=\"//nds-nl.wikipedia.org/\" lang=\"nds-nl\">Nedersaksisch</a>,\n",
       " <a href=\"//frr.wikipedia.org/\" lang=\"frr\">Nordfriisk</a>,\n",
       " <a href=\"//nrm.wikipedia.org/\" lang=\"roa-x-nrm\">Nouormand / Normaund</a>,\n",
       " <a href=\"//nov.wikipedia.org/\" lang=\"nov\">Novial</a>,\n",
       " <a href=\"//as.wikipedia.org/\" lang=\"as\" title=\"Ôxômiya\">অসমীযা়</a>,\n",
       " <a href=\"//pi.wikipedia.org/\" lang=\"pi\" title=\"Pāḷi\">पालि</a>,\n",
       " <a href=\"//pag.wikipedia.org/\" lang=\"pag\">Pangasinán</a>,\n",
       " <a href=\"//pap.wikipedia.org/\" lang=\"pap\">Papiamentu</a>,\n",
       " <a href=\"//koi.wikipedia.org/\" lang=\"koi\" title=\"Perem Komi\">Перем Коми</a>,\n",
       " <a href=\"//pfl.wikipedia.org/\" lang=\"pfl\">Pfälzisch</a>,\n",
       " <a href=\"//pcd.wikipedia.org/\" lang=\"pcd\">Picard</a>,\n",
       " <a href=\"//krc.wikipedia.org/\" lang=\"krc\" title=\"Qaraçay–Malqar\">Къарачай–Малкъар</a>,\n",
       " <a href=\"//kaa.wikipedia.org/\" lang=\"kaa\">Qaraqalpaqsha</a>,\n",
       " <a href=\"//crh.wikipedia.org/\" lang=\"crh\">Qırımtatarca</a>,\n",
       " <a href=\"//ksh.wikipedia.org/\" lang=\"ksh\">Ripoarisch</a>,\n",
       " <a href=\"//rm.wikipedia.org/\" lang=\"rm\">Rumantsch</a>,\n",
       " <a href=\"//rue.wikipedia.org/\" lang=\"rue\" title=\"Rusin’skyj Yazyk\">Русиньскый Язык</a>,\n",
       " <a href=\"//sc.wikipedia.org/\" lang=\"sc\">Sardu</a>,\n",
       " <a href=\"//stq.wikipedia.org/\" lang=\"stq\">Seeltersk</a>,\n",
       " <a href=\"//nso.wikipedia.org/\" lang=\"nso\">Sesotho sa Leboa</a>,\n",
       " <a href=\"//sn.wikipedia.org/\" lang=\"sn\">ChiShona</a>,\n",
       " <a href=\"//so.wikipedia.org/\" lang=\"so\">Soomaaliga</a>,\n",
       " <a href=\"//srn.wikipedia.org/\" lang=\"srn\">Sranantongo</a>,\n",
       " <a href=\"//kab.wikipedia.org/\" lang=\"kab\">Taqbaylit</a>,\n",
       " <a href=\"//roa-tara.wikipedia.org/\" lang=\"roa\">Tarandíne</a>,\n",
       " <a href=\"//tet.wikipedia.org/\" lang=\"tet\">Tetun</a>,\n",
       " <a href=\"//tpi.wikipedia.org/\" lang=\"tpi\">Tok Pisin</a>,\n",
       " <a href=\"//to.wikipedia.org/\" lang=\"to\">faka Tonga</a>,\n",
       " <a href=\"//tk.wikipedia.org/\" lang=\"tk\">Türkmençe</a>,\n",
       " <a href=\"//tyv.wikipedia.org/\" lang=\"tyv\" title=\"Tyva dyl\">Тыва дыл</a>,\n",
       " <a href=\"//udm.wikipedia.org/\" lang=\"udm\" title=\"Udmurt\">Удмурт</a>,\n",
       " <a href=\"//ug.wikipedia.org/\" lang=\"ug\"><bdi dir=\"rtl\">ئۇيغۇرچه</bdi></a>,\n",
       " <a href=\"//vep.wikipedia.org/\" lang=\"vep\">Vepsän</a>,\n",
       " <a href=\"//fiu-vro.wikipedia.org/\" lang=\"fiu-vro\">Võro</a>,\n",
       " <a href=\"//vls.wikipedia.org/\" lang=\"vls\">West-Vlams</a>,\n",
       " <a href=\"//wo.wikipedia.org/\" lang=\"wo\">Wolof</a>,\n",
       " <a href=\"//xh.wikipedia.org/\" lang=\"xh\">isiXhosa</a>,\n",
       " <a href=\"//zea.wikipedia.org/\" lang=\"zea\">Zeêuws</a>,\n",
       " <a href=\"//zu.wikipedia.org/\" lang=\"zu\">isiZulu</a>,\n",
       " <a href=\"//dv.wikipedia.org/\" lang=\"dv\" title=\"އިނގިރޭސި\"><bdi dir=\"rtl\">ދިވެހިބަސް</bdi></a>,\n",
       " <a href=\"//ak.wikipedia.org/\" lang=\"ak\">Akan</a>,\n",
       " <a href=\"//bm.wikipedia.org/\" lang=\"bm\">Bamanankan</a>,\n",
       " <a href=\"//ch.wikipedia.org/\" lang=\"ch\">Chamoru</a>,\n",
       " <a href=\"//ny.wikipedia.org/\" lang=\"ny\">Chichewa</a>,\n",
       " <a href=\"//ee.wikipedia.org/\" lang=\"ee\">Eʋegbe</a>,\n",
       " <a href=\"//ff.wikipedia.org/\" lang=\"ff\">Fulfulde</a>,\n",
       " <a href=\"//got.wikipedia.org/\" lang=\"got\" title=\"Gutisk\">𐌲𐌿𐍄𐌹𐍃𐌺</a>,\n",
       " <a href=\"//iu.wikipedia.org/\" lang=\"iu\">ᐃᓄᒃᑎᑐᑦ / Inuktitut</a>,\n",
       " <a href=\"//ik.wikipedia.org/\" lang=\"ik\">Iñupiak</a>,\n",
       " <a href=\"//ks.wikipedia.org/\" lang=\"ks\" title=\"Kashmiri\"><bdi dir=\"rtl\">كشميري</bdi></a>,\n",
       " <a href=\"//gcr.wikipedia.org/\" lang=\"gcr\" title=\"Kriyòl Gwiyannen\">Kriyòl Gwiyannen</a>,\n",
       " <a href=\"//ltg.wikipedia.org/\" lang=\"ltg\">Latgaļu</a>,\n",
       " <a href=\"//fj.wikipedia.org/\" lang=\"fj\">Na Vosa Vaka-Viti</a>,\n",
       " <a href=\"//cr.wikipedia.org/\" lang=\"cr\">Nēhiyawēwin / ᓀᐦᐃᔭᐍᐏᐣ</a>,\n",
       " <a href=\"//pih.wikipedia.org/\" lang=\"pih\">Norfuk / Pitkern</a>,\n",
       " <a href=\"//om.wikipedia.org/\" lang=\"om\">Afaan Oromoo</a>,\n",
       " <a href=\"//pnt.wikipedia.org/\" lang=\"pnt\" title=\"Pontiaká\">Ποντιακά</a>,\n",
       " <a href=\"//dz.wikipedia.org/\" lang=\"dz\" title=\"Rdzong-Kha\">རྫོང་ཁ</a>,\n",
       " <a href=\"//rmy.wikipedia.org/\" lang=\"rmy\">Romani</a>,\n",
       " <a href=\"//rn.wikipedia.org/\" lang=\"rn\">Kirundi</a>,\n",
       " <a href=\"//sm.wikipedia.org/\" lang=\"sm\">Gagana Sāmoa</a>,\n",
       " <a href=\"//sg.wikipedia.org/\" lang=\"sg\">Sängö</a>,\n",
       " <a href=\"//st.wikipedia.org/\" lang=\"st\">Sesotho</a>,\n",
       " <a href=\"//tn.wikipedia.org/\" lang=\"tn\">Setswana</a>,\n",
       " <a href=\"//cu.wikipedia.org/\" lang=\"cu\" title=\"Slověnĭskŭ\">Словѣ́ньскъ / ⰔⰎⰑⰂⰡⰐⰠⰔⰍⰟ</a>,\n",
       " <a href=\"//ss.wikipedia.org/\" lang=\"ss\">SiSwati</a>,\n",
       " <a href=\"//ti.wikipedia.org/\" lang=\"ti\" title=\"Tigriññā\">ትግርኛ</a>,\n",
       " <a href=\"//chr.wikipedia.org/\" lang=\"chr\" title=\"Tsalagi\">ᏣᎳᎩ</a>,\n",
       " <a href=\"//chy.wikipedia.org/\" lang=\"chy\">Tsėhesenėstsestotse</a>,\n",
       " <a href=\"//ve.wikipedia.org/\" lang=\"ve\">Tshivenḓa</a>,\n",
       " <a href=\"//ts.wikipedia.org/\" lang=\"ts\">Xitsonga</a>,\n",
       " <a href=\"//tum.wikipedia.org/\" lang=\"tum\">chiTumbuka</a>,\n",
       " <a href=\"//tw.wikipedia.org/\" lang=\"tw\">Twi</a>,\n",
       " <a href=\"//nqo.wikipedia.org/\" lang=\"nqo\" title=\"N'Ko\">ߒߞߏ</a>,\n",
       " <a href=\"//meta.wikimedia.org/wiki/List_of_Wikipedias\" lang=\"en\">Other languages</a>,\n",
       " <a href=\"//de.wikipedia.org/wiki/Wikipedia:Sprachen\" lang=\"de\">Weitere Sprachen</a>,\n",
       " <a href=\"//meta.wikimedia.org/wiki/Liste_des_Wikip%C3%A9dias\" lang=\"fr\">Autres langues</a>,\n",
       " <a href=\"//pl.wikipedia.org/wiki/Wikipedia:Lista_wersji_j%C4%99zykowych\" lang=\"pl\">Kompletna lista języków</a>,\n",
       " <a href=\"//ja.wikipedia.org/wiki/Wikipedia:%E5%A4%9A%E8%A8%80%E8%AA%9E%E3%83%97%E3%83%AD%E3%82%B8%E3%82%A7%E3%82%AF%E3%83%88%E3%81%A8%E3%81%97%E3%81%A6%E3%81%AE%E3%82%A6%E3%82%A3%E3%82%AD%E3%83%9A%E3%83%87%E3%82%A3%E3%82%A2\" lang=\"ja\">他の言語</a>,\n",
       " <a href=\"//meta.wikimedia.org/wiki/Lista_de_Wikipedias\" lang=\"es\">Otros idiomas</a>,\n",
       " <a data-convert-hans=\"其他语言\" href=\"//zh.wikipedia.org/wiki/Wikipedia:%E7%BB%B4%E5%9F%BA%E7%99%BE%E7%A7%91%E8%AF%AD%E8%A8%80%E5%88%97%E8%A1%A8\" id=\"zh_others\" lang=\"zh\">其他語言</a>,\n",
       " <a href=\"//ru.wikipedia.org/wiki/%D0%92%D0%B8%D0%BA%D0%B8%D0%BF%D0%B5%D0%B4%D0%B8%D1%8F:%D0%A1%D0%92\" lang=\"ru\">Другие языки</a>,\n",
       " <a href=\"//eo.wikipedia.org/wiki/Vikipedio:Internacia_Vikipedio\" lang=\"eo\">Aliaj lingvoj</a>,\n",
       " <a href=\"//meta.wikimedia.org/wiki/%EC%9C%84%ED%82%A4%EB%B0%B1%EA%B3%BC%EC%9D%98_%EB%AA%A9%EB%A1%9D\" lang=\"ko\">다른 언어</a>,\n",
       " <a href=\"//vi.wikipedia.org/wiki/Wikipedia:Phi%C3%AAn_b%E1%BA%A3n_ng%C3%B4n_ng%E1%BB%AF\" lang=\"vi\">Ngôn ngữ khác</a>,\n",
       " <a href=\"//wikimediafoundation.org/\">Wikimedia Foundation</a>,\n",
       " <a class=\"jsl10n\" data-jsl10n=\"app-links.url\" href=\"https://en.wikipedia.org/wiki/List_of_Wikipedia_mobile_applications\">\n",
       " Download Wikipedia for Android or iOS\n",
       " </a>,\n",
       " <a href=\"//play.google.com/store/apps/details?id=org.wikipedia&amp;referrer=utm_source%3Dportal%26utm_medium%3Dbutton%26anid%3Dadmob\" target=\"_blank\">\n",
       " <span class=\"sprite svg-badge_google_play_store\">\n",
       " </span></a>,\n",
       " <a href=\"//itunes.apple.com/app/apple-store/id324715238?pt=208305&amp;ct=portal&amp;mt=8\" target=\"_blank\">\n",
       " <span class=\"sprite svg-badge_ios_app_store\">\n",
       " </span></a>,\n",
       " <a class=\"other-project-link\" href=\"//commons.wikimedia.org/\">\n",
       " <div class=\"other-project-icon\">\n",
       " <div class=\"sprite svg-Commons-logo_sister\"></div>\n",
       " </div>\n",
       " <div class=\"other-project-text\">\n",
       " <span class=\"other-project-title jsl10n\" data-jsl10n=\"commons.name\">Commons</span>\n",
       " <span class=\"other-project-tagline jsl10n\" data-jsl10n=\"commons.slogan\">Freely usable photos &amp; more</span>\n",
       " </div>\n",
       " </a>,\n",
       " <a class=\"other-project-link\" href=\"//www.wikivoyage.org/\">\n",
       " <div class=\"other-project-icon\">\n",
       " <div class=\"sprite svg-Wikivoyage-logo_sister\"></div>\n",
       " </div>\n",
       " <div class=\"other-project-text\">\n",
       " <span class=\"other-project-title jsl10n\" data-jsl10n=\"wikivoyage.name\">Wikivoyage</span>\n",
       " <span class=\"other-project-tagline jsl10n\" data-jsl10n=\"wikivoyage.slogan\">Free travel guide</span>\n",
       " </div>\n",
       " </a>,\n",
       " <a class=\"other-project-link\" href=\"//www.wiktionary.org/\">\n",
       " <div class=\"other-project-icon\">\n",
       " <div class=\"sprite svg-Wiktionary-logo_sister\"></div>\n",
       " </div>\n",
       " <div class=\"other-project-text\">\n",
       " <span class=\"other-project-title jsl10n\" data-jsl10n=\"wiktionary.name\">Wiktionary</span>\n",
       " <span class=\"other-project-tagline jsl10n\" data-jsl10n=\"wiktionary.slogan\">Free dictionary</span>\n",
       " </div>\n",
       " </a>,\n",
       " <a class=\"other-project-link\" href=\"//www.wikibooks.org/\">\n",
       " <div class=\"other-project-icon\">\n",
       " <div class=\"sprite svg-Wikibooks-logo_sister\"></div>\n",
       " </div>\n",
       " <div class=\"other-project-text\">\n",
       " <span class=\"other-project-title jsl10n\" data-jsl10n=\"wikibooks.name\">Wikibooks</span>\n",
       " <span class=\"other-project-tagline jsl10n\" data-jsl10n=\"wikibooks.slogan\">Free textbooks</span>\n",
       " </div>\n",
       " </a>,\n",
       " <a class=\"other-project-link\" href=\"//www.wikinews.org/\">\n",
       " <div class=\"other-project-icon\">\n",
       " <div class=\"sprite svg-Wikinews-logo_sister\"></div>\n",
       " </div>\n",
       " <div class=\"other-project-text\">\n",
       " <span class=\"other-project-title jsl10n\" data-jsl10n=\"wikinews.name\">Wikinews</span>\n",
       " <span class=\"other-project-tagline jsl10n\" data-jsl10n=\"wikinews.slogan\">Free news source</span>\n",
       " </div>\n",
       " </a>,\n",
       " <a class=\"other-project-link\" href=\"//www.wikidata.org/\">\n",
       " <div class=\"other-project-icon\">\n",
       " <div class=\"sprite svg-Wikidata-logo_sister\"></div>\n",
       " </div>\n",
       " <div class=\"other-project-text\">\n",
       " <span class=\"other-project-title jsl10n\" data-jsl10n=\"wikidata.name\">Wikidata</span>\n",
       " <span class=\"other-project-tagline jsl10n\" data-jsl10n=\"wikidata.slogan\">Free knowledge base</span>\n",
       " </div>\n",
       " </a>,\n",
       " <a class=\"other-project-link\" href=\"//www.wikiversity.org/\">\n",
       " <div class=\"other-project-icon\">\n",
       " <div class=\"sprite svg-Wikiversity-logo_sister\"></div>\n",
       " </div>\n",
       " <div class=\"other-project-text\">\n",
       " <span class=\"other-project-title jsl10n\" data-jsl10n=\"wikiversity.name\">Wikiversity</span>\n",
       " <span class=\"other-project-tagline jsl10n\" data-jsl10n=\"wikiversity.slogan\">Free course materials</span>\n",
       " </div>\n",
       " </a>,\n",
       " <a class=\"other-project-link\" href=\"//www.wikiquote.org/\">\n",
       " <div class=\"other-project-icon\">\n",
       " <div class=\"sprite svg-Wikiquote-logo_sister\"></div>\n",
       " </div>\n",
       " <div class=\"other-project-text\">\n",
       " <span class=\"other-project-title jsl10n\" data-jsl10n=\"wikiquote.name\">Wikiquote</span>\n",
       " <span class=\"other-project-tagline jsl10n\" data-jsl10n=\"wikiquote.slogan\">Free quote compendium</span>\n",
       " </div>\n",
       " </a>,\n",
       " <a class=\"other-project-link\" href=\"//www.mediawiki.org/\">\n",
       " <div class=\"other-project-icon\">\n",
       " <div class=\"sprite svg-MediaWiki-logo_sister\"></div>\n",
       " </div>\n",
       " <div class=\"other-project-text\">\n",
       " <span class=\"other-project-title jsl10n\" data-jsl10n=\"mediawiki.name\">MediaWiki</span>\n",
       " <span class=\"other-project-tagline jsl10n\" data-jsl10n=\"mediawiki.slogan\">Free &amp; open wiki application</span>\n",
       " </div>\n",
       " </a>,\n",
       " <a class=\"other-project-link\" href=\"//www.wikisource.org/\">\n",
       " <div class=\"other-project-icon\">\n",
       " <div class=\"sprite svg-Wikisource-logo_sister\"></div>\n",
       " </div>\n",
       " <div class=\"other-project-text\">\n",
       " <span class=\"other-project-title jsl10n\" data-jsl10n=\"wikisource.name\">Wikisource</span>\n",
       " <span class=\"other-project-tagline jsl10n\" data-jsl10n=\"wikisource.slogan\">Free library</span>\n",
       " </div>\n",
       " </a>,\n",
       " <a class=\"other-project-link\" href=\"//species.wikimedia.org/\">\n",
       " <div class=\"other-project-icon\">\n",
       " <div class=\"sprite svg-Wikispecies-logo_sister\"></div>\n",
       " </div>\n",
       " <div class=\"other-project-text\">\n",
       " <span class=\"other-project-title jsl10n\" data-jsl10n=\"wikispecies.name\">Wikispecies</span>\n",
       " <span class=\"other-project-tagline jsl10n\" data-jsl10n=\"wikispecies.slogan\">Free species directory</span>\n",
       " </div>\n",
       " </a>,\n",
       " <a class=\"other-project-link\" href=\"//meta.wikimedia.org/\">\n",
       " <div class=\"other-project-icon\">\n",
       " <div class=\"sprite svg-Meta-Wiki-logo_sister\"></div>\n",
       " </div>\n",
       " <div class=\"other-project-text\">\n",
       " <span class=\"other-project-title jsl10n\" data-jsl10n=\"metawiki.name\">Meta-Wiki</span>\n",
       " <span class=\"other-project-tagline jsl10n\" data-jsl10n=\"metawiki.slogan\">Community coordination &amp; documentation</span>\n",
       " </div>\n",
       " </a>,\n",
       " <a href=\"https://creativecommons.org/licenses/by-sa/3.0/\">Creative Commons Attribution-ShareAlike License</a>,\n",
       " <a href=\"//meta.wikimedia.org/wiki/Terms_of_Use\">Terms of Use</a>,\n",
       " <a href=\"//meta.wikimedia.org/wiki/Privacy_policy\">Privacy Policy</a>]"
      ]
     },
     "execution_count": 33,
     "metadata": {},
     "output_type": "execute_result"
    }
   ],
   "source": [
    "#your code\n",
    "# to see the information\n",
    "a= soup.find_all('a')\n",
    "a"
   ]
  },
  {
   "cell_type": "code",
   "execution_count": 34,
   "metadata": {},
   "outputs": [
    {
     "data": {
      "text/plain": [
       "['English',\n",
       " '日本語',\n",
       " 'Deutsch',\n",
       " 'Español',\n",
       " 'Русский',\n",
       " 'Français',\n",
       " 'Italiano',\n",
       " '中文',\n",
       " 'Português',\n",
       " 'Polski']"
      ]
     },
     "execution_count": 34,
     "metadata": {},
     "output_type": "execute_result"
    }
   ],
   "source": [
    "countries = [country.text for country in soup.find_all('strong')][1:11]\n",
    "countries"
   ]
  },
  {
   "cell_type": "code",
   "execution_count": 35,
   "metadata": {},
   "outputs": [
    {
     "data": {
      "text/plain": [
       "['5 994 000+',\n",
       " '1 185 000+',\n",
       " '2 385 000+',\n",
       " '1 571 000+',\n",
       " '1 590 000+',\n",
       " '2 171 000+',\n",
       " '1 576 000+',\n",
       " '1 090 000+',\n",
       " '1 018 000+',\n",
       " '1 379 000+']"
      ]
     },
     "execution_count": 35,
     "metadata": {},
     "output_type": "execute_result"
    }
   ],
   "source": [
    "number_of_articles = [re.sub('\\xa0', ' ', a.text) for a in soup.find_all('bdi')][0:10]\n",
    "number_of_articles"
   ]
  },
  {
   "cell_type": "markdown",
   "metadata": {},
   "source": [
    "#### A list with the different kind of datasets available in data.gov.uk "
   ]
  },
  {
   "cell_type": "code",
   "execution_count": 36,
   "metadata": {},
   "outputs": [],
   "source": [
    "# This is the url you will scrape in this exercise\n",
    "url = 'https://data.gov.uk/'\n",
    "html = requests.get(url).content\n",
    "soup = BeautifulSoup(html, 'lxml')"
   ]
  },
  {
   "cell_type": "code",
   "execution_count": 37,
   "metadata": {},
   "outputs": [
    {
     "data": {
      "text/plain": [
       "[<div class=\"grid-row dgu-topics\">\n",
       " <div class=\"column-one-third\">\n",
       " <div>\n",
       " <ol>\n",
       " <li>\n",
       " <h2><a href=\"/search?filters%5Btopic%5D=Business+and+economy\">Business and economy</a></h2>\n",
       " <p>Small businesses, industry, imports, exports and trade</p>\n",
       " </li>\n",
       " <li>\n",
       " <h2><a href=\"/search?filters%5Btopic%5D=Crime+and+justice\">Crime and justice</a></h2>\n",
       " <p>Courts, police, prison, offenders, borders and immigration</p>\n",
       " </li>\n",
       " <li>\n",
       " <h2><a href=\"/search?filters%5Btopic%5D=Defence\">Defence</a></h2>\n",
       " <p>Armed forces, health and safety, search and rescue</p>\n",
       " </li>\n",
       " <li>\n",
       " <h2><a href=\"/search?filters%5Btopic%5D=Education\">Education</a></h2>\n",
       " <p>Students, training, qualifications and the National Curriculum</p>\n",
       " </li>\n",
       " </ol>\n",
       " </div>\n",
       " </div>\n",
       " <div class=\"column-one-third\">\n",
       " <div>\n",
       " <ol>\n",
       " <li>\n",
       " <h2><a href=\"/search?filters%5Btopic%5D=Environment\">Environment</a></h2>\n",
       " <p>Weather, flooding, rivers, air quality, geology and agriculture</p>\n",
       " </li>\n",
       " <li>\n",
       " <h2><a href=\"/search?filters%5Btopic%5D=Government\">Government</a></h2>\n",
       " <p>Staff numbers and pay, local councillors and department business plans</p>\n",
       " </li>\n",
       " <li>\n",
       " <h2><a href=\"/search?filters%5Btopic%5D=Government+spending\">Government spending</a></h2>\n",
       " <p>Includes all payments by government departments over £25,000</p>\n",
       " </li>\n",
       " <li>\n",
       " <h2><a href=\"/search?filters%5Btopic%5D=Health\">Health</a></h2>\n",
       " <p>Includes smoking, drugs, alcohol, medicine performance and hospitals</p>\n",
       " </li>\n",
       " </ol>\n",
       " </div>\n",
       " </div>\n",
       " <div class=\"column-one-third\">\n",
       " <div>\n",
       " <ol>\n",
       " <li>\n",
       " <h2><a href=\"/search?filters%5Btopic%5D=Mapping\">Mapping</a></h2>\n",
       " <p>Addresses, boundaries, land ownership, aerial photographs, seabed and land terrain</p>\n",
       " </li>\n",
       " <li>\n",
       " <h2><a href=\"/search?filters%5Btopic%5D=Society\">Society</a></h2>\n",
       " <p>Employment, benefits, household finances, poverty and population</p>\n",
       " </li>\n",
       " <li>\n",
       " <h2><a href=\"/search?filters%5Btopic%5D=Towns+and+cities\">Towns and cities</a></h2>\n",
       " <p>Includes housing, urban planning, leisure, waste and energy, consumption</p>\n",
       " </li>\n",
       " <li>\n",
       " <h2><a href=\"/search?filters%5Btopic%5D=Transport\">Transport</a></h2>\n",
       " <p>Airports, roads, freight, electric vehicles, parking, buses and footpaths</p>\n",
       " </li>\n",
       " </ol>\n",
       " </div>\n",
       " </div>\n",
       " </div>]"
      ]
     },
     "execution_count": 37,
     "metadata": {},
     "output_type": "execute_result"
    }
   ],
   "source": [
    "#your code \n",
    "soup.find_all('div', attrs={'class': 'grid-row dgu-topics'})"
   ]
  },
  {
   "cell_type": "code",
   "execution_count": 38,
   "metadata": {},
   "outputs": [
    {
     "data": {
      "text/plain": [
       "['Business and economy',\n",
       " 'Crime and justice',\n",
       " 'Defence',\n",
       " 'Education',\n",
       " 'Environment',\n",
       " 'Government',\n",
       " 'Government spending',\n",
       " 'Health',\n",
       " 'Mapping',\n",
       " 'Society',\n",
       " 'Towns and cities',\n",
       " 'Transport']"
      ]
     },
     "execution_count": 38,
     "metadata": {},
     "output_type": "execute_result"
    }
   ],
   "source": [
    "datasets = [dataset.text for dataset in soup.find_all('h2')]\n",
    "datasets"
   ]
  },
  {
   "cell_type": "markdown",
   "metadata": {},
   "source": [
    "#### Top 10 languages by number of native speakers stored in a Pandas Dataframe"
   ]
  },
  {
   "cell_type": "code",
   "execution_count": 39,
   "metadata": {},
   "outputs": [],
   "source": [
    "# This is the url you will scrape in this exercise\n",
    "url = 'https://en.wikipedia.org/wiki/List_of_languages_by_number_of_native_speakers'\n",
    "html = requests.get(url).content\n",
    "soup = BeautifulSoup(html, 'lxml')"
   ]
  },
  {
   "cell_type": "code",
   "execution_count": 40,
   "metadata": {},
   "outputs": [
    {
     "data": {
      "text/plain": [
       "['Rank',\n",
       " 'Language',\n",
       " 'Speakers(millions)',\n",
       " '% of the World population(March 2019)[8]',\n",
       " 'Language familyBranch']"
      ]
     },
     "execution_count": 40,
     "metadata": {},
     "output_type": "execute_result"
    }
   ],
   "source": [
    "#your code\n",
    "headers = [re.sub('\\n', '', header.text) for header in soup.find_all('th')][:5]\n",
    "headers"
   ]
  },
  {
   "cell_type": "code",
   "execution_count": 41,
   "metadata": {},
   "outputs": [
    {
     "name": "stdout",
     "output_type": "stream",
     "text": [
      "['Rank', 'Language', 'Speakers(millions)', '%', 'of', 'the', 'World', 'population', '(March', '2019)[8]', 'Language', 'familyBranch']\n",
      "['1', 'Mandarin', 'Chinese', '918', '11.922', 'Sino-TibetanSinitic']\n",
      "['2', 'Spanish', '480', '5.994', 'Indo-EuropeanRomance']\n",
      "['3', 'English', '379', '4.922', 'Indo-EuropeanGermanic']\n",
      "['4', 'Hindi', '(Sanskritised', 'Hindustani)[9]', '341', '4.429', 'Indo-EuropeanIndo-Aryan']\n",
      "['5', 'Bengali', '228', '2.961', 'Indo-EuropeanIndo-Aryan']\n",
      "['6', 'Portuguese', '221', '2.870', 'Indo-EuropeanRomance']\n",
      "['7', 'Russian', '154', '2.000', 'Indo-EuropeanBalto-Slavic']\n",
      "['8', 'Japanese', '128', '1.662', 'JaponicJapanese']\n",
      "['9', 'Western', 'Punjabi[10]', '92.7', '1.204', 'Indo-EuropeanIndo-Aryan']\n",
      "['10', 'Marathi', '83.1', '1.079', 'Indo-EuropeanIndo-Aryan']\n",
      "['11', 'Telugu', '82.0', '1.065', 'DravidianSouth-Central']\n",
      "['12', 'Wu', 'Chinese', '81.4', '1.057', 'Sino-TibetanSinitic']\n",
      "['13', 'Turkish', '79.4', '1.031', 'TurkicOghuz']\n",
      "['14', 'Korean', '77.3', '1.004', 'Koreaniclanguage', 'isolate']\n",
      "['15', 'French', '77.2', '1.003', 'Indo-EuropeanRomance']\n",
      "['16', 'German', '76.1', '0.988', 'Indo-EuropeanGermanic']\n",
      "['17', 'Vietnamese', '76.0', '0.987', 'AustroasiaticVietic']\n",
      "['18', 'Tamil', '75.0', '0.974', 'DravidianSouth']\n",
      "['19', 'Yue', 'Chinese', '73.1', '0.949', 'Sino-TibetanSinitic']\n",
      "['20', 'Urdu', '(Persianised', 'Hindustani)[9]', '68.6', '0.891', 'Indo-EuropeanIndo-Aryan']\n",
      "['21', 'Javanese', '68.3', '0.887', 'AustronesianMalayo-Polynesian']\n",
      "['22', 'Italian', '64.8', '0.842', 'Indo-EuropeanRomance']\n",
      "['23', 'Egyptian', 'Arabic', '64.6', '0.839', 'AfroasiaticSemitic']\n",
      "['24', 'Gujarati', '56.4', '0.732', 'Indo-EuropeanIndo-Aryan']\n",
      "['25', 'Iranian', 'Persian', '52.8', '0.686', 'Indo-EuropeanIranian']\n",
      "['26', 'Bhojpuri', '52.2', '0.678', 'Indo-EuropeanIndo-Aryan']\n",
      "['27', 'Min', 'Nan', 'Chinese', '50.1', '0.651', 'Sino-TibetanSinitic']\n",
      "['28', 'Hakka', 'Chinese', '48.2', '0.626', 'Sino-TibetanSinitic']\n",
      "['29', 'Jin', 'Chinese', '46.9', '0.609', 'Sino-TibetanSinitic']\n",
      "['30', 'Hausa', '43.9', '0.570', 'AfroasiaticChadic']\n",
      "['31', 'Kannada', '43.6', '0.566', 'DravidianSouth']\n",
      "['32', 'Indonesian', '(Indonesian', 'Malay)', '43.4', '0.564', 'AustronesianMalayo-Polynesian']\n",
      "['33', 'Polish', '39.7', '0.516', 'Indo-EuropeanBalto-Slavic']\n",
      "['34', 'Yoruba', '37.8', '0.491', 'Niger–CongoVolta–Niger']\n",
      "['35', 'Xiang', 'Chinese', '37.3', '0.484', 'Sino-TibetanSinitic']\n",
      "['36', 'Malayalam', '37.1', '0.482', 'DravidianSouth']\n",
      "['37', 'Odia', '34.5', '0.448', 'Indo-EuropeanIndo-Aryan']\n",
      "['38', 'Maithili', '33.9', '0.440', 'Indo-EuropeanIndo-Aryan']\n",
      "['39', 'Burmese', '32.9', '0.427', 'Sino-TibetanLolo-Burmese']\n",
      "['40', 'Eastern', 'Punjabi[10]', '32.6', '0.423', 'Indo-EuropeanIndo-Aryan']\n",
      "['41', 'Sunda', '32.4', '0.421', 'AustronesianMalayo-Polynesian']\n",
      "['42', 'Sudanese', 'Arabic', '31.9', '0.414', 'AfroasiaticSemitic']\n",
      "['43', 'Algerian', 'Arabic', '29.4', '0.382', 'AfroasiaticSemitic']\n",
      "['44', 'Moroccan', 'Arabic', '27.5', '0.357', 'AfroasiaticSemitic']\n",
      "['45', 'Ukrainian', '27.3', '0.355', 'Indo-EuropeanBalto-Slavic']\n",
      "['46', 'Igbo', '27.0', '0.351', 'Niger–CongoVolta–Niger']\n",
      "['47', 'Northern', 'Uzbek', '25.1', '0.326', 'TurkicKarluk']\n",
      "['48', 'Sindhi', '24.6', '0.319', 'Indo-EuropeanIndo-Aryan']\n",
      "['49', 'North', 'Levantine', 'Arabic', '24.6', '0.319', 'AfroasiaticSemitic']\n",
      "['50', 'Romanian', '24.3', '0.316', 'Indo-EuropeanRomance']\n",
      "['51', 'Tagalog', '23.6', '0.306', 'AustronesianMalayo-Polynesian']\n",
      "['52', 'Dutch', '23.1', '0.300', 'Indo-EuropeanGermanic']\n",
      "['53', 'Saʽidi', 'Arabic', '22.4', '0.291', 'AfroasiaticSemitic']\n",
      "['54', 'Gan', 'Chinese', '22.1', '0.287', 'Sino-TibetanSinitic']\n",
      "['55', 'Amharic', '21.9', '0.284', 'AfroasiaticSemitic']\n",
      "['56', 'Northern', 'Pashto', '20.9', '0.271', 'Indo-EuropeanIranian']\n",
      "['57', 'Magahi', '20.7', '0.269', 'Indo-EuropeanIndo-Aryan']\n",
      "['58', 'Thai', '20.7', '0.269', 'Kra–DaiTai']\n",
      "['59', 'Saraiki', '20.0', '0.260', 'Indo-EuropeanIndo-Aryan']\n",
      "['60', 'Khmer', '16.6', '0.216', 'AustroasiaticKhmer']\n",
      "['61', 'Chhattisgarhi', '16.3', '0.212', 'Indo-EuropeanIndo-Aryan']\n",
      "['62', 'Somali', '16.2', '0.210', 'AfroasiaticCushitic']\n",
      "['63', 'Malay', '(Malaysian', 'Malay)', '16.1', '0.209', 'AustronesianMalayo-Polynesian']\n",
      "['64', 'Cebuano', '15.9', '0.206', 'AustronesianMalayo-Polynesian']\n",
      "['65', 'Nepali', '15.8', '0.205', 'Indo-EuropeanIndo-Aryan']\n",
      "['66', 'Mesopotamian', 'Arabic', '15.7', '0.204', 'AfroasiaticSemitic']\n",
      "['67', 'Assamese', '15.3', '0.199', 'Indo-EuropeanIndo-Aryan']\n",
      "['68', 'Sinhalese', '15.3', '0.199', 'Indo-EuropeanIndo-Aryan']\n",
      "['69', 'Northern', 'Kurdish', '14.6', '0.190', 'Indo-EuropeanIranian']\n",
      "['70', 'Hejazi', 'Arabic', '14.5', '0.188', 'AfroasiaticSemitic']\n",
      "['71', 'Nigerian', 'Fulfulde', '14.5', '0.188', 'Niger–CongoSenegambian']\n",
      "['72', 'Bavarian', '14.1', '0.183', 'Indo-EuropeanGermanic']\n",
      "['73', 'South', 'Azerbaijani', '13.8', '0.179', 'TurkicOghuz']\n",
      "['74', 'Greek', '13.1', '0.170', 'Indo-EuropeanHellenic']\n",
      "['75', 'Chittagonian', '13.0', '0.169', 'Indo-EuropeanIndo-Aryan']\n",
      "['76', 'Kazakh', '12.9', '0.168', 'TurkicKipchak']\n",
      "['77', 'Deccan', '12.8', '0.166', 'Indo-EuropeanIndo-Aryan']\n",
      "['78', 'Hungarian', '12.6', '0.164', 'UralicUgric']\n",
      "['79', 'Kinyarwanda', '12.1', '0.157', 'Niger–CongoBantu']\n",
      "['80', 'Zulu', '12.1', '0.157', 'Niger–CongoBantu']\n",
      "['81', 'South', 'Levantine', 'Arabic', '11.6', '0.151', 'AfroasiaticSemitic']\n",
      "['82', 'Tunisian', 'Arabic', '11.6', '0.151', 'AfroasiaticSemitic']\n",
      "['83', 'Sanaani', 'Spoken', 'Arabic', '11.4', '0.148', 'AfroasiaticSemitic']\n",
      "['84', 'Min', 'Bei', 'Chinese', '11.0', '0.143', 'Sino-TibetanSinitic']\n",
      "['85', 'Southern', 'Pashto', '10.9', '0.142', 'Indo-EuropeanIranian']\n",
      "['86', 'Rundi', '10.8', '0.140', 'Niger–CongoBantu']\n",
      "['87', 'Czech', '10.7', '0.139', 'Indo-EuropeanBalto-Slavic']\n",
      "['88', 'Taʽizzi-Adeni', 'Arabic', '10.5', '0.136', 'AfroasiaticSemitic']\n",
      "['89', 'Uyghur', '10.4', '0.135', 'TurkicKarluk']\n",
      "['90', 'Min', 'Dong', 'Chinese', '10.3', '0.134', 'Sino-TibetanSinitic']\n",
      "['91', 'Sylheti', '10.3', '0.134', 'Indo-EuropeanIndo-Aryan']\n",
      "['This', 'section', 'needs', 'to', 'be', 'updated.', 'In', 'particular:', 'the', '2010', 'edition', 'of', 'Nationalencyklopedin', 'has', 'revised', 'figures.', 'Please', 'update', 'this', 'article', 'to', 'reflect', 'recent', 'events', 'or', 'newly', 'available', 'information.', '(November', '2018)']\n",
      "['Rank', 'Language', 'Nativespeakersin', 'millions2007', '(2010)', 'Percentageof', 'worldpopulation(2007)']\n",
      "['1', 'Mandarin', '(entire', 'branch)', '935', '(955)', '14.1%']\n",
      "['2', 'Spanish', '390', '(405)', '5.85%']\n",
      "['3', 'English', '365', '(360)', '5.52%']\n",
      "['4', 'Hindi[a]', '295', '(310)', '4.46%']\n",
      "['5', 'Arabic', '280', '(295)', '4.23%']\n",
      "['6', 'Portuguese', '205', '(215)', '3.08%']\n",
      "['7', 'Bengali', '200', '(205)', '3.05%']\n",
      "['8', 'Russian', '160', '(155)', '2.42%']\n",
      "['9', 'Japanese', '125', '(125)', '1.92%']\n",
      "['10', 'Punjabi', '95', '(100)', '1.44%']\n",
      "['11', 'German', '92', '(95)', '1.39%']\n",
      "['12', 'Javanese', '82', '1.25%']\n",
      "['13', 'Wu', '(inc.', 'Shanghainese)', '80', '1.20%']\n",
      "['14', 'Malay', '(inc.', 'Indonesian', 'and', 'Malaysian)', '77', '1.16%']\n",
      "['15', 'Telugu', '76', '1.15%']\n",
      "['16', 'Vietnamese', '76', '1.14%']\n",
      "['17', 'Korean', '76', '1.14%']\n",
      "['18', 'French', '75', '1.12%']\n",
      "['19', 'Marathi', '73', '1.10%']\n",
      "['20', 'Tamil', '70', '1.06%']\n",
      "['21', 'Urdu', '66', '0.99%']\n",
      "['22', 'Turkish', '63', '0.95%']\n",
      "['23', 'Italian', '59', '0.90%']\n",
      "['24', 'Yue', '(inc.', 'Cantonese)', '59', '0.89%']\n",
      "['25', 'Thai', '56', '0.85%']\n",
      "['26', 'Gujarati', '49', '0.74%']\n",
      "['27', 'Jin', '48', '0.72%']\n",
      "['28', 'Southern', 'Min', '(inc.', 'Hokkien', 'and', 'Teochew)', '47', '0.71%']\n",
      "['29', 'Persian', '45', '0.68%']\n",
      "['30', 'Polish', '40', '0.61%']\n",
      "['31', 'Pashto', '39', '0.58%']\n",
      "['32', 'Kannada', '38', '0.58%']\n",
      "['33', 'Xiang', '38', '0.58%']\n",
      "['34', 'Malayalam', '38', '0.57%']\n",
      "['35', 'Sundanese', '38', '0.57%']\n",
      "['36', 'Hausa', '34', '0.52%']\n",
      "['37', 'Odia', '(Oriya)', '33', '0.50%']\n",
      "['38', 'Burmese', '33', '0.50%']\n",
      "['39', 'Hakka', '31', '0.46%']\n",
      "['40', 'Ukrainian', '30', '0.46%']\n",
      "['41', 'Bhojpuri', '29[b]', '0.43%']\n",
      "['42', 'Tagalog', '(Filipino)', '28', '0.42%']\n",
      "['43', 'Yoruba', '28', '0.42%']\n",
      "['44', 'Maithili', '27[b]', '0.41%']\n",
      "['45', 'Uzbek', '26', '0.39%']\n",
      "['46', 'Sindhi', '26', '0.39%']\n",
      "['47', 'Amharic', '25', '0.37%']\n",
      "['48', 'Fula', '24', '0.37%']\n",
      "['49', 'Romanian', '24', '0.37%']\n",
      "['50', 'Oromo', '24', '0.36%']\n",
      "['51', 'Igbo', '24', '0.36%']\n",
      "['52', 'Azerbaijani', '23', '0.34%']\n",
      "['53', 'Awadhi', '22[b]', '0.33%']\n",
      "['54', 'Gan', '22', '0.33%']\n",
      "['55', 'Cebuano', '(Visayan)', '21', '0.32%']\n",
      "['56', 'Dutch', '21', '0.32%']\n",
      "['57', 'Kurdish', '21', '0.31%']\n",
      "['58', 'Serbo-Croatian', '19', '0.28%']\n",
      "['59', 'Malagasy', '18', '0.28%']\n",
      "['60', 'Saraiki', '17[c]', '0.26%']\n",
      "['61', 'Nepali', '17', '0.25%']\n",
      "['62', 'Sinhala', '16', '0.25%']\n",
      "['63', 'Chittagonian', '16', '0.24%']\n",
      "['64', 'Zhuang', '16', '0.24%']\n",
      "['65', 'Khmer', '16', '0.24%']\n",
      "['66', 'Turkmen', '16', '0.24%']\n",
      "['67', 'Assamese', '15', '0.23%']\n",
      "['68', 'Madurese', '15', '0.23%']\n",
      "['69', 'Somali', '15', '0.22%']\n",
      "['70', 'Marwari', '14[b]', '0.21%']\n",
      "['71', 'Magahi', '14[b]', '0.21%']\n",
      "['72', 'Haryanvi', '14[b]', '0.21%']\n",
      "['73', 'Hungarian', '13', '0.19%']\n",
      "['74', 'Chhattisgarhi', '12[b]', '0.19%']\n",
      "['75', 'Greek', '12', '0.18%']\n",
      "['76', 'Chewa', '12', '0.17%']\n",
      "['77', 'Deccan', '11', '0.17%']\n",
      "['78', 'Akan', '11', '0.17%']\n",
      "['79', 'Kazakh', '11', '0.17%']\n",
      "['80', 'Northern', 'Min[disputed', '–', 'discuss]', '10.9', '0.16%']\n",
      "['81', 'Sylheti', '10.7', '0.16%']\n",
      "['82', 'Zulu', '10.4', '0.16%']\n",
      "['83', 'Czech', '10.0', '0.15%']\n",
      "['84', 'Kinyarwanda', '9.8', '0.15%']\n",
      "['85', 'Dhundhari', '9.6[b]', '0.15%']\n",
      "['86', 'Haitian', 'Creole', '9.6', '0.15%']\n",
      "['87', 'Eastern', 'Min', '(inc.', 'Fuzhou', 'dialect)', '9.5', '0.14%']\n",
      "['88', 'Ilocano', '9.1', '0.14%']\n",
      "['89', 'Quechua', '8.9', '0.13%']\n",
      "['90', 'Kirundi', '8.8', '0.13%']\n",
      "['91', 'Swedish', '8.7', '0.13%']\n",
      "['92', 'Hmong', '8.4', '0.13%']\n",
      "['93', 'Shona', '8.3', '0.13%']\n",
      "['94', 'Uyghur', '8.2', '0.12%']\n",
      "['95', 'Hiligaynon/Ilonggo', '(Visayan)', '8.2', '0.12%']\n",
      "['96', 'Mossi', '7.6', '0.11%']\n",
      "['97', 'Xhosa', '7.6', '0.11%']\n",
      "['98', 'Belarusian', '7.6[d]', '0.11%']\n",
      "['99', 'Balochi', '7.6', '0.11%']\n",
      "['100', 'Konkani', '7.4', '0.11%']\n",
      "['Total', '5,610', '85%']\n",
      "['vteCountries', 'and', 'languages', 'lists']\n",
      "['CountriesBy', 'languagesSpoken', 'Countries', 'by', 'spoken', 'languages', 'Official', 'Countries', 'by', 'the', 'number', 'of', 'recognized', 'official', 'languages', 'Arabic', 'Chinese', 'Dutch/Afrikaans', 'English', 'French', 'German', 'Malay', 'Portuguese', 'Romanian', 'Russian', 'Spanish', 'Tamil', 'Endonyms', 'Countries', 'and', 'capitals', 'in', 'native', 'languages', 'Exonyms', 'Country', 'names', 'in', 'various', 'languages', 'A–C', 'D–I', 'J–P', 'Q–Z', 'Languages', 'of', 'the', 'European', 'Union']\n",
      "['Countries']\n",
      "['By', 'languagesSpoken', 'Countries', 'by', 'spoken', 'languages', 'Official', 'Countries', 'by', 'the', 'number', 'of', 'recognized', 'official', 'languages', 'Arabic', 'Chinese', 'Dutch/Afrikaans', 'English', 'French', 'German', 'Malay', 'Portuguese', 'Romanian', 'Russian', 'Spanish', 'Tamil', 'Endonyms', 'Countries', 'and', 'capitals', 'in', 'native', 'languages', 'Exonyms', 'Country', 'names', 'in', 'various', 'languages', 'A–C', 'D–I', 'J–P', 'Q–Z', 'Languages', 'of', 'the', 'European', 'Union']\n",
      "['By', 'languagesSpoken', 'Countries', 'by', 'spoken', 'languages', 'Official', 'Countries', 'by', 'the', 'number', 'of', 'recognized', 'official', 'languages', 'Arabic', 'Chinese', 'Dutch/Afrikaans', 'English', 'French', 'German', 'Malay', 'Portuguese', 'Romanian', 'Russian', 'Spanish', 'Tamil']\n",
      "['Spoken', 'Countries', 'by', 'spoken', 'languages']\n",
      "['Official', 'Countries', 'by', 'the', 'number', 'of', 'recognized', 'official', 'languages', 'Arabic', 'Chinese', 'Dutch/Afrikaans', 'English', 'French', 'German', 'Malay', 'Portuguese', 'Romanian', 'Russian', 'Spanish', 'Tamil']\n",
      "['Endonyms', 'Countries', 'and', 'capitals', 'in', 'native', 'languages']\n",
      "['Exonyms', 'Country', 'names', 'in', 'various', 'languages', 'A–C', 'D–I', 'J–P', 'Q–Z', 'Languages', 'of', 'the', 'European', 'Union']\n",
      "['LanguagesBy', 'continent', 'Africa', 'Americas', 'North', 'South', 'Asia', 'East', 'South', 'Europe', 'Oceania', 'By', 'country', 'Official', 'languages', 'by', 'state', 'List', 'of', 'languages', 'without', 'official', 'status', 'Countries', 'by', 'the', 'number', 'of', 'recognized', 'official', 'languages', 'Languages', 'by', 'the', 'number', 'of', 'countries', 'in', 'which', 'they', 'are', 'recognized', 'as', 'an', 'official', 'language', 'By', 'population', 'By', 'number', 'of', 'native', 'speakers', 'By', 'number', 'of', 'total', 'speakers', 'Languages', 'in', 'censuses', 'By', 'family', 'Language', 'families', 'List', 'of', 'Afro-Asiatic', 'languages', 'List', 'of', 'Austronesian', 'languages', 'List', 'of', 'Indo-European', 'languages', 'List', 'of', 'Mongolic', 'languages', 'List', 'of', 'Tungusic', 'languages', 'List', 'of', 'Turkic', 'languages', 'List', 'of', 'Uralic', 'languages', 'Language-basedgeopoliticalorganizations', 'Arab', 'League', '(Arabic)', 'Dutch', 'Language', 'Union', '(Dutch)', 'English', 'Speaking', 'Union', 'Francophonie', '(French)', 'Community', 'of', 'Portuguese', 'Language', 'Countries', '(Portuguese)', 'Países', 'Africanos', 'de', 'Língua', 'Oficial', 'Portuguesa', '(Portuguese)', 'Latin', 'Union', '(Romance)', 'Hispanidad', '(Spanish)', 'Turkic', 'Council', '(Turkic)', 'International', 'Organization', 'of', 'Turkic', 'Culture', '(Turkic)', 'Three', 'Linguistic', 'Spaces', '(French,', 'Portuguese', 'and', 'Spanish)', 'See', 'also', 'Lists', 'of', 'languages', 'Category:Languages']\n",
      "['Languages']\n",
      "['By', 'continent', 'Africa', 'Americas', 'North', 'South', 'Asia', 'East', 'South', 'Europe', 'Oceania', 'By', 'country', 'Official', 'languages', 'by', 'state', 'List', 'of', 'languages', 'without', 'official', 'status', 'Countries', 'by', 'the', 'number', 'of', 'recognized', 'official', 'languages', 'Languages', 'by', 'the', 'number', 'of', 'countries', 'in', 'which', 'they', 'are', 'recognized', 'as', 'an', 'official', 'language', 'By', 'population', 'By', 'number', 'of', 'native', 'speakers', 'By', 'number', 'of', 'total', 'speakers', 'Languages', 'in', 'censuses', 'By', 'family', 'Language', 'families', 'List', 'of', 'Afro-Asiatic', 'languages', 'List', 'of', 'Austronesian', 'languages', 'List', 'of', 'Indo-European', 'languages', 'List', 'of', 'Mongolic', 'languages', 'List', 'of', 'Tungusic', 'languages', 'List', 'of', 'Turkic', 'languages', 'List', 'of', 'Uralic', 'languages', 'Language-basedgeopoliticalorganizations', 'Arab', 'League', '(Arabic)', 'Dutch', 'Language', 'Union', '(Dutch)', 'English', 'Speaking', 'Union', 'Francophonie', '(French)', 'Community', 'of', 'Portuguese', 'Language', 'Countries', '(Portuguese)', 'Países', 'Africanos', 'de', 'Língua', 'Oficial', 'Portuguesa', '(Portuguese)', 'Latin', 'Union', '(Romance)', 'Hispanidad', '(Spanish)', 'Turkic', 'Council', '(Turkic)', 'International', 'Organization', 'of', 'Turkic', 'Culture', '(Turkic)', 'Three', 'Linguistic', 'Spaces', '(French,', 'Portuguese', 'and', 'Spanish)', 'See', 'also', 'Lists', 'of', 'languages', 'Category:Languages']\n",
      "['By', 'continent', 'Africa', 'Americas', 'North', 'South', 'Asia', 'East', 'South', 'Europe', 'Oceania']\n",
      "['By', 'country', 'Official', 'languages', 'by', 'state', 'List', 'of', 'languages', 'without', 'official', 'status', 'Countries', 'by', 'the', 'number', 'of', 'recognized', 'official', 'languages', 'Languages', 'by', 'the', 'number', 'of', 'countries', 'in', 'which', 'they', 'are', 'recognized', 'as', 'an', 'official', 'language']\n",
      "['By', 'population', 'By', 'number', 'of', 'native', 'speakers', 'By', 'number', 'of', 'total', 'speakers', 'Languages', 'in', 'censuses']\n",
      "['By', 'family', 'Language', 'families', 'List', 'of', 'Afro-Asiatic', 'languages', 'List', 'of', 'Austronesian', 'languages', 'List', 'of', 'Indo-European', 'languages', 'List', 'of', 'Mongolic', 'languages', 'List', 'of', 'Tungusic', 'languages', 'List', 'of', 'Turkic', 'languages', 'List', 'of', 'Uralic', 'languages']\n",
      "['Language-basedgeopoliticalorganizations', 'Arab', 'League', '(Arabic)', 'Dutch', 'Language', 'Union', '(Dutch)', 'English', 'Speaking', 'Union', 'Francophonie', '(French)', 'Community', 'of', 'Portuguese', 'Language', 'Countries', '(Portuguese)', 'Países', 'Africanos', 'de', 'Língua', 'Oficial', 'Portuguesa', '(Portuguese)', 'Latin', 'Union', '(Romance)', 'Hispanidad', '(Spanish)', 'Turkic', 'Council', '(Turkic)', 'International', 'Organization', 'of', 'Turkic', 'Culture', '(Turkic)', 'Three', 'Linguistic', 'Spaces', '(French,', 'Portuguese', 'and', 'Spanish)']\n",
      "['See', 'also', 'Lists', 'of', 'languages', 'Category:Languages']\n"
     ]
    }
   ],
   "source": [
    "info_dataframe = [re.sub('\\n\\n', ' ', language.text) for language in soup.find_all('tr')]\n",
    "for info in info_dataframe:\n",
    "    print(info.split())"
   ]
  },
  {
   "cell_type": "markdown",
   "metadata": {},
   "source": [
    "### BONUS QUESTIONS"
   ]
  },
  {
   "cell_type": "markdown",
   "metadata": {},
   "source": [
    "#### Scrape a certain number of tweets of a given Twitter account."
   ]
  },
  {
   "cell_type": "code",
   "execution_count": null,
   "metadata": {},
   "outputs": [],
   "source": [
    "# This is the url you will scrape in this exercise \n",
    "# You will need to add the account credentials to this url\n",
    "url = 'https://twitter.com/'"
   ]
  },
  {
   "cell_type": "code",
   "execution_count": null,
   "metadata": {},
   "outputs": [],
   "source": [
    "# your code"
   ]
  },
  {
   "cell_type": "markdown",
   "metadata": {},
   "source": [
    "#### IMDB's Top 250 data (movie name, Initial release, director name and stars) as a pandas dataframe"
   ]
  },
  {
   "cell_type": "code",
   "execution_count": null,
   "metadata": {},
   "outputs": [],
   "source": [
    "# This is the url you will scrape in this exercise \n",
    "url = 'https://www.imdb.com/chart/top'\n",
    "html = requests.get(url).content\n",
    "soup = BeautifulSoup(html, 'lxml')"
   ]
  },
  {
   "cell_type": "code",
   "execution_count": null,
   "metadata": {},
   "outputs": [],
   "source": [
    "# your code"
   ]
  },
  {
   "cell_type": "markdown",
   "metadata": {},
   "source": [
    "#### Movie name, year and a brief summary of the top 10 random movies (IMDB) as a pandas dataframe."
   ]
  },
  {
   "cell_type": "code",
   "execution_count": null,
   "metadata": {},
   "outputs": [],
   "source": [
    "#This is the url you will scrape in this exercise\n",
    "url = 'http://www.imdb.com/chart/top'\n",
    "html = requests.get(url).content\n",
    "soup = BeautifulSoup(html, 'lxml')"
   ]
  },
  {
   "cell_type": "code",
   "execution_count": null,
   "metadata": {},
   "outputs": [],
   "source": [
    "#your code"
   ]
  },
  {
   "cell_type": "markdown",
   "metadata": {},
   "source": [
    "#### Find the live weather report (temperature, wind speed, description and weather) of a given city."
   ]
  },
  {
   "cell_type": "code",
   "execution_count": null,
   "metadata": {},
   "outputs": [],
   "source": [
    "#https://openweathermap.org/current\n",
    "city = city=input('Enter the city:')\n",
    "url = 'http://api.openweathermap.org/data/2.5/weather?'+'q='+city+'&APPID=b35975e18dc93725acb092f7272cc6b8&units=metric'"
   ]
  },
  {
   "cell_type": "code",
   "execution_count": null,
   "metadata": {},
   "outputs": [],
   "source": [
    "# your code"
   ]
  },
  {
   "cell_type": "markdown",
   "metadata": {},
   "source": [
    "#### Book name,price and stock availability as a pandas dataframe."
   ]
  },
  {
   "cell_type": "code",
   "execution_count": null,
   "metadata": {},
   "outputs": [],
   "source": [
    "# This is the url you will scrape in this exercise. \n",
    "# It is a fictional bookstore created to be scraped. \n",
    "url = 'http://books.toscrape.com/'\n",
    "html = requests.get(url).content\n",
    "soup = BeautifulSoup(html, 'lxml')"
   ]
  },
  {
   "cell_type": "code",
   "execution_count": null,
   "metadata": {},
   "outputs": [],
   "source": [
    "#your code"
   ]
  }
 ],
 "metadata": {
  "kernelspec": {
   "display_name": "Python [conda env:data_env]",
   "language": "python",
   "name": "conda-env-data_env-py"
  },
  "language_info": {
   "codemirror_mode": {
    "name": "ipython",
    "version": 3
   },
   "file_extension": ".py",
   "mimetype": "text/x-python",
   "name": "python",
   "nbconvert_exporter": "python",
   "pygments_lexer": "ipython3",
   "version": "3.7.5"
  }
 },
 "nbformat": 4,
 "nbformat_minor": 2
}
